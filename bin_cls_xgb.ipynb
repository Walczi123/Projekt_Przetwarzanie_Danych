{
 "cells": [
  {
   "cell_type": "markdown",
   "source": [
    "# 1. Imports"
   ],
   "metadata": {
    "collapsed": false
   }
  },
  {
   "cell_type": "code",
   "execution_count": 87,
   "outputs": [],
   "source": [
    "import locale\n",
    "\n",
    "import pandas as pd\n",
    "import numpy as np\n",
    "from sklearn.cluster import KMeans\n",
    "from sklearn.metrics import precision_recall_fscore_support\n",
    "\n",
    "from matplotlib import pyplot as plt\n",
    "import seaborn as sns\n",
    "\n",
    "from datetime import datetime\n",
    "\n",
    "from math import floor\n",
    "\n",
    "from data_processing import *"
   ],
   "metadata": {
    "collapsed": false,
    "pycharm": {
     "name": "#%%\n"
    }
   }
  },
  {
   "cell_type": "markdown",
   "source": [
    "# 2. Settings"
   ],
   "metadata": {
    "collapsed": false
   }
  },
  {
   "cell_type": "code",
   "execution_count": 88,
   "outputs": [],
   "source": [
    "locale.setlocale(locale.LC_TIME, 'en_US.UTF-8')\n",
    "plt.style.use('ggplot')\n",
    "RANDOM_SEED = 0"
   ],
   "metadata": {
    "collapsed": false,
    "pycharm": {
     "name": "#%%\n"
    }
   }
  },
  {
   "cell_type": "markdown",
   "source": [
    "# 3. Loading Data"
   ],
   "metadata": {
    "collapsed": false
   }
  },
  {
   "cell_type": "code",
   "execution_count": 89,
   "outputs": [],
   "source": [
    "def read_transport_data(filename):\n",
    "    types_mapping = {\n",
    "        'Numer / oznaczenie linii' : str,\n",
    "        'Wariant linii' : str,\n",
    "        'Kurs' : str,\n",
    "        'Oznaczenie brygady' : str,\n",
    "        'Czas rzeczywisty odjazdu wg. rozkładu' : str,\n",
    "        'Czas odjazdu z przystanku' : str,\n",
    "    }\n",
    "\n",
    "    df = pd.read_csv(filename, sep=';', dtype=types_mapping)\n",
    "    df = df.drop(columns='Data')\n",
    "\n",
    "    names_mapping = {\n",
    "        'Numer / oznaczenie linii' : 'Nr linii',\n",
    "        # 'Wariant linii'\n",
    "        # 'Kurs'\n",
    "        # 'Oznaczenie brygady'\n",
    "        # 'Numer taborowy'\n",
    "        # 'Nazwa przystanku'\n",
    "        # 'Numer przystanku'\n",
    "        'Czas rzeczywisty odjazdu wg. rozkładu' : 'Rzeczywisty czas odjazdu',\n",
    "        'Czas odjazdu z przystanku' : 'Rozkładowy czas odjazdu',\n",
    "        'Liczba pasażerów w pojeździe przed przystankiem (dane skorygowane)' : 'Liczba pasaz. przed',\n",
    "        'Liczba osób które wysiadły (dane skorygowane)' : 'Liczba wysiadających pasaz.',\n",
    "        'Liczba osób które wsiadły (dane skorygowane)' : 'Liczba wsiadajacych pasaz.',\n",
    "        'Liczba pasażerów w pojeździe po odjeździe (dane skorygowane)' : 'Liczba pasaz. po odjezdzie'\n",
    "    }\n",
    "    df.rename(columns=names_mapping, inplace=True)\n",
    "\n",
    "    return df"
   ],
   "metadata": {
    "collapsed": false,
    "pycharm": {
     "name": "#%%\n"
    }
   }
  },
  {
   "cell_type": "code",
   "execution_count": 90,
   "outputs": [],
   "source": [
    "df = read_transport_data('./data/SZP-2021-09-03.csv')"
   ],
   "metadata": {
    "collapsed": false,
    "pycharm": {
     "name": "#%%\n"
    }
   }
  },
  {
   "cell_type": "markdown",
   "source": [
    "# 4. Inspecting Data"
   ],
   "metadata": {
    "collapsed": false
   }
  },
  {
   "cell_type": "code",
   "execution_count": 91,
   "outputs": [
    {
     "name": "stdout",
     "output_type": "stream",
     "text": [
      "<class 'pandas.core.frame.DataFrame'>\n",
      "RangeIndex: 177546 entries, 0 to 177545\n",
      "Data columns (total 13 columns):\n",
      " #   Column                       Non-Null Count   Dtype \n",
      "---  ------                       --------------   ----- \n",
      " 0   Nr linii                     177546 non-null  object\n",
      " 1   Wariant linii                177546 non-null  object\n",
      " 2   Kurs                         177546 non-null  object\n",
      " 3   Oznaczenie brygady           177546 non-null  object\n",
      " 4   Numer taborowy               177546 non-null  int64 \n",
      " 5   Nazwa przystanku             177546 non-null  object\n",
      " 6   Numer przystanku             177546 non-null  int64 \n",
      " 7   Rzeczywisty czas odjazdu     172273 non-null  object\n",
      " 8   Rozkładowy czas odjazdu      177546 non-null  object\n",
      " 9   Liczba pasaz. przed          177546 non-null  int64 \n",
      " 10  Liczba wysiadających pasaz.  177546 non-null  int64 \n",
      " 11  Liczba wsiadajacych pasaz.   177546 non-null  int64 \n",
      " 12  Liczba pasaz. po odjezdzie   177546 non-null  int64 \n",
      "dtypes: int64(6), object(7)\n",
      "memory usage: 17.6+ MB\n"
     ]
    }
   ],
   "source": [
    "df.info()"
   ],
   "metadata": {
    "collapsed": false,
    "pycharm": {
     "name": "#%%\n"
    }
   }
  },
  {
   "cell_type": "code",
   "execution_count": 92,
   "outputs": [
    {
     "data": {
      "text/plain": "       Nr linii Wariant linii   Kurs Oznaczenie brygady  Numer taborowy  \\\n69315       181        TP-CMP  14:29                  2            9547   \n69338       181        TP-CMP  14:29                  2            9547   \n144651      710        TP-KAB  13:46                  1            9804   \n2166        103        TO-DWT  14:17                  1            9428   \n142043      525        TP-MIE  15:09                  6            9823   \n\n             Nazwa przystanku  Numer przystanku Rzeczywisty czas odjazdu  \\\n69315              pl.Wilsona                18                 14:29:00   \n69338   Cm.Północny-Brama Gł.                 2                 14:55:00   \n144651       Wojska Polskiego                 2                 13:48:00   \n2166             Metro Płocka                 5                 14:49:00   \n142043             Odrodzenia                 1                 15:48:00   \n\n       Rozkładowy czas odjazdu  Liczba pasaz. przed  \\\n69315                    14:30                    1   \n69338                    15:01                   10   \n144651                   13:56                    0   \n2166                     14:53                    0   \n142043                   15:47                   16   \n\n        Liczba wysiadających pasaz.  Liczba wsiadajacych pasaz.  \\\n69315                             0                          12   \n69338                             0                           0   \n144651                            0                           0   \n2166                              0                           1   \n142043                            0                           1   \n\n        Liczba pasaz. po odjezdzie  \n69315                           13  \n69338                           10  \n144651                           0  \n2166                             1  \n142043                          17  ",
      "text/html": "<div>\n<style scoped>\n    .dataframe tbody tr th:only-of-type {\n        vertical-align: middle;\n    }\n\n    .dataframe tbody tr th {\n        vertical-align: top;\n    }\n\n    .dataframe thead th {\n        text-align: right;\n    }\n</style>\n<table border=\"1\" class=\"dataframe\">\n  <thead>\n    <tr style=\"text-align: right;\">\n      <th></th>\n      <th>Nr linii</th>\n      <th>Wariant linii</th>\n      <th>Kurs</th>\n      <th>Oznaczenie brygady</th>\n      <th>Numer taborowy</th>\n      <th>Nazwa przystanku</th>\n      <th>Numer przystanku</th>\n      <th>Rzeczywisty czas odjazdu</th>\n      <th>Rozkładowy czas odjazdu</th>\n      <th>Liczba pasaz. przed</th>\n      <th>Liczba wysiadających pasaz.</th>\n      <th>Liczba wsiadajacych pasaz.</th>\n      <th>Liczba pasaz. po odjezdzie</th>\n    </tr>\n  </thead>\n  <tbody>\n    <tr>\n      <th>69315</th>\n      <td>181</td>\n      <td>TP-CMP</td>\n      <td>14:29</td>\n      <td>2</td>\n      <td>9547</td>\n      <td>pl.Wilsona</td>\n      <td>18</td>\n      <td>14:29:00</td>\n      <td>14:30</td>\n      <td>1</td>\n      <td>0</td>\n      <td>12</td>\n      <td>13</td>\n    </tr>\n    <tr>\n      <th>69338</th>\n      <td>181</td>\n      <td>TP-CMP</td>\n      <td>14:29</td>\n      <td>2</td>\n      <td>9547</td>\n      <td>Cm.Północny-Brama Gł.</td>\n      <td>2</td>\n      <td>14:55:00</td>\n      <td>15:01</td>\n      <td>10</td>\n      <td>0</td>\n      <td>0</td>\n      <td>10</td>\n    </tr>\n    <tr>\n      <th>144651</th>\n      <td>710</td>\n      <td>TP-KAB</td>\n      <td>13:46</td>\n      <td>1</td>\n      <td>9804</td>\n      <td>Wojska Polskiego</td>\n      <td>2</td>\n      <td>13:48:00</td>\n      <td>13:56</td>\n      <td>0</td>\n      <td>0</td>\n      <td>0</td>\n      <td>0</td>\n    </tr>\n    <tr>\n      <th>2166</th>\n      <td>103</td>\n      <td>TO-DWT</td>\n      <td>14:17</td>\n      <td>1</td>\n      <td>9428</td>\n      <td>Metro Płocka</td>\n      <td>5</td>\n      <td>14:49:00</td>\n      <td>14:53</td>\n      <td>0</td>\n      <td>0</td>\n      <td>1</td>\n      <td>1</td>\n    </tr>\n    <tr>\n      <th>142043</th>\n      <td>525</td>\n      <td>TP-MIE</td>\n      <td>15:09</td>\n      <td>6</td>\n      <td>9823</td>\n      <td>Odrodzenia</td>\n      <td>1</td>\n      <td>15:48:00</td>\n      <td>15:47</td>\n      <td>16</td>\n      <td>0</td>\n      <td>1</td>\n      <td>17</td>\n    </tr>\n  </tbody>\n</table>\n</div>"
     },
     "execution_count": 92,
     "metadata": {},
     "output_type": "execute_result"
    }
   ],
   "source": [
    "df.sample(5)"
   ],
   "metadata": {
    "collapsed": false,
    "pycharm": {
     "name": "#%%\n"
    }
   }
  },
  {
   "cell_type": "code",
   "execution_count": 93,
   "outputs": [
    {
     "data": {
      "text/plain": "       Numer taborowy  Numer przystanku  Liczba pasaz. przed  \\\ncount   177546.000000     177546.000000        177546.000000   \nmean      9513.375953          3.437903            12.060711   \nstd        265.044802          7.857952            12.341741   \nmin       9061.000000          1.000000            -3.000000   \n25%       9319.000000          1.000000             4.000000   \n50%       9452.000000          2.000000             9.000000   \n75%       9806.000000          3.000000            16.000000   \nmax       9955.000000         88.000000           133.000000   \n\n       Liczba wysiadających pasaz.  Liczba wsiadajacych pasaz.  \\\ncount                177546.000000               177546.000000   \nmean                      1.560435                    1.570534   \nstd                       3.136487                    3.192504   \nmin                       0.000000                    0.000000   \n25%                       0.000000                    0.000000   \n50%                       0.000000                    0.000000   \n75%                       2.000000                    2.000000   \nmax                     124.000000                  110.000000   \n\n       Liczba pasaz. po odjezdzie  \ncount               177546.000000  \nmean                    12.070810  \nstd                     12.335713  \nmin                      0.000000  \n25%                      4.000000  \n50%                      9.000000  \n75%                     16.000000  \nmax                    133.000000  ",
      "text/html": "<div>\n<style scoped>\n    .dataframe tbody tr th:only-of-type {\n        vertical-align: middle;\n    }\n\n    .dataframe tbody tr th {\n        vertical-align: top;\n    }\n\n    .dataframe thead th {\n        text-align: right;\n    }\n</style>\n<table border=\"1\" class=\"dataframe\">\n  <thead>\n    <tr style=\"text-align: right;\">\n      <th></th>\n      <th>Numer taborowy</th>\n      <th>Numer przystanku</th>\n      <th>Liczba pasaz. przed</th>\n      <th>Liczba wysiadających pasaz.</th>\n      <th>Liczba wsiadajacych pasaz.</th>\n      <th>Liczba pasaz. po odjezdzie</th>\n    </tr>\n  </thead>\n  <tbody>\n    <tr>\n      <th>count</th>\n      <td>177546.000000</td>\n      <td>177546.000000</td>\n      <td>177546.000000</td>\n      <td>177546.000000</td>\n      <td>177546.000000</td>\n      <td>177546.000000</td>\n    </tr>\n    <tr>\n      <th>mean</th>\n      <td>9513.375953</td>\n      <td>3.437903</td>\n      <td>12.060711</td>\n      <td>1.560435</td>\n      <td>1.570534</td>\n      <td>12.070810</td>\n    </tr>\n    <tr>\n      <th>std</th>\n      <td>265.044802</td>\n      <td>7.857952</td>\n      <td>12.341741</td>\n      <td>3.136487</td>\n      <td>3.192504</td>\n      <td>12.335713</td>\n    </tr>\n    <tr>\n      <th>min</th>\n      <td>9061.000000</td>\n      <td>1.000000</td>\n      <td>-3.000000</td>\n      <td>0.000000</td>\n      <td>0.000000</td>\n      <td>0.000000</td>\n    </tr>\n    <tr>\n      <th>25%</th>\n      <td>9319.000000</td>\n      <td>1.000000</td>\n      <td>4.000000</td>\n      <td>0.000000</td>\n      <td>0.000000</td>\n      <td>4.000000</td>\n    </tr>\n    <tr>\n      <th>50%</th>\n      <td>9452.000000</td>\n      <td>2.000000</td>\n      <td>9.000000</td>\n      <td>0.000000</td>\n      <td>0.000000</td>\n      <td>9.000000</td>\n    </tr>\n    <tr>\n      <th>75%</th>\n      <td>9806.000000</td>\n      <td>3.000000</td>\n      <td>16.000000</td>\n      <td>2.000000</td>\n      <td>2.000000</td>\n      <td>16.000000</td>\n    </tr>\n    <tr>\n      <th>max</th>\n      <td>9955.000000</td>\n      <td>88.000000</td>\n      <td>133.000000</td>\n      <td>124.000000</td>\n      <td>110.000000</td>\n      <td>133.000000</td>\n    </tr>\n  </tbody>\n</table>\n</div>"
     },
     "execution_count": 93,
     "metadata": {},
     "output_type": "execute_result"
    }
   ],
   "source": [
    "df.describe()"
   ],
   "metadata": {
    "collapsed": false,
    "pycharm": {
     "name": "#%%\n"
    }
   }
  },
  {
   "cell_type": "markdown",
   "source": [
    "# 4.1. Check data"
   ],
   "metadata": {
    "collapsed": false
   }
  },
  {
   "cell_type": "code",
   "execution_count": 94,
   "outputs": [
    {
     "name": "stdout",
     "output_type": "stream",
     "text": [
      "Amount of invalid data: 2\n"
     ]
    }
   ],
   "source": [
    "counter = 0\n",
    "counter += len(df.loc[df['Liczba pasaz. przed'] - df['Liczba wysiadających pasaz.'] + df['Liczba wsiadajacych pasaz.'] != df['Liczba pasaz. po odjezdzie']])\n",
    "counter += len(df[df['Liczba pasaz. przed'] < 0])\n",
    "print(f'Amount of invalid data: {counter}')"
   ],
   "metadata": {
    "collapsed": false,
    "pycharm": {
     "name": "#%%\n"
    }
   }
  },
  {
   "cell_type": "markdown",
   "source": [
    "# 4.2. Remove errors"
   ],
   "metadata": {
    "collapsed": false
   }
  },
  {
   "cell_type": "code",
   "execution_count": 95,
   "outputs": [],
   "source": [
    "df.drop(df[df['Liczba pasaz. przed'] < 0].index, inplace=True) # remove invlid amout of passengers\n",
    "\n",
    "df.drop(df[df['Kurs'].str[:2] > '23'].index, inplace= True)\n",
    "\n",
    "is_NaN = df.isnull()\n",
    "row_has_NaN = is_NaN.any(axis=1)\n",
    "rows_with_NaN = df[row_has_NaN]\n",
    "\n",
    "df.drop(df[row_has_NaN].index, inplace=True)\n"
   ],
   "metadata": {
    "collapsed": false,
    "pycharm": {
     "name": "#%%\n"
    }
   }
  },
  {
   "cell_type": "markdown",
   "source": [
    "# 4.3. Parse data"
   ],
   "metadata": {
    "collapsed": false
   }
  },
  {
   "cell_type": "code",
   "execution_count": 96,
   "outputs": [],
   "source": [
    "def make_date_one_type(x):\n",
    "    return pd.Timestamp(x)"
   ],
   "metadata": {
    "collapsed": false,
    "pycharm": {
     "name": "#%%\n"
    }
   }
  },
  {
   "cell_type": "code",
   "execution_count": 97,
   "outputs": [],
   "source": [
    "df['Kurs'] = df['Kurs'].apply(lambda x: make_date_one_type(x))\n",
    "df['Rzeczywisty czas odjazdu'] = df['Rzeczywisty czas odjazdu'].apply(lambda x: make_date_one_type(x))\n",
    "df['Rozkładowy czas odjazdu'] = df['Rozkładowy czas odjazdu'].apply(lambda x: make_date_one_type(x))"
   ],
   "metadata": {
    "collapsed": false,
    "pycharm": {
     "name": "#%%\n"
    }
   }
  },
  {
   "cell_type": "code",
   "execution_count": 98,
   "outputs": [],
   "source": [
    "df['Godzina odjazdu'] = df['Rozkładowy czas odjazdu'].apply(lambda x: x.hour + x.minute/60 + x.second/3600)\n",
    "df['Godzina odjazdu przedział'] = df['Rozkładowy czas odjazdu'].apply(lambda x: x.hour * 4 + floor(x.minute/15))"
   ],
   "metadata": {
    "collapsed": false,
    "pycharm": {
     "name": "#%%\n"
    }
   }
  },
  {
   "cell_type": "markdown",
   "source": [
    "# 4.4. New data"
   ],
   "metadata": {
    "collapsed": false
   }
  },
  {
   "cell_type": "code",
   "execution_count": 99,
   "outputs": [],
   "source": [
    "trans_type = []\n",
    "for nr in df['Nr linii']:\n",
    "    if nr.isnumeric():\n",
    "        trans_type.append('autobus')\n",
    "    elif nr[0] == 'N':\n",
    "        trans_type.append('nocny')\n",
    "    elif nr[0] == 'Z':\n",
    "        trans_type.append('zastepczy')\n",
    "    else:\n",
    "        trans_type.append('inny')\n",
    "df['Typ'] = trans_type"
   ],
   "metadata": {
    "collapsed": false,
    "pycharm": {
     "name": "#%%\n"
    }
   }
  },
  {
   "cell_type": "code",
   "execution_count": 100,
   "outputs": [],
   "source": [
    "df['Opóźnienie w minutach'] = (df['Rzeczywisty czas odjazdu'] - df['Rozkładowy czas odjazdu']).apply(lambda x: int(x.total_seconds()//60))"
   ],
   "metadata": {
    "collapsed": false,
    "pycharm": {
     "name": "#%%\n"
    }
   }
  },
  {
   "cell_type": "markdown",
   "source": [
    "## 4.5 Clustering"
   ],
   "metadata": {
    "collapsed": false
   }
  },
  {
   "cell_type": "code",
   "execution_count": 101,
   "outputs": [],
   "source": [
    "def find_clusters(speeds, iterations, df, column):\n",
    "    k = len(speeds)\n",
    "    data = np.array(df[column]).reshape(1,-1).T\n",
    "    clusters = KMeans(\n",
    "        n_clusters = k,\n",
    "        max_iter = iterations,\n",
    "        random_state = RANDOM_SEED\n",
    "    ).fit(data)\n",
    "\n",
    "    cc, *_ = clusters.cluster_centers_.reshape(1,k)\n",
    "    cc_ord = np.argsort(cc)\n",
    "    class_mapping = dict(zip(cc_ord, speeds))\n",
    "\n",
    "    df['class'] = clusters.labels_\n",
    "    df['class'] = df['class'].map(class_mapping)\n",
    "\n",
    "    return df\n"
   ],
   "metadata": {
    "collapsed": false,
    "pycharm": {
     "name": "#%%\n"
    }
   }
  },
  {
   "cell_type": "code",
   "execution_count": 102,
   "outputs": [],
   "source": [
    "crowding = ['niezatłoczony','zatłoczony']\n",
    "iterations = 10\n",
    "\n",
    "df = find_clusters(crowding, iterations, df, 'Liczba pasaz. po odjezdzie')"
   ],
   "metadata": {
    "collapsed": false,
    "pycharm": {
     "name": "#%%\n"
    }
   }
  },
  {
   "cell_type": "code",
   "execution_count": 103,
   "outputs": [
    {
     "data": {
      "text/plain": "<Figure size 720x576 with 0 Axes>"
     },
     "metadata": {},
     "output_type": "display_data"
    },
    {
     "data": {
      "text/plain": "<Figure size 464.25x360 with 1 Axes>",
      "image/png": "[encoded data removed]"
     },
     "metadata": {},
     "output_type": "display_data"
    }
   ],
   "source": [
    "plt.figure(figsize=(10, 8))\n",
    "ax = sns.displot(\n",
    "    df,\n",
    "    x='Liczba pasaz. po odjezdzie',\n",
    "    hue='class',\n",
    "    kind='kde'\n",
    ")"
   ],
   "metadata": {
    "collapsed": false,
    "pycharm": {
     "name": "#%%\n"
    }
   }
  },
  {
   "cell_type": "markdown",
   "source": [
    "# 5. Global binary classification using XGBoost"
   ],
   "metadata": {
    "collapsed": false
   }
  },
  {
   "cell_type": "markdown",
   "source": [
    "<https://towardsdatascience.com/beginners-guide-to-xgboost-for-classification-problems-50f75aac5390>"
   ],
   "metadata": {
    "collapsed": false
   }
  },
  {
   "cell_type": "code",
   "execution_count": 104,
   "outputs": [
    {
     "data": {
      "text/plain": "  Nr linii Wariant linii                Kurs Oznaczenie brygady  \\\n0      102        TP-EMP 2022-01-30 05:11:00                  1   \n1      102        TP-EMP 2022-01-30 05:11:00                  1   \n2      102        TP-EMP 2022-01-30 05:11:00                  1   \n3      102        TP-EMP 2022-01-30 05:11:00                  1   \n4      102        TP-EMP 2022-01-30 05:11:00                  1   \n\n   Numer taborowy         Nazwa przystanku  Numer przystanku  \\\n0            9415  PKP Olszynka Grochowska                 4   \n1            9415             Chłopickiego                 3   \n2            9415          Osiedle Młodych                 1   \n3            9415              Garwolińska                 1   \n4            9415         Szaserów-Szpital                 1   \n\n  Rzeczywisty czas odjazdu Rozkładowy czas odjazdu  Liczba pasaz. przed  \\\n0      2022-01-30 05:11:00     2022-01-30 05:11:00                    0   \n1      2022-01-30 05:12:00     2022-01-30 05:11:00                    1   \n2      2022-01-30 05:13:00     2022-01-30 05:12:00                    1   \n3      2022-01-30 05:14:00     2022-01-30 05:13:00                    3   \n4      2022-01-30 05:15:00     2022-01-30 05:14:00                    3   \n\n   Liczba wysiadających pasaz.  Liczba wsiadajacych pasaz.  \\\n0                            0                           1   \n1                            0                           0   \n2                            0                           2   \n3                            0                           0   \n4                            0                           0   \n\n   Liczba pasaz. po odjezdzie  Godzina odjazdu  Godzina odjazdu przedział  \\\n0                           1         5.183333                         20   \n1                           1         5.183333                         20   \n2                           3         5.200000                         20   \n3                           3         5.216667                         20   \n4                           3         5.233333                         20   \n\n       Typ  Opóźnienie w minutach          class  \n0  autobus                      0  niezatłoczony  \n1  autobus                      1  niezatłoczony  \n2  autobus                      1  niezatłoczony  \n3  autobus                      1  niezatłoczony  \n4  autobus                      1  niezatłoczony  ",
      "text/html": "<div>\n<style scoped>\n    .dataframe tbody tr th:only-of-type {\n        vertical-align: middle;\n    }\n\n    .dataframe tbody tr th {\n        vertical-align: top;\n    }\n\n    .dataframe thead th {\n        text-align: right;\n    }\n</style>\n<table border=\"1\" class=\"dataframe\">\n  <thead>\n    <tr style=\"text-align: right;\">\n      <th></th>\n      <th>Nr linii</th>\n      <th>Wariant linii</th>\n      <th>Kurs</th>\n      <th>Oznaczenie brygady</th>\n      <th>Numer taborowy</th>\n      <th>Nazwa przystanku</th>\n      <th>Numer przystanku</th>\n      <th>Rzeczywisty czas odjazdu</th>\n      <th>Rozkładowy czas odjazdu</th>\n      <th>Liczba pasaz. przed</th>\n      <th>Liczba wysiadających pasaz.</th>\n      <th>Liczba wsiadajacych pasaz.</th>\n      <th>Liczba pasaz. po odjezdzie</th>\n      <th>Godzina odjazdu</th>\n      <th>Godzina odjazdu przedział</th>\n      <th>Typ</th>\n      <th>Opóźnienie w minutach</th>\n      <th>class</th>\n    </tr>\n  </thead>\n  <tbody>\n    <tr>\n      <th>0</th>\n      <td>102</td>\n      <td>TP-EMP</td>\n      <td>2022-01-30 05:11:00</td>\n      <td>1</td>\n      <td>9415</td>\n      <td>PKP Olszynka Grochowska</td>\n      <td>4</td>\n      <td>2022-01-30 05:11:00</td>\n      <td>2022-01-30 05:11:00</td>\n      <td>0</td>\n      <td>0</td>\n      <td>1</td>\n      <td>1</td>\n      <td>5.183333</td>\n      <td>20</td>\n      <td>autobus</td>\n      <td>0</td>\n      <td>niezatłoczony</td>\n    </tr>\n    <tr>\n      <th>1</th>\n      <td>102</td>\n      <td>TP-EMP</td>\n      <td>2022-01-30 05:11:00</td>\n      <td>1</td>\n      <td>9415</td>\n      <td>Chłopickiego</td>\n      <td>3</td>\n      <td>2022-01-30 05:12:00</td>\n      <td>2022-01-30 05:11:00</td>\n      <td>1</td>\n      <td>0</td>\n      <td>0</td>\n      <td>1</td>\n      <td>5.183333</td>\n      <td>20</td>\n      <td>autobus</td>\n      <td>1</td>\n      <td>niezatłoczony</td>\n    </tr>\n    <tr>\n      <th>2</th>\n      <td>102</td>\n      <td>TP-EMP</td>\n      <td>2022-01-30 05:11:00</td>\n      <td>1</td>\n      <td>9415</td>\n      <td>Osiedle Młodych</td>\n      <td>1</td>\n      <td>2022-01-30 05:13:00</td>\n      <td>2022-01-30 05:12:00</td>\n      <td>1</td>\n      <td>0</td>\n      <td>2</td>\n      <td>3</td>\n      <td>5.200000</td>\n      <td>20</td>\n      <td>autobus</td>\n      <td>1</td>\n      <td>niezatłoczony</td>\n    </tr>\n    <tr>\n      <th>3</th>\n      <td>102</td>\n      <td>TP-EMP</td>\n      <td>2022-01-30 05:11:00</td>\n      <td>1</td>\n      <td>9415</td>\n      <td>Garwolińska</td>\n      <td>1</td>\n      <td>2022-01-30 05:14:00</td>\n      <td>2022-01-30 05:13:00</td>\n      <td>3</td>\n      <td>0</td>\n      <td>0</td>\n      <td>3</td>\n      <td>5.216667</td>\n      <td>20</td>\n      <td>autobus</td>\n      <td>1</td>\n      <td>niezatłoczony</td>\n    </tr>\n    <tr>\n      <th>4</th>\n      <td>102</td>\n      <td>TP-EMP</td>\n      <td>2022-01-30 05:11:00</td>\n      <td>1</td>\n      <td>9415</td>\n      <td>Szaserów-Szpital</td>\n      <td>1</td>\n      <td>2022-01-30 05:15:00</td>\n      <td>2022-01-30 05:14:00</td>\n      <td>3</td>\n      <td>0</td>\n      <td>0</td>\n      <td>3</td>\n      <td>5.233333</td>\n      <td>20</td>\n      <td>autobus</td>\n      <td>1</td>\n      <td>niezatłoczony</td>\n    </tr>\n  </tbody>\n</table>\n</div>"
     },
     "execution_count": 104,
     "metadata": {},
     "output_type": "execute_result"
    }
   ],
   "source": [
    "df.head()"
   ],
   "metadata": {
    "collapsed": false,
    "pycharm": {
     "name": "#%%\n"
    }
   }
  },
  {
   "cell_type": "code",
   "execution_count": 105,
   "outputs": [],
   "source": [
    "features = ['Nr linii', 'Nazwa przystanku', 'Godzina odjazdu', 'Opóźnienie w minutach']\n",
    "labels = [\"class\"]"
   ],
   "metadata": {
    "collapsed": false,
    "pycharm": {
     "name": "#%%\n"
    }
   }
  },
  {
   "cell_type": "code",
   "execution_count": 106,
   "outputs": [],
   "source": [
    "X = df[features]\n",
    "y = df[labels]"
   ],
   "metadata": {
    "collapsed": false,
    "pycharm": {
     "name": "#%%\n"
    }
   }
  },
  {
   "cell_type": "code",
   "execution_count": 107,
   "outputs": [
    {
     "data": {
      "text/plain": "  Nr linii         Nazwa przystanku  Godzina odjazdu  Opóźnienie w minutach\n0      102  PKP Olszynka Grochowska         5.183333                      0\n1      102             Chłopickiego         5.183333                      1\n2      102          Osiedle Młodych         5.200000                      1\n3      102              Garwolińska         5.216667                      1\n4      102         Szaserów-Szpital         5.233333                      1",
      "text/html": "<div>\n<style scoped>\n    .dataframe tbody tr th:only-of-type {\n        vertical-align: middle;\n    }\n\n    .dataframe tbody tr th {\n        vertical-align: top;\n    }\n\n    .dataframe thead th {\n        text-align: right;\n    }\n</style>\n<table border=\"1\" class=\"dataframe\">\n  <thead>\n    <tr style=\"text-align: right;\">\n      <th></th>\n      <th>Nr linii</th>\n      <th>Nazwa przystanku</th>\n      <th>Godzina odjazdu</th>\n      <th>Opóźnienie w minutach</th>\n    </tr>\n  </thead>\n  <tbody>\n    <tr>\n      <th>0</th>\n      <td>102</td>\n      <td>PKP Olszynka Grochowska</td>\n      <td>5.183333</td>\n      <td>0</td>\n    </tr>\n    <tr>\n      <th>1</th>\n      <td>102</td>\n      <td>Chłopickiego</td>\n      <td>5.183333</td>\n      <td>1</td>\n    </tr>\n    <tr>\n      <th>2</th>\n      <td>102</td>\n      <td>Osiedle Młodych</td>\n      <td>5.200000</td>\n      <td>1</td>\n    </tr>\n    <tr>\n      <th>3</th>\n      <td>102</td>\n      <td>Garwolińska</td>\n      <td>5.216667</td>\n      <td>1</td>\n    </tr>\n    <tr>\n      <th>4</th>\n      <td>102</td>\n      <td>Szaserów-Szpital</td>\n      <td>5.233333</td>\n      <td>1</td>\n    </tr>\n  </tbody>\n</table>\n</div>"
     },
     "execution_count": 107,
     "metadata": {},
     "output_type": "execute_result"
    }
   ],
   "source": [
    "X.head()"
   ],
   "metadata": {
    "collapsed": false,
    "pycharm": {
     "name": "#%%\n"
    }
   }
  },
  {
   "cell_type": "code",
   "execution_count": 108,
   "outputs": [
    {
     "data": {
      "text/plain": "           class\n0  niezatłoczony\n1  niezatłoczony\n2  niezatłoczony\n3  niezatłoczony\n4  niezatłoczony",
      "text/html": "<div>\n<style scoped>\n    .dataframe tbody tr th:only-of-type {\n        vertical-align: middle;\n    }\n\n    .dataframe tbody tr th {\n        vertical-align: top;\n    }\n\n    .dataframe thead th {\n        text-align: right;\n    }\n</style>\n<table border=\"1\" class=\"dataframe\">\n  <thead>\n    <tr style=\"text-align: right;\">\n      <th></th>\n      <th>class</th>\n    </tr>\n  </thead>\n  <tbody>\n    <tr>\n      <th>0</th>\n      <td>niezatłoczony</td>\n    </tr>\n    <tr>\n      <th>1</th>\n      <td>niezatłoczony</td>\n    </tr>\n    <tr>\n      <th>2</th>\n      <td>niezatłoczony</td>\n    </tr>\n    <tr>\n      <th>3</th>\n      <td>niezatłoczony</td>\n    </tr>\n    <tr>\n      <th>4</th>\n      <td>niezatłoczony</td>\n    </tr>\n  </tbody>\n</table>\n</div>"
     },
     "execution_count": 108,
     "metadata": {},
     "output_type": "execute_result"
    }
   ],
   "source": [
    "y.head()"
   ],
   "metadata": {
    "collapsed": false,
    "pycharm": {
     "name": "#%%\n"
    }
   }
  },
  {
   "cell_type": "code",
   "execution_count": 109,
   "outputs": [],
   "source": [
    "from sklearn.impute import SimpleImputer\n",
    "from sklearn.pipeline import Pipeline\n",
    "from sklearn.preprocessing import OneHotEncoder\n",
    "from sklearn.preprocessing import StandardScaler\n",
    "from sklearn.compose import ColumnTransformer\n",
    "from sklearn.metrics import accuracy_score, mean_squared_error\n",
    "from sklearn.model_selection import train_test_split\n",
    "import xgboost as xgb"
   ],
   "metadata": {
    "collapsed": false,
    "pycharm": {
     "name": "#%%\n"
    }
   }
  },
  {
   "cell_type": "code",
   "execution_count": 110,
   "outputs": [],
   "source": [
    "categorical_pipeline = Pipeline(\n",
    "    steps=[\n",
    "        (\"impute\", SimpleImputer(strategy=\"most_frequent\")),\n",
    "        (\"oh-encode\", OneHotEncoder(handle_unknown=\"ignore\", sparse=False)),\n",
    "    ]\n",
    ")"
   ],
   "metadata": {
    "collapsed": false,
    "pycharm": {
     "name": "#%%\n"
    }
   }
  },
  {
   "cell_type": "code",
   "execution_count": 111,
   "outputs": [],
   "source": [
    "numeric_pipeline = Pipeline(\n",
    "    steps=[(\"impute\", SimpleImputer(strategy=\"mean\")),\n",
    "           (\"scale\", StandardScaler())]\n",
    ")"
   ],
   "metadata": {
    "collapsed": false,
    "pycharm": {
     "name": "#%%\n"
    }
   }
  },
  {
   "cell_type": "code",
   "execution_count": 112,
   "outputs": [],
   "source": [
    "cat_cols = X.select_dtypes(exclude=\"number\").columns\n",
    "num_cols = X.select_dtypes(include=\"number\").columns"
   ],
   "metadata": {
    "collapsed": false,
    "pycharm": {
     "name": "#%%\n"
    }
   }
  },
  {
   "cell_type": "code",
   "execution_count": 113,
   "outputs": [],
   "source": [
    "full_processor = ColumnTransformer(\n",
    "    transformers=[\n",
    "        (\"numeric\", numeric_pipeline, num_cols),\n",
    "        (\"categorical\", categorical_pipeline, cat_cols),\n",
    "    ]\n",
    ")"
   ],
   "metadata": {
    "collapsed": false,
    "pycharm": {
     "name": "#%%\n"
    }
   }
  },
  {
   "cell_type": "code",
   "execution_count": 114,
   "outputs": [],
   "source": [
    "xgb_cl = xgb.XGBClassifier(seed = RANDOM_SEED)\n",
    "X_train, X_test, y_train, y_test = get_train_and_test_by_lines(df, features, labels)\n",
    "X_train = full_processor.fit_transform(X_train)\n",
    "X_test = full_processor.fit_transform(X_test)\n",
    "y_train = SimpleImputer(strategy=\"most_frequent\").fit_transform(\n",
    "    y_train.values.reshape(-1, 1)\n",
    ")\n",
    "y_test = SimpleImputer(strategy=\"most_frequent\").fit_transform(\n",
    "    y_test.values.reshape(-1, 1)\n",
    ")\n",
    "\n",
    "# concated = pd.DataFrame(np.concatenate((X_processed, y_processed), axis=1), columns=features+['class'])\n",
    "\n",
    "# X_train, X_test, y_train, y_test = get_train_and_test_by_lines(pd.concat([X, y], axis=1), features, ['class'])"
   ],
   "metadata": {
    "collapsed": false,
    "pycharm": {
     "name": "#%%\n"
    }
   }
  },
  {
   "cell_type": "code",
   "execution_count": 115,
   "outputs": [
    {
     "name": "stderr",
     "output_type": "stream",
     "text": [
      "/usr/local/lib/python3.9/dist-packages/xgboost/sklearn.py:1224: UserWarning: The use of label encoder in XGBClassifier is deprecated and will be removed in a future release. To remove this warning, do the following: 1) Pass option use_label_encoder=False when constructing XGBClassifier object; and 2) Encode your labels (y) as integers starting with 0, i.e. 0, 1, 2, ..., [num_class - 1].\n",
      "  warnings.warn(label_encoder_deprecation_msg, UserWarning)\n",
      "/usr/local/lib/python3.9/dist-packages/sklearn/preprocessing/_label.py:98: DataConversionWarning: A column-vector y was passed when a 1d array was expected. Please change the shape of y to (n_samples, ), for example using ravel().\n",
      "  y = column_or_1d(y, warn=True)\n",
      "/usr/local/lib/python3.9/dist-packages/sklearn/preprocessing/_label.py:133: DataConversionWarning: A column-vector y was passed when a 1d array was expected. Please change the shape of y to (n_samples, ), for example using ravel().\n",
      "  y = column_or_1d(y, warn=True)\n"
     ]
    },
    {
     "name": "stdout",
     "output_type": "stream",
     "text": [
      "[13:47:41] WARNING: ../src/learner.cc:1115: Starting in XGBoost 1.3.0, the default evaluation metric used with the objective 'binary:logistic' was changed from 'error' to 'logloss'. Explicitly set eval_metric if you'd like to restore the old behavior.\n"
     ]
    },
    {
     "data": {
      "text/plain": "XGBClassifier(base_score=0.5, booster='gbtree', colsample_bylevel=1,\n              colsample_bynode=1, colsample_bytree=1, enable_categorical=False,\n              gamma=0, gpu_id=-1, importance_type=None,\n              interaction_constraints='', learning_rate=0.300000012,\n              max_delta_step=0, max_depth=6, min_child_weight=1, missing=nan,\n              monotone_constraints='()', n_estimators=100, n_jobs=16,\n              num_parallel_tree=1, predictor='auto', random_state=0,\n              reg_alpha=0, reg_lambda=1, scale_pos_weight=1, seed=0,\n              subsample=1, tree_method='exact', validate_parameters=1,\n              verbosity=None)"
     },
     "execution_count": 115,
     "metadata": {},
     "output_type": "execute_result"
    }
   ],
   "source": [
    "# Fit\n",
    "xgb_cl.fit(X_train, y_train)"
   ],
   "metadata": {
    "collapsed": false,
    "pycharm": {
     "name": "#%%\n"
    }
   }
  },
  {
   "cell_type": "code",
   "execution_count": 116,
   "outputs": [],
   "source": [
    "\n",
    "# Predict\n",
    "preds = xgb_cl.predict(X_test)"
   ],
   "metadata": {
    "collapsed": false,
    "pycharm": {
     "name": "#%%\n"
    }
   }
  },
  {
   "cell_type": "code",
   "execution_count": 117,
   "outputs": [],
   "source": [
    "def plot_classification_report(y_tru, y_prd, figsize=(10, 10), ax=None):\n",
    "\n",
    "    plt.figure(figsize=figsize)\n",
    "\n",
    "    xticks = ['precision', 'recall', 'f1-score', 'support']\n",
    "    yticks = list(np.unique(y_tru))\n",
    "    yticks += ['avg']\n",
    "\n",
    "    rep = np.array(precision_recall_fscore_support(y_tru, y_prd)).T\n",
    "    avg = np.mean(rep, axis=0)\n",
    "    avg[-1] = np.sum(rep[:, -1])\n",
    "    rep = np.insert(rep, rep.shape[0], avg, axis=0)\n",
    "\n",
    "    sns.heatmap(rep,\n",
    "                annot=True,\n",
    "                cbar=False,\n",
    "                xticklabels=xticks,\n",
    "                yticklabels=yticks,\n",
    "                ax=ax)"
   ],
   "metadata": {
    "collapsed": false,
    "pycharm": {
     "name": "#%%\n"
    }
   }
  },
  {
   "cell_type": "code",
   "execution_count": 118,
   "outputs": [
    {
     "data": {
      "text/plain": "<Figure size 720x720 with 1 Axes>",
      "image/png": "[encoded data removed]"
     },
     "metadata": {},
     "output_type": "display_data"
    }
   ],
   "source": [
    "\n",
    "# Score\n",
    "plot_classification_report(y_test, preds)"
   ],
   "metadata": {
    "collapsed": false,
    "pycharm": {
     "name": "#%%\n"
    }
   }
  },
  {
   "cell_type": "markdown",
   "source": [
    "# 6. Global regression using XGBoost"
   ],
   "metadata": {
    "collapsed": false
   }
  },
  {
   "cell_type": "code",
   "execution_count": 119,
   "outputs": [],
   "source": [
    "y = df['Liczba pasaz. po odjezdzie']"
   ],
   "metadata": {
    "collapsed": false,
    "pycharm": {
     "name": "#%%\n"
    }
   }
  },
  {
   "cell_type": "code",
   "execution_count": 120,
   "outputs": [
    {
     "data": {
      "text/plain": "0    1\n1    1\n2    3\n3    3\n4    3\nName: Liczba pasaz. po odjezdzie, dtype: int64"
     },
     "execution_count": 120,
     "metadata": {},
     "output_type": "execute_result"
    }
   ],
   "source": [
    "y.head()"
   ],
   "metadata": {
    "collapsed": false,
    "pycharm": {
     "name": "#%%\n"
    }
   }
  },
  {
   "cell_type": "code",
   "execution_count": 121,
   "outputs": [],
   "source": [
    "xgb_rg = xgb.XGBRegressor(seed = RANDOM_SEED)\n",
    "X_train, X_test, y_train, y_test = get_train_and_test_by_lines(df, features, ['Liczba pasaz. po odjezdzie'])\n",
    "X_train = full_processor.fit_transform(X_train)\n",
    "X_test = full_processor.fit_transform(X_test)\n",
    "y_train = SimpleImputer(strategy=\"mean\").fit_transform(\n",
    "    y_train.values.reshape(-1, 1)\n",
    ")\n",
    "y_test = SimpleImputer(strategy=\"mean\").fit_transform(\n",
    "    y_test.values.reshape(-1, 1)\n",
    ")"
   ],
   "metadata": {
    "collapsed": false,
    "pycharm": {
     "name": "#%%\n"
    }
   }
  },
  {
   "cell_type": "code",
   "execution_count": 122,
   "outputs": [
    {
     "data": {
      "text/plain": "XGBRegressor(base_score=0.5, booster='gbtree', colsample_bylevel=1,\n             colsample_bynode=1, colsample_bytree=1, enable_categorical=False,\n             gamma=0, gpu_id=-1, importance_type=None,\n             interaction_constraints='', learning_rate=0.300000012,\n             max_delta_step=0, max_depth=6, min_child_weight=1, missing=nan,\n             monotone_constraints='()', n_estimators=100, n_jobs=16,\n             num_parallel_tree=1, predictor='auto', random_state=0, reg_alpha=0,\n             reg_lambda=1, scale_pos_weight=1, seed=0, subsample=1,\n             tree_method='exact', validate_parameters=1, verbosity=None)"
     },
     "execution_count": 122,
     "metadata": {},
     "output_type": "execute_result"
    }
   ],
   "source": [
    "# Fitting the model\n",
    "xgb_rg.fit(X_train, y_train)"
   ],
   "metadata": {
    "collapsed": false,
    "pycharm": {
     "name": "#%%\n"
    }
   }
  },
  {
   "cell_type": "code",
   "execution_count": 123,
   "outputs": [],
   "source": [
    "# Predict the model\n",
    "pred = xgb_rg.predict(X_test)"
   ],
   "metadata": {
    "collapsed": false,
    "pycharm": {
     "name": "#%%\n"
    }
   }
  },
  {
   "cell_type": "code",
   "execution_count": 124,
   "outputs": [
    {
     "data": {
      "text/plain": "             0\ncount  4496.00\nmean      5.75\nstd       6.39\nmin       0.00\n25%       1.84\n50%       4.07\n75%       7.33\nmax      60.64",
      "text/html": "<div>\n<style scoped>\n    .dataframe tbody tr th:only-of-type {\n        vertical-align: middle;\n    }\n\n    .dataframe tbody tr th {\n        vertical-align: top;\n    }\n\n    .dataframe thead th {\n        text-align: right;\n    }\n</style>\n<table border=\"1\" class=\"dataframe\">\n  <thead>\n    <tr style=\"text-align: right;\">\n      <th></th>\n      <th>0</th>\n    </tr>\n  </thead>\n  <tbody>\n    <tr>\n      <th>count</th>\n      <td>4496.00</td>\n    </tr>\n    <tr>\n      <th>mean</th>\n      <td>5.75</td>\n    </tr>\n    <tr>\n      <th>std</th>\n      <td>6.39</td>\n    </tr>\n    <tr>\n      <th>min</th>\n      <td>0.00</td>\n    </tr>\n    <tr>\n      <th>25%</th>\n      <td>1.84</td>\n    </tr>\n    <tr>\n      <th>50%</th>\n      <td>4.07</td>\n    </tr>\n    <tr>\n      <th>75%</th>\n      <td>7.33</td>\n    </tr>\n    <tr>\n      <th>max</th>\n      <td>60.64</td>\n    </tr>\n  </tbody>\n</table>\n</div>"
     },
     "execution_count": 124,
     "metadata": {},
     "output_type": "execute_result"
    }
   ],
   "source": [
    "# Errors Computation\n",
    "absolute_errors = pd.DataFrame(abs(y_test - pred.reshape(-1, 1)))\n",
    "stats = absolute_errors.describe().round(2)\n",
    "stats"
   ],
   "metadata": {
    "collapsed": false,
    "pycharm": {
     "name": "#%%\n"
    }
   }
  },
  {
   "cell_type": "markdown",
   "source": [
    "# 7. Per line binary classification using XGBoost"
   ],
   "metadata": {
    "collapsed": false
   }
  },
  {
   "cell_type": "markdown",
   "source": [
    "<https://towardsdatascience.com/beginners-guide-to-xgboost-for-classification-problems-50f75aac5390>"
   ],
   "metadata": {
    "collapsed": false
   }
  },
  {
   "cell_type": "code",
   "execution_count": 125,
   "outputs": [
    {
     "data": {
      "text/plain": "  Nr linii Wariant linii                Kurs Oznaczenie brygady  \\\n0      102        TP-EMP 2022-01-30 05:11:00                  1   \n1      102        TP-EMP 2022-01-30 05:11:00                  1   \n2      102        TP-EMP 2022-01-30 05:11:00                  1   \n3      102        TP-EMP 2022-01-30 05:11:00                  1   \n4      102        TP-EMP 2022-01-30 05:11:00                  1   \n\n   Numer taborowy         Nazwa przystanku  Numer przystanku  \\\n0            9415  PKP Olszynka Grochowska                 4   \n1            9415             Chłopickiego                 3   \n2            9415          Osiedle Młodych                 1   \n3            9415              Garwolińska                 1   \n4            9415         Szaserów-Szpital                 1   \n\n  Rzeczywisty czas odjazdu Rozkładowy czas odjazdu  Liczba pasaz. przed  \\\n0      2022-01-30 05:11:00     2022-01-30 05:11:00                    0   \n1      2022-01-30 05:12:00     2022-01-30 05:11:00                    1   \n2      2022-01-30 05:13:00     2022-01-30 05:12:00                    1   \n3      2022-01-30 05:14:00     2022-01-30 05:13:00                    3   \n4      2022-01-30 05:15:00     2022-01-30 05:14:00                    3   \n\n   Liczba wysiadających pasaz.  Liczba wsiadajacych pasaz.  \\\n0                            0                           1   \n1                            0                           0   \n2                            0                           2   \n3                            0                           0   \n4                            0                           0   \n\n   Liczba pasaz. po odjezdzie  Godzina odjazdu  Godzina odjazdu przedział  \\\n0                           1         5.183333                         20   \n1                           1         5.183333                         20   \n2                           3         5.200000                         20   \n3                           3         5.216667                         20   \n4                           3         5.233333                         20   \n\n       Typ  Opóźnienie w minutach          class  \n0  autobus                      0  niezatłoczony  \n1  autobus                      1  niezatłoczony  \n2  autobus                      1  niezatłoczony  \n3  autobus                      1  niezatłoczony  \n4  autobus                      1  niezatłoczony  ",
      "text/html": "<div>\n<style scoped>\n    .dataframe tbody tr th:only-of-type {\n        vertical-align: middle;\n    }\n\n    .dataframe tbody tr th {\n        vertical-align: top;\n    }\n\n    .dataframe thead th {\n        text-align: right;\n    }\n</style>\n<table border=\"1\" class=\"dataframe\">\n  <thead>\n    <tr style=\"text-align: right;\">\n      <th></th>\n      <th>Nr linii</th>\n      <th>Wariant linii</th>\n      <th>Kurs</th>\n      <th>Oznaczenie brygady</th>\n      <th>Numer taborowy</th>\n      <th>Nazwa przystanku</th>\n      <th>Numer przystanku</th>\n      <th>Rzeczywisty czas odjazdu</th>\n      <th>Rozkładowy czas odjazdu</th>\n      <th>Liczba pasaz. przed</th>\n      <th>Liczba wysiadających pasaz.</th>\n      <th>Liczba wsiadajacych pasaz.</th>\n      <th>Liczba pasaz. po odjezdzie</th>\n      <th>Godzina odjazdu</th>\n      <th>Godzina odjazdu przedział</th>\n      <th>Typ</th>\n      <th>Opóźnienie w minutach</th>\n      <th>class</th>\n    </tr>\n  </thead>\n  <tbody>\n    <tr>\n      <th>0</th>\n      <td>102</td>\n      <td>TP-EMP</td>\n      <td>2022-01-30 05:11:00</td>\n      <td>1</td>\n      <td>9415</td>\n      <td>PKP Olszynka Grochowska</td>\n      <td>4</td>\n      <td>2022-01-30 05:11:00</td>\n      <td>2022-01-30 05:11:00</td>\n      <td>0</td>\n      <td>0</td>\n      <td>1</td>\n      <td>1</td>\n      <td>5.183333</td>\n      <td>20</td>\n      <td>autobus</td>\n      <td>0</td>\n      <td>niezatłoczony</td>\n    </tr>\n    <tr>\n      <th>1</th>\n      <td>102</td>\n      <td>TP-EMP</td>\n      <td>2022-01-30 05:11:00</td>\n      <td>1</td>\n      <td>9415</td>\n      <td>Chłopickiego</td>\n      <td>3</td>\n      <td>2022-01-30 05:12:00</td>\n      <td>2022-01-30 05:11:00</td>\n      <td>1</td>\n      <td>0</td>\n      <td>0</td>\n      <td>1</td>\n      <td>5.183333</td>\n      <td>20</td>\n      <td>autobus</td>\n      <td>1</td>\n      <td>niezatłoczony</td>\n    </tr>\n    <tr>\n      <th>2</th>\n      <td>102</td>\n      <td>TP-EMP</td>\n      <td>2022-01-30 05:11:00</td>\n      <td>1</td>\n      <td>9415</td>\n      <td>Osiedle Młodych</td>\n      <td>1</td>\n      <td>2022-01-30 05:13:00</td>\n      <td>2022-01-30 05:12:00</td>\n      <td>1</td>\n      <td>0</td>\n      <td>2</td>\n      <td>3</td>\n      <td>5.200000</td>\n      <td>20</td>\n      <td>autobus</td>\n      <td>1</td>\n      <td>niezatłoczony</td>\n    </tr>\n    <tr>\n      <th>3</th>\n      <td>102</td>\n      <td>TP-EMP</td>\n      <td>2022-01-30 05:11:00</td>\n      <td>1</td>\n      <td>9415</td>\n      <td>Garwolińska</td>\n      <td>1</td>\n      <td>2022-01-30 05:14:00</td>\n      <td>2022-01-30 05:13:00</td>\n      <td>3</td>\n      <td>0</td>\n      <td>0</td>\n      <td>3</td>\n      <td>5.216667</td>\n      <td>20</td>\n      <td>autobus</td>\n      <td>1</td>\n      <td>niezatłoczony</td>\n    </tr>\n    <tr>\n      <th>4</th>\n      <td>102</td>\n      <td>TP-EMP</td>\n      <td>2022-01-30 05:11:00</td>\n      <td>1</td>\n      <td>9415</td>\n      <td>Szaserów-Szpital</td>\n      <td>1</td>\n      <td>2022-01-30 05:15:00</td>\n      <td>2022-01-30 05:14:00</td>\n      <td>3</td>\n      <td>0</td>\n      <td>0</td>\n      <td>3</td>\n      <td>5.233333</td>\n      <td>20</td>\n      <td>autobus</td>\n      <td>1</td>\n      <td>niezatłoczony</td>\n    </tr>\n  </tbody>\n</table>\n</div>"
     },
     "execution_count": 125,
     "metadata": {},
     "output_type": "execute_result"
    }
   ],
   "source": [
    "df.head()"
   ],
   "metadata": {
    "collapsed": false,
    "pycharm": {
     "name": "#%%\n"
    }
   }
  },
  {
   "cell_type": "code",
   "execution_count": 126,
   "outputs": [],
   "source": [
    "features = ['Nr linii', 'Nazwa przystanku', 'Godzina odjazdu', 'Opóźnienie w minutach']\n",
    "labels = [\"class\"]"
   ],
   "metadata": {
    "collapsed": false,
    "pycharm": {
     "name": "#%%\n"
    }
   }
  },
  {
   "cell_type": "code",
   "execution_count": 127,
   "outputs": [],
   "source": [
    "lines = split_into_lines(df, drop_line = False)"
   ],
   "metadata": {
    "collapsed": false,
    "pycharm": {
     "name": "#%%\n"
    }
   }
  },
  {
   "cell_type": "code",
   "execution_count": 128,
   "outputs": [],
   "source": [
    "data_lines = dict()\n",
    "for key, value in lines.items():\n",
    "    data_lines[key] = get_train_and_test_for_lines(value, X_columns = features, y_columns = labels)"
   ],
   "metadata": {
    "collapsed": false,
    "pycharm": {
     "name": "#%%\n"
    }
   }
  },
  {
   "cell_type": "code",
   "execution_count": 129,
   "outputs": [
    {
     "name": "stderr",
     "output_type": "stream",
     "text": [
      "/usr/local/lib/python3.9/dist-packages/xgboost/sklearn.py:1224: UserWarning: The use of label encoder in XGBClassifier is deprecated and will be removed in a future release. To remove this warning, do the following: 1) Pass option use_label_encoder=False when constructing XGBClassifier object; and 2) Encode your labels (y) as integers starting with 0, i.e. 0, 1, 2, ..., [num_class - 1].\n",
      "  warnings.warn(label_encoder_deprecation_msg, UserWarning)\n",
      "/usr/local/lib/python3.9/dist-packages/sklearn/preprocessing/_label.py:98: DataConversionWarning: A column-vector y was passed when a 1d array was expected. Please change the shape of y to (n_samples, ), for example using ravel().\n",
      "  y = column_or_1d(y, warn=True)\n",
      "/usr/local/lib/python3.9/dist-packages/sklearn/preprocessing/_label.py:133: DataConversionWarning: A column-vector y was passed when a 1d array was expected. Please change the shape of y to (n_samples, ), for example using ravel().\n",
      "  y = column_or_1d(y, warn=True)\n",
      "/usr/local/lib/python3.9/dist-packages/xgboost/sklearn.py:1224: UserWarning: The use of label encoder in XGBClassifier is deprecated and will be removed in a future release. To remove this warning, do the following: 1) Pass option use_label_encoder=False when constructing XGBClassifier object; and 2) Encode your labels (y) as integers starting with 0, i.e. 0, 1, 2, ..., [num_class - 1].\n",
      "  warnings.warn(label_encoder_deprecation_msg, UserWarning)\n",
      "/usr/local/lib/python3.9/dist-packages/sklearn/preprocessing/_label.py:98: DataConversionWarning: A column-vector y was passed when a 1d array was expected. Please change the shape of y to (n_samples, ), for example using ravel().\n",
      "  y = column_or_1d(y, warn=True)\n",
      "/usr/local/lib/python3.9/dist-packages/sklearn/preprocessing/_label.py:133: DataConversionWarning: A column-vector y was passed when a 1d array was expected. Please change the shape of y to (n_samples, ), for example using ravel().\n",
      "  y = column_or_1d(y, warn=True)\n"
     ]
    },
    {
     "name": "stdout",
     "output_type": "stream",
     "text": [
      "[13:47:50] WARNING: ../src/learner.cc:1115: Starting in XGBoost 1.3.0, the default evaluation metric used with the objective 'binary:logistic' was changed from 'error' to 'logloss'. Explicitly set eval_metric if you'd like to restore the old behavior.\n",
      "[13:47:50] WARNING: ../src/learner.cc:1115: Starting in XGBoost 1.3.0, the default evaluation metric used with the objective 'binary:logistic' was changed from 'error' to 'logloss'. Explicitly set eval_metric if you'd like to restore the old behavior.\n"
     ]
    },
    {
     "name": "stderr",
     "output_type": "stream",
     "text": [
      "/usr/local/lib/python3.9/dist-packages/xgboost/sklearn.py:1224: UserWarning: The use of label encoder in XGBClassifier is deprecated and will be removed in a future release. To remove this warning, do the following: 1) Pass option use_label_encoder=False when constructing XGBClassifier object; and 2) Encode your labels (y) as integers starting with 0, i.e. 0, 1, 2, ..., [num_class - 1].\n",
      "  warnings.warn(label_encoder_deprecation_msg, UserWarning)\n",
      "/usr/local/lib/python3.9/dist-packages/sklearn/preprocessing/_label.py:98: DataConversionWarning: A column-vector y was passed when a 1d array was expected. Please change the shape of y to (n_samples, ), for example using ravel().\n",
      "  y = column_or_1d(y, warn=True)\n",
      "/usr/local/lib/python3.9/dist-packages/sklearn/preprocessing/_label.py:133: DataConversionWarning: A column-vector y was passed when a 1d array was expected. Please change the shape of y to (n_samples, ), for example using ravel().\n",
      "  y = column_or_1d(y, warn=True)\n",
      "/usr/local/lib/python3.9/dist-packages/xgboost/sklearn.py:1224: UserWarning: The use of label encoder in XGBClassifier is deprecated and will be removed in a future release. To remove this warning, do the following: 1) Pass option use_label_encoder=False when constructing XGBClassifier object; and 2) Encode your labels (y) as integers starting with 0, i.e. 0, 1, 2, ..., [num_class - 1].\n",
      "  warnings.warn(label_encoder_deprecation_msg, UserWarning)\n",
      "/usr/local/lib/python3.9/dist-packages/sklearn/preprocessing/_label.py:98: DataConversionWarning: A column-vector y was passed when a 1d array was expected. Please change the shape of y to (n_samples, ), for example using ravel().\n",
      "  y = column_or_1d(y, warn=True)\n",
      "/usr/local/lib/python3.9/dist-packages/sklearn/preprocessing/_label.py:133: DataConversionWarning: A column-vector y was passed when a 1d array was expected. Please change the shape of y to (n_samples, ), for example using ravel().\n",
      "  y = column_or_1d(y, warn=True)\n"
     ]
    },
    {
     "name": "stdout",
     "output_type": "stream",
     "text": [
      "[13:47:51] WARNING: ../src/learner.cc:1115: Starting in XGBoost 1.3.0, the default evaluation metric used with the objective 'binary:logistic' was changed from 'error' to 'logloss'. Explicitly set eval_metric if you'd like to restore the old behavior.\n",
      "[13:47:51] WARNING: ../src/learner.cc:1115: Starting in XGBoost 1.3.0, the default evaluation metric used with the objective 'binary:logistic' was changed from 'error' to 'logloss'. Explicitly set eval_metric if you'd like to restore the old behavior.\n"
     ]
    },
    {
     "name": "stderr",
     "output_type": "stream",
     "text": [
      "/usr/local/lib/python3.9/dist-packages/xgboost/sklearn.py:1224: UserWarning: The use of label encoder in XGBClassifier is deprecated and will be removed in a future release. To remove this warning, do the following: 1) Pass option use_label_encoder=False when constructing XGBClassifier object; and 2) Encode your labels (y) as integers starting with 0, i.e. 0, 1, 2, ..., [num_class - 1].\n",
      "  warnings.warn(label_encoder_deprecation_msg, UserWarning)\n",
      "/usr/local/lib/python3.9/dist-packages/sklearn/preprocessing/_label.py:98: DataConversionWarning: A column-vector y was passed when a 1d array was expected. Please change the shape of y to (n_samples, ), for example using ravel().\n",
      "  y = column_or_1d(y, warn=True)\n",
      "/usr/local/lib/python3.9/dist-packages/sklearn/preprocessing/_label.py:133: DataConversionWarning: A column-vector y was passed when a 1d array was expected. Please change the shape of y to (n_samples, ), for example using ravel().\n",
      "  y = column_or_1d(y, warn=True)\n"
     ]
    },
    {
     "name": "stdout",
     "output_type": "stream",
     "text": [
      "[13:47:51] WARNING: ../src/learner.cc:1115: Starting in XGBoost 1.3.0, the default evaluation metric used with the objective 'binary:logistic' was changed from 'error' to 'logloss'. Explicitly set eval_metric if you'd like to restore the old behavior.\n"
     ]
    },
    {
     "name": "stderr",
     "output_type": "stream",
     "text": [
      "/usr/local/lib/python3.9/dist-packages/xgboost/sklearn.py:1224: UserWarning: The use of label encoder in XGBClassifier is deprecated and will be removed in a future release. To remove this warning, do the following: 1) Pass option use_label_encoder=False when constructing XGBClassifier object; and 2) Encode your labels (y) as integers starting with 0, i.e. 0, 1, 2, ..., [num_class - 1].\n",
      "  warnings.warn(label_encoder_deprecation_msg, UserWarning)\n",
      "/usr/local/lib/python3.9/dist-packages/sklearn/preprocessing/_label.py:98: DataConversionWarning: A column-vector y was passed when a 1d array was expected. Please change the shape of y to (n_samples, ), for example using ravel().\n",
      "  y = column_or_1d(y, warn=True)\n",
      "/usr/local/lib/python3.9/dist-packages/sklearn/preprocessing/_label.py:133: DataConversionWarning: A column-vector y was passed when a 1d array was expected. Please change the shape of y to (n_samples, ), for example using ravel().\n",
      "  y = column_or_1d(y, warn=True)\n",
      "/usr/local/lib/python3.9/dist-packages/xgboost/sklearn.py:1224: UserWarning: The use of label encoder in XGBClassifier is deprecated and will be removed in a future release. To remove this warning, do the following: 1) Pass option use_label_encoder=False when constructing XGBClassifier object; and 2) Encode your labels (y) as integers starting with 0, i.e. 0, 1, 2, ..., [num_class - 1].\n",
      "  warnings.warn(label_encoder_deprecation_msg, UserWarning)\n",
      "/usr/local/lib/python3.9/dist-packages/sklearn/preprocessing/_label.py:98: DataConversionWarning: A column-vector y was passed when a 1d array was expected. Please change the shape of y to (n_samples, ), for example using ravel().\n",
      "  y = column_or_1d(y, warn=True)\n",
      "/usr/local/lib/python3.9/dist-packages/sklearn/preprocessing/_label.py:133: DataConversionWarning: A column-vector y was passed when a 1d array was expected. Please change the shape of y to (n_samples, ), for example using ravel().\n",
      "  y = column_or_1d(y, warn=True)\n"
     ]
    },
    {
     "name": "stdout",
     "output_type": "stream",
     "text": [
      "[13:47:51] WARNING: ../src/learner.cc:1115: Starting in XGBoost 1.3.0, the default evaluation metric used with the objective 'binary:logistic' was changed from 'error' to 'logloss'. Explicitly set eval_metric if you'd like to restore the old behavior.\n",
      "[13:47:51] WARNING: ../src/learner.cc:1115: Starting in XGBoost 1.3.0, the default evaluation metric used with the objective 'binary:logistic' was changed from 'error' to 'logloss'. Explicitly set eval_metric if you'd like to restore the old behavior.\n"
     ]
    },
    {
     "name": "stderr",
     "output_type": "stream",
     "text": [
      "/usr/local/lib/python3.9/dist-packages/xgboost/sklearn.py:1224: UserWarning: The use of label encoder in XGBClassifier is deprecated and will be removed in a future release. To remove this warning, do the following: 1) Pass option use_label_encoder=False when constructing XGBClassifier object; and 2) Encode your labels (y) as integers starting with 0, i.e. 0, 1, 2, ..., [num_class - 1].\n",
      "  warnings.warn(label_encoder_deprecation_msg, UserWarning)\n",
      "/usr/local/lib/python3.9/dist-packages/sklearn/preprocessing/_label.py:98: DataConversionWarning: A column-vector y was passed when a 1d array was expected. Please change the shape of y to (n_samples, ), for example using ravel().\n",
      "  y = column_or_1d(y, warn=True)\n",
      "/usr/local/lib/python3.9/dist-packages/sklearn/preprocessing/_label.py:133: DataConversionWarning: A column-vector y was passed when a 1d array was expected. Please change the shape of y to (n_samples, ), for example using ravel().\n",
      "  y = column_or_1d(y, warn=True)\n",
      "/usr/local/lib/python3.9/dist-packages/xgboost/sklearn.py:1224: UserWarning: The use of label encoder in XGBClassifier is deprecated and will be removed in a future release. To remove this warning, do the following: 1) Pass option use_label_encoder=False when constructing XGBClassifier object; and 2) Encode your labels (y) as integers starting with 0, i.e. 0, 1, 2, ..., [num_class - 1].\n",
      "  warnings.warn(label_encoder_deprecation_msg, UserWarning)\n",
      "/usr/local/lib/python3.9/dist-packages/sklearn/preprocessing/_label.py:98: DataConversionWarning: A column-vector y was passed when a 1d array was expected. Please change the shape of y to (n_samples, ), for example using ravel().\n",
      "  y = column_or_1d(y, warn=True)\n",
      "/usr/local/lib/python3.9/dist-packages/sklearn/preprocessing/_label.py:133: DataConversionWarning: A column-vector y was passed when a 1d array was expected. Please change the shape of y to (n_samples, ), for example using ravel().\n",
      "  y = column_or_1d(y, warn=True)\n"
     ]
    },
    {
     "name": "stdout",
     "output_type": "stream",
     "text": [
      "[13:47:52] WARNING: ../src/learner.cc:1115: Starting in XGBoost 1.3.0, the default evaluation metric used with the objective 'binary:logistic' was changed from 'error' to 'logloss'. Explicitly set eval_metric if you'd like to restore the old behavior.\n",
      "[13:47:52] WARNING: ../src/learner.cc:1115: Starting in XGBoost 1.3.0, the default evaluation metric used with the objective 'binary:logistic' was changed from 'error' to 'logloss'. Explicitly set eval_metric if you'd like to restore the old behavior.\n"
     ]
    }
   ],
   "source": [
    "predicted = np.array([])\n",
    "y_tests = np.array([])\n",
    "for value in data_lines.values():\n",
    "    xgb_cl = xgb.XGBClassifier(seed = RANDOM_SEED)\n",
    "    X_train, X_test, y_train, y_test = value\n",
    "    X_train = full_processor.fit_transform(X_train)\n",
    "    X_test = full_processor.fit_transform(X_test)\n",
    "    y_train = SimpleImputer(strategy=\"most_frequent\").fit_transform(\n",
    "        y_train.values.reshape(-1, 1)\n",
    "    )\n",
    "    y_test = SimpleImputer(strategy=\"most_frequent\").fit_transform(\n",
    "        y_test.values.reshape(-1, 1)\n",
    "    )\n",
    "\n",
    "    # Fit\n",
    "    xgb_cl.fit(X_train, y_train)\n",
    "\n",
    "    # Predict\n",
    "    preds = xgb_cl.predict(X_test)\n",
    "    predicted = np.concatenate((predicted, preds), axis=0)\n",
    "    y_tests = np.concatenate((y_tests, np.concatenate(y_test)), axis=0)"
   ],
   "metadata": {
    "collapsed": false,
    "pycharm": {
     "name": "#%%\n"
    }
   }
  },
  {
   "cell_type": "code",
   "execution_count": 130,
   "outputs": [
    {
     "data": {
      "text/plain": "<Figure size 720x720 with 1 Axes>",
      "image/png": "[encoded data removed]"
     },
     "metadata": {},
     "output_type": "display_data"
    }
   ],
   "source": [
    "\n",
    "# Score\n",
    "plot_classification_report(y_tests, predicted)"
   ],
   "metadata": {
    "collapsed": false,
    "pycharm": {
     "name": "#%%\n"
    }
   }
  },
  {
   "cell_type": "markdown",
   "source": [
    "# 8. Per line regression using XGBoost"
   ],
   "metadata": {
    "collapsed": false
   }
  },
  {
   "cell_type": "code",
   "execution_count": 131,
   "outputs": [],
   "source": [
    "labels = ['Liczba pasaz. po odjezdzie']"
   ],
   "metadata": {
    "collapsed": false,
    "pycharm": {
     "name": "#%%\n"
    }
   }
  },
  {
   "cell_type": "code",
   "execution_count": 132,
   "outputs": [],
   "source": [
    "data_lines = dict()\n",
    "for key, value in lines.items():\n",
    "    data_lines[key] = get_train_and_test_for_lines(value, X_columns = features, y_columns = labels)"
   ],
   "metadata": {
    "collapsed": false,
    "pycharm": {
     "name": "#%%\n"
    }
   }
  },
  {
   "cell_type": "code",
   "execution_count": 133,
   "outputs": [],
   "source": [
    "predicted = np.array([])\n",
    "y_tests = np.array([])\n",
    "for value in data_lines.values():\n",
    "    xgb_cl = xgb.XGBClassifier(seed = RANDOM_SEED)\n",
    "    X_train, X_test, y_train, y_test = value\n",
    "    X_train = full_processor.fit_transform(X_train)\n",
    "    X_test = full_processor.fit_transform(X_test)\n",
    "    y_train = SimpleImputer(strategy=\"mean\").fit_transform(\n",
    "        y_train.values.reshape(-1, 1)\n",
    "    )\n",
    "    y_test = SimpleImputer(strategy=\"mean\").fit_transform(\n",
    "        y_test.values.reshape(-1, 1)\n",
    "    )\n",
    "\n",
    "    # Fitting the model\n",
    "    xgb_rg.fit(X_train, y_train)\n",
    "\n",
    "    # Predict the model\n",
    "    pred = xgb_rg.predict(X_test)\n",
    "    predicted = np.concatenate((predicted, pred), axis=0)\n",
    "    y_tests = np.concatenate((y_tests, np.concatenate(y_test)), axis=0)"
   ],
   "metadata": {
    "collapsed": false,
    "pycharm": {
     "name": "#%%\n"
    }
   }
  },
  {
   "cell_type": "code",
   "execution_count": 135,
   "outputs": [
    {
     "data": {
      "text/plain": "             0\ncount  4496.00\nmean      6.16\nstd       7.04\nmin       0.01\n25%       1.82\n50%       4.12\n75%       7.73\nmax      60.61",
      "text/html": "<div>\n<style scoped>\n    .dataframe tbody tr th:only-of-type {\n        vertical-align: middle;\n    }\n\n    .dataframe tbody tr th {\n        vertical-align: top;\n    }\n\n    .dataframe thead th {\n        text-align: right;\n    }\n</style>\n<table border=\"1\" class=\"dataframe\">\n  <thead>\n    <tr style=\"text-align: right;\">\n      <th></th>\n      <th>0</th>\n    </tr>\n  </thead>\n  <tbody>\n    <tr>\n      <th>count</th>\n      <td>4496.00</td>\n    </tr>\n    <tr>\n      <th>mean</th>\n      <td>6.16</td>\n    </tr>\n    <tr>\n      <th>std</th>\n      <td>7.04</td>\n    </tr>\n    <tr>\n      <th>min</th>\n      <td>0.01</td>\n    </tr>\n    <tr>\n      <th>25%</th>\n      <td>1.82</td>\n    </tr>\n    <tr>\n      <th>50%</th>\n      <td>4.12</td>\n    </tr>\n    <tr>\n      <th>75%</th>\n      <td>7.73</td>\n    </tr>\n    <tr>\n      <th>max</th>\n      <td>60.61</td>\n    </tr>\n  </tbody>\n</table>\n</div>"
     },
     "execution_count": 135,
     "metadata": {},
     "output_type": "execute_result"
    }
   ],
   "source": [
    "# Errors Computation\n",
    "absolute_errors = pd.DataFrame(abs(y_tests - predicted))\n",
    "stats = absolute_errors.describe().round(2)\n",
    "stats"
   ],
   "metadata": {
    "collapsed": false,
    "pycharm": {
     "name": "#%%\n"
    }
   }
  }
 ],
 "metadata": {
  "kernelspec": {
   "display_name": "Python 3",
   "language": "python",
   "name": "python3"
  },
  "language_info": {
   "codemirror_mode": {
    "name": "ipython",
    "version": 2
   },
   "file_extension": ".py",
   "mimetype": "text/x-python",
   "name": "python",
   "nbconvert_exporter": "python",
   "pygments_lexer": "ipython2",
   "version": "2.7.6"
  }
 },
 "nbformat": 4,
 "nbformat_minor": 0
}