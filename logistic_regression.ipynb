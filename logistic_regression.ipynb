{
 "cells": [
  {
   "cell_type": "markdown",
   "id": "363366a1",
   "metadata": {},
   "source": [
    "## Imports"
   ]
  },
  {
   "cell_type": "code",
   "execution_count": 1,
   "id": "50eb2181",
   "metadata": {},
   "outputs": [],
   "source": [
    "import pandas as pd\n",
    "import numpy as np"
   ]
  },
  {
   "cell_type": "code",
   "execution_count": 2,
   "id": "1b8bca16",
   "metadata": {},
   "outputs": [],
   "source": [
    "from data_processing import *"
   ]
  },
  {
   "cell_type": "code",
   "execution_count": 148,
   "id": "d95b40e0",
   "metadata": {},
   "outputs": [
    {
     "name": "stdout",
     "output_type": "stream",
     "text": [
      "Amount of invalid data: 2\n"
     ]
    }
   ],
   "source": [
    "df_1, _ = get_clustered_data_with_bus_only('./data/SZP-2021-09-03.csv', crowding=[0,1])"
   ]
  },
  {
   "cell_type": "code",
   "execution_count": 157,
   "id": "5f48d580",
   "metadata": {},
   "outputs": [],
   "source": [
    "import copy \n",
    "df_x = copy.deepcopy(df_1)"
   ]
  },
  {
   "cell_type": "code",
   "execution_count": 158,
   "id": "1e6392c6",
   "metadata": {},
   "outputs": [],
   "source": [
    "df = get_numeric_name(df_x, \"Nazwa przystanku\", drop=True)\n",
    "\n",
    "df['Przystanek'] = df['Numeryczna Nazwa przystanku'] * 100 + df['Numer przystanku']\n",
    "\n",
    "# features = ['Nr linii', 'Numer taborowy', 'Godzina odjazdu', 'Przystanek', 'Liczba wysiadających pasaz.', 'Liczba wsiadajacych pasaz.', 'Opóźnienie w minutach']\n",
    "features = ['Nr linii', 'Numer taborowy', 'Godzina odjazdu', 'Godzina odjazdu przedział', 'Przystanek', 'Liczba wysiadających pasaz.', 'Liczba wsiadajacych pasaz.']\n",
    "class_labels = [\"class\"]\n",
    "regress_labels = [\"Liczba pasaz. przed\"]"
   ]
  },
  {
   "cell_type": "code",
   "execution_count": 159,
   "id": "80fd1ebb",
   "metadata": {},
   "outputs": [
    {
     "data": {
      "text/html": [
       "<div>\n",
       "<style scoped>\n",
       "    .dataframe tbody tr th:only-of-type {\n",
       "        vertical-align: middle;\n",
       "    }\n",
       "\n",
       "    .dataframe tbody tr th {\n",
       "        vertical-align: top;\n",
       "    }\n",
       "\n",
       "    .dataframe thead th {\n",
       "        text-align: right;\n",
       "    }\n",
       "</style>\n",
       "<table border=\"1\" class=\"dataframe\">\n",
       "  <thead>\n",
       "    <tr style=\"text-align: right;\">\n",
       "      <th></th>\n",
       "      <th>Nr linii</th>\n",
       "      <th>Wariant linii</th>\n",
       "      <th>Kurs</th>\n",
       "      <th>Oznaczenie brygady</th>\n",
       "      <th>Numer taborowy</th>\n",
       "      <th>Numer przystanku</th>\n",
       "      <th>Rzeczywisty czas odjazdu</th>\n",
       "      <th>Rozkładowy czas odjazdu</th>\n",
       "      <th>Liczba pasaz. przed</th>\n",
       "      <th>Liczba wysiadających pasaz.</th>\n",
       "      <th>Liczba wsiadajacych pasaz.</th>\n",
       "      <th>Liczba pasaz. po odjezdzie</th>\n",
       "      <th>Godzina odjazdu</th>\n",
       "      <th>Godzina odjazdu przedział</th>\n",
       "      <th>Opóźnienie w minutach</th>\n",
       "      <th>class</th>\n",
       "      <th>Numeryczna Nazwa przystanku</th>\n",
       "      <th>Przystanek</th>\n",
       "    </tr>\n",
       "  </thead>\n",
       "  <tbody>\n",
       "    <tr>\n",
       "      <th>62507</th>\n",
       "      <td>179</td>\n",
       "      <td>TP-UPN</td>\n",
       "      <td>2022-01-30 08:28:00</td>\n",
       "      <td>4</td>\n",
       "      <td>9325</td>\n",
       "      <td>4</td>\n",
       "      <td>2022-01-30 08:59:00</td>\n",
       "      <td>2022-01-30 09:07:00</td>\n",
       "      <td>12</td>\n",
       "      <td>2</td>\n",
       "      <td>2</td>\n",
       "      <td>12</td>\n",
       "      <td>9.116667</td>\n",
       "      <td>36</td>\n",
       "      <td>-8</td>\n",
       "      <td>0</td>\n",
       "      <td>826</td>\n",
       "      <td>82604</td>\n",
       "    </tr>\n",
       "    <tr>\n",
       "      <th>97344</th>\n",
       "      <td>207</td>\n",
       "      <td>TP-REG</td>\n",
       "      <td>2022-01-30 19:47:00</td>\n",
       "      <td>2</td>\n",
       "      <td>9242</td>\n",
       "      <td>4</td>\n",
       "      <td>2022-01-30 19:53:00</td>\n",
       "      <td>2022-01-30 19:52:00</td>\n",
       "      <td>3</td>\n",
       "      <td>1</td>\n",
       "      <td>0</td>\n",
       "      <td>2</td>\n",
       "      <td>19.866667</td>\n",
       "      <td>79</td>\n",
       "      <td>1</td>\n",
       "      <td>0</td>\n",
       "      <td>1158</td>\n",
       "      <td>115804</td>\n",
       "    </tr>\n",
       "    <tr>\n",
       "      <th>93651</th>\n",
       "      <td>203</td>\n",
       "      <td>TP-FWA</td>\n",
       "      <td>2022-01-30 16:32:00</td>\n",
       "      <td>1</td>\n",
       "      <td>9203</td>\n",
       "      <td>1</td>\n",
       "      <td>2022-01-30 16:40:00</td>\n",
       "      <td>2022-01-30 16:44:00</td>\n",
       "      <td>8</td>\n",
       "      <td>4</td>\n",
       "      <td>0</td>\n",
       "      <td>4</td>\n",
       "      <td>16.733333</td>\n",
       "      <td>66</td>\n",
       "      <td>-4</td>\n",
       "      <td>0</td>\n",
       "      <td>1160</td>\n",
       "      <td>116001</td>\n",
       "    </tr>\n",
       "  </tbody>\n",
       "</table>\n",
       "</div>"
      ],
      "text/plain": [
       "      Nr linii Wariant linii                Kurs Oznaczenie brygady  \\\n",
       "62507      179        TP-UPN 2022-01-30 08:28:00                  4   \n",
       "97344      207        TP-REG 2022-01-30 19:47:00                  2   \n",
       "93651      203        TP-FWA 2022-01-30 16:32:00                  1   \n",
       "\n",
       "       Numer taborowy  Numer przystanku Rzeczywisty czas odjazdu  \\\n",
       "62507            9325                 4      2022-01-30 08:59:00   \n",
       "97344            9242                 4      2022-01-30 19:53:00   \n",
       "93651            9203                 1      2022-01-30 16:40:00   \n",
       "\n",
       "      Rozkładowy czas odjazdu  Liczba pasaz. przed  \\\n",
       "62507     2022-01-30 09:07:00                   12   \n",
       "97344     2022-01-30 19:52:00                    3   \n",
       "93651     2022-01-30 16:44:00                    8   \n",
       "\n",
       "       Liczba wysiadających pasaz.  Liczba wsiadajacych pasaz.  \\\n",
       "62507                            2                           2   \n",
       "97344                            1                           0   \n",
       "93651                            4                           0   \n",
       "\n",
       "       Liczba pasaz. po odjezdzie  Godzina odjazdu  Godzina odjazdu przedział  \\\n",
       "62507                          12         9.116667                         36   \n",
       "97344                           2        19.866667                         79   \n",
       "93651                           4        16.733333                         66   \n",
       "\n",
       "       Opóźnienie w minutach  class  Numeryczna Nazwa przystanku  Przystanek  \n",
       "62507                     -8      0                          826       82604  \n",
       "97344                      1      0                         1158      115804  \n",
       "93651                     -4      0                         1160      116001  "
      ]
     },
     "execution_count": 159,
     "metadata": {},
     "output_type": "execute_result"
    }
   ],
   "source": [
    "df.sample(3)"
   ]
  },
  {
   "cell_type": "markdown",
   "id": "19640590",
   "metadata": {},
   "source": [
    "## Classification"
   ]
  },
  {
   "cell_type": "code",
   "execution_count": 160,
   "id": "5085212c",
   "metadata": {},
   "outputs": [],
   "source": [
    "from sklearn.metrics import accuracy_score\n",
    "from sklearn.linear_model import LogisticRegression\n",
    "\n",
    "import seaborn as sns"
   ]
  },
  {
   "cell_type": "code",
   "execution_count": 161,
   "id": "dd101550",
   "metadata": {},
   "outputs": [],
   "source": [
    "X_train, X_test, y_train, y_test = get_train_and_test_by_lines(df, features, class_labels)"
   ]
  },
  {
   "cell_type": "markdown",
   "id": "6c1ce313",
   "metadata": {},
   "source": [
    "### Logistic Regression 2 classes"
   ]
  },
  {
   "cell_type": "markdown",
   "id": "c78ac8d9",
   "metadata": {},
   "source": [
    "#### Default input data"
   ]
  },
  {
   "cell_type": "code",
   "execution_count": 162,
   "id": "d9e90514",
   "metadata": {},
   "outputs": [
    {
     "name": "stdout",
     "output_type": "stream",
     "text": [
      "Accuracy score normal 0.8643770368513412\n"
     ]
    },
    {
     "data": {
      "image/png": "[encoded data removed]",
      "text/plain": [
       "<Figure size 720x720 with 1 Axes>"
      ]
     },
     "metadata": {},
     "output_type": "display_data"
    }
   ],
   "source": [
    "from sklearn.metrics import accuracy_score\n",
    "\n",
    "classifier = LogisticRegression(random_state = 0)  \n",
    "classifier.fit(X_train, np.ravel(y_train.T))\n",
    "\n",
    "y_pred = classifier.predict(X_test) \n",
    "err3 = accuracy_score(y_pred,y_test)\n",
    "print(f\"Accuracy score normal {err3}\")\n",
    "plot_classification_report(y_test, y_pred)"
   ]
  },
  {
   "cell_type": "markdown",
   "id": "869bcf40",
   "metadata": {},
   "source": [
    "#### Oversampling"
   ]
  },
  {
   "cell_type": "code",
   "execution_count": 163,
   "id": "0f231d7f",
   "metadata": {},
   "outputs": [
    {
     "name": "stdout",
     "output_type": "stream",
     "text": [
      "Accuracy score 0.7232389069942341\n",
      "[[2540  882]\n",
      " [ 222  345]]\n"
     ]
    },
    {
     "name": "stderr",
     "output_type": "stream",
     "text": [
      "C:\\Users\\Alicja\\AppData\\Local\\Packages\\PythonSoftwareFoundation.Python.3.9_qbz5n2kfra8p0\\LocalCache\\local-packages\\Python39\\site-packages\\sklearn\\linear_model\\_logistic.py:814: ConvergenceWarning: lbfgs failed to converge (status=1):\n",
      "STOP: TOTAL NO. of ITERATIONS REACHED LIMIT.\n",
      "\n",
      "Increase the number of iterations (max_iter) or scale the data as shown in:\n",
      "    https://scikit-learn.org/stable/modules/preprocessing.html\n",
      "Please also refer to the documentation for alternative solver options:\n",
      "    https://scikit-learn.org/stable/modules/linear_model.html#logistic-regression\n",
      "  n_iter_i = _check_optimize_result(\n"
     ]
    },
    {
     "data": {
      "image/png": "[encoded data removed]",
      "text/plain": [
       "<Figure size 720x720 with 1 Axes>"
      ]
     },
     "metadata": {},
     "output_type": "display_data"
    }
   ],
   "source": [
    "from sklearn.metrics import balanced_accuracy_score\n",
    "from sklearn.metrics import confusion_matrix\n",
    "from imblearn.over_sampling import SMOTE\n",
    "\n",
    "os = SMOTE(random_state=0)\n",
    "columns = X_train.columns\n",
    "os_data_X,os_data_y=os.fit_resample(X_train, y_train)\n",
    "os_data_X = pd.DataFrame(data=os_data_X,columns=columns )\n",
    "os_data_y = np.ravel(os_data_y.T)\n",
    "\n",
    "#Classifying and prediction\n",
    "classifier = LogisticRegression(random_state = 0)  #Logistic classifier\n",
    "\n",
    "classifier.fit(os_data_X, os_data_y)\n",
    "\n",
    "y_pred = classifier.predict(X_test)  #predicting test results\n",
    "err3 = classifier.score(X_test,y_test)\n",
    "print(f\"Accuracy score {err3}\")\n",
    "plot_classification_report(y_test, y_pred)\n",
    "\n",
    "confusion_matrix = confusion_matrix(y_test, y_pred)\n",
    "print(confusion_matrix)"
   ]
  },
  {
   "cell_type": "markdown",
   "id": "46f768d1",
   "metadata": {},
   "source": [
    "#### Undersampling\n",
    "\n"
   ]
  },
  {
   "cell_type": "code",
   "execution_count": 164,
   "id": "86634ca7",
   "metadata": {},
   "outputs": [
    {
     "name": "stdout",
     "output_type": "stream",
     "text": [
      "Undersampled from:  35861  to:  9882\n",
      "Accuracy score normal 0.704687891702181\n",
      "[[2506  916]\n",
      " [ 262  305]]\n"
     ]
    },
    {
     "data": {
      "image/png": "[encoded data removed]",
      "text/plain": [
       "<Figure size 720x720 with 1 Axes>"
      ]
     },
     "metadata": {},
     "output_type": "display_data"
    }
   ],
   "source": [
    "from imblearn.under_sampling import NearMiss\n",
    "from sklearn.metrics import confusion_matrix\n",
    "\n",
    "undersample = NearMiss(version=3, n_neighbors_ver3=3)\n",
    "undersampled_x, undersampled_y = undersample.fit_resample(X_train, y_train)\n",
    "print(\"Undersampled from: \", len(y_train), \" to: \",  len(undersampled_y))\n",
    "\n",
    "undersampled_classifier = LogisticRegression(random_state = 0) \n",
    "undersampled_classifier.fit(undersampled_x, np.ravel(undersampled_y.T) )\n",
    "\n",
    "y_pred = undersampled_classifier.predict(X_test) \n",
    "err3 = accuracy_score(y_pred,y_test)\n",
    "\n",
    "print(f\"Accuracy score normal {err3}\")\n",
    "plot_classification_report(y_test, y_pred)\n",
    "\n",
    "confusion_matrix = confusion_matrix(y_test, y_pred)\n",
    "print(confusion_matrix)\n"
   ]
  },
  {
   "cell_type": "markdown",
   "id": "5952a136",
   "metadata": {},
   "source": [
    "### Logistic regression 3 classes"
   ]
  },
  {
   "cell_type": "code",
   "execution_count": 142,
   "id": "1f885a47",
   "metadata": {},
   "outputs": [
    {
     "name": "stdout",
     "output_type": "stream",
     "text": [
      "Amount of invalid data: 2\n"
     ]
    }
   ],
   "source": [
    "df_2, _  = get_clustered_data_with_bus_only('./data/SZP-2021-09-03.csv', crowding=[0,1,2])"
   ]
  },
  {
   "cell_type": "code",
   "execution_count": 165,
   "id": "cef6e603",
   "metadata": {},
   "outputs": [],
   "source": [
    "import copy \n",
    "df_y = copy.deepcopy(df_2)"
   ]
  },
  {
   "cell_type": "code",
   "execution_count": 166,
   "id": "0ce60f82",
   "metadata": {},
   "outputs": [],
   "source": [
    "df2 = get_numeric_name(df_y, \"Nazwa przystanku\", drop=True)\n",
    "\n",
    "df2['Przystanek'] = df2['Numeryczna Nazwa przystanku'] * 100 + df2['Numer przystanku']\n",
    "\n",
    "# features = ['Nr linii', 'Numer taborowy', 'Godzina odjazdu', 'Przystanek', 'Liczba wysiadających pasaz.', 'Liczba wsiadajacych pasaz.', 'Opóźnienie w minutach']\n",
    "features = ['Nr linii', 'Numer taborowy', 'Godzina odjazdu', 'Godzina odjazdu przedział', 'Przystanek',  'Liczba wysiadających pasaz.', 'Liczba wsiadajacych pasaz.']\n",
    "class_labels = [\"class\"]\n",
    "regress_labels = [\"Liczba pasaz. przed\"]\n",
    "\n",
    "X_train2, X_test2, y_train2, y_test2 = get_train_and_test_by_lines(df2, features, class_labels)"
   ]
  },
  {
   "cell_type": "markdown",
   "id": "593dc8d0",
   "metadata": {},
   "source": [
    "#### Default input data"
   ]
  },
  {
   "cell_type": "code",
   "execution_count": 167,
   "id": "5fb1841b",
   "metadata": {},
   "outputs": [
    {
     "name": "stderr",
     "output_type": "stream",
     "text": [
      "C:\\Users\\Alicja\\AppData\\Local\\Packages\\PythonSoftwareFoundation.Python.3.9_qbz5n2kfra8p0\\LocalCache\\local-packages\\Python39\\site-packages\\sklearn\\utils\\validation.py:985: DataConversionWarning: A column-vector y was passed when a 1d array was expected. Please change the shape of y to (n_samples, ), for example using ravel().\n",
      "  y = column_or_1d(y, warn=True)\n"
     ]
    },
    {
     "name": "stdout",
     "output_type": "stream",
     "text": [
      "Accuracy score normal 0.684883429430935\n",
      "[[2414  150    0]\n",
      " [ 919  318    0]\n",
      " [ 105   83    0]]\n"
     ]
    },
    {
     "name": "stderr",
     "output_type": "stream",
     "text": [
      "C:\\Users\\Alicja\\AppData\\Local\\Packages\\PythonSoftwareFoundation.Python.3.9_qbz5n2kfra8p0\\LocalCache\\local-packages\\Python39\\site-packages\\sklearn\\linear_model\\_logistic.py:814: ConvergenceWarning: lbfgs failed to converge (status=1):\n",
      "STOP: TOTAL NO. of ITERATIONS REACHED LIMIT.\n",
      "\n",
      "Increase the number of iterations (max_iter) or scale the data as shown in:\n",
      "    https://scikit-learn.org/stable/modules/preprocessing.html\n",
      "Please also refer to the documentation for alternative solver options:\n",
      "    https://scikit-learn.org/stable/modules/linear_model.html#logistic-regression\n",
      "  n_iter_i = _check_optimize_result(\n",
      "C:\\Users\\Alicja\\AppData\\Local\\Packages\\PythonSoftwareFoundation.Python.3.9_qbz5n2kfra8p0\\LocalCache\\local-packages\\Python39\\site-packages\\sklearn\\metrics\\_classification.py:1308: UndefinedMetricWarning: Precision and F-score are ill-defined and being set to 0.0 in labels with no predicted samples. Use `zero_division` parameter to control this behavior.\n",
      "  _warn_prf(average, modifier, msg_start, len(result))\n"
     ]
    },
    {
     "data": {
      "image/png": "[encoded data removed]",
      "text/plain": [
       "<Figure size 720x720 with 1 Axes>"
      ]
     },
     "metadata": {},
     "output_type": "display_data"
    }
   ],
   "source": [
    "from sklearn.metrics import confusion_matrix\n",
    "\n",
    "classifier2 = LogisticRegression(multi_class='multinomial', solver='lbfgs')\n",
    "# fit the model on the whole dataset\n",
    "classifier2.fit(X_train2, y_train2)\n",
    "\n",
    "y_pred2 = classifier2.predict(X_test2)  #predicting test results\n",
    "# print(\"y_pred\", y_pred, y_train)\n",
    "\n",
    "err2 = accuracy_score(y_pred2,y_test2)\n",
    "print(f\"Accuracy score normal {err2}\")\n",
    "plot_classification_report(y_test2, y_pred2)\n",
    "\n",
    "confusion_matrix = confusion_matrix(y_test2, y_pred2)\n",
    "print(confusion_matrix)\n"
   ]
  },
  {
   "cell_type": "markdown",
   "id": "5b2c1021",
   "metadata": {},
   "source": [
    "#### Oversampling"
   ]
  },
  {
   "cell_type": "code",
   "execution_count": 168,
   "id": "50ef5d68",
   "metadata": {},
   "outputs": [
    {
     "name": "stdout",
     "output_type": "stream",
     "text": [
      "Set sizes: original:  35861  sampled:  68064\n",
      "Accuracy score 0.22712459262973175\n",
      "[[ 256 1004 1304]\n",
      " [  85  551  601]\n",
      " [  22   67   99]]\n"
     ]
    },
    {
     "data": {
      "image/png": "[encoded data removed]",
      "text/plain": [
       "<Figure size 720x720 with 1 Axes>"
      ]
     },
     "metadata": {},
     "output_type": "display_data"
    }
   ],
   "source": [
    "from sklearn.metrics import balanced_accuracy_score\n",
    "from sklearn.metrics import confusion_matrix\n",
    "from imblearn.over_sampling import SMOTE\n",
    "\n",
    "os2 = SMOTE(random_state=0)\n",
    "columns = X_train2.columns\n",
    "os_data_X2,os_data_y2=os.fit_resample(X_train2, y_train2)\n",
    "os_data_X2 = pd.DataFrame(data=os_data_X2,columns=columns )\n",
    "os_data_y2 = np.ravel(os_data_y2.T)\n",
    "\n",
    "print(\"Set sizes: original: \", len(y_train2), \" sampled: \", len(os_data_y2))\n",
    "#Classifying and prediction\n",
    "classifier2 = LogisticRegression(random_state = 0)  #Logistic classifier\n",
    "\n",
    "classifier2.fit(os_data_X2, os_data_y2)\n",
    "\n",
    "y_pred2 = classifier2.predict(X_test2)  #predicting test results\n",
    "err3 = classifier2.score(X_test2,y_test2)\n",
    "print(f\"Accuracy score {err3}\")\n",
    "plot_classification_report(y_test2, y_pred2)\n",
    "\n",
    "confusion_matrix = confusion_matrix(y_test2, y_pred2)\n",
    "print(confusion_matrix)"
   ]
  },
  {
   "cell_type": "markdown",
   "id": "f7066e8e",
   "metadata": {},
   "source": [
    "#### Undersampling"
   ]
  },
  {
   "cell_type": "code",
   "execution_count": 170,
   "id": "beab9613",
   "metadata": {},
   "outputs": [
    {
     "name": "stdout",
     "output_type": "stream",
     "text": [
      "Undersampled from:  35861  to:  4494\n",
      "Accuracy score 0.5645525194284282\n",
      "[[1806  527  231]\n",
      " [ 531  361  345]\n",
      " [  74   29   85]]\n"
     ]
    },
    {
     "name": "stderr",
     "output_type": "stream",
     "text": [
      "C:\\Users\\Alicja\\AppData\\Local\\Packages\\PythonSoftwareFoundation.Python.3.9_qbz5n2kfra8p0\\LocalCache\\local-packages\\Python39\\site-packages\\sklearn\\utils\\validation.py:985: DataConversionWarning: A column-vector y was passed when a 1d array was expected. Please change the shape of y to (n_samples, ), for example using ravel().\n",
      "  y = column_or_1d(y, warn=True)\n",
      "C:\\Users\\Alicja\\AppData\\Local\\Packages\\PythonSoftwareFoundation.Python.3.9_qbz5n2kfra8p0\\LocalCache\\local-packages\\Python39\\site-packages\\sklearn\\linear_model\\_logistic.py:814: ConvergenceWarning: lbfgs failed to converge (status=1):\n",
      "STOP: TOTAL NO. of ITERATIONS REACHED LIMIT.\n",
      "\n",
      "Increase the number of iterations (max_iter) or scale the data as shown in:\n",
      "    https://scikit-learn.org/stable/modules/preprocessing.html\n",
      "Please also refer to the documentation for alternative solver options:\n",
      "    https://scikit-learn.org/stable/modules/linear_model.html#logistic-regression\n",
      "  n_iter_i = _check_optimize_result(\n"
     ]
    },
    {
     "data": {
      "image/png": "[encoded data removed]",
      "text/plain": [
       "<Figure size 720x720 with 1 Axes>"
      ]
     },
     "metadata": {},
     "output_type": "display_data"
    }
   ],
   "source": [
    "from collections import Counter\n",
    "from sklearn.datasets import make_classification\n",
    "from imblearn.under_sampling import NearMiss\n",
    "from sklearn.metrics import confusion_matrix\n",
    "from matplotlib import pyplot\n",
    "\n",
    "undersample = NearMiss(version=3, n_neighbors_ver3=3)\n",
    "# transform the dataset\n",
    "undersampled_x2, undersampled_y2 = undersample.fit_resample(X_train2, y_train2)\n",
    "# summarize the new class distribution\n",
    "print(\"Undersampled from: \", len(y_train2), \" to: \",  len(undersampled_y2))\n",
    "\n",
    "classifier2_undersampled = LogisticRegression(multi_class='multinomial', solver='lbfgs')\n",
    "# fit the model on the whole dataset\n",
    "classifier2_undersampled.fit(undersampled_x2, undersampled_y2)\n",
    "\n",
    "y_pred2 = classifier2_undersampled.predict(X_test2)  #predicting test results\n",
    "# print(\"y_pred\", y_pred, y_train)\n",
    "\n",
    "err2 = accuracy_score(y_pred2,y_test2)\n",
    "print(f\"Accuracy score {err2}\")\n",
    "confusion_matrix = confusion_matrix(y_test2, y_pred2)\n",
    "print(confusion_matrix)\n",
    "\n",
    "plot_classification_report(y_test2, y_pred2)\n"
   ]
  },
  {
   "cell_type": "code",
   "execution_count": null,
   "id": "a9ac7648",
   "metadata": {},
   "outputs": [],
   "source": []
  }
 ],
 "metadata": {
  "interpreter": {
   "hash": "082e9a3bcad0a290d0001e938aa60b99250c6c2ef33a923c00b70f9826caf4b7"
  },
  "kernelspec": {
   "display_name": "Python 3.8.7 64-bit ('3.8')",
   "name": "python3"
  },
  "language_info": {
   "codemirror_mode": {
    "name": "ipython",
    "version": 3
   },
   "file_extension": ".py",
   "mimetype": "text/x-python",
   "name": "python",
   "nbconvert_exporter": "python",
   "pygments_lexer": "ipython3",
   "version": "3.9.10"
  },
  "metadata": {
   "interpreter": {
    "hash": "082e9a3bcad0a290d0001e938aa60b99250c6c2ef33a923c00b70f9826caf4b7"
   }
  }
 },
 "nbformat": 4,
 "nbformat_minor": 5
}
