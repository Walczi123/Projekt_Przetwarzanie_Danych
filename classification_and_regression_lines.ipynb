{
 "cells": [
  {
   "cell_type": "markdown",
   "id": "363366a1",
   "metadata": {},
   "source": [
    "## Imports"
   ]
  },
  {
   "cell_type": "code",
   "execution_count": 75,
   "id": "50eb2181",
   "metadata": {},
   "outputs": [],
   "source": [
    "import pandas as pd\n",
    "import numpy as np\n",
    "from matplotlib import pyplot as plt\n",
    "import seaborn as sns"
   ]
  },
  {
   "cell_type": "code",
   "execution_count": 76,
   "id": "1b8bca16",
   "metadata": {},
   "outputs": [],
   "source": [
    "from data_processing import get_clustered_data_with_bus_only, get_numeric_name, split_into_lines, get_train_and_test_by_lines, get_train_and_test_for_lines"
   ]
  },
  {
   "cell_type": "code",
   "execution_count": 77,
   "id": "d95b40e0",
   "metadata": {},
   "outputs": [
    {
     "name": "stdout",
     "output_type": "stream",
     "text": [
      "Amount of invalid data: 2\n"
     ]
    }
   ],
   "source": [
    "df = get_clustered_data_with_bus_only('./data/SZP-2021-09-03.csv')"
   ]
  },
  {
   "cell_type": "code",
   "execution_count": 78,
   "id": "d5e76405",
   "metadata": {},
   "outputs": [],
   "source": [
    "df = get_numeric_name(df, \"Nazwa przystanku\", drop=True)"
   ]
  },
  {
   "cell_type": "code",
   "execution_count": 79,
   "id": "cb048c93",
   "metadata": {},
   "outputs": [
    {
     "data": {
      "text/html": [
       "<div>\n",
       "<style scoped>\n",
       "    .dataframe tbody tr th:only-of-type {\n",
       "        vertical-align: middle;\n",
       "    }\n",
       "\n",
       "    .dataframe tbody tr th {\n",
       "        vertical-align: top;\n",
       "    }\n",
       "\n",
       "    .dataframe thead th {\n",
       "        text-align: right;\n",
       "    }\n",
       "</style>\n",
       "<table border=\"1\" class=\"dataframe\">\n",
       "  <thead>\n",
       "    <tr style=\"text-align: right;\">\n",
       "      <th></th>\n",
       "      <th>Nr linii</th>\n",
       "      <th>Wariant linii</th>\n",
       "      <th>Kurs</th>\n",
       "      <th>Oznaczenie brygady</th>\n",
       "      <th>Numer taborowy</th>\n",
       "      <th>Numer przystanku</th>\n",
       "      <th>Rzeczywisty czas odjazdu</th>\n",
       "      <th>Rozkładowy czas odjazdu</th>\n",
       "      <th>Liczba pasaz. przed</th>\n",
       "      <th>Liczba wysiadających pasaz.</th>\n",
       "      <th>Liczba wsiadajacych pasaz.</th>\n",
       "      <th>Liczba pasaz. po odjezdzie</th>\n",
       "      <th>Godzina odjazdu</th>\n",
       "      <th>Godzina odjazdu przedział</th>\n",
       "      <th>class</th>\n",
       "      <th>Numeryczna Nazwa przystanku</th>\n",
       "    </tr>\n",
       "  </thead>\n",
       "  <tbody>\n",
       "    <tr>\n",
       "      <th>122117</th>\n",
       "      <td>239</td>\n",
       "      <td>TP-KRA</td>\n",
       "      <td>2022-01-29 18:59:00</td>\n",
       "      <td>57</td>\n",
       "      <td>9245</td>\n",
       "      <td>1</td>\n",
       "      <td>2022-01-29 19:07:00</td>\n",
       "      <td>2022-01-29 19:08:00</td>\n",
       "      <td>4</td>\n",
       "      <td>1</td>\n",
       "      <td>0</td>\n",
       "      <td>3</td>\n",
       "      <td>19.133333</td>\n",
       "      <td>76</td>\n",
       "      <td>0</td>\n",
       "      <td>1148</td>\n",
       "    </tr>\n",
       "    <tr>\n",
       "      <th>4075</th>\n",
       "      <td>103</td>\n",
       "      <td>TO-MML</td>\n",
       "      <td>2022-01-29 08:48:00</td>\n",
       "      <td>5</td>\n",
       "      <td>9442</td>\n",
       "      <td>1</td>\n",
       "      <td>2022-01-29 09:21:00</td>\n",
       "      <td>2022-01-29 09:21:00</td>\n",
       "      <td>6</td>\n",
       "      <td>3</td>\n",
       "      <td>3</td>\n",
       "      <td>6</td>\n",
       "      <td>9.350000</td>\n",
       "      <td>37</td>\n",
       "      <td>0</td>\n",
       "      <td>281</td>\n",
       "    </tr>\n",
       "    <tr>\n",
       "      <th>86191</th>\n",
       "      <td>194</td>\n",
       "      <td>TP-CMW</td>\n",
       "      <td>2022-01-29 09:46:00</td>\n",
       "      <td>4</td>\n",
       "      <td>9558</td>\n",
       "      <td>2</td>\n",
       "      <td>2022-01-29 09:51:00</td>\n",
       "      <td>2022-01-29 09:53:00</td>\n",
       "      <td>4</td>\n",
       "      <td>0</td>\n",
       "      <td>0</td>\n",
       "      <td>4</td>\n",
       "      <td>9.883333</td>\n",
       "      <td>39</td>\n",
       "      <td>0</td>\n",
       "      <td>941</td>\n",
       "    </tr>\n",
       "    <tr>\n",
       "      <th>24391</th>\n",
       "      <td>135</td>\n",
       "      <td>TO-HAL</td>\n",
       "      <td>2022-01-29 14:10:00</td>\n",
       "      <td>3</td>\n",
       "      <td>9317</td>\n",
       "      <td>1</td>\n",
       "      <td>2022-01-29 14:11:00</td>\n",
       "      <td>2022-01-29 14:11:00</td>\n",
       "      <td>7</td>\n",
       "      <td>0</td>\n",
       "      <td>2</td>\n",
       "      <td>9</td>\n",
       "      <td>14.183333</td>\n",
       "      <td>56</td>\n",
       "      <td>0</td>\n",
       "      <td>414</td>\n",
       "    </tr>\n",
       "    <tr>\n",
       "      <th>75091</th>\n",
       "      <td>186</td>\n",
       "      <td>TP-NWD</td>\n",
       "      <td>2022-01-29 16:05:00</td>\n",
       "      <td>6</td>\n",
       "      <td>9917</td>\n",
       "      <td>1</td>\n",
       "      <td>2022-01-29 16:08:00</td>\n",
       "      <td>2022-01-29 16:28:00</td>\n",
       "      <td>5</td>\n",
       "      <td>0</td>\n",
       "      <td>0</td>\n",
       "      <td>5</td>\n",
       "      <td>16.466667</td>\n",
       "      <td>65</td>\n",
       "      <td>0</td>\n",
       "      <td>58</td>\n",
       "    </tr>\n",
       "  </tbody>\n",
       "</table>\n",
       "</div>"
      ],
      "text/plain": [
       "       Nr linii Wariant linii                Kurs Oznaczenie brygady  \\\n",
       "122117      239        TP-KRA 2022-01-29 18:59:00                 57   \n",
       "4075        103        TO-MML 2022-01-29 08:48:00                  5   \n",
       "86191       194        TP-CMW 2022-01-29 09:46:00                  4   \n",
       "24391       135        TO-HAL 2022-01-29 14:10:00                  3   \n",
       "75091       186        TP-NWD 2022-01-29 16:05:00                  6   \n",
       "\n",
       "        Numer taborowy  Numer przystanku Rzeczywisty czas odjazdu  \\\n",
       "122117            9245                 1      2022-01-29 19:07:00   \n",
       "4075              9442                 1      2022-01-29 09:21:00   \n",
       "86191             9558                 2      2022-01-29 09:51:00   \n",
       "24391             9317                 1      2022-01-29 14:11:00   \n",
       "75091             9917                 1      2022-01-29 16:08:00   \n",
       "\n",
       "       Rozkładowy czas odjazdu  Liczba pasaz. przed  \\\n",
       "122117     2022-01-29 19:08:00                    4   \n",
       "4075       2022-01-29 09:21:00                    6   \n",
       "86191      2022-01-29 09:53:00                    4   \n",
       "24391      2022-01-29 14:11:00                    7   \n",
       "75091      2022-01-29 16:28:00                    5   \n",
       "\n",
       "        Liczba wysiadających pasaz.  Liczba wsiadajacych pasaz.  \\\n",
       "122117                            1                           0   \n",
       "4075                              3                           3   \n",
       "86191                             0                           0   \n",
       "24391                             0                           2   \n",
       "75091                             0                           0   \n",
       "\n",
       "        Liczba pasaz. po odjezdzie  Godzina odjazdu  \\\n",
       "122117                           3        19.133333   \n",
       "4075                             6         9.350000   \n",
       "86191                            4         9.883333   \n",
       "24391                            9        14.183333   \n",
       "75091                            5        16.466667   \n",
       "\n",
       "        Godzina odjazdu przedział  class  Numeryczna Nazwa przystanku  \n",
       "122117                         76      0                         1148  \n",
       "4075                           37      0                          281  \n",
       "86191                          39      0                          941  \n",
       "24391                          56      0                          414  \n",
       "75091                          65      0                           58  "
      ]
     },
     "execution_count": 79,
     "metadata": {},
     "output_type": "execute_result"
    }
   ],
   "source": [
    "df.sample(5)"
   ]
  },
  {
   "cell_type": "code",
   "execution_count": 80,
   "id": "af8920ea",
   "metadata": {},
   "outputs": [
    {
     "name": "stderr",
     "output_type": "stream",
     "text": [
      "C:\\Users\\Patryk\\AppData\\Local\\Programs\\Python\\Python39\\lib\\site-packages\\pandas\\core\\frame.py:4906: SettingWithCopyWarning: \n",
      "A value is trying to be set on a copy of a slice from a DataFrame\n",
      "\n",
      "See the caveats in the documentation: https://pandas.pydata.org/pandas-docs/stable/user_guide/indexing.html#returning-a-view-versus-a-copy\n",
      "  return super().drop(\n"
     ]
    }
   ],
   "source": [
    "lines = split_into_lines(df, drop_line = True)"
   ]
  },
  {
   "cell_type": "markdown",
   "id": "19640590",
   "metadata": {},
   "source": [
    "## Classification"
   ]
  },
  {
   "cell_type": "code",
   "execution_count": 81,
   "id": "5085212c",
   "metadata": {},
   "outputs": [],
   "source": [
    "from sklearn.tree import DecisionTreeRegressor\n",
    "from sklearn.model_selection import train_test_split\n",
    "import datetime as dt\n",
    "from sklearn.model_selection import cross_val_score\n",
    "from sklearn.model_selection import cross_validate\n",
    "from sklearn.model_selection import LeaveOneOut\n",
    "from sklearn.model_selection import KFold\n",
    "from sklearn.model_selection import RepeatedKFold\n",
    "from mlxtend.evaluate import bootstrap_point632_score\n",
    "from mlxtend.evaluate import BootstrapOutOfBag\n",
    "from mlxtend.evaluate import bootstrap\n",
    "\n",
    "import seaborn as sns\n",
    "import matplotlib.pyplot as plt"
   ]
  },
  {
   "cell_type": "code",
   "execution_count": 83,
   "id": "dd53837a",
   "metadata": {},
   "outputs": [],
   "source": [
    "features = ['Numer taborowy', 'Godzina odjazdu', 'Godzina odjazdu przedział', 'Numeryczna Nazwa przystanku']\n",
    "labels = [\"class\"]"
   ]
  },
  {
   "cell_type": "code",
   "execution_count": 84,
   "id": "acd3b25e",
   "metadata": {},
   "outputs": [],
   "source": [
    "data_lines = dict()\n",
    "for key, value in lines.items():\n",
    "    data_lines[key] = get_train_and_test_for_lines(value, X_columns = features, y_columns = labels)"
   ]
  },
  {
   "cell_type": "markdown",
   "id": "5952a136",
   "metadata": {},
   "source": [
    "### DecisionTreeClassifier"
   ]
  },
  {
   "cell_type": "code",
   "execution_count": 85,
   "id": "708998fd",
   "metadata": {},
   "outputs": [],
   "source": [
    "from sklearn.tree import DecisionTreeClassifier\n",
    "from sklearn.metrics import accuracy_score"
   ]
  },
  {
   "cell_type": "code",
   "execution_count": 86,
   "id": "1afd0d34",
   "metadata": {},
   "outputs": [],
   "source": [
    "model = DecisionTreeClassifier(max_depth = 1000, random_state = 1)"
   ]
  },
  {
   "cell_type": "code",
   "execution_count": 87,
   "id": "58a49da3",
   "metadata": {},
   "outputs": [],
   "source": [
    "#LeaveOneOut CrossValidation with negative mean absolute scores: the higher the scores, the lower mean absolute errors\n",
    "# scores1 = cross_validate(model, X_train, y_train, cv = LeaveOneOut(), n_jobs = -1, scoring = 'neg_mean_absolute_error', return_estimator = True)\n",
    "# err1 = accuracy_score(scores1['estimator'][scores1['test_score'].argmax()].predict(X_test),y_test)"
   ]
  },
  {
   "cell_type": "code",
   "execution_count": 88,
   "id": "14407c7a",
   "metadata": {},
   "outputs": [],
   "source": [
    "#Bootstrap Out of Bag\n",
    "predicted = np.array([])\n",
    "y_tests = np.array([])\n",
    "for value in data_lines.values():\n",
    "    X_train, X_test, y_train, y_test = value\n",
    "    scores2 = cross_validate(model, X_train, y_train, cv = BootstrapOutOfBag(n_splits=5, random_seed=456), n_jobs = -1, return_estimator = True)\n",
    "\n",
    "    predicted = np.concatenate((predicted, scores2['estimator'][scores2['test_score'].argmax()].predict(X_test)), axis=0)\n",
    "    y_tests = np.concatenate((y_tests, y_test.to_numpy().reshape(1,-1)[0]), axis=0)\n",
    "err2 = accuracy_score(predicted, y_tests)"
   ]
  },
  {
   "cell_type": "code",
   "execution_count": 89,
   "id": "67f01e45",
   "metadata": {},
   "outputs": [],
   "source": [
    "#Repeated K-Fold\n",
    "predicted = np.array([])\n",
    "y_tests = np.array([])\n",
    "for value in data_lines.values():\n",
    "    X_train, X_test, y_train, y_test = value\n",
    "    scores3 = cross_validate(model, X_train, y_train, n_jobs = -1, cv = RepeatedKFold(n_splits = 10, n_repeats = 2), return_estimator = True)\n",
    "\n",
    "    predicted = np.concatenate((predicted, scores3['estimator'][scores3['test_score'].argmax()].predict(X_test)), axis=0)\n",
    "    y_tests = np.concatenate((y_tests, y_test.to_numpy().reshape(1,-1)[0]), axis=0)\n",
    "err3 = accuracy_score(predicted, y_tests)"
   ]
  },
  {
   "cell_type": "code",
   "execution_count": 90,
   "id": "a6fb77c8",
   "metadata": {},
   "outputs": [],
   "source": [
    "#K-Fold\n",
    "predicted = np.array([])\n",
    "y_tests = np.array([])\n",
    "for value in data_lines.values():\n",
    "    X_train, X_test, y_train, y_test = value\n",
    "    scores4 = cross_validate(model, X_train, y_train, cv = KFold(10), n_jobs=-1, return_estimator = True)\n",
    "\n",
    "    predicted = np.concatenate((predicted, scores4['estimator'][scores4['test_score'].argmax()].predict(X_test)), axis=0)\n",
    "    y_tests = np.concatenate((y_tests, y_test.to_numpy().reshape(1,-1)[0]), axis=0)\n",
    "err4 = accuracy_score(predicted, y_tests)"
   ]
  },
  {
   "cell_type": "code",
   "execution_count": 91,
   "id": "80f8aadd",
   "metadata": {},
   "outputs": [
    {
     "name": "stdout",
     "output_type": "stream",
     "text": [
      "------- Accuracy --------\n",
      "2. Accuracy BootstrapOutOfBag 0.7683629982451742\n",
      "3. Accuracy RepeatedKFold 0.7919278014539985\n",
      "4. Accuracy KFold 0.7969415893707696\n"
     ]
    }
   ],
   "source": [
    "print(\"------- Accuracy --------\")\n",
    "# print(f\"1. Accuracy LeaveOneOut {err1}\")\n",
    "print(f\"2. Accuracy BootstrapOutOfBag {err2}\")\n",
    "print(f\"3. Accuracy RepeatedKFold {err3}\")\n",
    "print(f\"4. Accuracy KFold {err4}\")"
   ]
  },
  {
   "cell_type": "markdown",
   "id": "ae072b0b",
   "metadata": {},
   "source": [
    "### RandomForestClassifier"
   ]
  },
  {
   "cell_type": "code",
   "execution_count": 92,
   "id": "03da9cbb",
   "metadata": {},
   "outputs": [],
   "source": [
    "from sklearn.ensemble import RandomForestClassifier"
   ]
  },
  {
   "cell_type": "code",
   "execution_count": 93,
   "id": "1b2823c0",
   "metadata": {},
   "outputs": [],
   "source": [
    "model = RandomForestClassifier(max_depth = 1000, random_state = 1)"
   ]
  },
  {
   "cell_type": "code",
   "execution_count": 94,
   "id": "70b51dfc",
   "metadata": {},
   "outputs": [],
   "source": [
    "#Bootstrap Out of Bag\n",
    "predicted = np.array([])\n",
    "y_tests = np.array([])\n",
    "for value in data_lines.values():\n",
    "    X_train, X_test, y_train, y_test = value\n",
    "    scores2 = cross_validate(model, X_train, y_train, cv = BootstrapOutOfBag(n_splits=5, random_seed=456), n_jobs = -1, return_estimator = True)\n",
    "\n",
    "    predicted = np.concatenate((predicted, scores2['estimator'][scores2['test_score'].argmax()].predict(X_test)), axis=0)\n",
    "    y_tests = np.concatenate((y_tests, y_test.to_numpy().reshape(1,-1)[0]), axis=0)\n",
    "err2 = accuracy_score(predicted, y_tests)"
   ]
  },
  {
   "cell_type": "code",
   "execution_count": 95,
   "id": "9f7f0176",
   "metadata": {},
   "outputs": [],
   "source": [
    "#Repeated K-Fold\n",
    "predicted = np.array([])\n",
    "y_tests = np.array([])\n",
    "for value in data_lines.values():\n",
    "    X_train, X_test, y_train, y_test = value\n",
    "    scores3 = cross_validate(model, X_train, y_train, n_jobs = -1, cv = RepeatedKFold(n_splits = 10, n_repeats = 2), return_estimator = True)\n",
    "\n",
    "    predicted = np.concatenate((predicted, scores3['estimator'][scores3['test_score'].argmax()].predict(X_test)), axis=0)\n",
    "    y_tests = np.concatenate((y_tests, y_test.to_numpy().reshape(1,-1)[0]), axis=0)\n",
    "err3 = accuracy_score(predicted, y_tests)"
   ]
  },
  {
   "cell_type": "code",
   "execution_count": 96,
   "id": "07c5eb0e",
   "metadata": {},
   "outputs": [],
   "source": [
    "#K-Fold\n",
    "predicted = np.array([])\n",
    "y_tests = np.array([])\n",
    "for value in data_lines.values():\n",
    "    X_train, X_test, y_train, y_test = value\n",
    "    scores4 = cross_validate(model, X_train, y_train, cv = KFold(10), n_jobs=-1, return_estimator = True)\n",
    "\n",
    "    predicted = np.concatenate((predicted, scores4['estimator'][scores4['test_score'].argmax()].predict(X_test)), axis=0)\n",
    "    y_tests = np.concatenate((y_tests, y_test.to_numpy().reshape(1,-1)[0]), axis=0)\n",
    "err4 = accuracy_score(predicted, y_tests)"
   ]
  },
  {
   "cell_type": "code",
   "execution_count": 97,
   "id": "18ff315e",
   "metadata": {},
   "outputs": [
    {
     "name": "stdout",
     "output_type": "stream",
     "text": [
      "------- Accuracy --------\n",
      "2. Accuracy BootstrapOutOfBag 0.8042115818500878\n",
      "3. Accuracy RepeatedKFold 0.8305339684131361\n",
      "4. Accuracy KFold 0.8297819002256205\n"
     ]
    }
   ],
   "source": [
    "print(\"------- Accuracy --------\")\n",
    "# print(f\"1. Accuracy LeaveOneOut {err1}\")\n",
    "print(f\"2. Accuracy BootstrapOutOfBag {err2}\")\n",
    "print(f\"3. Accuracy RepeatedKFold {err3}\")\n",
    "print(f\"4. Accuracy KFold {err4}\")"
   ]
  },
  {
   "cell_type": "markdown",
   "id": "2f6561be",
   "metadata": {},
   "source": [
    "### RUSBoostClassifier"
   ]
  },
  {
   "cell_type": "code",
   "execution_count": 99,
   "id": "29f90fce",
   "metadata": {},
   "outputs": [],
   "source": [
    "from imblearn.ensemble import RUSBoostClassifier\n",
    "from sklearn.metrics import balanced_accuracy_score\n",
    "from sklearn.metrics import accuracy_score"
   ]
  },
  {
   "cell_type": "code",
   "execution_count": 102,
   "id": "bbf2f269",
   "metadata": {},
   "outputs": [
    {
     "name": "stderr",
     "output_type": "stream",
     "text": [
      "C:\\Users\\Patryk\\AppData\\Local\\Programs\\Python\\Python39\\lib\\site-packages\\sklearn\\utils\\validation.py:985: DataConversionWarning: A column-vector y was passed when a 1d array was expected. Please change the shape of y to (n_samples, ), for example using ravel().\n",
      "  y = column_or_1d(y, warn=True)\n",
      "C:\\Users\\Patryk\\AppData\\Local\\Programs\\Python\\Python39\\lib\\site-packages\\sklearn\\base.py:441: UserWarning: X does not have valid feature names, but RUSBoostClassifier was fitted with feature names\n",
      "  warnings.warn(\n",
      "C:\\Users\\Patryk\\AppData\\Local\\Programs\\Python\\Python39\\lib\\site-packages\\sklearn\\utils\\validation.py:985: DataConversionWarning: A column-vector y was passed when a 1d array was expected. Please change the shape of y to (n_samples, ), for example using ravel().\n",
      "  y = column_or_1d(y, warn=True)\n",
      "C:\\Users\\Patryk\\AppData\\Local\\Programs\\Python\\Python39\\lib\\site-packages\\sklearn\\base.py:441: UserWarning: X does not have valid feature names, but RUSBoostClassifier was fitted with feature names\n",
      "  warnings.warn(\n",
      "C:\\Users\\Patryk\\AppData\\Local\\Programs\\Python\\Python39\\lib\\site-packages\\sklearn\\utils\\validation.py:985: DataConversionWarning: A column-vector y was passed when a 1d array was expected. Please change the shape of y to (n_samples, ), for example using ravel().\n",
      "  y = column_or_1d(y, warn=True)\n",
      "C:\\Users\\Patryk\\AppData\\Local\\Programs\\Python\\Python39\\lib\\site-packages\\sklearn\\base.py:441: UserWarning: X does not have valid feature names, but RUSBoostClassifier was fitted with feature names\n",
      "  warnings.warn(\n",
      "C:\\Users\\Patryk\\AppData\\Local\\Programs\\Python\\Python39\\lib\\site-packages\\sklearn\\utils\\validation.py:985: DataConversionWarning: A column-vector y was passed when a 1d array was expected. Please change the shape of y to (n_samples, ), for example using ravel().\n",
      "  y = column_or_1d(y, warn=True)\n",
      "C:\\Users\\Patryk\\AppData\\Local\\Programs\\Python\\Python39\\lib\\site-packages\\sklearn\\base.py:441: UserWarning: X does not have valid feature names, but RUSBoostClassifier was fitted with feature names\n",
      "  warnings.warn(\n",
      "C:\\Users\\Patryk\\AppData\\Local\\Programs\\Python\\Python39\\lib\\site-packages\\sklearn\\utils\\validation.py:985: DataConversionWarning: A column-vector y was passed when a 1d array was expected. Please change the shape of y to (n_samples, ), for example using ravel().\n",
      "  y = column_or_1d(y, warn=True)\n",
      "C:\\Users\\Patryk\\AppData\\Local\\Programs\\Python\\Python39\\lib\\site-packages\\sklearn\\base.py:441: UserWarning: X does not have valid feature names, but RUSBoostClassifier was fitted with feature names\n",
      "  warnings.warn(\n",
      "C:\\Users\\Patryk\\AppData\\Local\\Programs\\Python\\Python39\\lib\\site-packages\\sklearn\\utils\\validation.py:985: DataConversionWarning: A column-vector y was passed when a 1d array was expected. Please change the shape of y to (n_samples, ), for example using ravel().\n",
      "  y = column_or_1d(y, warn=True)\n"
     ]
    },
    {
     "name": "stdout",
     "output_type": "stream",
     "text": [
      "Resampled accuracy: 0.65\n",
      "Resampled balanced accuracy: 0.70\n"
     ]
    },
    {
     "name": "stderr",
     "output_type": "stream",
     "text": [
      "C:\\Users\\Patryk\\AppData\\Local\\Programs\\Python\\Python39\\lib\\site-packages\\sklearn\\base.py:441: UserWarning: X does not have valid feature names, but RUSBoostClassifier was fitted with feature names\n",
      "  warnings.warn(\n",
      "C:\\Users\\Patryk\\AppData\\Local\\Programs\\Python\\Python39\\lib\\site-packages\\sklearn\\utils\\validation.py:985: DataConversionWarning: A column-vector y was passed when a 1d array was expected. Please change the shape of y to (n_samples, ), for example using ravel().\n",
      "  y = column_or_1d(y, warn=True)\n",
      "C:\\Users\\Patryk\\AppData\\Local\\Programs\\Python\\Python39\\lib\\site-packages\\sklearn\\base.py:441: UserWarning: X does not have valid feature names, but RUSBoostClassifier was fitted with feature names\n",
      "  warnings.warn(\n",
      "C:\\Users\\Patryk\\AppData\\Local\\Programs\\Python\\Python39\\lib\\site-packages\\sklearn\\utils\\validation.py:985: DataConversionWarning: A column-vector y was passed when a 1d array was expected. Please change the shape of y to (n_samples, ), for example using ravel().\n",
      "  y = column_or_1d(y, warn=True)\n",
      "C:\\Users\\Patryk\\AppData\\Local\\Programs\\Python\\Python39\\lib\\site-packages\\sklearn\\base.py:441: UserWarning: X does not have valid feature names, but RUSBoostClassifier was fitted with feature names\n",
      "  warnings.warn(\n"
     ]
    }
   ],
   "source": [
    "predicted = np.array([])\n",
    "y_tests = np.array([])\n",
    "for value in data_lines.values():\n",
    "    X_train, X_test, y_train, y_test = value\n",
    "    rusboost = RUSBoostClassifier(n_estimators=50, base_estimator = DecisionTreeClassifier(max_depth = 1000, random_state = 1), algorithm='SAMME', random_state=1)\n",
    "    rusboost.fit(X_train, y_train)\n",
    "\n",
    "    predicted = np.concatenate((predicted, rusboost.predict(X_test)), axis=0)\n",
    "    y_tests = np.concatenate((y_tests, y_test.to_numpy().reshape(1,-1)[0]), axis=0)\n",
    "print(\"Resampled accuracy: {:.2f}\".format(accuracy_score(y_tests, predicted)))\n",
    "print(\"Resampled balanced accuracy: {:.2f}\".format(balanced_accuracy_score(y_tests, predicted)))"
   ]
  },
  {
   "cell_type": "code",
   "execution_count": 103,
   "id": "576865f3",
   "metadata": {},
   "outputs": [
    {
     "name": "stderr",
     "output_type": "stream",
     "text": [
      "C:\\Users\\Patryk\\AppData\\Local\\Programs\\Python\\Python39\\lib\\site-packages\\sklearn\\utils\\validation.py:985: DataConversionWarning: A column-vector y was passed when a 1d array was expected. Please change the shape of y to (n_samples, ), for example using ravel().\n",
      "  y = column_or_1d(y, warn=True)\n",
      "C:\\Users\\Patryk\\AppData\\Local\\Programs\\Python\\Python39\\lib\\site-packages\\sklearn\\base.py:441: UserWarning: X does not have valid feature names, but RUSBoostClassifier was fitted with feature names\n",
      "  warnings.warn(\n",
      "C:\\Users\\Patryk\\AppData\\Local\\Programs\\Python\\Python39\\lib\\site-packages\\sklearn\\utils\\validation.py:985: DataConversionWarning: A column-vector y was passed when a 1d array was expected. Please change the shape of y to (n_samples, ), for example using ravel().\n",
      "  y = column_or_1d(y, warn=True)\n",
      "C:\\Users\\Patryk\\AppData\\Local\\Programs\\Python\\Python39\\lib\\site-packages\\sklearn\\base.py:441: UserWarning: X does not have valid feature names, but RUSBoostClassifier was fitted with feature names\n",
      "  warnings.warn(\n",
      "C:\\Users\\Patryk\\AppData\\Local\\Programs\\Python\\Python39\\lib\\site-packages\\sklearn\\utils\\validation.py:985: DataConversionWarning: A column-vector y was passed when a 1d array was expected. Please change the shape of y to (n_samples, ), for example using ravel().\n",
      "  y = column_or_1d(y, warn=True)\n",
      "C:\\Users\\Patryk\\AppData\\Local\\Programs\\Python\\Python39\\lib\\site-packages\\sklearn\\base.py:441: UserWarning: X does not have valid feature names, but RUSBoostClassifier was fitted with feature names\n",
      "  warnings.warn(\n",
      "C:\\Users\\Patryk\\AppData\\Local\\Programs\\Python\\Python39\\lib\\site-packages\\sklearn\\utils\\validation.py:985: DataConversionWarning: A column-vector y was passed when a 1d array was expected. Please change the shape of y to (n_samples, ), for example using ravel().\n",
      "  y = column_or_1d(y, warn=True)\n",
      "C:\\Users\\Patryk\\AppData\\Local\\Programs\\Python\\Python39\\lib\\site-packages\\sklearn\\base.py:441: UserWarning: X does not have valid feature names, but RUSBoostClassifier was fitted with feature names\n",
      "  warnings.warn(\n",
      "C:\\Users\\Patryk\\AppData\\Local\\Programs\\Python\\Python39\\lib\\site-packages\\sklearn\\utils\\validation.py:985: DataConversionWarning: A column-vector y was passed when a 1d array was expected. Please change the shape of y to (n_samples, ), for example using ravel().\n",
      "  y = column_or_1d(y, warn=True)\n",
      "C:\\Users\\Patryk\\AppData\\Local\\Programs\\Python\\Python39\\lib\\site-packages\\sklearn\\base.py:441: UserWarning: X does not have valid feature names, but RUSBoostClassifier was fitted with feature names\n",
      "  warnings.warn(\n",
      "C:\\Users\\Patryk\\AppData\\Local\\Programs\\Python\\Python39\\lib\\site-packages\\sklearn\\utils\\validation.py:985: DataConversionWarning: A column-vector y was passed when a 1d array was expected. Please change the shape of y to (n_samples, ), for example using ravel().\n",
      "  y = column_or_1d(y, warn=True)\n",
      "C:\\Users\\Patryk\\AppData\\Local\\Programs\\Python\\Python39\\lib\\site-packages\\sklearn\\base.py:441: UserWarning: X does not have valid feature names, but RUSBoostClassifier was fitted with feature names\n",
      "  warnings.warn(\n",
      "C:\\Users\\Patryk\\AppData\\Local\\Programs\\Python\\Python39\\lib\\site-packages\\sklearn\\utils\\validation.py:985: DataConversionWarning: A column-vector y was passed when a 1d array was expected. Please change the shape of y to (n_samples, ), for example using ravel().\n",
      "  y = column_or_1d(y, warn=True)\n",
      "C:\\Users\\Patryk\\AppData\\Local\\Programs\\Python\\Python39\\lib\\site-packages\\sklearn\\base.py:441: UserWarning: X does not have valid feature names, but RUSBoostClassifier was fitted with feature names\n",
      "  warnings.warn(\n",
      "C:\\Users\\Patryk\\AppData\\Local\\Programs\\Python\\Python39\\lib\\site-packages\\sklearn\\utils\\validation.py:985: DataConversionWarning: A column-vector y was passed when a 1d array was expected. Please change the shape of y to (n_samples, ), for example using ravel().\n",
      "  y = column_or_1d(y, warn=True)\n"
     ]
    },
    {
     "name": "stdout",
     "output_type": "stream",
     "text": [
      "Resampled accuracy: 0.66\n",
      "Resampled balanced accuracy: 0.72\n"
     ]
    },
    {
     "name": "stderr",
     "output_type": "stream",
     "text": [
      "C:\\Users\\Patryk\\AppData\\Local\\Programs\\Python\\Python39\\lib\\site-packages\\sklearn\\base.py:441: UserWarning: X does not have valid feature names, but RUSBoostClassifier was fitted with feature names\n",
      "  warnings.warn(\n"
     ]
    }
   ],
   "source": [
    "predicted = np.array([])\n",
    "y_tests = np.array([])\n",
    "for value in data_lines.values():\n",
    "    X_train, X_test, y_train, y_test = value\n",
    "    rusboost = RUSBoostClassifier(n_estimators=50, base_estimator = RandomForestClassifier(max_depth = 1000, random_state = 1), algorithm='SAMME', random_state=1)\n",
    "    rusboost.fit(X_train, y_train)\n",
    "\n",
    "    predicted = np.concatenate((predicted, rusboost.predict(X_test)), axis=0)\n",
    "    y_tests = np.concatenate((y_tests, y_test.to_numpy().reshape(1,-1)[0]), axis=0)\n",
    "print(\"Resampled accuracy: {:.2f}\".format(accuracy_score(y_tests, predicted)))\n",
    "print(\"Resampled balanced accuracy: {:.2f}\".format(balanced_accuracy_score(y_tests, predicted)))"
   ]
  },
  {
   "cell_type": "markdown",
   "id": "e849e94a",
   "metadata": {},
   "source": [
    "## Regresja"
   ]
  },
  {
   "cell_type": "code",
   "execution_count": 104,
   "id": "8e1c5130",
   "metadata": {},
   "outputs": [],
   "source": [
    "features = ['Numer taborowy', 'Godzina odjazdu', 'Godzina odjazdu przedział', 'Numeryczna Nazwa przystanku']\n",
    "labels = [\"Liczba pasaz. przed\"]"
   ]
  },
  {
   "cell_type": "code",
   "execution_count": 105,
   "id": "fba855da",
   "metadata": {},
   "outputs": [],
   "source": [
    "data_lines = dict()\n",
    "for key, value in lines.items():\n",
    "    data_lines[key] = get_train_and_test_for_lines(value, X_columns = features, y_columns = labels)"
   ]
  },
  {
   "cell_type": "markdown",
   "id": "3586ea18",
   "metadata": {},
   "source": [
    "### DecisionTreeRegressor"
   ]
  },
  {
   "cell_type": "code",
   "execution_count": 108,
   "id": "60327967",
   "metadata": {},
   "outputs": [],
   "source": [
    "from sklearn.tree import DecisionTreeRegressor"
   ]
  },
  {
   "cell_type": "code",
   "execution_count": 109,
   "id": "baa27b46",
   "metadata": {},
   "outputs": [],
   "source": [
    "model = DecisionTreeRegressor(max_depth = 1000, random_state = 1)"
   ]
  },
  {
   "cell_type": "code",
   "execution_count": 113,
   "id": "4a082530",
   "metadata": {},
   "outputs": [],
   "source": [
    "#Bootstrap Out of Bag\n",
    "predicted = np.array([])\n",
    "y_tests = np.array([])\n",
    "for value in data_lines.values():\n",
    "    X_train, X_test, y_train, y_test = value\n",
    "    scores2 = cross_validate(model, X_train, y_train, cv = BootstrapOutOfBag(n_splits=5, random_seed=456), n_jobs = -1, return_estimator = True)\n",
    "\n",
    "    predicted = np.concatenate((predicted, scores2['estimator'][scores2['test_score'].argmax()].predict(X_test)), axis=0)\n",
    "    y_tests = np.concatenate((y_tests, y_test.to_numpy().reshape(1,-1)[0]), axis=0)\n",
    "err2 = abs(predicted - y_tests)"
   ]
  },
  {
   "cell_type": "code",
   "execution_count": 124,
   "id": "34254cd8",
   "metadata": {},
   "outputs": [],
   "source": [
    "#Repeated K-Fold\n",
    "predicted = np.array([])\n",
    "y_tests = np.array([])\n",
    "for value in data_lines.values():\n",
    "    X_train, X_test, y_train, y_test = value\n",
    "    scores3 = cross_validate(model, X_train, y_train, n_jobs = -1, cv = RepeatedKFold(n_splits = 10, n_repeats = 2), return_estimator = True)\n",
    "\n",
    "    predicted = np.concatenate((predicted, scores3['estimator'][scores3['test_score'].argmax()].predict(X_test)), axis=0)\n",
    "    y_tests = np.concatenate((y_tests, y_test.to_numpy().reshape(1,-1)[0]), axis=0)\n",
    "err3 = abs(predicted - y_tests)"
   ]
  },
  {
   "cell_type": "code",
   "execution_count": 125,
   "id": "c630b020",
   "metadata": {},
   "outputs": [],
   "source": [
    "#K-Fold\n",
    "predicted = np.array([])\n",
    "y_tests = np.array([])\n",
    "for value in data_lines.values():\n",
    "    X_train, X_test, y_train, y_test = value\n",
    "    scores4 = cross_validate(model, X_train, y_train, cv = KFold(10), n_jobs=-1, return_estimator = True)\n",
    "\n",
    "    predicted = np.concatenate((predicted, scores4['estimator'][scores4['test_score'].argmax()].predict(X_test)), axis=0)\n",
    "    y_tests = np.concatenate((y_tests, y_test.to_numpy().reshape(1,-1)[0]), axis=0)\n",
    "err4 = abs(predicted - y_tests)"
   ]
  },
  {
   "cell_type": "code",
   "execution_count": 126,
   "id": "4ad8e51d",
   "metadata": {},
   "outputs": [],
   "source": [
    "d_err = []\n",
    "d_err = pd.DataFrame({'Err':err2.reshape(-1), 'Type': 'BootOOB'})\n",
    "d_err = d_err.append(pd.DataFrame({'Err':err3.reshape(-1), 'Type': 'Repeated KFold'}),ignore_index=True)\n",
    "d_err = d_err.append(pd.DataFrame({'Err':err4.reshape(-1), 'Type': 'KFold'}),ignore_index=True)"
   ]
  },
  {
   "cell_type": "code",
   "execution_count": 127,
   "id": "c95fddae",
   "metadata": {},
   "outputs": [
    {
     "data": {
      "image/png": "[encoded data removed]",
      "text/plain": [
       "<Figure size 1080x720 with 1 Axes>"
      ]
     },
     "metadata": {},
     "output_type": "display_data"
    }
   ],
   "source": [
    "plt.figure(figsize = (15,10))\n",
    "g = sns.ecdfplot(d_err, x = \"Err\", hue = 'Type')\n",
    "#g.set(xlim = (0, 10))"
   ]
  },
  {
   "cell_type": "code",
   "execution_count": 128,
   "id": "a46aa837",
   "metadata": {},
   "outputs": [
    {
     "data": {
      "text/html": [
       "<div>\n",
       "<style scoped>\n",
       "    .dataframe tbody tr th:only-of-type {\n",
       "        vertical-align: middle;\n",
       "    }\n",
       "\n",
       "    .dataframe tbody tr th {\n",
       "        vertical-align: top;\n",
       "    }\n",
       "\n",
       "    .dataframe thead tr th {\n",
       "        text-align: left;\n",
       "    }\n",
       "\n",
       "    .dataframe thead tr:last-of-type th {\n",
       "        text-align: right;\n",
       "    }\n",
       "</style>\n",
       "<table border=\"1\" class=\"dataframe\">\n",
       "  <thead>\n",
       "    <tr>\n",
       "      <th></th>\n",
       "      <th colspan=\"8\" halign=\"left\">Err</th>\n",
       "    </tr>\n",
       "    <tr>\n",
       "      <th></th>\n",
       "      <th>count</th>\n",
       "      <th>mean</th>\n",
       "      <th>std</th>\n",
       "      <th>min</th>\n",
       "      <th>25%</th>\n",
       "      <th>50%</th>\n",
       "      <th>75%</th>\n",
       "      <th>max</th>\n",
       "    </tr>\n",
       "    <tr>\n",
       "      <th>Type</th>\n",
       "      <th></th>\n",
       "      <th></th>\n",
       "      <th></th>\n",
       "      <th></th>\n",
       "      <th></th>\n",
       "      <th></th>\n",
       "      <th></th>\n",
       "      <th></th>\n",
       "    </tr>\n",
       "  </thead>\n",
       "  <tbody>\n",
       "    <tr>\n",
       "      <th>BootOOB</th>\n",
       "      <td>3989.0</td>\n",
       "      <td>4.32</td>\n",
       "      <td>5.65</td>\n",
       "      <td>0.0</td>\n",
       "      <td>1.0</td>\n",
       "      <td>2.0</td>\n",
       "      <td>6.0</td>\n",
       "      <td>72.0</td>\n",
       "    </tr>\n",
       "    <tr>\n",
       "      <th>KFold</th>\n",
       "      <td>3989.0</td>\n",
       "      <td>4.32</td>\n",
       "      <td>5.65</td>\n",
       "      <td>0.0</td>\n",
       "      <td>1.0</td>\n",
       "      <td>2.0</td>\n",
       "      <td>6.0</td>\n",
       "      <td>72.0</td>\n",
       "    </tr>\n",
       "    <tr>\n",
       "      <th>Repeated KFold</th>\n",
       "      <td>3989.0</td>\n",
       "      <td>4.29</td>\n",
       "      <td>5.48</td>\n",
       "      <td>0.0</td>\n",
       "      <td>1.0</td>\n",
       "      <td>3.0</td>\n",
       "      <td>6.0</td>\n",
       "      <td>69.0</td>\n",
       "    </tr>\n",
       "  </tbody>\n",
       "</table>\n",
       "</div>"
      ],
      "text/plain": [
       "                   Err                                      \n",
       "                 count  mean   std  min  25%  50%  75%   max\n",
       "Type                                                        \n",
       "BootOOB         3989.0  4.32  5.65  0.0  1.0  2.0  6.0  72.0\n",
       "KFold           3989.0  4.32  5.65  0.0  1.0  2.0  6.0  72.0\n",
       "Repeated KFold  3989.0  4.29  5.48  0.0  1.0  3.0  6.0  69.0"
      ]
     },
     "execution_count": 128,
     "metadata": {},
     "output_type": "execute_result"
    }
   ],
   "source": [
    "stats = d_err.groupby('Type').describe().round(2)\n",
    "stats"
   ]
  },
  {
   "cell_type": "markdown",
   "id": "09c65f71",
   "metadata": {},
   "source": [
    "### RandomForestRegressor"
   ]
  },
  {
   "cell_type": "code",
   "execution_count": 129,
   "id": "3b66e58f",
   "metadata": {},
   "outputs": [],
   "source": [
    "from sklearn.ensemble import RandomForestRegressor"
   ]
  },
  {
   "cell_type": "code",
   "execution_count": 130,
   "id": "e83cea25",
   "metadata": {},
   "outputs": [],
   "source": [
    "model = RandomForestRegressor(max_depth = 1000, random_state = 1)"
   ]
  },
  {
   "cell_type": "code",
   "execution_count": 131,
   "id": "54f9abcd",
   "metadata": {},
   "outputs": [],
   "source": [
    "#Bootstrap Out of Bag\n",
    "predicted = np.array([])\n",
    "y_tests = np.array([])\n",
    "for value in data_lines.values():\n",
    "    X_train, X_test, y_train, y_test = value\n",
    "    scores2 = cross_validate(model, X_train, y_train, cv = BootstrapOutOfBag(n_splits=5, random_seed=456), n_jobs = -1, return_estimator = True)\n",
    "\n",
    "    predicted = np.concatenate((predicted, scores2['estimator'][scores2['test_score'].argmax()].predict(X_test)), axis=0)\n",
    "    y_tests = np.concatenate((y_tests, y_test.to_numpy().reshape(1,-1)[0]), axis=0)\n",
    "err2 = abs(predicted - y_tests)"
   ]
  },
  {
   "cell_type": "code",
   "execution_count": 132,
   "id": "99519a4c",
   "metadata": {},
   "outputs": [],
   "source": [
    "#Repeated K-Fold\n",
    "predicted = np.array([])\n",
    "y_tests = np.array([])\n",
    "for value in data_lines.values():\n",
    "    X_train, X_test, y_train, y_test = value\n",
    "    scores3 = cross_validate(model, X_train, y_train, n_jobs = -1, cv = RepeatedKFold(n_splits = 10, n_repeats = 2), return_estimator = True)\n",
    "\n",
    "    predicted = np.concatenate((predicted, scores3['estimator'][scores3['test_score'].argmax()].predict(X_test)), axis=0)\n",
    "    y_tests = np.concatenate((y_tests, y_test.to_numpy().reshape(1,-1)[0]), axis=0)\n",
    "err3 = abs(predicted - y_tests)"
   ]
  },
  {
   "cell_type": "code",
   "execution_count": 133,
   "id": "d9eeb07d",
   "metadata": {},
   "outputs": [],
   "source": [
    "#K-Fold\n",
    "predicted = np.array([])\n",
    "y_tests = np.array([])\n",
    "for value in data_lines.values():\n",
    "    X_train, X_test, y_train, y_test = value\n",
    "    scores4 = cross_validate(model, X_train, y_train, cv = KFold(10), n_jobs=-1, return_estimator = True)\n",
    "\n",
    "    predicted = np.concatenate((predicted, scores4['estimator'][scores4['test_score'].argmax()].predict(X_test)), axis=0)\n",
    "    y_tests = np.concatenate((y_tests, y_test.to_numpy().reshape(1,-1)[0]), axis=0)\n",
    "err4 = abs(predicted - y_tests)"
   ]
  },
  {
   "cell_type": "code",
   "execution_count": 134,
   "id": "cb3c3d5a",
   "metadata": {},
   "outputs": [],
   "source": [
    "d_err = []\n",
    "d_err = pd.DataFrame({'Err':err2.reshape(-1), 'Type': 'BootOOB'})\n",
    "d_err = d_err.append(pd.DataFrame({'Err':err3.reshape(-1), 'Type': 'Repeated KFold'}),ignore_index=True)\n",
    "d_err = d_err.append(pd.DataFrame({'Err':err4.reshape(-1), 'Type': 'KFold'}),ignore_index=True)"
   ]
  },
  {
   "cell_type": "code",
   "execution_count": 135,
   "id": "257fc91c",
   "metadata": {},
   "outputs": [
    {
     "data": {
      "image/png": "[encoded data removed]",
      "text/plain": [
       "<Figure size 1080x720 with 1 Axes>"
      ]
     },
     "metadata": {},
     "output_type": "display_data"
    }
   ],
   "source": [
    "plt.figure(figsize = (15,10))\n",
    "g = sns.ecdfplot(d_err, x = \"Err\", hue = 'Type')\n",
    "#g.set(xlim = (0, 10))"
   ]
  },
  {
   "cell_type": "code",
   "execution_count": 136,
   "id": "c68b3829",
   "metadata": {},
   "outputs": [
    {
     "data": {
      "text/html": [
       "<div>\n",
       "<style scoped>\n",
       "    .dataframe tbody tr th:only-of-type {\n",
       "        vertical-align: middle;\n",
       "    }\n",
       "\n",
       "    .dataframe tbody tr th {\n",
       "        vertical-align: top;\n",
       "    }\n",
       "\n",
       "    .dataframe thead tr th {\n",
       "        text-align: left;\n",
       "    }\n",
       "\n",
       "    .dataframe thead tr:last-of-type th {\n",
       "        text-align: right;\n",
       "    }\n",
       "</style>\n",
       "<table border=\"1\" class=\"dataframe\">\n",
       "  <thead>\n",
       "    <tr>\n",
       "      <th></th>\n",
       "      <th colspan=\"8\" halign=\"left\">Err</th>\n",
       "    </tr>\n",
       "    <tr>\n",
       "      <th></th>\n",
       "      <th>count</th>\n",
       "      <th>mean</th>\n",
       "      <th>std</th>\n",
       "      <th>min</th>\n",
       "      <th>25%</th>\n",
       "      <th>50%</th>\n",
       "      <th>75%</th>\n",
       "      <th>max</th>\n",
       "    </tr>\n",
       "    <tr>\n",
       "      <th>Type</th>\n",
       "      <th></th>\n",
       "      <th></th>\n",
       "      <th></th>\n",
       "      <th></th>\n",
       "      <th></th>\n",
       "      <th></th>\n",
       "      <th></th>\n",
       "      <th></th>\n",
       "    </tr>\n",
       "  </thead>\n",
       "  <tbody>\n",
       "    <tr>\n",
       "      <th>BootOOB</th>\n",
       "      <td>3989.0</td>\n",
       "      <td>3.87</td>\n",
       "      <td>4.22</td>\n",
       "      <td>0.0</td>\n",
       "      <td>1.10</td>\n",
       "      <td>2.61</td>\n",
       "      <td>5.22</td>\n",
       "      <td>48.48</td>\n",
       "    </tr>\n",
       "    <tr>\n",
       "      <th>KFold</th>\n",
       "      <td>3989.0</td>\n",
       "      <td>3.64</td>\n",
       "      <td>3.87</td>\n",
       "      <td>0.0</td>\n",
       "      <td>1.06</td>\n",
       "      <td>2.47</td>\n",
       "      <td>4.81</td>\n",
       "      <td>34.07</td>\n",
       "    </tr>\n",
       "    <tr>\n",
       "      <th>Repeated KFold</th>\n",
       "      <td>3989.0</td>\n",
       "      <td>3.63</td>\n",
       "      <td>3.90</td>\n",
       "      <td>0.0</td>\n",
       "      <td>1.08</td>\n",
       "      <td>2.45</td>\n",
       "      <td>4.78</td>\n",
       "      <td>31.47</td>\n",
       "    </tr>\n",
       "  </tbody>\n",
       "</table>\n",
       "</div>"
      ],
      "text/plain": [
       "                   Err                                          \n",
       "                 count  mean   std  min   25%   50%   75%    max\n",
       "Type                                                            \n",
       "BootOOB         3989.0  3.87  4.22  0.0  1.10  2.61  5.22  48.48\n",
       "KFold           3989.0  3.64  3.87  0.0  1.06  2.47  4.81  34.07\n",
       "Repeated KFold  3989.0  3.63  3.90  0.0  1.08  2.45  4.78  31.47"
      ]
     },
     "execution_count": 136,
     "metadata": {},
     "output_type": "execute_result"
    }
   ],
   "source": [
    "stats = d_err.groupby('Type').describe().round(2)\n",
    "stats"
   ]
  },
  {
   "cell_type": "code",
   "execution_count": null,
   "id": "593f7914",
   "metadata": {},
   "outputs": [],
   "source": []
  }
 ],
 "metadata": {
  "interpreter": {
   "hash": "082e9a3bcad0a290d0001e938aa60b99250c6c2ef33a923c00b70f9826caf4b7"
  },
  "kernelspec": {
   "display_name": "Python 3.8.7 64-bit ('3.8')",
   "name": "python3"
  },
  "language_info": {
   "codemirror_mode": {
    "name": "ipython",
    "version": 3
   },
   "file_extension": ".py",
   "mimetype": "text/x-python",
   "name": "python",
   "nbconvert_exporter": "python",
   "pygments_lexer": "ipython3",
   "version": "3.9.7"
  },
  "metadata": {
   "interpreter": {
    "hash": "082e9a3bcad0a290d0001e938aa60b99250c6c2ef33a923c00b70f9826caf4b7"
   }
  }
 },
 "nbformat": 4,
 "nbformat_minor": 5
}
