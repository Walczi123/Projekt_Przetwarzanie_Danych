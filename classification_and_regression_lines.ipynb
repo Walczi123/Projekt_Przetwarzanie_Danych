{
 "cells": [
  {
   "cell_type": "markdown",
   "id": "363366a1",
   "metadata": {},
   "source": [
    "## Imports"
   ]
  },
  {
   "cell_type": "code",
   "execution_count": 1,
   "id": "50eb2181",
   "metadata": {},
   "outputs": [],
   "source": [
    "import pandas as pd\n",
    "import numpy as np\n",
    "from matplotlib import pyplot as plt\n",
    "import seaborn as sns"
   ]
  },
  {
   "cell_type": "code",
   "execution_count": 2,
   "id": "1b8bca16",
   "metadata": {},
   "outputs": [],
   "source": [
    "from data_processing import *"
   ]
  },
  {
   "cell_type": "code",
   "execution_count": 3,
   "id": "d95b40e0",
   "metadata": {},
   "outputs": [
    {
     "name": "stdout",
     "output_type": "stream",
     "text": [
      "Amount of invalid data: 2\n"
     ]
    }
   ],
   "source": [
    "df, clustering_dict = get_clustered_data_with_bus_only('./data/SZP-2021-09-03.csv')"
   ]
  },
  {
   "cell_type": "code",
   "execution_count": 4,
   "id": "d5e76405",
   "metadata": {},
   "outputs": [],
   "source": [
    "df = get_numeric_name(df, \"Nazwa przystanku\", drop=True)\n",
    "df['Przystanek'] = df['Numeryczna Nazwa przystanku'] * 100 + df['Numer przystanku']"
   ]
  },
  {
   "cell_type": "code",
   "execution_count": 5,
   "id": "af8920ea",
   "metadata": {},
   "outputs": [
    {
     "name": "stderr",
     "output_type": "stream",
     "text": [
      "C:\\Users\\Patryk\\AppData\\Local\\Programs\\Python\\Python39\\lib\\site-packages\\pandas\\core\\frame.py:4906: SettingWithCopyWarning: \n",
      "A value is trying to be set on a copy of a slice from a DataFrame\n",
      "\n",
      "See the caveats in the documentation: https://pandas.pydata.org/pandas-docs/stable/user_guide/indexing.html#returning-a-view-versus-a-copy\n",
      "  return super().drop(\n"
     ]
    }
   ],
   "source": [
    "lines = split_into_lines(df, drop_line = True)"
   ]
  },
  {
   "cell_type": "code",
   "execution_count": 6,
   "id": "d89d206f",
   "metadata": {},
   "outputs": [],
   "source": [
    "features = ['Numer taborowy', 'Godzina odjazdu', 'Godzina odjazdu przedział', 'Przystanek']\n",
    "class_labels = [\"class\"]\n",
    "regress_labels = [\"Liczba pasaz. przed\"]"
   ]
  },
  {
   "cell_type": "markdown",
   "id": "19640590",
   "metadata": {},
   "source": [
    "## Classification"
   ]
  },
  {
   "cell_type": "code",
   "execution_count": 7,
   "id": "5085212c",
   "metadata": {},
   "outputs": [],
   "source": [
    "from sklearn.tree import DecisionTreeRegressor\n",
    "from sklearn.model_selection import train_test_split\n",
    "import datetime as dt\n",
    "from sklearn.model_selection import cross_val_score\n",
    "from sklearn.model_selection import cross_validate\n",
    "from sklearn.model_selection import LeaveOneOut\n",
    "from sklearn.model_selection import KFold\n",
    "from sklearn.model_selection import RepeatedKFold\n",
    "from mlxtend.evaluate import bootstrap_point632_score\n",
    "from mlxtend.evaluate import BootstrapOutOfBag\n",
    "from mlxtend.evaluate import bootstrap\n",
    "\n",
    "import seaborn as sns\n",
    "import matplotlib.pyplot as plt"
   ]
  },
  {
   "cell_type": "code",
   "execution_count": 8,
   "id": "acd3b25e",
   "metadata": {},
   "outputs": [],
   "source": [
    "data_lines = dict()\n",
    "for key, value in lines.items():\n",
    "    data_lines[key] = get_train_and_test_for_lines(value, X_columns = features, y_columns = class_labels)"
   ]
  },
  {
   "cell_type": "markdown",
   "id": "5952a136",
   "metadata": {},
   "source": [
    "### DecisionTreeClassifier"
   ]
  },
  {
   "cell_type": "code",
   "execution_count": 16,
   "id": "708998fd",
   "metadata": {},
   "outputs": [],
   "source": [
    "from sklearn.tree import DecisionTreeClassifier\n",
    "from sklearn.metrics import accuracy_score\n"
   ]
  },
  {
   "cell_type": "code",
   "execution_count": 17,
   "id": "1afd0d34",
   "metadata": {},
   "outputs": [],
   "source": [
    "model = DecisionTreeClassifier(max_depth = 1000, random_state = 1)"
   ]
  },
  {
   "cell_type": "code",
   "execution_count": 18,
   "id": "14407c7a",
   "metadata": {},
   "outputs": [],
   "source": [
    "#Bootstrap Out of Bag\n",
    "predicted2 = np.array([])\n",
    "y_tests2 = np.array([])\n",
    "for value in data_lines.values():\n",
    "    X_train, X_test, y_train, y_test = value\n",
    "    scores2 = cross_validate(model, X_train, y_train, cv = BootstrapOutOfBag(n_splits=5, random_seed=456), n_jobs = -1, return_estimator = True)\n",
    "\n",
    "    predicted2 = np.concatenate((predicted2, scores2['estimator'][scores2['test_score'].argmax()].predict(X_test)), axis=0)\n",
    "    y_tests2 = np.concatenate((y_tests2, y_test.to_numpy().reshape(1,-1)[0]), axis=0)\n",
    "err2 = accuracy_score(predicted2, y_tests2)"
   ]
  },
  {
   "cell_type": "code",
   "execution_count": 19,
   "id": "67f01e45",
   "metadata": {},
   "outputs": [],
   "source": [
    "#Repeated K-Fold\n",
    "predicted3 = np.array([])\n",
    "y_tests3 = np.array([])\n",
    "for value in data_lines.values():\n",
    "    X_train, X_test, y_train, y_test = value\n",
    "    scores3 = cross_validate(model, X_train, y_train, n_jobs = -1, cv = RepeatedKFold(n_splits = 10, n_repeats = 2), return_estimator = True)\n",
    "\n",
    "    predicted3 = np.concatenate((predicted3, scores3['estimator'][scores3['test_score'].argmax()].predict(X_test)), axis=0)\n",
    "    y_tests3 = np.concatenate((y_tests3, y_test.to_numpy().reshape(1,-1)[0]), axis=0)\n",
    "err3 = accuracy_score(predicted3, y_tests3)"
   ]
  },
  {
   "cell_type": "code",
   "execution_count": 20,
   "id": "a6fb77c8",
   "metadata": {},
   "outputs": [],
   "source": [
    "#K-Fold\n",
    "predicted4 = np.array([])\n",
    "y_tests4 = np.array([])\n",
    "for value in data_lines.values():\n",
    "    X_train, X_test, y_train, y_test = value\n",
    "    scores4 = cross_validate(model, X_train, y_train, cv = KFold(10), n_jobs=-1, return_estimator = True)\n",
    "\n",
    "    predicted4 = np.concatenate((predicted4, scores4['estimator'][scores4['test_score'].argmax()].predict(X_test)), axis=0)\n",
    "    y_tests4 = np.concatenate((y_tests4, y_test.to_numpy().reshape(1,-1)[0]), axis=0)\n",
    "err4 = accuracy_score(predicted4, y_tests4)"
   ]
  },
  {
   "cell_type": "code",
   "execution_count": 21,
   "id": "80f8aadd",
   "metadata": {},
   "outputs": [
    {
     "name": "stdout",
     "output_type": "stream",
     "text": [
      "------- Accuracy --------\n",
      "2. Accuracy BootstrapOutOfBag 0.7758836801203309\n",
      "3. Accuracy RepeatedKFold 0.7911757332664828\n",
      "4. Accuracy KFold 0.8044622712459263\n"
     ]
    }
   ],
   "source": [
    "print(\"------- Accuracy --------\")\n",
    "# print(f\"1. Accuracy LeaveOneOut {err1}\")\n",
    "print(f\"2. Accuracy BootstrapOutOfBag {err2}\")\n",
    "print(f\"3. Accuracy RepeatedKFold {err3}\")\n",
    "print(f\"4. Accuracy KFold {err4}\")"
   ]
  },
  {
   "cell_type": "code",
   "execution_count": 22,
   "id": "4a30d557",
   "metadata": {},
   "outputs": [
    {
     "data": {
      "image/png": "[encoded data removed]",
      "text/plain": [
       "<Figure size 720x720 with 1 Axes>"
      ]
     },
     "metadata": {},
     "output_type": "display_data"
    }
   ],
   "source": [
    "plot_classification_report(y_tests4, predicted4)"
   ]
  },
  {
   "cell_type": "markdown",
   "id": "ae072b0b",
   "metadata": {},
   "source": [
    "### RandomForestClassifier"
   ]
  },
  {
   "cell_type": "code",
   "execution_count": null,
   "id": "03da9cbb",
   "metadata": {},
   "outputs": [],
   "source": [
    "from sklearn.ensemble import RandomForestClassifier"
   ]
  },
  {
   "cell_type": "code",
   "execution_count": null,
   "id": "1b2823c0",
   "metadata": {},
   "outputs": [],
   "source": [
    "model = RandomForestClassifier(max_depth = 100, random_state = 1)"
   ]
  },
  {
   "cell_type": "code",
   "execution_count": null,
   "id": "70b51dfc",
   "metadata": {},
   "outputs": [],
   "source": [
    "#Bootstrap Out of Bag\n",
    "predicted2 = np.array([])\n",
    "y_tests2 = np.array([])\n",
    "for value in data_lines.values():\n",
    "    X_train, X_test, y_train, y_test = value\n",
    "    scores2 = cross_validate(model, X_train, y_train, cv = BootstrapOutOfBag(n_splits=5, random_seed=456), n_jobs = -1, return_estimator = True)\n",
    "\n",
    "    predicted2 = np.concatenate((predicted2, scores2['estimator'][scores2['test_score'].argmax()].predict(X_test)), axis=0)\n",
    "    y_tests2 = np.concatenate((y_tests2, y_test.to_numpy().reshape(1,-1)[0]), axis=0)\n",
    "err2 = accuracy_score(predicted2, y_tests2)"
   ]
  },
  {
   "cell_type": "code",
   "execution_count": null,
   "id": "9f7f0176",
   "metadata": {},
   "outputs": [],
   "source": [
    "#Repeated K-Fold\n",
    "predicted3 = np.array([])\n",
    "y_tests3 = np.array([])\n",
    "for value in data_lines.values():\n",
    "    X_train, X_test, y_train, y_test = value\n",
    "    scores3 = cross_validate(model, X_train, y_train, n_jobs = -1, cv = RepeatedKFold(n_splits = 10, n_repeats = 2), return_estimator = True)\n",
    "\n",
    "    predicted3 = np.concatenate((predicted3, scores3['estimator'][scores3['test_score'].argmax()].predict(X_test)), axis=0)\n",
    "    y_tests3 = np.concatenate((y_tests3, y_test.to_numpy().reshape(1,-1)[0]), axis=0)\n",
    "err3 = accuracy_score(predicted3, y_tests3)"
   ]
  },
  {
   "cell_type": "code",
   "execution_count": null,
   "id": "07c5eb0e",
   "metadata": {},
   "outputs": [],
   "source": [
    "#K-Fold\n",
    "predicted4 = np.array([])\n",
    "y_tests4 = np.array([])\n",
    "for value in data_lines.values():\n",
    "    X_train, X_test, y_train, y_test = value\n",
    "    scores4 = cross_validate(model, X_train, y_train, cv = KFold(10), n_jobs=-1, return_estimator = True)\n",
    "\n",
    "    predicted4 = np.concatenate((predicted4, scores4['estimator'][scores4['test_score'].argmax()].predict(X_test)), axis=0)\n",
    "    y_tests4 = np.concatenate((y_tests4, y_test.to_numpy().reshape(1,-1)[0]), axis=0)\n",
    "err4 = accuracy_score(predicted4, y_tests4)"
   ]
  },
  {
   "cell_type": "code",
   "execution_count": null,
   "id": "18ff315e",
   "metadata": {},
   "outputs": [
    {
     "name": "stdout",
     "output_type": "stream",
     "text": [
      "------- Accuracy --------\n",
      "2. Accuracy BootstrapOutOfBag 0.8154926046628228\n",
      "3. Accuracy RepeatedKFold 0.8347956881423916\n",
      "4. Accuracy KFold 0.8342943093507145\n"
     ]
    }
   ],
   "source": [
    "print(\"------- Accuracy --------\")\n",
    "print(f\"2. Accuracy BootstrapOutOfBag {err2}\")\n",
    "print(f\"3. Accuracy RepeatedKFold {err3}\")\n",
    "print(f\"4. Accuracy KFold {err4}\")"
   ]
  },
  {
   "cell_type": "code",
   "execution_count": null,
   "id": "c3111860",
   "metadata": {},
   "outputs": [
    {
     "data": {
      "image/png": "[encoded data removed]",
      "text/plain": [
       "<Figure size 720x720 with 1 Axes>"
      ]
     },
     "metadata": {},
     "output_type": "display_data"
    }
   ],
   "source": [
    "plot_classification_report(y_tests3, predicted3)"
   ]
  },
  {
   "cell_type": "markdown",
   "id": "2f6561be",
   "metadata": {},
   "source": [
    "### RUSBoostClassifier"
   ]
  },
  {
   "cell_type": "code",
   "execution_count": null,
   "id": "29f90fce",
   "metadata": {},
   "outputs": [],
   "source": [
    "from imblearn.ensemble import RUSBoostClassifier\n",
    "from sklearn.metrics import balanced_accuracy_score\n",
    "from sklearn.metrics import accuracy_score"
   ]
  },
  {
   "cell_type": "code",
   "execution_count": null,
   "id": "bbf2f269",
   "metadata": {},
   "outputs": [
    {
     "name": "stderr",
     "output_type": "stream",
     "text": [
      "C:\\Users\\Patryk\\AppData\\Local\\Programs\\Python\\Python39\\lib\\site-packages\\sklearn\\utils\\validation.py:985: DataConversionWarning: A column-vector y was passed when a 1d array was expected. Please change the shape of y to (n_samples, ), for example using ravel().\n",
      "  y = column_or_1d(y, warn=True)\n",
      "C:\\Users\\Patryk\\AppData\\Local\\Programs\\Python\\Python39\\lib\\site-packages\\sklearn\\base.py:441: UserWarning: X does not have valid feature names, but RUSBoostClassifier was fitted with feature names\n",
      "  warnings.warn(\n",
      "C:\\Users\\Patryk\\AppData\\Local\\Programs\\Python\\Python39\\lib\\site-packages\\sklearn\\utils\\validation.py:985: DataConversionWarning: A column-vector y was passed when a 1d array was expected. Please change the shape of y to (n_samples, ), for example using ravel().\n",
      "  y = column_or_1d(y, warn=True)\n",
      "C:\\Users\\Patryk\\AppData\\Local\\Programs\\Python\\Python39\\lib\\site-packages\\sklearn\\base.py:441: UserWarning: X does not have valid feature names, but RUSBoostClassifier was fitted with feature names\n",
      "  warnings.warn(\n",
      "C:\\Users\\Patryk\\AppData\\Local\\Programs\\Python\\Python39\\lib\\site-packages\\sklearn\\utils\\validation.py:985: DataConversionWarning: A column-vector y was passed when a 1d array was expected. Please change the shape of y to (n_samples, ), for example using ravel().\n",
      "  y = column_or_1d(y, warn=True)\n",
      "C:\\Users\\Patryk\\AppData\\Local\\Programs\\Python\\Python39\\lib\\site-packages\\sklearn\\base.py:441: UserWarning: X does not have valid feature names, but RUSBoostClassifier was fitted with feature names\n",
      "  warnings.warn(\n",
      "C:\\Users\\Patryk\\AppData\\Local\\Programs\\Python\\Python39\\lib\\site-packages\\sklearn\\utils\\validation.py:985: DataConversionWarning: A column-vector y was passed when a 1d array was expected. Please change the shape of y to (n_samples, ), for example using ravel().\n",
      "  y = column_or_1d(y, warn=True)\n",
      "C:\\Users\\Patryk\\AppData\\Local\\Programs\\Python\\Python39\\lib\\site-packages\\sklearn\\base.py:441: UserWarning: X does not have valid feature names, but RUSBoostClassifier was fitted with feature names\n",
      "  warnings.warn(\n",
      "C:\\Users\\Patryk\\AppData\\Local\\Programs\\Python\\Python39\\lib\\site-packages\\sklearn\\utils\\validation.py:985: DataConversionWarning: A column-vector y was passed when a 1d array was expected. Please change the shape of y to (n_samples, ), for example using ravel().\n",
      "  y = column_or_1d(y, warn=True)\n",
      "C:\\Users\\Patryk\\AppData\\Local\\Programs\\Python\\Python39\\lib\\site-packages\\sklearn\\base.py:441: UserWarning: X does not have valid feature names, but RUSBoostClassifier was fitted with feature names\n",
      "  warnings.warn(\n",
      "C:\\Users\\Patryk\\AppData\\Local\\Programs\\Python\\Python39\\lib\\site-packages\\sklearn\\utils\\validation.py:985: DataConversionWarning: A column-vector y was passed when a 1d array was expected. Please change the shape of y to (n_samples, ), for example using ravel().\n",
      "  y = column_or_1d(y, warn=True)\n"
     ]
    },
    {
     "name": "stdout",
     "output_type": "stream",
     "text": [
      "Resampled accuracy: 0.64\n",
      "Resampled balanced accuracy: 0.69\n"
     ]
    },
    {
     "name": "stderr",
     "output_type": "stream",
     "text": [
      "C:\\Users\\Patryk\\AppData\\Local\\Programs\\Python\\Python39\\lib\\site-packages\\sklearn\\base.py:441: UserWarning: X does not have valid feature names, but RUSBoostClassifier was fitted with feature names\n",
      "  warnings.warn(\n",
      "C:\\Users\\Patryk\\AppData\\Local\\Programs\\Python\\Python39\\lib\\site-packages\\sklearn\\utils\\validation.py:985: DataConversionWarning: A column-vector y was passed when a 1d array was expected. Please change the shape of y to (n_samples, ), for example using ravel().\n",
      "  y = column_or_1d(y, warn=True)\n",
      "C:\\Users\\Patryk\\AppData\\Local\\Programs\\Python\\Python39\\lib\\site-packages\\sklearn\\base.py:441: UserWarning: X does not have valid feature names, but RUSBoostClassifier was fitted with feature names\n",
      "  warnings.warn(\n",
      "C:\\Users\\Patryk\\AppData\\Local\\Programs\\Python\\Python39\\lib\\site-packages\\sklearn\\utils\\validation.py:985: DataConversionWarning: A column-vector y was passed when a 1d array was expected. Please change the shape of y to (n_samples, ), for example using ravel().\n",
      "  y = column_or_1d(y, warn=True)\n",
      "C:\\Users\\Patryk\\AppData\\Local\\Programs\\Python\\Python39\\lib\\site-packages\\sklearn\\base.py:441: UserWarning: X does not have valid feature names, but RUSBoostClassifier was fitted with feature names\n",
      "  warnings.warn(\n"
     ]
    }
   ],
   "source": [
    "predicted = np.array([])\n",
    "y_tests = np.array([])\n",
    "for value in data_lines.values():\n",
    "    X_train, X_test, y_train, y_test = value\n",
    "    rusboost = RUSBoostClassifier(n_estimators=50, base_estimator = DecisionTreeClassifier(max_depth = 1000, random_state = 1), algorithm='SAMME', random_state=1)\n",
    "    rusboost.fit(X_train, y_train)\n",
    "\n",
    "    predicted = np.concatenate((predicted, rusboost.predict(X_test)), axis=0)\n",
    "    y_tests = np.concatenate((y_tests, y_test.to_numpy().reshape(1,-1)[0]), axis=0)\n",
    "print(\"Resampled accuracy: {:.2f}\".format(accuracy_score(y_tests, predicted)))\n",
    "print(\"Resampled balanced accuracy: {:.2f}\".format(balanced_accuracy_score(y_tests, predicted)))"
   ]
  },
  {
   "cell_type": "code",
   "execution_count": null,
   "id": "c1ac2f05",
   "metadata": {},
   "outputs": [
    {
     "data": {
      "image/png": "[encoded data removed]",
      "text/plain": [
       "<Figure size 720x720 with 1 Axes>"
      ]
     },
     "metadata": {},
     "output_type": "display_data"
    }
   ],
   "source": [
    "plot_classification_report(y_tests, predicted)"
   ]
  },
  {
   "cell_type": "code",
   "execution_count": null,
   "id": "576865f3",
   "metadata": {},
   "outputs": [
    {
     "name": "stderr",
     "output_type": "stream",
     "text": [
      "C:\\Users\\Patryk\\AppData\\Local\\Programs\\Python\\Python39\\lib\\site-packages\\sklearn\\utils\\validation.py:985: DataConversionWarning: A column-vector y was passed when a 1d array was expected. Please change the shape of y to (n_samples, ), for example using ravel().\n",
      "  y = column_or_1d(y, warn=True)\n",
      "C:\\Users\\Patryk\\AppData\\Local\\Programs\\Python\\Python39\\lib\\site-packages\\sklearn\\base.py:441: UserWarning: X does not have valid feature names, but RUSBoostClassifier was fitted with feature names\n",
      "  warnings.warn(\n",
      "C:\\Users\\Patryk\\AppData\\Local\\Programs\\Python\\Python39\\lib\\site-packages\\sklearn\\utils\\validation.py:985: DataConversionWarning: A column-vector y was passed when a 1d array was expected. Please change the shape of y to (n_samples, ), for example using ravel().\n",
      "  y = column_or_1d(y, warn=True)\n",
      "C:\\Users\\Patryk\\AppData\\Local\\Programs\\Python\\Python39\\lib\\site-packages\\sklearn\\base.py:441: UserWarning: X does not have valid feature names, but RUSBoostClassifier was fitted with feature names\n",
      "  warnings.warn(\n",
      "C:\\Users\\Patryk\\AppData\\Local\\Programs\\Python\\Python39\\lib\\site-packages\\sklearn\\utils\\validation.py:985: DataConversionWarning: A column-vector y was passed when a 1d array was expected. Please change the shape of y to (n_samples, ), for example using ravel().\n",
      "  y = column_or_1d(y, warn=True)\n",
      "C:\\Users\\Patryk\\AppData\\Local\\Programs\\Python\\Python39\\lib\\site-packages\\sklearn\\base.py:441: UserWarning: X does not have valid feature names, but RUSBoostClassifier was fitted with feature names\n",
      "  warnings.warn(\n",
      "C:\\Users\\Patryk\\AppData\\Local\\Programs\\Python\\Python39\\lib\\site-packages\\sklearn\\utils\\validation.py:985: DataConversionWarning: A column-vector y was passed when a 1d array was expected. Please change the shape of y to (n_samples, ), for example using ravel().\n",
      "  y = column_or_1d(y, warn=True)\n",
      "C:\\Users\\Patryk\\AppData\\Local\\Programs\\Python\\Python39\\lib\\site-packages\\sklearn\\base.py:441: UserWarning: X does not have valid feature names, but RUSBoostClassifier was fitted with feature names\n",
      "  warnings.warn(\n",
      "C:\\Users\\Patryk\\AppData\\Local\\Programs\\Python\\Python39\\lib\\site-packages\\sklearn\\utils\\validation.py:985: DataConversionWarning: A column-vector y was passed when a 1d array was expected. Please change the shape of y to (n_samples, ), for example using ravel().\n",
      "  y = column_or_1d(y, warn=True)\n",
      "C:\\Users\\Patryk\\AppData\\Local\\Programs\\Python\\Python39\\lib\\site-packages\\sklearn\\base.py:441: UserWarning: X does not have valid feature names, but RUSBoostClassifier was fitted with feature names\n",
      "  warnings.warn(\n",
      "C:\\Users\\Patryk\\AppData\\Local\\Programs\\Python\\Python39\\lib\\site-packages\\sklearn\\utils\\validation.py:985: DataConversionWarning: A column-vector y was passed when a 1d array was expected. Please change the shape of y to (n_samples, ), for example using ravel().\n",
      "  y = column_or_1d(y, warn=True)\n",
      "C:\\Users\\Patryk\\AppData\\Local\\Programs\\Python\\Python39\\lib\\site-packages\\sklearn\\base.py:441: UserWarning: X does not have valid feature names, but RUSBoostClassifier was fitted with feature names\n",
      "  warnings.warn(\n",
      "C:\\Users\\Patryk\\AppData\\Local\\Programs\\Python\\Python39\\lib\\site-packages\\sklearn\\utils\\validation.py:985: DataConversionWarning: A column-vector y was passed when a 1d array was expected. Please change the shape of y to (n_samples, ), for example using ravel().\n",
      "  y = column_or_1d(y, warn=True)\n",
      "C:\\Users\\Patryk\\AppData\\Local\\Programs\\Python\\Python39\\lib\\site-packages\\sklearn\\base.py:441: UserWarning: X does not have valid feature names, but RUSBoostClassifier was fitted with feature names\n",
      "  warnings.warn(\n",
      "C:\\Users\\Patryk\\AppData\\Local\\Programs\\Python\\Python39\\lib\\site-packages\\sklearn\\utils\\validation.py:985: DataConversionWarning: A column-vector y was passed when a 1d array was expected. Please change the shape of y to (n_samples, ), for example using ravel().\n",
      "  y = column_or_1d(y, warn=True)\n"
     ]
    },
    {
     "name": "stdout",
     "output_type": "stream",
     "text": [
      "Resampled accuracy: 0.65\n",
      "Resampled balanced accuracy: 0.71\n"
     ]
    },
    {
     "name": "stderr",
     "output_type": "stream",
     "text": [
      "C:\\Users\\Patryk\\AppData\\Local\\Programs\\Python\\Python39\\lib\\site-packages\\sklearn\\base.py:441: UserWarning: X does not have valid feature names, but RUSBoostClassifier was fitted with feature names\n",
      "  warnings.warn(\n"
     ]
    }
   ],
   "source": [
    "predicted = np.array([])\n",
    "y_tests = np.array([])\n",
    "for value in data_lines.values():\n",
    "    X_train, X_test, y_train, y_test = value\n",
    "    rusboost = RUSBoostClassifier(n_estimators=50, base_estimator = RandomForestClassifier(max_depth = 1000, random_state = 1), algorithm='SAMME', random_state=1)\n",
    "    rusboost.fit(X_train, y_train)\n",
    "\n",
    "    predicted = np.concatenate((predicted, rusboost.predict(X_test)), axis=0)\n",
    "    y_tests = np.concatenate((y_tests, y_test.to_numpy().reshape(1,-1)[0]), axis=0)\n",
    "print(\"Resampled accuracy: {:.2f}\".format(accuracy_score(y_tests, predicted)))\n",
    "print(\"Resampled balanced accuracy: {:.2f}\".format(balanced_accuracy_score(y_tests, predicted)))"
   ]
  },
  {
   "cell_type": "code",
   "execution_count": null,
   "id": "ee87b692",
   "metadata": {},
   "outputs": [
    {
     "data": {
      "image/png": "[encoded data removed]",
      "text/plain": [
       "<Figure size 720x720 with 1 Axes>"
      ]
     },
     "metadata": {},
     "output_type": "display_data"
    }
   ],
   "source": [
    "plot_classification_report(y_tests, predicted)"
   ]
  },
  {
   "cell_type": "markdown",
   "id": "e849e94a",
   "metadata": {},
   "source": [
    "## Regresja"
   ]
  },
  {
   "cell_type": "code",
   "execution_count": null,
   "id": "fba855da",
   "metadata": {},
   "outputs": [],
   "source": [
    "data_lines = dict()\n",
    "for key, value in lines.items():\n",
    "    data_lines[key] = get_train_and_test_for_lines(value, X_columns = features, y_columns = regress_labels)"
   ]
  },
  {
   "cell_type": "markdown",
   "id": "3586ea18",
   "metadata": {},
   "source": [
    "### DecisionTreeRegressor"
   ]
  },
  {
   "cell_type": "code",
   "execution_count": null,
   "id": "60327967",
   "metadata": {},
   "outputs": [],
   "source": [
    "from sklearn.tree import DecisionTreeRegressor"
   ]
  },
  {
   "cell_type": "code",
   "execution_count": null,
   "id": "baa27b46",
   "metadata": {},
   "outputs": [],
   "source": [
    "model = DecisionTreeRegressor(max_depth = 1000, random_state = 1)"
   ]
  },
  {
   "cell_type": "code",
   "execution_count": null,
   "id": "4a082530",
   "metadata": {},
   "outputs": [],
   "source": [
    "#Bootstrap Out of Bag\n",
    "predicted2 = np.array([])\n",
    "y_tests2 = np.array([])\n",
    "for value in data_lines.values():\n",
    "    X_train, X_test, y_train, y_test = value\n",
    "    scores2 = cross_validate(model, X_train, y_train, cv = BootstrapOutOfBag(n_splits=5, random_seed=456), n_jobs = -1, return_estimator = True)\n",
    "\n",
    "    predicted2 = np.concatenate((predicted2, scores2['estimator'][scores2['test_score'].argmax()].predict(X_test)), axis=0)\n",
    "    y_tests2 = np.concatenate((y_tests2, y_test.to_numpy().reshape(1,-1)[0]), axis=0)\n",
    "err2 = abs(predicted2 - y_tests2)"
   ]
  },
  {
   "cell_type": "code",
   "execution_count": null,
   "id": "34254cd8",
   "metadata": {},
   "outputs": [],
   "source": [
    "#Repeated K-Fold\n",
    "predicted3 = np.array([])\n",
    "y_tests3 = np.array([])\n",
    "for value in data_lines.values():\n",
    "    X_train, X_test, y_train, y_test = value\n",
    "    scores3 = cross_validate(model, X_train, y_train, n_jobs = -1, cv = RepeatedKFold(n_splits = 10, n_repeats = 2), return_estimator = True)\n",
    "\n",
    "    predicted3 = np.concatenate((predicted3, scores3['estimator'][scores3['test_score'].argmax()].predict(X_test)), axis=0)\n",
    "    y_tests3 = np.concatenate((y_tests3, y_test.to_numpy().reshape(1,-1)[0]), axis=0)\n",
    "err3 = abs(predicted3 - y_tests3)"
   ]
  },
  {
   "cell_type": "code",
   "execution_count": null,
   "id": "c630b020",
   "metadata": {},
   "outputs": [],
   "source": [
    "#K-Fold\n",
    "predicted4 = np.array([])\n",
    "y_tests4 = np.array([])\n",
    "for value in data_lines.values():\n",
    "    X_train, X_test, y_train, y_test = value\n",
    "    scores4 = cross_validate(model, X_train, y_train, cv = KFold(10), n_jobs=-1, return_estimator = True)\n",
    "\n",
    "    predicted4 = np.concatenate((predicted4, scores4['estimator'][scores4['test_score'].argmax()].predict(X_test)), axis=0)\n",
    "    y_tests4 = np.concatenate((y_tests4, y_test.to_numpy().reshape(1,-1)[0]), axis=0)\n",
    "err4 = abs(predicted4 - y_tests4)"
   ]
  },
  {
   "cell_type": "code",
   "execution_count": null,
   "id": "4ad8e51d",
   "metadata": {},
   "outputs": [],
   "source": [
    "d_err = []\n",
    "d_err = pd.DataFrame({'Err':err2.reshape(-1), 'Type': 'BootOOB'})\n",
    "d_err = d_err.append(pd.DataFrame({'Err':err3.reshape(-1), 'Type': 'Repeated KFold'}),ignore_index=True)\n",
    "d_err = d_err.append(pd.DataFrame({'Err':err4.reshape(-1), 'Type': 'KFold'}),ignore_index=True)"
   ]
  },
  {
   "cell_type": "code",
   "execution_count": null,
   "id": "c95fddae",
   "metadata": {},
   "outputs": [
    {
     "data": {
      "image/png": "[encoded data removed]",
      "text/plain": [
       "<Figure size 1080x720 with 1 Axes>"
      ]
     },
     "metadata": {},
     "output_type": "display_data"
    }
   ],
   "source": [
    "plt.figure(figsize = (15,10))\n",
    "g = sns.ecdfplot(d_err, x = \"Err\", hue = 'Type')\n",
    "#g.set(xlim = (0, 10))"
   ]
  },
  {
   "cell_type": "code",
   "execution_count": null,
   "id": "a46aa837",
   "metadata": {},
   "outputs": [
    {
     "data": {
      "text/html": [
       "<div>\n",
       "<style scoped>\n",
       "    .dataframe tbody tr th:only-of-type {\n",
       "        vertical-align: middle;\n",
       "    }\n",
       "\n",
       "    .dataframe tbody tr th {\n",
       "        vertical-align: top;\n",
       "    }\n",
       "\n",
       "    .dataframe thead tr th {\n",
       "        text-align: left;\n",
       "    }\n",
       "\n",
       "    .dataframe thead tr:last-of-type th {\n",
       "        text-align: right;\n",
       "    }\n",
       "</style>\n",
       "<table border=\"1\" class=\"dataframe\">\n",
       "  <thead>\n",
       "    <tr>\n",
       "      <th></th>\n",
       "      <th colspan=\"8\" halign=\"left\">Err</th>\n",
       "    </tr>\n",
       "    <tr>\n",
       "      <th></th>\n",
       "      <th>count</th>\n",
       "      <th>mean</th>\n",
       "      <th>std</th>\n",
       "      <th>min</th>\n",
       "      <th>25%</th>\n",
       "      <th>50%</th>\n",
       "      <th>75%</th>\n",
       "      <th>max</th>\n",
       "    </tr>\n",
       "    <tr>\n",
       "      <th>Type</th>\n",
       "      <th></th>\n",
       "      <th></th>\n",
       "      <th></th>\n",
       "      <th></th>\n",
       "      <th></th>\n",
       "      <th></th>\n",
       "      <th></th>\n",
       "      <th></th>\n",
       "    </tr>\n",
       "  </thead>\n",
       "  <tbody>\n",
       "    <tr>\n",
       "      <th>BootOOB</th>\n",
       "      <td>3989.0</td>\n",
       "      <td>4.48</td>\n",
       "      <td>5.44</td>\n",
       "      <td>0.0</td>\n",
       "      <td>1.0</td>\n",
       "      <td>3.0</td>\n",
       "      <td>6.0</td>\n",
       "      <td>48.0</td>\n",
       "    </tr>\n",
       "    <tr>\n",
       "      <th>KFold</th>\n",
       "      <td>3989.0</td>\n",
       "      <td>4.31</td>\n",
       "      <td>5.52</td>\n",
       "      <td>0.0</td>\n",
       "      <td>1.0</td>\n",
       "      <td>3.0</td>\n",
       "      <td>6.0</td>\n",
       "      <td>72.0</td>\n",
       "    </tr>\n",
       "    <tr>\n",
       "      <th>Repeated KFold</th>\n",
       "      <td>3989.0</td>\n",
       "      <td>4.30</td>\n",
       "      <td>5.64</td>\n",
       "      <td>0.0</td>\n",
       "      <td>1.0</td>\n",
       "      <td>2.0</td>\n",
       "      <td>6.0</td>\n",
       "      <td>72.0</td>\n",
       "    </tr>\n",
       "  </tbody>\n",
       "</table>\n",
       "</div>"
      ],
      "text/plain": [
       "                   Err                                      \n",
       "                 count  mean   std  min  25%  50%  75%   max\n",
       "Type                                                        \n",
       "BootOOB         3989.0  4.48  5.44  0.0  1.0  3.0  6.0  48.0\n",
       "KFold           3989.0  4.31  5.52  0.0  1.0  3.0  6.0  72.0\n",
       "Repeated KFold  3989.0  4.30  5.64  0.0  1.0  2.0  6.0  72.0"
      ]
     },
     "execution_count": 146,
     "metadata": {},
     "output_type": "execute_result"
    }
   ],
   "source": [
    "stats = d_err.groupby('Type').describe().round(2)\n",
    "stats"
   ]
  },
  {
   "cell_type": "code",
   "execution_count": null,
   "id": "b12904b2",
   "metadata": {},
   "outputs": [
    {
     "name": "stdout",
     "output_type": "stream",
     "text": [
      "Accuracy: 0.78541\n"
     ]
    },
    {
     "data": {
      "image/png": "[encoded data removed]",
      "text/plain": [
       "<Figure size 720x720 with 1 Axes>"
      ]
     },
     "metadata": {},
     "output_type": "display_data"
    }
   ],
   "source": [
    "accuracy_of_regression(y_tests4, np.floor(predicted4), clustering_dict)"
   ]
  },
  {
   "cell_type": "markdown",
   "id": "09c65f71",
   "metadata": {},
   "source": [
    "### RandomForestRegressor"
   ]
  },
  {
   "cell_type": "code",
   "execution_count": null,
   "id": "3b66e58f",
   "metadata": {},
   "outputs": [],
   "source": [
    "from sklearn.ensemble import RandomForestRegressor"
   ]
  },
  {
   "cell_type": "code",
   "execution_count": null,
   "id": "e83cea25",
   "metadata": {},
   "outputs": [],
   "source": [
    "model = RandomForestRegressor(max_depth = 10, random_state = 1)"
   ]
  },
  {
   "cell_type": "code",
   "execution_count": null,
   "id": "54f9abcd",
   "metadata": {},
   "outputs": [],
   "source": [
    "#Bootstrap Out of Bag\n",
    "predicted2 = np.array([])\n",
    "y_tests2 = np.array([])\n",
    "for value in data_lines.values():\n",
    "    X_train, X_test, y_train, y_test = value\n",
    "    scores2 = cross_validate(model, X_train, y_train, cv = BootstrapOutOfBag(n_splits=5, random_seed=456), n_jobs = -1, return_estimator = True)\n",
    "\n",
    "    predicted2 = np.concatenate((predicted2, scores2['estimator'][scores2['test_score'].argmax()].predict(X_test)), axis=0)\n",
    "    y_tests2 = np.concatenate((y_tests2, y_test.to_numpy().reshape(1,-1)[0]), axis=0)\n",
    "err2 = abs(predicted2 - y_tests2)"
   ]
  },
  {
   "cell_type": "code",
   "execution_count": null,
   "id": "99519a4c",
   "metadata": {},
   "outputs": [],
   "source": [
    "#Repeated K-Fold\n",
    "predicted3 = np.array([])\n",
    "y_tests3 = np.array([])\n",
    "for value in data_lines.values():\n",
    "    X_train, X_test, y_train, y_test = value\n",
    "    scores3 = cross_validate(model, X_train, y_train, n_jobs = -1, cv = RepeatedKFold(n_splits = 10, n_repeats = 2), return_estimator = True)\n",
    "\n",
    "    predicted3 = np.concatenate((predicted3, scores3['estimator'][scores3['test_score'].argmax()].predict(X_test)), axis=0)\n",
    "    y_tests3 = np.concatenate((y_tests3, y_test.to_numpy().reshape(1,-1)[0]), axis=0)\n",
    "err3 = abs(predicted3 - y_tests3)"
   ]
  },
  {
   "cell_type": "code",
   "execution_count": null,
   "id": "d9eeb07d",
   "metadata": {},
   "outputs": [],
   "source": [
    "#K-Fold\n",
    "predicted4 = np.array([])\n",
    "y_tests4 = np.array([])\n",
    "for value in data_lines.values():\n",
    "    X_train, X_test, y_train, y_test = value\n",
    "    scores4 = cross_validate(model, X_train, y_train, cv = KFold(10), n_jobs=-1, return_estimator = True)\n",
    "\n",
    "    predicted4 = np.concatenate((predicted4, scores4['estimator'][scores4['test_score'].argmax()].predict(X_test)), axis=0)\n",
    "    y_tests4 = np.concatenate((y_tests4, y_test.to_numpy().reshape(1,-1)[0]), axis=0)\n",
    "err4 = abs(predicted4 - y_tests4)"
   ]
  },
  {
   "cell_type": "code",
   "execution_count": null,
   "id": "cb3c3d5a",
   "metadata": {},
   "outputs": [],
   "source": [
    "d_err = []\n",
    "d_err = pd.DataFrame({'Err':err2.reshape(-1), 'Type': 'BootOOB'})\n",
    "d_err = d_err.append(pd.DataFrame({'Err':err3.reshape(-1), 'Type': 'Repeated KFold'}),ignore_index=True)\n",
    "d_err = d_err.append(pd.DataFrame({'Err':err4.reshape(-1), 'Type': 'KFold'}),ignore_index=True)"
   ]
  },
  {
   "cell_type": "code",
   "execution_count": null,
   "id": "257fc91c",
   "metadata": {},
   "outputs": [
    {
     "data": {
      "image/png": "[encoded data removed]",
      "text/plain": [
       "<Figure size 1080x720 with 1 Axes>"
      ]
     },
     "metadata": {},
     "output_type": "display_data"
    }
   ],
   "source": [
    "plt.figure(figsize = (15,10))\n",
    "g = sns.ecdfplot(d_err, x = \"Err\", hue = 'Type')\n",
    "#g.set(xlim = (0, 10))"
   ]
  },
  {
   "cell_type": "code",
   "execution_count": null,
   "id": "c68b3829",
   "metadata": {},
   "outputs": [
    {
     "data": {
      "text/html": [
       "<div>\n",
       "<style scoped>\n",
       "    .dataframe tbody tr th:only-of-type {\n",
       "        vertical-align: middle;\n",
       "    }\n",
       "\n",
       "    .dataframe tbody tr th {\n",
       "        vertical-align: top;\n",
       "    }\n",
       "\n",
       "    .dataframe thead tr th {\n",
       "        text-align: left;\n",
       "    }\n",
       "\n",
       "    .dataframe thead tr:last-of-type th {\n",
       "        text-align: right;\n",
       "    }\n",
       "</style>\n",
       "<table border=\"1\" class=\"dataframe\">\n",
       "  <thead>\n",
       "    <tr>\n",
       "      <th></th>\n",
       "      <th colspan=\"8\" halign=\"left\">Err</th>\n",
       "    </tr>\n",
       "    <tr>\n",
       "      <th></th>\n",
       "      <th>count</th>\n",
       "      <th>mean</th>\n",
       "      <th>std</th>\n",
       "      <th>min</th>\n",
       "      <th>25%</th>\n",
       "      <th>50%</th>\n",
       "      <th>75%</th>\n",
       "      <th>max</th>\n",
       "    </tr>\n",
       "    <tr>\n",
       "      <th>Type</th>\n",
       "      <th></th>\n",
       "      <th></th>\n",
       "      <th></th>\n",
       "      <th></th>\n",
       "      <th></th>\n",
       "      <th></th>\n",
       "      <th></th>\n",
       "      <th></th>\n",
       "    </tr>\n",
       "  </thead>\n",
       "  <tbody>\n",
       "    <tr>\n",
       "      <th>BootOOB</th>\n",
       "      <td>3989.0</td>\n",
       "      <td>4.22</td>\n",
       "      <td>4.38</td>\n",
       "      <td>0.00</td>\n",
       "      <td>1.28</td>\n",
       "      <td>2.99</td>\n",
       "      <td>5.71</td>\n",
       "      <td>46.50</td>\n",
       "    </tr>\n",
       "    <tr>\n",
       "      <th>KFold</th>\n",
       "      <td>3989.0</td>\n",
       "      <td>4.11</td>\n",
       "      <td>4.42</td>\n",
       "      <td>0.00</td>\n",
       "      <td>1.21</td>\n",
       "      <td>2.85</td>\n",
       "      <td>5.52</td>\n",
       "      <td>45.38</td>\n",
       "    </tr>\n",
       "    <tr>\n",
       "      <th>Repeated KFold</th>\n",
       "      <td>3989.0</td>\n",
       "      <td>4.14</td>\n",
       "      <td>4.40</td>\n",
       "      <td>0.01</td>\n",
       "      <td>1.24</td>\n",
       "      <td>2.84</td>\n",
       "      <td>5.50</td>\n",
       "      <td>46.26</td>\n",
       "    </tr>\n",
       "  </tbody>\n",
       "</table>\n",
       "</div>"
      ],
      "text/plain": [
       "                   Err                                           \n",
       "                 count  mean   std   min   25%   50%   75%    max\n",
       "Type                                                             \n",
       "BootOOB         3989.0  4.22  4.38  0.00  1.28  2.99  5.71  46.50\n",
       "KFold           3989.0  4.11  4.42  0.00  1.21  2.85  5.52  45.38\n",
       "Repeated KFold  3989.0  4.14  4.40  0.01  1.24  2.84  5.50  46.26"
      ]
     },
     "execution_count": 20,
     "metadata": {},
     "output_type": "execute_result"
    }
   ],
   "source": [
    "stats = d_err.groupby('Type').describe().round(2)\n",
    "stats"
   ]
  },
  {
   "cell_type": "code",
   "execution_count": null,
   "id": "593f7914",
   "metadata": {},
   "outputs": [
    {
     "name": "stdout",
     "output_type": "stream",
     "text": [
      "Accuracy: 0.78015\n"
     ]
    },
    {
     "data": {
      "image/png": "[encoded data removed]",
      "text/plain": [
       "<Figure size 720x720 with 1 Axes>"
      ]
     },
     "metadata": {},
     "output_type": "display_data"
    }
   ],
   "source": [
    "accuracy_of_regression(y_tests3, np.floor(predicted3), clustering_dict)"
   ]
  }
 ],
 "metadata": {
  "interpreter": {
   "hash": "082e9a3bcad0a290d0001e938aa60b99250c6c2ef33a923c00b70f9826caf4b7"
  },
  "kernelspec": {
   "display_name": "Python 3.8.7 64-bit ('3.8')",
   "name": "python3"
  },
  "language_info": {
   "codemirror_mode": {
    "name": "ipython",
    "version": 3
   },
   "file_extension": ".py",
   "mimetype": "text/x-python",
   "name": "python",
   "nbconvert_exporter": "python",
   "pygments_lexer": "ipython3",
   "version": "3.9.7"
  },
  "metadata": {
   "interpreter": {
    "hash": "082e9a3bcad0a290d0001e938aa60b99250c6c2ef33a923c00b70f9826caf4b7"
   }
  }
 },
 "nbformat": 4,
 "nbformat_minor": 5
}
