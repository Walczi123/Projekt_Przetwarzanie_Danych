{
 "cells": [
  {
   "cell_type": "markdown",
   "id": "363366a1",
   "metadata": {},
   "source": [
    "# 1. Imports"
   ]
  },
  {
   "cell_type": "code",
   "execution_count": 212,
   "id": "50eb2181",
   "metadata": {},
   "outputs": [],
   "source": [
    "import locale\n",
    "\n",
    "import pandas as pd\n",
    "import numpy as np\n",
    "from sklearn.cluster import KMeans\n",
    "\n",
    "from matplotlib import pyplot as plt\n",
    "import seaborn as sns\n",
    "\n",
    "from datetime import datetime\n",
    "\n",
    "from math import floor\n",
    "\n"
   ]
  },
  {
   "cell_type": "markdown",
   "id": "d4244c35",
   "metadata": {},
   "source": [
    "# 2. Settings"
   ]
  },
  {
   "cell_type": "code",
   "execution_count": 213,
   "id": "370e2737",
   "metadata": {},
   "outputs": [],
   "source": [
    "locale.setlocale(locale.LC_TIME, 'en_US.UTF-8')\n",
    "plt.style.use('ggplot')\n",
    "RANDOM_SEED = 0"
   ]
  },
  {
   "cell_type": "markdown",
   "id": "79718354",
   "metadata": {},
   "source": [
    "# 3. Loading Data"
   ]
  },
  {
   "cell_type": "code",
   "execution_count": 214,
   "id": "cc7331bc",
   "metadata": {},
   "outputs": [],
   "source": [
    "def read_transport_data(filename):\n",
    "    types_mapping = {\n",
    "        'Numer / oznaczenie linii' : str,                                     \n",
    "        'Wariant linii' : str,                                              \n",
    "        'Kurs' : str,                                                        \n",
    "        'Oznaczenie brygady' : str,\n",
    "        'Czas rzeczywisty odjazdu wg. rozkładu' : str,                              \n",
    "        'Czas odjazdu z przystanku' : str,\n",
    "    }\n",
    "\n",
    "    df = pd.read_csv(filename, sep=';', dtype=types_mapping)\n",
    "    df = df.drop(columns='Data')\n",
    "    \n",
    "    names_mapping = {\n",
    "        'Numer / oznaczenie linii' : 'Nr linii',                                     \n",
    "        # 'Wariant linii'                                                    \n",
    "        # 'Kurs'                                                                \n",
    "        # 'Oznaczenie brygady'                                                  \n",
    "        # 'Numer taborowy'                                                     \n",
    "        # 'Nazwa przystanku'                                                    \n",
    "        # 'Numer przystanku'                                                   \n",
    "        'Czas rzeczywisty odjazdu wg. rozkładu' : 'Rzeczywisty czas odjazdu',                              \n",
    "        'Czas odjazdu z przystanku' : 'Rozkładowy czas odjazdu',                                      \n",
    "        'Liczba pasażerów w pojeździe przed przystankiem (dane skorygowane)' : 'Liczba pasaz. przed',  \n",
    "        'Liczba osób które wysiadły (dane skorygowane)' : 'Liczba wysiadających pasaz.',                       \n",
    "        'Liczba osób które wsiadły (dane skorygowane)' : 'Liczba wsiadajacych pasaz.',                     \n",
    "        'Liczba pasażerów w pojeździe po odjeździe (dane skorygowane)' : 'Liczba pasaz. po odjezdzie'\n",
    "    }\n",
    "    df.rename(columns=names_mapping, inplace=True)\n",
    "\n",
    "    \n",
    "\n",
    "    return df"
   ]
  },
  {
   "cell_type": "code",
   "execution_count": 215,
   "id": "0223bcf6",
   "metadata": {},
   "outputs": [],
   "source": [
    "df = read_transport_data('./data/SZP-2021-09-03.csv')"
   ]
  },
  {
   "cell_type": "markdown",
   "id": "7246902e",
   "metadata": {},
   "source": [
    "# 4. Inspecting Data"
   ]
  },
  {
   "cell_type": "code",
   "execution_count": 216,
   "id": "63847ac0",
   "metadata": {},
   "outputs": [
    {
     "name": "stdout",
     "output_type": "stream",
     "text": [
      "<class 'pandas.core.frame.DataFrame'>\n",
      "RangeIndex: 177546 entries, 0 to 177545\n",
      "Data columns (total 13 columns):\n",
      " #   Column                       Non-Null Count   Dtype \n",
      "---  ------                       --------------   ----- \n",
      " 0   Nr linii                     177546 non-null  object\n",
      " 1   Wariant linii                177546 non-null  object\n",
      " 2   Kurs                         177546 non-null  object\n",
      " 3   Oznaczenie brygady           177546 non-null  object\n",
      " 4   Numer taborowy               177546 non-null  int64 \n",
      " 5   Nazwa przystanku             177546 non-null  object\n",
      " 6   Numer przystanku             177546 non-null  int64 \n",
      " 7   Rzeczywisty czas odjazdu     172273 non-null  object\n",
      " 8   Rozkładowy czas odjazdu      177546 non-null  object\n",
      " 9   Liczba pasaz. przed          177546 non-null  int64 \n",
      " 10  Liczba wysiadających pasaz.  177546 non-null  int64 \n",
      " 11  Liczba wsiadajacych pasaz.   177546 non-null  int64 \n",
      " 12  Liczba pasaz. po odjezdzie   177546 non-null  int64 \n",
      "dtypes: int64(6), object(7)\n",
      "memory usage: 17.6+ MB\n"
     ]
    }
   ],
   "source": [
    "df.info()"
   ]
  },
  {
   "cell_type": "code",
   "execution_count": 217,
   "id": "68c69d5f",
   "metadata": {},
   "outputs": [
    {
     "data": {
      "text/html": [
       "<div>\n",
       "<style scoped>\n",
       "    .dataframe tbody tr th:only-of-type {\n",
       "        vertical-align: middle;\n",
       "    }\n",
       "\n",
       "    .dataframe tbody tr th {\n",
       "        vertical-align: top;\n",
       "    }\n",
       "\n",
       "    .dataframe thead th {\n",
       "        text-align: right;\n",
       "    }\n",
       "</style>\n",
       "<table border=\"1\" class=\"dataframe\">\n",
       "  <thead>\n",
       "    <tr style=\"text-align: right;\">\n",
       "      <th></th>\n",
       "      <th>Nr linii</th>\n",
       "      <th>Wariant linii</th>\n",
       "      <th>Kurs</th>\n",
       "      <th>Oznaczenie brygady</th>\n",
       "      <th>Numer taborowy</th>\n",
       "      <th>Nazwa przystanku</th>\n",
       "      <th>Numer przystanku</th>\n",
       "      <th>Rzeczywisty czas odjazdu</th>\n",
       "      <th>Rozkładowy czas odjazdu</th>\n",
       "      <th>Liczba pasaz. przed</th>\n",
       "      <th>Liczba wysiadających pasaz.</th>\n",
       "      <th>Liczba wsiadajacych pasaz.</th>\n",
       "      <th>Liczba pasaz. po odjezdzie</th>\n",
       "    </tr>\n",
       "  </thead>\n",
       "  <tbody>\n",
       "    <tr>\n",
       "      <th>7772</th>\n",
       "      <td>106</td>\n",
       "      <td>TP-MLY</td>\n",
       "      <td>06:40</td>\n",
       "      <td>5</td>\n",
       "      <td>9514</td>\n",
       "      <td>Grenady</td>\n",
       "      <td>2</td>\n",
       "      <td>07:03:00</td>\n",
       "      <td>07:04</td>\n",
       "      <td>3</td>\n",
       "      <td>1</td>\n",
       "      <td>0</td>\n",
       "      <td>2</td>\n",
       "    </tr>\n",
       "    <tr>\n",
       "      <th>2671</th>\n",
       "      <td>103</td>\n",
       "      <td>TO-DWT</td>\n",
       "      <td>16:30</td>\n",
       "      <td>2</td>\n",
       "      <td>9418</td>\n",
       "      <td>gen.Maczka</td>\n",
       "      <td>4</td>\n",
       "      <td>16:53:00</td>\n",
       "      <td>16:55</td>\n",
       "      <td>9</td>\n",
       "      <td>0</td>\n",
       "      <td>0</td>\n",
       "      <td>9</td>\n",
       "    </tr>\n",
       "    <tr>\n",
       "      <th>105919</th>\n",
       "      <td>211</td>\n",
       "      <td>TP-FSO</td>\n",
       "      <td>18:03</td>\n",
       "      <td>4</td>\n",
       "      <td>9243</td>\n",
       "      <td>Strumykowa</td>\n",
       "      <td>2</td>\n",
       "      <td>18:14:00</td>\n",
       "      <td>18:17</td>\n",
       "      <td>14</td>\n",
       "      <td>1</td>\n",
       "      <td>1</td>\n",
       "      <td>14</td>\n",
       "    </tr>\n",
       "    <tr>\n",
       "      <th>104204</th>\n",
       "      <td>211</td>\n",
       "      <td>TP-BUK</td>\n",
       "      <td>06:33</td>\n",
       "      <td>2</td>\n",
       "      <td>9241</td>\n",
       "      <td>Żerań FSO</td>\n",
       "      <td>2</td>\n",
       "      <td>06:35:00</td>\n",
       "      <td>06:34</td>\n",
       "      <td>13</td>\n",
       "      <td>1</td>\n",
       "      <td>2</td>\n",
       "      <td>14</td>\n",
       "    </tr>\n",
       "    <tr>\n",
       "      <th>86785</th>\n",
       "      <td>194</td>\n",
       "      <td>TP-CMW</td>\n",
       "      <td>07:13</td>\n",
       "      <td>5</td>\n",
       "      <td>9544</td>\n",
       "      <td>PKP Ursus Płn.</td>\n",
       "      <td>4</td>\n",
       "      <td>07:30:00</td>\n",
       "      <td>07:34</td>\n",
       "      <td>16</td>\n",
       "      <td>3</td>\n",
       "      <td>2</td>\n",
       "      <td>15</td>\n",
       "    </tr>\n",
       "  </tbody>\n",
       "</table>\n",
       "</div>"
      ],
      "text/plain": [
       "       Nr linii Wariant linii   Kurs Oznaczenie brygady  Numer taborowy  \\\n",
       "7772        106        TP-MLY  06:40                  5            9514   \n",
       "2671        103        TO-DWT  16:30                  2            9418   \n",
       "105919      211        TP-FSO  18:03                  4            9243   \n",
       "104204      211        TP-BUK  06:33                  2            9241   \n",
       "86785       194        TP-CMW  07:13                  5            9544   \n",
       "\n",
       "       Nazwa przystanku  Numer przystanku Rzeczywisty czas odjazdu  \\\n",
       "7772            Grenady                 2                 07:03:00   \n",
       "2671         gen.Maczka                 4                 16:53:00   \n",
       "105919       Strumykowa                 2                 18:14:00   \n",
       "104204        Żerań FSO                 2                 06:35:00   \n",
       "86785    PKP Ursus Płn.                 4                 07:30:00   \n",
       "\n",
       "       Rozkładowy czas odjazdu  Liczba pasaz. przed  \\\n",
       "7772                     07:04                    3   \n",
       "2671                     16:55                    9   \n",
       "105919                   18:17                   14   \n",
       "104204                   06:34                   13   \n",
       "86785                    07:34                   16   \n",
       "\n",
       "        Liczba wysiadających pasaz.  Liczba wsiadajacych pasaz.  \\\n",
       "7772                              1                           0   \n",
       "2671                              0                           0   \n",
       "105919                            1                           1   \n",
       "104204                            1                           2   \n",
       "86785                             3                           2   \n",
       "\n",
       "        Liczba pasaz. po odjezdzie  \n",
       "7772                             2  \n",
       "2671                             9  \n",
       "105919                          14  \n",
       "104204                          14  \n",
       "86785                           15  "
      ]
     },
     "execution_count": 217,
     "metadata": {},
     "output_type": "execute_result"
    }
   ],
   "source": [
    "df.sample(5)"
   ]
  },
  {
   "cell_type": "code",
   "execution_count": 218,
   "id": "e1e1ef85",
   "metadata": {},
   "outputs": [
    {
     "data": {
      "text/html": [
       "<div>\n",
       "<style scoped>\n",
       "    .dataframe tbody tr th:only-of-type {\n",
       "        vertical-align: middle;\n",
       "    }\n",
       "\n",
       "    .dataframe tbody tr th {\n",
       "        vertical-align: top;\n",
       "    }\n",
       "\n",
       "    .dataframe thead th {\n",
       "        text-align: right;\n",
       "    }\n",
       "</style>\n",
       "<table border=\"1\" class=\"dataframe\">\n",
       "  <thead>\n",
       "    <tr style=\"text-align: right;\">\n",
       "      <th></th>\n",
       "      <th>Numer taborowy</th>\n",
       "      <th>Numer przystanku</th>\n",
       "      <th>Liczba pasaz. przed</th>\n",
       "      <th>Liczba wysiadających pasaz.</th>\n",
       "      <th>Liczba wsiadajacych pasaz.</th>\n",
       "      <th>Liczba pasaz. po odjezdzie</th>\n",
       "    </tr>\n",
       "  </thead>\n",
       "  <tbody>\n",
       "    <tr>\n",
       "      <th>count</th>\n",
       "      <td>177546.000000</td>\n",
       "      <td>177546.000000</td>\n",
       "      <td>177546.000000</td>\n",
       "      <td>177546.000000</td>\n",
       "      <td>177546.000000</td>\n",
       "      <td>177546.000000</td>\n",
       "    </tr>\n",
       "    <tr>\n",
       "      <th>mean</th>\n",
       "      <td>9513.375953</td>\n",
       "      <td>3.437903</td>\n",
       "      <td>12.060711</td>\n",
       "      <td>1.560435</td>\n",
       "      <td>1.570534</td>\n",
       "      <td>12.070810</td>\n",
       "    </tr>\n",
       "    <tr>\n",
       "      <th>std</th>\n",
       "      <td>265.044802</td>\n",
       "      <td>7.857952</td>\n",
       "      <td>12.341741</td>\n",
       "      <td>3.136487</td>\n",
       "      <td>3.192504</td>\n",
       "      <td>12.335713</td>\n",
       "    </tr>\n",
       "    <tr>\n",
       "      <th>min</th>\n",
       "      <td>9061.000000</td>\n",
       "      <td>1.000000</td>\n",
       "      <td>-3.000000</td>\n",
       "      <td>0.000000</td>\n",
       "      <td>0.000000</td>\n",
       "      <td>0.000000</td>\n",
       "    </tr>\n",
       "    <tr>\n",
       "      <th>25%</th>\n",
       "      <td>9319.000000</td>\n",
       "      <td>1.000000</td>\n",
       "      <td>4.000000</td>\n",
       "      <td>0.000000</td>\n",
       "      <td>0.000000</td>\n",
       "      <td>4.000000</td>\n",
       "    </tr>\n",
       "    <tr>\n",
       "      <th>50%</th>\n",
       "      <td>9452.000000</td>\n",
       "      <td>2.000000</td>\n",
       "      <td>9.000000</td>\n",
       "      <td>0.000000</td>\n",
       "      <td>0.000000</td>\n",
       "      <td>9.000000</td>\n",
       "    </tr>\n",
       "    <tr>\n",
       "      <th>75%</th>\n",
       "      <td>9806.000000</td>\n",
       "      <td>3.000000</td>\n",
       "      <td>16.000000</td>\n",
       "      <td>2.000000</td>\n",
       "      <td>2.000000</td>\n",
       "      <td>16.000000</td>\n",
       "    </tr>\n",
       "    <tr>\n",
       "      <th>max</th>\n",
       "      <td>9955.000000</td>\n",
       "      <td>88.000000</td>\n",
       "      <td>133.000000</td>\n",
       "      <td>124.000000</td>\n",
       "      <td>110.000000</td>\n",
       "      <td>133.000000</td>\n",
       "    </tr>\n",
       "  </tbody>\n",
       "</table>\n",
       "</div>"
      ],
      "text/plain": [
       "       Numer taborowy  Numer przystanku  Liczba pasaz. przed  \\\n",
       "count   177546.000000     177546.000000        177546.000000   \n",
       "mean      9513.375953          3.437903            12.060711   \n",
       "std        265.044802          7.857952            12.341741   \n",
       "min       9061.000000          1.000000            -3.000000   \n",
       "25%       9319.000000          1.000000             4.000000   \n",
       "50%       9452.000000          2.000000             9.000000   \n",
       "75%       9806.000000          3.000000            16.000000   \n",
       "max       9955.000000         88.000000           133.000000   \n",
       "\n",
       "       Liczba wysiadających pasaz.  Liczba wsiadajacych pasaz.  \\\n",
       "count                177546.000000               177546.000000   \n",
       "mean                      1.560435                    1.570534   \n",
       "std                       3.136487                    3.192504   \n",
       "min                       0.000000                    0.000000   \n",
       "25%                       0.000000                    0.000000   \n",
       "50%                       0.000000                    0.000000   \n",
       "75%                       2.000000                    2.000000   \n",
       "max                     124.000000                  110.000000   \n",
       "\n",
       "       Liczba pasaz. po odjezdzie  \n",
       "count               177546.000000  \n",
       "mean                    12.070810  \n",
       "std                     12.335713  \n",
       "min                      0.000000  \n",
       "25%                      4.000000  \n",
       "50%                      9.000000  \n",
       "75%                     16.000000  \n",
       "max                    133.000000  "
      ]
     },
     "execution_count": 218,
     "metadata": {},
     "output_type": "execute_result"
    }
   ],
   "source": [
    "df.describe()"
   ]
  },
  {
   "cell_type": "markdown",
   "id": "08c2bb31",
   "metadata": {},
   "source": [
    "# 4.1. Check data"
   ]
  },
  {
   "cell_type": "code",
   "execution_count": 219,
   "id": "a60a72d6",
   "metadata": {},
   "outputs": [
    {
     "name": "stdout",
     "output_type": "stream",
     "text": [
      "Amount of invalid data: 2\n"
     ]
    }
   ],
   "source": [
    "counter = 0\n",
    "counter += len(df.loc[df['Liczba pasaz. przed'] - df['Liczba wysiadających pasaz.'] + df['Liczba wsiadajacych pasaz.'] != df['Liczba pasaz. po odjezdzie']])\n",
    "counter += len(df[df['Liczba pasaz. przed'] < 0])\n",
    "print(f'Amount of invalid data: {counter}')"
   ]
  },
  {
   "cell_type": "markdown",
   "id": "432fdbe8",
   "metadata": {},
   "source": [
    "# 4.2. Remove errors"
   ]
  },
  {
   "cell_type": "code",
   "execution_count": 220,
   "id": "7ac17e60",
   "metadata": {},
   "outputs": [],
   "source": [
    "df.drop(df[df['Liczba pasaz. przed'] < 0].index, inplace=True) # remove invlid amout of passengers\n",
    "\n",
    "df.drop(df[df['Kurs'].str[:2] > '23'].index, inplace= True)\n",
    "\n",
    "is_NaN = df.isnull()\n",
    "row_has_NaN = is_NaN.any(axis=1)\n",
    "rows_with_NaN = df[row_has_NaN]\n",
    "\n",
    "df.drop(df[row_has_NaN].index, inplace=True)\n"
   ]
  },
  {
   "cell_type": "markdown",
   "id": "05d7ffb3",
   "metadata": {},
   "source": [
    "# 4.3. Parse data"
   ]
  },
  {
   "cell_type": "code",
   "execution_count": 221,
   "id": "d0a15a5f",
   "metadata": {},
   "outputs": [],
   "source": [
    "def make_date_one_type(x):\n",
    "    return pd.Timestamp(x)"
   ]
  },
  {
   "cell_type": "code",
   "execution_count": 222,
   "id": "673064c0",
   "metadata": {},
   "outputs": [],
   "source": [
    "df['Kurs'] = df['Kurs'].apply(lambda x: make_date_one_type(x))\n",
    "df['Rzeczywisty czas odjazdu'] = df['Rzeczywisty czas odjazdu'].apply(lambda x: make_date_one_type(x))\n",
    "df['Rozkładowy czas odjazdu'] = df['Rozkładowy czas odjazdu'].apply(lambda x: make_date_one_type(x))"
   ]
  },
  {
   "cell_type": "code",
   "execution_count": 223,
   "id": "885d6e48",
   "metadata": {},
   "outputs": [],
   "source": [
    "df['Godzina odjazdu'] = df['Rozkładowy czas odjazdu'].apply(lambda x: x.hour + x.minute/60 + x.second/3600)\n",
    "df['Godzina odjazdu przedział'] = df['Rozkładowy czas odjazdu'].apply(lambda x: x.hour * 4 + floor(x.minute/15))"
   ]
  },
  {
   "cell_type": "markdown",
   "id": "ab2292c3",
   "metadata": {},
   "source": [
    "# 4.4. New data"
   ]
  },
  {
   "cell_type": "code",
   "execution_count": 224,
   "id": "1d329c09",
   "metadata": {},
   "outputs": [],
   "source": [
    "trans_type = []\n",
    "for nr in df['Nr linii']:\n",
    "    if nr.isnumeric():\n",
    "        trans_type.append('autobus')\n",
    "    elif nr[0] == 'N':\n",
    "        trans_type.append('nocny')\n",
    "    elif nr[0] == 'Z':\n",
    "        trans_type.append('zastepczy')\n",
    "    else:\n",
    "        trans_type.append('inny')\n",
    "df['Typ'] = trans_type"
   ]
  },
  {
   "cell_type": "code",
   "execution_count": 225,
   "id": "9e9d8682",
   "metadata": {},
   "outputs": [
    {
     "data": {
      "text/html": [
       "<div>\n",
       "<style scoped>\n",
       "    .dataframe tbody tr th:only-of-type {\n",
       "        vertical-align: middle;\n",
       "    }\n",
       "\n",
       "    .dataframe tbody tr th {\n",
       "        vertical-align: top;\n",
       "    }\n",
       "\n",
       "    .dataframe thead th {\n",
       "        text-align: right;\n",
       "    }\n",
       "</style>\n",
       "<table border=\"1\" class=\"dataframe\">\n",
       "  <thead>\n",
       "    <tr style=\"text-align: right;\">\n",
       "      <th></th>\n",
       "      <th>Nr linii</th>\n",
       "      <th>Wariant linii</th>\n",
       "      <th>Kurs</th>\n",
       "      <th>Oznaczenie brygady</th>\n",
       "      <th>Numer taborowy</th>\n",
       "      <th>Nazwa przystanku</th>\n",
       "      <th>Numer przystanku</th>\n",
       "      <th>Rzeczywisty czas odjazdu</th>\n",
       "      <th>Rozkładowy czas odjazdu</th>\n",
       "      <th>Liczba pasaz. przed</th>\n",
       "      <th>Liczba wysiadających pasaz.</th>\n",
       "      <th>Liczba wsiadajacych pasaz.</th>\n",
       "      <th>Liczba pasaz. po odjezdzie</th>\n",
       "      <th>Godzina odjazdu</th>\n",
       "      <th>Godzina odjazdu przedział</th>\n",
       "      <th>Typ</th>\n",
       "    </tr>\n",
       "  </thead>\n",
       "  <tbody>\n",
       "    <tr>\n",
       "      <th>19359</th>\n",
       "      <td>127</td>\n",
       "      <td>TP-MAT</td>\n",
       "      <td>2022-01-03 11:10:00</td>\n",
       "      <td>3</td>\n",
       "      <td>9821</td>\n",
       "      <td>Metro Centrum Nauki Kopernik</td>\n",
       "      <td>4</td>\n",
       "      <td>2022-01-03 11:55:00</td>\n",
       "      <td>2022-01-03 11:59:00</td>\n",
       "      <td>11</td>\n",
       "      <td>0</td>\n",
       "      <td>0</td>\n",
       "      <td>11</td>\n",
       "      <td>11.983333</td>\n",
       "      <td>47</td>\n",
       "      <td>autobus</td>\n",
       "    </tr>\n",
       "    <tr>\n",
       "      <th>60511</th>\n",
       "      <td>177</td>\n",
       "      <td>TO-OPA</td>\n",
       "      <td>2022-01-03 18:40:00</td>\n",
       "      <td>2</td>\n",
       "      <td>9226</td>\n",
       "      <td>Zajezdnia Ursus Płn.</td>\n",
       "      <td>1</td>\n",
       "      <td>2022-01-03 18:44:00</td>\n",
       "      <td>2022-01-03 18:42:00</td>\n",
       "      <td>5</td>\n",
       "      <td>0</td>\n",
       "      <td>0</td>\n",
       "      <td>5</td>\n",
       "      <td>18.700000</td>\n",
       "      <td>74</td>\n",
       "      <td>autobus</td>\n",
       "    </tr>\n",
       "    <tr>\n",
       "      <th>1671</th>\n",
       "      <td>102</td>\n",
       "      <td>TP-OLS</td>\n",
       "      <td>2022-01-03 17:23:00</td>\n",
       "      <td>3</td>\n",
       "      <td>9445</td>\n",
       "      <td>PKP Olszynka Grochowska</td>\n",
       "      <td>4</td>\n",
       "      <td>2022-01-03 18:04:00</td>\n",
       "      <td>2022-01-03 18:25:00</td>\n",
       "      <td>0</td>\n",
       "      <td>0</td>\n",
       "      <td>0</td>\n",
       "      <td>0</td>\n",
       "      <td>18.416667</td>\n",
       "      <td>73</td>\n",
       "      <td>autobus</td>\n",
       "    </tr>\n",
       "  </tbody>\n",
       "</table>\n",
       "</div>"
      ],
      "text/plain": [
       "      Nr linii Wariant linii                Kurs Oznaczenie brygady  \\\n",
       "19359      127        TP-MAT 2022-01-03 11:10:00                  3   \n",
       "60511      177        TO-OPA 2022-01-03 18:40:00                  2   \n",
       "1671       102        TP-OLS 2022-01-03 17:23:00                  3   \n",
       "\n",
       "       Numer taborowy              Nazwa przystanku  Numer przystanku  \\\n",
       "19359            9821  Metro Centrum Nauki Kopernik                 4   \n",
       "60511            9226          Zajezdnia Ursus Płn.                 1   \n",
       "1671             9445       PKP Olszynka Grochowska                 4   \n",
       "\n",
       "      Rzeczywisty czas odjazdu Rozkładowy czas odjazdu  Liczba pasaz. przed  \\\n",
       "19359      2022-01-03 11:55:00     2022-01-03 11:59:00                   11   \n",
       "60511      2022-01-03 18:44:00     2022-01-03 18:42:00                    5   \n",
       "1671       2022-01-03 18:04:00     2022-01-03 18:25:00                    0   \n",
       "\n",
       "       Liczba wysiadających pasaz.  Liczba wsiadajacych pasaz.  \\\n",
       "19359                            0                           0   \n",
       "60511                            0                           0   \n",
       "1671                             0                           0   \n",
       "\n",
       "       Liczba pasaz. po odjezdzie  Godzina odjazdu  Godzina odjazdu przedział  \\\n",
       "19359                          11        11.983333                         47   \n",
       "60511                           5        18.700000                         74   \n",
       "1671                            0        18.416667                         73   \n",
       "\n",
       "           Typ  \n",
       "19359  autobus  \n",
       "60511  autobus  \n",
       "1671   autobus  "
      ]
     },
     "execution_count": 225,
     "metadata": {},
     "output_type": "execute_result"
    }
   ],
   "source": [
    "df.sample(3)"
   ]
  },
  {
   "cell_type": "markdown",
   "id": "cef0c297",
   "metadata": {},
   "source": [
    "## 4.5 Clustering"
   ]
  },
  {
   "cell_type": "code",
   "execution_count": 226,
   "id": "ab7f3058",
   "metadata": {},
   "outputs": [],
   "source": [
    "def find_clusters(speeds, iterations, df, column):\n",
    "    k = len(speeds)\n",
    "    data = np.array(df[column]).reshape(1,-1).T\n",
    "    clusters = KMeans(\n",
    "        n_clusters = k,\n",
    "        max_iter = iterations,\n",
    "        random_state = RANDOM_SEED\n",
    "    ).fit(data)\n",
    "    \n",
    "    cc, *_ = clusters.cluster_centers_.reshape(1,k)\n",
    "    cc_ord = np.argsort(cc)\n",
    "    class_mapping = dict(zip(cc_ord, speeds))\n",
    "    \n",
    "    df['class'] = clusters.labels_\n",
    "    df['class'] = df['class'].map(class_mapping)\n",
    "    \n",
    "    return df\n",
    "    "
   ]
  },
  {
   "cell_type": "code",
   "execution_count": 227,
   "id": "6185c431",
   "metadata": {},
   "outputs": [],
   "source": [
    "# crowding = ['pusto','małe zatłoczenie', 'średnie zatłoczenie', 'duze zatłoczenie', 'olbrzymie zatłoczenie']\n",
    "crowding = [0, 1, 2, 3, 4]\n",
    "iterations = 10\n",
    "\n",
    "df = find_clusters(crowding, iterations, df, 'Liczba pasaz. przed')"
   ]
  },
  {
   "cell_type": "code",
   "execution_count": 120,
   "id": "4021b6ca",
   "metadata": {},
   "outputs": [
    {
     "data": {
      "text/plain": [
       "<Figure size 720x576 with 0 Axes>"
      ]
     },
     "metadata": {},
     "output_type": "display_data"
    },
    {
     "data": {
      "image/png": "[encoded data removed]",
      "text/plain": [
       "<Figure size 402.375x360 with 1 Axes>"
      ]
     },
     "metadata": {},
     "output_type": "display_data"
    }
   ],
   "source": [
    "plt.figure(figsize=(10, 8))\n",
    "ax = sns.displot(\n",
    "    df,\n",
    "    x='Liczba pasaz. przed',\n",
    "    hue='class',\n",
    "    kind='kde'\n",
    ")"
   ]
  },
  {
   "cell_type": "markdown",
   "id": "d5b55407",
   "metadata": {},
   "source": [
    "## Numeryczna nazwa przystanku"
   ]
  },
  {
   "cell_type": "code",
   "execution_count": 230,
   "id": "02a01176",
   "metadata": {},
   "outputs": [],
   "source": [
    "stations_set = set(df['Nazwa przystanku'].values)\n",
    "stations_iterator =  set(range(1,len(stations_set)+1))\n",
    "station_dict = dict(zip(stations_set, stations_iterator))\n",
    "\n",
    "df[\"Numeryczna nazwa przystanku\"] = df[\"Nazwa przystanku\"].map(station_dict).astype(int)"
   ]
  },
  {
   "cell_type": "code",
   "execution_count": 231,
   "id": "95d96e59",
   "metadata": {},
   "outputs": [
    {
     "data": {
      "text/html": [
       "<div>\n",
       "<style scoped>\n",
       "    .dataframe tbody tr th:only-of-type {\n",
       "        vertical-align: middle;\n",
       "    }\n",
       "\n",
       "    .dataframe tbody tr th {\n",
       "        vertical-align: top;\n",
       "    }\n",
       "\n",
       "    .dataframe thead th {\n",
       "        text-align: right;\n",
       "    }\n",
       "</style>\n",
       "<table border=\"1\" class=\"dataframe\">\n",
       "  <thead>\n",
       "    <tr style=\"text-align: right;\">\n",
       "      <th></th>\n",
       "      <th>Nr linii</th>\n",
       "      <th>Wariant linii</th>\n",
       "      <th>Kurs</th>\n",
       "      <th>Oznaczenie brygady</th>\n",
       "      <th>Numer taborowy</th>\n",
       "      <th>Nazwa przystanku</th>\n",
       "      <th>Numer przystanku</th>\n",
       "      <th>Rzeczywisty czas odjazdu</th>\n",
       "      <th>Rozkładowy czas odjazdu</th>\n",
       "      <th>Liczba pasaz. przed</th>\n",
       "      <th>Liczba wysiadających pasaz.</th>\n",
       "      <th>Liczba wsiadajacych pasaz.</th>\n",
       "      <th>Liczba pasaz. po odjezdzie</th>\n",
       "      <th>Godzina odjazdu</th>\n",
       "      <th>Godzina odjazdu przedział</th>\n",
       "      <th>Typ</th>\n",
       "      <th>class</th>\n",
       "      <th>Numeryczna nazwa przystanku</th>\n",
       "    </tr>\n",
       "  </thead>\n",
       "  <tbody>\n",
       "    <tr>\n",
       "      <th>98655</th>\n",
       "      <td>208</td>\n",
       "      <td>TP-BTW-O</td>\n",
       "      <td>2022-01-03 06:55:00</td>\n",
       "      <td>3</td>\n",
       "      <td>9239</td>\n",
       "      <td>Szczęśliwicka</td>\n",
       "      <td>1</td>\n",
       "      <td>2022-01-03 07:11:00</td>\n",
       "      <td>2022-01-03 07:17:00</td>\n",
       "      <td>13</td>\n",
       "      <td>3</td>\n",
       "      <td>2</td>\n",
       "      <td>12</td>\n",
       "      <td>7.283333</td>\n",
       "      <td>29</td>\n",
       "      <td>autobus</td>\n",
       "      <td>1</td>\n",
       "      <td>328</td>\n",
       "    </tr>\n",
       "    <tr>\n",
       "      <th>138193</th>\n",
       "      <td>520</td>\n",
       "      <td>TP-PLB</td>\n",
       "      <td>2022-01-03 12:42:00</td>\n",
       "      <td>6</td>\n",
       "      <td>9914</td>\n",
       "      <td>Łysakowska</td>\n",
       "      <td>1</td>\n",
       "      <td>2022-01-03 12:45:00</td>\n",
       "      <td>2022-01-03 12:47:00</td>\n",
       "      <td>15</td>\n",
       "      <td>3</td>\n",
       "      <td>2</td>\n",
       "      <td>14</td>\n",
       "      <td>12.783333</td>\n",
       "      <td>51</td>\n",
       "      <td>autobus</td>\n",
       "      <td>1</td>\n",
       "      <td>796</td>\n",
       "    </tr>\n",
       "    <tr>\n",
       "      <th>99487</th>\n",
       "      <td>209</td>\n",
       "      <td>TP-DAW</td>\n",
       "      <td>2022-01-03 20:47:00</td>\n",
       "      <td>51</td>\n",
       "      <td>9205</td>\n",
       "      <td>Farbiarska</td>\n",
       "      <td>2</td>\n",
       "      <td>2022-01-03 21:05:00</td>\n",
       "      <td>2022-01-03 21:05:00</td>\n",
       "      <td>4</td>\n",
       "      <td>0</td>\n",
       "      <td>0</td>\n",
       "      <td>4</td>\n",
       "      <td>21.083333</td>\n",
       "      <td>84</td>\n",
       "      <td>autobus</td>\n",
       "      <td>0</td>\n",
       "      <td>178</td>\n",
       "    </tr>\n",
       "  </tbody>\n",
       "</table>\n",
       "</div>"
      ],
      "text/plain": [
       "       Nr linii Wariant linii                Kurs Oznaczenie brygady  \\\n",
       "98655       208      TP-BTW-O 2022-01-03 06:55:00                  3   \n",
       "138193      520        TP-PLB 2022-01-03 12:42:00                  6   \n",
       "99487       209        TP-DAW 2022-01-03 20:47:00                 51   \n",
       "\n",
       "        Numer taborowy Nazwa przystanku  Numer przystanku  \\\n",
       "98655             9239    Szczęśliwicka                 1   \n",
       "138193            9914       Łysakowska                 1   \n",
       "99487             9205       Farbiarska                 2   \n",
       "\n",
       "       Rzeczywisty czas odjazdu Rozkładowy czas odjazdu  Liczba pasaz. przed  \\\n",
       "98655       2022-01-03 07:11:00     2022-01-03 07:17:00                   13   \n",
       "138193      2022-01-03 12:45:00     2022-01-03 12:47:00                   15   \n",
       "99487       2022-01-03 21:05:00     2022-01-03 21:05:00                    4   \n",
       "\n",
       "        Liczba wysiadających pasaz.  Liczba wsiadajacych pasaz.  \\\n",
       "98655                             3                           2   \n",
       "138193                            3                           2   \n",
       "99487                             0                           0   \n",
       "\n",
       "        Liczba pasaz. po odjezdzie  Godzina odjazdu  \\\n",
       "98655                           12         7.283333   \n",
       "138193                          14        12.783333   \n",
       "99487                            4        21.083333   \n",
       "\n",
       "        Godzina odjazdu przedział      Typ  class  Numeryczna nazwa przystanku  \n",
       "98655                          29  autobus      1                          328  \n",
       "138193                         51  autobus      1                          796  \n",
       "99487                          84  autobus      0                          178  "
      ]
     },
     "execution_count": 231,
     "metadata": {},
     "output_type": "execute_result"
    }
   ],
   "source": [
    "df.sample(3)"
   ]
  },
  {
   "cell_type": "markdown",
   "id": "77534a71",
   "metadata": {},
   "source": [
    "## 1 autobus"
   ]
  },
  {
   "cell_type": "code",
   "execution_count": 175,
   "id": "6d0c170f",
   "metadata": {},
   "outputs": [
    {
     "data": {
      "text/plain": [
       "'102'"
      ]
     },
     "execution_count": 175,
     "metadata": {},
     "output_type": "execute_result"
    }
   ],
   "source": [
    "tmp  = df['Nr linii'].unique()[0]\n",
    "tmp"
   ]
  },
  {
   "cell_type": "code",
   "execution_count": 181,
   "id": "36016110",
   "metadata": {},
   "outputs": [
    {
     "data": {
      "text/plain": [
       "1845"
      ]
     },
     "execution_count": 181,
     "metadata": {},
     "output_type": "execute_result"
    }
   ],
   "source": [
    "df = df[df['Nr linii'] == tmp]\n",
    "N = len(df)\n",
    "N"
   ]
  },
  {
   "cell_type": "markdown",
   "id": "19640590",
   "metadata": {},
   "source": [
    "## 5. Classification"
   ]
  },
  {
   "cell_type": "code",
   "execution_count": 258,
   "id": "5085212c",
   "metadata": {},
   "outputs": [],
   "source": [
    "from sklearn.tree import DecisionTreeRegressor\n",
    "from sklearn.model_selection import train_test_split\n",
    "import datetime as dt\n",
    "from sklearn.model_selection import cross_val_score\n",
    "from sklearn.model_selection import cross_validate\n",
    "from sklearn.model_selection import LeaveOneOut\n",
    "from sklearn.model_selection import KFold\n",
    "from sklearn.model_selection import RepeatedKFold\n",
    "from mlxtend.evaluate import bootstrap_point632_score\n",
    "from mlxtend.evaluate import BootstrapOutOfBag\n",
    "from mlxtend.evaluate import bootstrap\n",
    "\n",
    "import seaborn as sns\n",
    "import matplotlib.pyplot as plt"
   ]
  },
  {
   "cell_type": "code",
   "execution_count": 259,
   "id": "42784a25",
   "metadata": {},
   "outputs": [
    {
     "data": {
      "text/plain": [
       "1845"
      ]
     },
     "execution_count": 259,
     "metadata": {},
     "output_type": "execute_result"
    }
   ],
   "source": [
    "df2 = df.sample(n = N, random_state = 100)\n",
    "len(df2)"
   ]
  },
  {
   "cell_type": "code",
   "execution_count": 260,
   "id": "de3aa6d3",
   "metadata": {},
   "outputs": [
    {
     "data": {
      "text/html": [
       "<div>\n",
       "<style scoped>\n",
       "    .dataframe tbody tr th:only-of-type {\n",
       "        vertical-align: middle;\n",
       "    }\n",
       "\n",
       "    .dataframe tbody tr th {\n",
       "        vertical-align: top;\n",
       "    }\n",
       "\n",
       "    .dataframe thead th {\n",
       "        text-align: right;\n",
       "    }\n",
       "</style>\n",
       "<table border=\"1\" class=\"dataframe\">\n",
       "  <thead>\n",
       "    <tr style=\"text-align: right;\">\n",
       "      <th></th>\n",
       "      <th>Nr linii</th>\n",
       "      <th>Numer taborowy</th>\n",
       "      <th>Godzina odjazdu</th>\n",
       "      <th>Godzina odjazdu przedział</th>\n",
       "      <th>class</th>\n",
       "      <th>Numeryczna nazwa przystanku</th>\n",
       "    </tr>\n",
       "  </thead>\n",
       "  <tbody>\n",
       "    <tr>\n",
       "      <th>163721</th>\n",
       "      <td>743</td>\n",
       "      <td>9422</td>\n",
       "      <td>18.350000</td>\n",
       "      <td>73</td>\n",
       "      <td>1</td>\n",
       "      <td>371</td>\n",
       "    </tr>\n",
       "    <tr>\n",
       "      <th>163552</th>\n",
       "      <td>743</td>\n",
       "      <td>9422</td>\n",
       "      <td>10.233333</td>\n",
       "      <td>40</td>\n",
       "      <td>1</td>\n",
       "      <td>356</td>\n",
       "    </tr>\n",
       "    <tr>\n",
       "      <th>9901</th>\n",
       "      <td>118</td>\n",
       "      <td>9694</td>\n",
       "      <td>19.268056</td>\n",
       "      <td>77</td>\n",
       "      <td>1</td>\n",
       "      <td>280</td>\n",
       "    </tr>\n",
       "  </tbody>\n",
       "</table>\n",
       "</div>"
      ],
      "text/plain": [
       "       Nr linii  Numer taborowy  Godzina odjazdu  Godzina odjazdu przedział  \\\n",
       "163721      743            9422        18.350000                         73   \n",
       "163552      743            9422        10.233333                         40   \n",
       "9901        118            9694        19.268056                         77   \n",
       "\n",
       "        class  Numeryczna nazwa przystanku  \n",
       "163721      1                          371  \n",
       "163552      1                          356  \n",
       "9901        1                          280  "
      ]
     },
     "execution_count": 260,
     "metadata": {},
     "output_type": "execute_result"
    }
   ],
   "source": [
    "df2 = df2.loc[df['Typ']=='autobus']\n",
    "df2 = df2.drop(columns=['Wariant linii','Nazwa przystanku', 'Numer przystanku', 'Rzeczywisty czas odjazdu', 'Rozkładowy czas odjazdu', 'Kurs', 'Oznaczenie brygady','Typ'], inplace= False)\n",
    "df2 = df2.drop(columns=['Liczba pasaz. przed', 'Liczba wysiadających pasaz.', 'Liczba wsiadajacych pasaz.', 'Liczba pasaz. po odjezdzie'], inplace= False)\n",
    "df2.sample(3)"
   ]
  },
  {
   "cell_type": "code",
   "execution_count": 261,
   "id": "cf4ce7a3",
   "metadata": {},
   "outputs": [
    {
     "data": {
      "text/html": [
       "<div>\n",
       "<style scoped>\n",
       "    .dataframe tbody tr th:only-of-type {\n",
       "        vertical-align: middle;\n",
       "    }\n",
       "\n",
       "    .dataframe tbody tr th {\n",
       "        vertical-align: top;\n",
       "    }\n",
       "\n",
       "    .dataframe thead th {\n",
       "        text-align: right;\n",
       "    }\n",
       "</style>\n",
       "<table border=\"1\" class=\"dataframe\">\n",
       "  <thead>\n",
       "    <tr style=\"text-align: right;\">\n",
       "      <th></th>\n",
       "      <th>Nr linii</th>\n",
       "      <th>Numer taborowy</th>\n",
       "      <th>Godzina odjazdu</th>\n",
       "      <th>Godzina odjazdu przedział</th>\n",
       "      <th>Numeryczna nazwa przystanku</th>\n",
       "    </tr>\n",
       "  </thead>\n",
       "  <tbody>\n",
       "    <tr>\n",
       "      <th>100751</th>\n",
       "      <td>210</td>\n",
       "      <td>9953</td>\n",
       "      <td>15.933333</td>\n",
       "      <td>63</td>\n",
       "      <td>686</td>\n",
       "    </tr>\n",
       "    <tr>\n",
       "      <th>59719</th>\n",
       "      <td>177</td>\n",
       "      <td>9222</td>\n",
       "      <td>11.066667</td>\n",
       "      <td>44</td>\n",
       "      <td>401</td>\n",
       "    </tr>\n",
       "    <tr>\n",
       "      <th>138014</th>\n",
       "      <td>520</td>\n",
       "      <td>9949</td>\n",
       "      <td>21.366667</td>\n",
       "      <td>85</td>\n",
       "      <td>224</td>\n",
       "    </tr>\n",
       "  </tbody>\n",
       "</table>\n",
       "</div>"
      ],
      "text/plain": [
       "       Nr linii  Numer taborowy  Godzina odjazdu  Godzina odjazdu przedział  \\\n",
       "100751      210            9953        15.933333                         63   \n",
       "59719       177            9222        11.066667                         44   \n",
       "138014      520            9949        21.366667                         85   \n",
       "\n",
       "        Numeryczna nazwa przystanku  \n",
       "100751                          686  \n",
       "59719                           401  \n",
       "138014                          224  "
      ]
     },
     "execution_count": 261,
     "metadata": {},
     "output_type": "execute_result"
    }
   ],
   "source": [
    "X = df2.drop('class', axis=1, inplace= False)\n",
    "X.sample(3)"
   ]
  },
  {
   "cell_type": "code",
   "execution_count": 262,
   "id": "add8b6d8",
   "metadata": {},
   "outputs": [
    {
     "name": "stdout",
     "output_type": "stream",
     "text": [
      "Index(['Nr linii', 'Numer taborowy', 'Godzina odjazdu',\n",
      "       'Godzina odjazdu przedział', 'Numeryczna nazwa przystanku'],\n",
      "      dtype='object')\n"
     ]
    }
   ],
   "source": [
    "features = X.columns[:]\n",
    "print(features)"
   ]
  },
  {
   "cell_type": "code",
   "execution_count": 263,
   "id": "52a1d6e3",
   "metadata": {},
   "outputs": [
    {
     "data": {
      "text/plain": [
       "(1757, 5)"
      ]
     },
     "execution_count": 263,
     "metadata": {},
     "output_type": "execute_result"
    }
   ],
   "source": [
    "X.shape"
   ]
  },
  {
   "cell_type": "code",
   "execution_count": 264,
   "id": "0a93c8cc",
   "metadata": {},
   "outputs": [
    {
     "data": {
      "text/plain": [
       "123789    1\n",
       "75715     0\n",
       "148874    0\n",
       "Name: class, dtype: int64"
      ]
     },
     "execution_count": 264,
     "metadata": {},
     "output_type": "execute_result"
    }
   ],
   "source": [
    "y = df2[\"class\"]\n",
    "y.sample(3)"
   ]
  },
  {
   "cell_type": "code",
   "execution_count": 265,
   "id": "62ce837a",
   "metadata": {},
   "outputs": [],
   "source": [
    "X_train, X_test, y_train, y_test = train_test_split(X, y, test_size=0.1, random_state=42)"
   ]
  },
  {
   "cell_type": "markdown",
   "id": "5952a136",
   "metadata": {},
   "source": [
    "## DecisionTreeClassifier"
   ]
  },
  {
   "cell_type": "code",
   "execution_count": 266,
   "id": "708998fd",
   "metadata": {},
   "outputs": [],
   "source": [
    "from sklearn.tree import DecisionTreeClassifier\n",
    "from sklearn.metrics import accuracy_score"
   ]
  },
  {
   "cell_type": "code",
   "execution_count": 267,
   "id": "f07a48a3",
   "metadata": {},
   "outputs": [],
   "source": [
    "def create_tree(x, x_test, y, y_test, depth = 3):  \n",
    "    clf = DecisionTreeClassifier(max_depth = depth, random_state = 1)\n",
    "    clf = clf.fit(x, y)\n",
    "    err = accuracy_score(y_test, clf.predict(x_test))\n",
    "    print(\"Accuracy: \", err)\n",
    "    return err"
   ]
  },
  {
   "cell_type": "code",
   "execution_count": 268,
   "id": "af92cd3e",
   "metadata": {},
   "outputs": [
    {
     "name": "stdout",
     "output_type": "stream",
     "text": [
      "Accuracy:  0.3693181818181818\n"
     ]
    }
   ],
   "source": [
    "tr1 = create_tree(X_train, X_test, y_train, y_test, depth = 2)"
   ]
  },
  {
   "cell_type": "code",
   "execution_count": 269,
   "id": "1afd0d34",
   "metadata": {},
   "outputs": [],
   "source": [
    "model = DecisionTreeClassifier(max_depth = 1000, random_state = 1)"
   ]
  },
  {
   "cell_type": "code",
   "execution_count": 270,
   "id": "58a49da3",
   "metadata": {},
   "outputs": [],
   "source": [
    "#LeaveOneOut CrossValidation with negative mean absolute scores: the higher the scores, the lower mean absolute errors\n",
    "scores1 = cross_validate(model, X_train, y_train, cv = LeaveOneOut(), n_jobs = -1, scoring = 'neg_mean_absolute_error', return_estimator = True)\n",
    "err1 = accuracy_score(scores1['estimator'][scores1['test_score'].argmax()].predict(X_test),y_test)"
   ]
  },
  {
   "cell_type": "code",
   "execution_count": 271,
   "id": "f2fe6b59",
   "metadata": {},
   "outputs": [],
   "source": [
    "#Bootstrap Out of Bag\n",
    "scores2 = cross_validate(model, X_train, y_train, cv = BootstrapOutOfBag(n_splits=5, random_seed=456), n_jobs = -1, scoring = 'neg_mean_absolute_error', return_estimator = True)\n",
    "err2 = accuracy_score(scores2['estimator'][scores2['test_score'].argmax()].predict(X_test),y_test)"
   ]
  },
  {
   "cell_type": "code",
   "execution_count": 272,
   "id": "67f01e45",
   "metadata": {},
   "outputs": [],
   "source": [
    "#Repeated K-Fold\n",
    "scores3 = cross_validate(model, X_train, y_train, n_jobs = -1, cv = RepeatedKFold(n_splits = 10, n_repeats = 2), scoring = 'neg_mean_absolute_error', return_estimator = True)\n",
    "err3 = accuracy_score(scores3['estimator'][scores3['test_score'].argmax()].predict(X_test),y_test)"
   ]
  },
  {
   "cell_type": "code",
   "execution_count": 273,
   "id": "a6fb77c8",
   "metadata": {},
   "outputs": [],
   "source": [
    "#K-Fold\n",
    "scores4 = cross_validate(model, X_train, y_train, cv = KFold(10), n_jobs=-1, scoring = 'neg_mean_absolute_error',return_estimator = True)\n",
    "err4 = accuracy_score(scores4['estimator'][scores4['test_score'].argmax()].predict(X_test), y_test)"
   ]
  },
  {
   "cell_type": "code",
   "execution_count": 274,
   "id": "80f8aadd",
   "metadata": {},
   "outputs": [
    {
     "name": "stdout",
     "output_type": "stream",
     "text": [
      "------- Accuracy --------\n",
      "1. Accuracy LeaveOneOut 0.4318181818181818\n",
      "2. Accuracy BootstrapOutOfBag 0.4375\n",
      "3. Accuracy RepeatedKFold 0.48295454545454547\n",
      "4. Accuracy KFold 0.4715909090909091\n"
     ]
    }
   ],
   "source": [
    "print(\"------- Accuracy --------\")\n",
    "print(f\"1. Accuracy LeaveOneOut {err1}\")\n",
    "print(f\"2. Accuracy BootstrapOutOfBag {err2}\")\n",
    "print(f\"3. Accuracy RepeatedKFold {err3}\")\n",
    "print(f\"4. Accuracy KFold {err4}\")"
   ]
  },
  {
   "cell_type": "markdown",
   "id": "e849e94a",
   "metadata": {},
   "source": [
    "## Regresja"
   ]
  },
  {
   "cell_type": "code",
   "execution_count": 275,
   "id": "2b387ff9",
   "metadata": {},
   "outputs": [
    {
     "data": {
      "text/plain": [
       "1845"
      ]
     },
     "execution_count": 275,
     "metadata": {},
     "output_type": "execute_result"
    }
   ],
   "source": [
    "df3 = df.sample(n = N, random_state = 100)\n",
    "len(df3)"
   ]
  },
  {
   "cell_type": "code",
   "execution_count": 276,
   "id": "ff0a96f0",
   "metadata": {},
   "outputs": [
    {
     "data": {
      "text/html": [
       "<div>\n",
       "<style scoped>\n",
       "    .dataframe tbody tr th:only-of-type {\n",
       "        vertical-align: middle;\n",
       "    }\n",
       "\n",
       "    .dataframe tbody tr th {\n",
       "        vertical-align: top;\n",
       "    }\n",
       "\n",
       "    .dataframe thead th {\n",
       "        text-align: right;\n",
       "    }\n",
       "</style>\n",
       "<table border=\"1\" class=\"dataframe\">\n",
       "  <thead>\n",
       "    <tr style=\"text-align: right;\">\n",
       "      <th></th>\n",
       "      <th>Nr linii</th>\n",
       "      <th>Numer taborowy</th>\n",
       "      <th>Liczba pasaz. przed</th>\n",
       "      <th>Godzina odjazdu</th>\n",
       "      <th>Godzina odjazdu przedział</th>\n",
       "      <th>Numeryczna nazwa przystanku</th>\n",
       "    </tr>\n",
       "  </thead>\n",
       "  <tbody>\n",
       "    <tr>\n",
       "      <th>148767</th>\n",
       "      <td>712</td>\n",
       "      <td>9447</td>\n",
       "      <td>7</td>\n",
       "      <td>18.700000</td>\n",
       "      <td>74</td>\n",
       "      <td>549</td>\n",
       "    </tr>\n",
       "    <tr>\n",
       "      <th>131812</th>\n",
       "      <td>326</td>\n",
       "      <td>9673</td>\n",
       "      <td>28</td>\n",
       "      <td>8.645000</td>\n",
       "      <td>34</td>\n",
       "      <td>171</td>\n",
       "    </tr>\n",
       "    <tr>\n",
       "      <th>63392</th>\n",
       "      <td>179</td>\n",
       "      <td>9345</td>\n",
       "      <td>19</td>\n",
       "      <td>14.516667</td>\n",
       "      <td>58</td>\n",
       "      <td>1221</td>\n",
       "    </tr>\n",
       "  </tbody>\n",
       "</table>\n",
       "</div>"
      ],
      "text/plain": [
       "       Nr linii  Numer taborowy  Liczba pasaz. przed  Godzina odjazdu  \\\n",
       "148767      712            9447                    7        18.700000   \n",
       "131812      326            9673                   28         8.645000   \n",
       "63392       179            9345                   19        14.516667   \n",
       "\n",
       "        Godzina odjazdu przedział  Numeryczna nazwa przystanku  \n",
       "148767                         74                          549  \n",
       "131812                         34                          171  \n",
       "63392                          58                         1221  "
      ]
     },
     "execution_count": 276,
     "metadata": {},
     "output_type": "execute_result"
    }
   ],
   "source": [
    "df3 = df3.loc[df['Typ']=='autobus']\n",
    "df3 = df3.drop(columns=['Wariant linii','Nazwa przystanku', 'Numer przystanku', 'Rzeczywisty czas odjazdu', 'Rozkładowy czas odjazdu', 'Kurs', 'Oznaczenie brygady','Typ'], inplace= False)\n",
    "df3 = df3.drop(columns=['Liczba wysiadających pasaz.', 'Liczba wsiadajacych pasaz.', 'Liczba pasaz. po odjezdzie', 'class'], inplace= False)\n",
    "df3.sample(3)"
   ]
  },
  {
   "cell_type": "code",
   "execution_count": null,
   "id": "45c530b8",
   "metadata": {},
   "outputs": [],
   "source": []
  },
  {
   "cell_type": "code",
   "execution_count": 277,
   "id": "f104ff9e",
   "metadata": {},
   "outputs": [
    {
     "data": {
      "text/html": [
       "<div>\n",
       "<style scoped>\n",
       "    .dataframe tbody tr th:only-of-type {\n",
       "        vertical-align: middle;\n",
       "    }\n",
       "\n",
       "    .dataframe tbody tr th {\n",
       "        vertical-align: top;\n",
       "    }\n",
       "\n",
       "    .dataframe thead th {\n",
       "        text-align: right;\n",
       "    }\n",
       "</style>\n",
       "<table border=\"1\" class=\"dataframe\">\n",
       "  <thead>\n",
       "    <tr style=\"text-align: right;\">\n",
       "      <th></th>\n",
       "      <th>Nr linii</th>\n",
       "      <th>Numer taborowy</th>\n",
       "      <th>Godzina odjazdu</th>\n",
       "      <th>Godzina odjazdu przedział</th>\n",
       "      <th>Numeryczna nazwa przystanku</th>\n",
       "    </tr>\n",
       "  </thead>\n",
       "  <tbody>\n",
       "    <tr>\n",
       "      <th>50880</th>\n",
       "      <td>159</td>\n",
       "      <td>9554</td>\n",
       "      <td>15.383333</td>\n",
       "      <td>61</td>\n",
       "      <td>13</td>\n",
       "    </tr>\n",
       "    <tr>\n",
       "      <th>43529</th>\n",
       "      <td>157</td>\n",
       "      <td>9440</td>\n",
       "      <td>10.500000</td>\n",
       "      <td>42</td>\n",
       "      <td>1130</td>\n",
       "    </tr>\n",
       "    <tr>\n",
       "      <th>20473</th>\n",
       "      <td>127</td>\n",
       "      <td>9834</td>\n",
       "      <td>15.433333</td>\n",
       "      <td>61</td>\n",
       "      <td>432</td>\n",
       "    </tr>\n",
       "  </tbody>\n",
       "</table>\n",
       "</div>"
      ],
      "text/plain": [
       "      Nr linii  Numer taborowy  Godzina odjazdu  Godzina odjazdu przedział  \\\n",
       "50880      159            9554        15.383333                         61   \n",
       "43529      157            9440        10.500000                         42   \n",
       "20473      127            9834        15.433333                         61   \n",
       "\n",
       "       Numeryczna nazwa przystanku  \n",
       "50880                           13  \n",
       "43529                         1130  \n",
       "20473                          432  "
      ]
     },
     "execution_count": 277,
     "metadata": {},
     "output_type": "execute_result"
    }
   ],
   "source": [
    "X = df3.drop('Liczba pasaz. przed', axis=1, inplace= False)\n",
    "X.sample(3)"
   ]
  },
  {
   "cell_type": "code",
   "execution_count": 278,
   "id": "442fcca9",
   "metadata": {},
   "outputs": [
    {
     "data": {
      "text/plain": [
       "99644     10\n",
       "7573      10\n",
       "138361    26\n",
       "Name: Liczba pasaz. przed, dtype: int64"
      ]
     },
     "execution_count": 278,
     "metadata": {},
     "output_type": "execute_result"
    }
   ],
   "source": [
    "y = df3[\"Liczba pasaz. przed\"]\n",
    "y.sample(3)"
   ]
  },
  {
   "cell_type": "code",
   "execution_count": 279,
   "id": "d222f603",
   "metadata": {},
   "outputs": [],
   "source": [
    "X_train, X_test, y_train, y_test = train_test_split(X, y, test_size=0.25, random_state=42)"
   ]
  },
  {
   "cell_type": "code",
   "execution_count": 280,
   "id": "baa27b46",
   "metadata": {},
   "outputs": [],
   "source": [
    "model = DecisionTreeRegressor(max_depth = 1000, random_state = 1)"
   ]
  },
  {
   "cell_type": "code",
   "execution_count": 281,
   "id": "54dbc615",
   "metadata": {},
   "outputs": [],
   "source": [
    "#LeaveOneOut CrossValidation with negative mean absolute scores: the higher the scores, the lower mean absolute errors\n",
    "scores1 = cross_validate(model, X_train, y_train, cv = LeaveOneOut(), n_jobs = -1, scoring = 'neg_mean_absolute_error', return_estimator = True)\n",
    "err1 = abs(scores1['estimator'][scores1['test_score'].argmax()].predict(X_test) - y_test)"
   ]
  },
  {
   "cell_type": "code",
   "execution_count": 282,
   "id": "17cf5565",
   "metadata": {},
   "outputs": [],
   "source": [
    "#Bootstrap Out of Bag\n",
    "scores2 = cross_validate(model, X_train, y_train, cv = BootstrapOutOfBag(n_splits=5, random_seed=456), n_jobs = -1, scoring = 'neg_mean_absolute_error', return_estimator = True)\n",
    "err2 = abs(scores2['estimator'][scores2['test_score'].argmax()].predict(X_test) - y_test)"
   ]
  },
  {
   "cell_type": "code",
   "execution_count": 283,
   "id": "34254cd8",
   "metadata": {},
   "outputs": [],
   "source": [
    "#Repeated K-Fold\n",
    "scores3 = cross_validate(model, X_train, y_train, n_jobs = -1, cv = RepeatedKFold(n_splits = 10, n_repeats = 2), scoring = 'neg_mean_absolute_error', return_estimator = True)\n",
    "err3 = abs(scores3['estimator'][scores3['test_score'].argmax()].predict(X_test) - y_test)"
   ]
  },
  {
   "cell_type": "code",
   "execution_count": 284,
   "id": "c630b020",
   "metadata": {},
   "outputs": [],
   "source": [
    "#K-Fold\n",
    "scores4 = cross_validate(model, X_train, y_train, cv = KFold(10), n_jobs=-1, scoring = 'neg_mean_absolute_error',return_estimator = True)\n",
    "err4 = abs(scores4['estimator'][scores4['test_score'].argmax()].predict(X_test) - y_test)"
   ]
  },
  {
   "cell_type": "code",
   "execution_count": 285,
   "id": "4ad8e51d",
   "metadata": {},
   "outputs": [],
   "source": [
    "d_err = []\n",
    "d_err = pd.DataFrame({'Err':err1, 'Type': 'LOO'})\n",
    "d_err = d_err.append(pd.DataFrame({'Err':err2, 'Type': 'BootOOB'}),ignore_index=True)\n",
    "d_err = d_err.append(pd.DataFrame({'Err':err3, 'Type': 'Repeated KFold'}),ignore_index=True)\n",
    "d_err = d_err.append(pd.DataFrame({'Err':err4, 'Type': 'KFold'}),ignore_index=True)"
   ]
  },
  {
   "cell_type": "code",
   "execution_count": 286,
   "id": "c95fddae",
   "metadata": {},
   "outputs": [
    {
     "data": {
      "image/png": "[encoded data removed]",
      "text/plain": [
       "<Figure size 1080x720 with 1 Axes>"
      ]
     },
     "metadata": {},
     "output_type": "display_data"
    }
   ],
   "source": [
    "plt.figure(figsize = (15,10))\n",
    "g = sns.ecdfplot(d_err, x = \"Err\", hue = 'Type')\n",
    "#g.set(xlim = (0, 10))"
   ]
  },
  {
   "cell_type": "code",
   "execution_count": 287,
   "id": "a46aa837",
   "metadata": {},
   "outputs": [
    {
     "data": {
      "text/html": [
       "<div>\n",
       "<style scoped>\n",
       "    .dataframe tbody tr th:only-of-type {\n",
       "        vertical-align: middle;\n",
       "    }\n",
       "\n",
       "    .dataframe tbody tr th {\n",
       "        vertical-align: top;\n",
       "    }\n",
       "\n",
       "    .dataframe thead tr th {\n",
       "        text-align: left;\n",
       "    }\n",
       "\n",
       "    .dataframe thead tr:last-of-type th {\n",
       "        text-align: right;\n",
       "    }\n",
       "</style>\n",
       "<table border=\"1\" class=\"dataframe\">\n",
       "  <thead>\n",
       "    <tr>\n",
       "      <th></th>\n",
       "      <th colspan=\"8\" halign=\"left\">Err</th>\n",
       "    </tr>\n",
       "    <tr>\n",
       "      <th></th>\n",
       "      <th>count</th>\n",
       "      <th>mean</th>\n",
       "      <th>std</th>\n",
       "      <th>min</th>\n",
       "      <th>25%</th>\n",
       "      <th>50%</th>\n",
       "      <th>75%</th>\n",
       "      <th>max</th>\n",
       "    </tr>\n",
       "    <tr>\n",
       "      <th>Type</th>\n",
       "      <th></th>\n",
       "      <th></th>\n",
       "      <th></th>\n",
       "      <th></th>\n",
       "      <th></th>\n",
       "      <th></th>\n",
       "      <th></th>\n",
       "      <th></th>\n",
       "    </tr>\n",
       "  </thead>\n",
       "  <tbody>\n",
       "    <tr>\n",
       "      <th>BootOOB</th>\n",
       "      <td>440.0</td>\n",
       "      <td>10.75</td>\n",
       "      <td>11.03</td>\n",
       "      <td>0.0</td>\n",
       "      <td>3.0</td>\n",
       "      <td>7.0</td>\n",
       "      <td>14.0</td>\n",
       "      <td>69.0</td>\n",
       "    </tr>\n",
       "    <tr>\n",
       "      <th>KFold</th>\n",
       "      <td>440.0</td>\n",
       "      <td>10.05</td>\n",
       "      <td>10.54</td>\n",
       "      <td>0.0</td>\n",
       "      <td>2.0</td>\n",
       "      <td>6.5</td>\n",
       "      <td>14.0</td>\n",
       "      <td>71.0</td>\n",
       "    </tr>\n",
       "    <tr>\n",
       "      <th>LOO</th>\n",
       "      <td>440.0</td>\n",
       "      <td>9.64</td>\n",
       "      <td>10.63</td>\n",
       "      <td>0.0</td>\n",
       "      <td>3.0</td>\n",
       "      <td>6.0</td>\n",
       "      <td>13.0</td>\n",
       "      <td>80.0</td>\n",
       "    </tr>\n",
       "    <tr>\n",
       "      <th>Repeated KFold</th>\n",
       "      <td>440.0</td>\n",
       "      <td>9.59</td>\n",
       "      <td>10.25</td>\n",
       "      <td>0.0</td>\n",
       "      <td>2.0</td>\n",
       "      <td>6.0</td>\n",
       "      <td>13.0</td>\n",
       "      <td>55.0</td>\n",
       "    </tr>\n",
       "  </tbody>\n",
       "</table>\n",
       "</div>"
      ],
      "text/plain": [
       "                  Err                                         \n",
       "                count   mean    std  min  25%  50%   75%   max\n",
       "Type                                                          \n",
       "BootOOB         440.0  10.75  11.03  0.0  3.0  7.0  14.0  69.0\n",
       "KFold           440.0  10.05  10.54  0.0  2.0  6.5  14.0  71.0\n",
       "LOO             440.0   9.64  10.63  0.0  3.0  6.0  13.0  80.0\n",
       "Repeated KFold  440.0   9.59  10.25  0.0  2.0  6.0  13.0  55.0"
      ]
     },
     "execution_count": 287,
     "metadata": {},
     "output_type": "execute_result"
    }
   ],
   "source": [
    "stats = d_err.groupby('Type').describe().round(2)\n",
    "stats"
   ]
  },
  {
   "cell_type": "code",
   "execution_count": null,
   "id": "e83cea25",
   "metadata": {},
   "outputs": [],
   "source": []
  }
 ],
 "metadata": {
  "interpreter": {
   "hash": "082e9a3bcad0a290d0001e938aa60b99250c6c2ef33a923c00b70f9826caf4b7"
  },
  "kernelspec": {
   "display_name": "Python 3.8.7 64-bit ('3.8')",
   "name": "python3"
  },
  "language_info": {
   "codemirror_mode": {
    "name": "ipython",
    "version": 3
   },
   "file_extension": ".py",
   "mimetype": "text/x-python",
   "name": "python",
   "nbconvert_exporter": "python",
   "pygments_lexer": "ipython3",
   "version": "3.8.7"
  },
  "metadata": {
   "interpreter": {
    "hash": "082e9a3bcad0a290d0001e938aa60b99250c6c2ef33a923c00b70f9826caf4b7"
   }
  }
 },
 "nbformat": 4,
 "nbformat_minor": 5
}
