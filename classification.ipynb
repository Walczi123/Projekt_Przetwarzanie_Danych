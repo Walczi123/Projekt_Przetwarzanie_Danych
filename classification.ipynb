{
 "cells": [
  {
   "cell_type": "markdown",
   "id": "363366a1",
   "metadata": {},
   "source": [
    "# 1. Imports"
   ]
  },
  {
   "cell_type": "code",
   "execution_count": 72,
   "id": "50eb2181",
   "metadata": {},
   "outputs": [],
   "source": [
    "import locale\n",
    "\n",
    "import pandas as pd\n",
    "import numpy as np\n",
    "from sklearn.cluster import KMeans\n",
    "\n",
    "from matplotlib import pyplot as plt\n",
    "import seaborn as sns\n",
    "\n",
    "from datetime import datetime\n",
    "\n",
    "from math import floor\n",
    "\n"
   ]
  },
  {
   "cell_type": "markdown",
   "id": "d4244c35",
   "metadata": {},
   "source": [
    "# 2. Settings"
   ]
  },
  {
   "cell_type": "code",
   "execution_count": 73,
   "id": "370e2737",
   "metadata": {},
   "outputs": [],
   "source": [
    "locale.setlocale(locale.LC_TIME, 'en_US.UTF-8')\n",
    "plt.style.use('ggplot')\n",
    "RANDOM_SEED = 0"
   ]
  },
  {
   "cell_type": "markdown",
   "id": "79718354",
   "metadata": {},
   "source": [
    "# 3. Loading Data"
   ]
  },
  {
   "cell_type": "code",
   "execution_count": 74,
   "id": "cc7331bc",
   "metadata": {},
   "outputs": [],
   "source": [
    "def read_transport_data(filename):\n",
    "    types_mapping = {\n",
    "        'Numer / oznaczenie linii' : str,                                     \n",
    "        'Wariant linii' : str,                                              \n",
    "        'Kurs' : str,                                                        \n",
    "        'Oznaczenie brygady' : str,\n",
    "        'Czas rzeczywisty odjazdu wg. rozkładu' : str,                              \n",
    "        'Czas odjazdu z przystanku' : str,\n",
    "    }\n",
    "\n",
    "    df = pd.read_csv(filename, sep=';', dtype=types_mapping)\n",
    "    df = df.drop(columns='Data')\n",
    "    \n",
    "    names_mapping = {\n",
    "        'Numer / oznaczenie linii' : 'Nr linii',                                     \n",
    "        # 'Wariant linii'                                                    \n",
    "        # 'Kurs'                                                                \n",
    "        # 'Oznaczenie brygady'                                                  \n",
    "        # 'Numer taborowy'                                                     \n",
    "        # 'Nazwa przystanku'                                                    \n",
    "        # 'Numer przystanku'                                                   \n",
    "        'Czas rzeczywisty odjazdu wg. rozkładu' : 'Rzeczywisty czas odjazdu',                              \n",
    "        'Czas odjazdu z przystanku' : 'Rozkładowy czas odjazdu',                                      \n",
    "        'Liczba pasażerów w pojeździe przed przystankiem (dane skorygowane)' : 'Liczba pasaz. przed',  \n",
    "        'Liczba osób które wysiadły (dane skorygowane)' : 'Liczba wysiadających pasaz.',                       \n",
    "        'Liczba osób które wsiadły (dane skorygowane)' : 'Liczba wsiadajacych pasaz.',                     \n",
    "        'Liczba pasażerów w pojeździe po odjeździe (dane skorygowane)' : 'Liczba pasaz. po odjezdzie'\n",
    "    }\n",
    "    df.rename(columns=names_mapping, inplace=True)\n",
    "\n",
    "    \n",
    "\n",
    "    return df"
   ]
  },
  {
   "cell_type": "code",
   "execution_count": 75,
   "id": "0223bcf6",
   "metadata": {},
   "outputs": [],
   "source": [
    "df = read_transport_data('./data/SZP-2021-09-03.csv')"
   ]
  },
  {
   "cell_type": "markdown",
   "id": "7246902e",
   "metadata": {},
   "source": [
    "# 4. Inspecting Data"
   ]
  },
  {
   "cell_type": "code",
   "execution_count": 76,
   "id": "63847ac0",
   "metadata": {},
   "outputs": [
    {
     "name": "stdout",
     "output_type": "stream",
     "text": [
      "<class 'pandas.core.frame.DataFrame'>\n",
      "RangeIndex: 177546 entries, 0 to 177545\n",
      "Data columns (total 13 columns):\n",
      " #   Column                       Non-Null Count   Dtype \n",
      "---  ------                       --------------   ----- \n",
      " 0   Nr linii                     177546 non-null  object\n",
      " 1   Wariant linii                177546 non-null  object\n",
      " 2   Kurs                         177546 non-null  object\n",
      " 3   Oznaczenie brygady           177546 non-null  object\n",
      " 4   Numer taborowy               177546 non-null  int64 \n",
      " 5   Nazwa przystanku             177546 non-null  object\n",
      " 6   Numer przystanku             177546 non-null  int64 \n",
      " 7   Rzeczywisty czas odjazdu     172273 non-null  object\n",
      " 8   Rozkładowy czas odjazdu      177546 non-null  object\n",
      " 9   Liczba pasaz. przed          177546 non-null  int64 \n",
      " 10  Liczba wysiadających pasaz.  177546 non-null  int64 \n",
      " 11  Liczba wsiadajacych pasaz.   177546 non-null  int64 \n",
      " 12  Liczba pasaz. po odjezdzie   177546 non-null  int64 \n",
      "dtypes: int64(6), object(7)\n",
      "memory usage: 17.6+ MB\n"
     ]
    }
   ],
   "source": [
    "df.info()"
   ]
  },
  {
   "cell_type": "code",
   "execution_count": 77,
   "id": "68c69d5f",
   "metadata": {},
   "outputs": [
    {
     "data": {
      "text/html": [
       "<div>\n",
       "<style scoped>\n",
       "    .dataframe tbody tr th:only-of-type {\n",
       "        vertical-align: middle;\n",
       "    }\n",
       "\n",
       "    .dataframe tbody tr th {\n",
       "        vertical-align: top;\n",
       "    }\n",
       "\n",
       "    .dataframe thead th {\n",
       "        text-align: right;\n",
       "    }\n",
       "</style>\n",
       "<table border=\"1\" class=\"dataframe\">\n",
       "  <thead>\n",
       "    <tr style=\"text-align: right;\">\n",
       "      <th></th>\n",
       "      <th>Nr linii</th>\n",
       "      <th>Wariant linii</th>\n",
       "      <th>Kurs</th>\n",
       "      <th>Oznaczenie brygady</th>\n",
       "      <th>Numer taborowy</th>\n",
       "      <th>Nazwa przystanku</th>\n",
       "      <th>Numer przystanku</th>\n",
       "      <th>Rzeczywisty czas odjazdu</th>\n",
       "      <th>Rozkładowy czas odjazdu</th>\n",
       "      <th>Liczba pasaz. przed</th>\n",
       "      <th>Liczba wysiadających pasaz.</th>\n",
       "      <th>Liczba wsiadajacych pasaz.</th>\n",
       "      <th>Liczba pasaz. po odjezdzie</th>\n",
       "    </tr>\n",
       "  </thead>\n",
       "  <tbody>\n",
       "    <tr>\n",
       "      <th>106250</th>\n",
       "      <td>211</td>\n",
       "      <td>TP-BUK</td>\n",
       "      <td>10:14</td>\n",
       "      <td>5</td>\n",
       "      <td>9223</td>\n",
       "      <td>Płużnicka</td>\n",
       "      <td>2</td>\n",
       "      <td>10:24:00</td>\n",
       "      <td>10:23</td>\n",
       "      <td>10</td>\n",
       "      <td>2</td>\n",
       "      <td>0</td>\n",
       "      <td>8</td>\n",
       "    </tr>\n",
       "    <tr>\n",
       "      <th>140421</th>\n",
       "      <td>525</td>\n",
       "      <td>TP-DWC</td>\n",
       "      <td>09:27</td>\n",
       "      <td>3</td>\n",
       "      <td>9817</td>\n",
       "      <td>Międzylesie</td>\n",
       "      <td>1</td>\n",
       "      <td>09:27:00</td>\n",
       "      <td>09:30</td>\n",
       "      <td>0</td>\n",
       "      <td>0</td>\n",
       "      <td>0</td>\n",
       "      <td>0</td>\n",
       "    </tr>\n",
       "    <tr>\n",
       "      <th>123063</th>\n",
       "      <td>256</td>\n",
       "      <td>TP-ZSZ</td>\n",
       "      <td>20:33</td>\n",
       "      <td>1</td>\n",
       "      <td>9359</td>\n",
       "      <td>Metro Trocka</td>\n",
       "      <td>6</td>\n",
       "      <td>20:42:00</td>\n",
       "      <td>20:43</td>\n",
       "      <td>5</td>\n",
       "      <td>1</td>\n",
       "      <td>11</td>\n",
       "      <td>15</td>\n",
       "    </tr>\n",
       "    <tr>\n",
       "      <th>135916</th>\n",
       "      <td>516</td>\n",
       "      <td>TP-FSO</td>\n",
       "      <td>22:33</td>\n",
       "      <td>5</td>\n",
       "      <td>9414</td>\n",
       "      <td>Tarchomin</td>\n",
       "      <td>4</td>\n",
       "      <td>22:43:00</td>\n",
       "      <td>22:43</td>\n",
       "      <td>3</td>\n",
       "      <td>0</td>\n",
       "      <td>3</td>\n",
       "      <td>6</td>\n",
       "    </tr>\n",
       "    <tr>\n",
       "      <th>150357</th>\n",
       "      <td>715</td>\n",
       "      <td>TP-OKE</td>\n",
       "      <td>15:10</td>\n",
       "      <td>53</td>\n",
       "      <td>9523</td>\n",
       "      <td>Zgorzała</td>\n",
       "      <td>2</td>\n",
       "      <td>15:42:00</td>\n",
       "      <td>15:53</td>\n",
       "      <td>23</td>\n",
       "      <td>0</td>\n",
       "      <td>0</td>\n",
       "      <td>23</td>\n",
       "    </tr>\n",
       "  </tbody>\n",
       "</table>\n",
       "</div>"
      ],
      "text/plain": [
       "       Nr linii Wariant linii   Kurs Oznaczenie brygady  Numer taborowy  \\\n",
       "106250      211        TP-BUK  10:14                  5            9223   \n",
       "140421      525        TP-DWC  09:27                  3            9817   \n",
       "123063      256        TP-ZSZ  20:33                  1            9359   \n",
       "135916      516        TP-FSO  22:33                  5            9414   \n",
       "150357      715        TP-OKE  15:10                 53            9523   \n",
       "\n",
       "       Nazwa przystanku  Numer przystanku Rzeczywisty czas odjazdu  \\\n",
       "106250        Płużnicka                 2                 10:24:00   \n",
       "140421      Międzylesie                 1                 09:27:00   \n",
       "123063     Metro Trocka                 6                 20:42:00   \n",
       "135916        Tarchomin                 4                 22:43:00   \n",
       "150357         Zgorzała                 2                 15:42:00   \n",
       "\n",
       "       Rozkładowy czas odjazdu  Liczba pasaz. przed  \\\n",
       "106250                   10:23                   10   \n",
       "140421                   09:30                    0   \n",
       "123063                   20:43                    5   \n",
       "135916                   22:43                    3   \n",
       "150357                   15:53                   23   \n",
       "\n",
       "        Liczba wysiadających pasaz.  Liczba wsiadajacych pasaz.  \\\n",
       "106250                            2                           0   \n",
       "140421                            0                           0   \n",
       "123063                            1                          11   \n",
       "135916                            0                           3   \n",
       "150357                            0                           0   \n",
       "\n",
       "        Liczba pasaz. po odjezdzie  \n",
       "106250                           8  \n",
       "140421                           0  \n",
       "123063                          15  \n",
       "135916                           6  \n",
       "150357                          23  "
      ]
     },
     "execution_count": 77,
     "metadata": {},
     "output_type": "execute_result"
    }
   ],
   "source": [
    "df.sample(5)"
   ]
  },
  {
   "cell_type": "code",
   "execution_count": 78,
   "id": "e1e1ef85",
   "metadata": {},
   "outputs": [
    {
     "data": {
      "text/html": [
       "<div>\n",
       "<style scoped>\n",
       "    .dataframe tbody tr th:only-of-type {\n",
       "        vertical-align: middle;\n",
       "    }\n",
       "\n",
       "    .dataframe tbody tr th {\n",
       "        vertical-align: top;\n",
       "    }\n",
       "\n",
       "    .dataframe thead th {\n",
       "        text-align: right;\n",
       "    }\n",
       "</style>\n",
       "<table border=\"1\" class=\"dataframe\">\n",
       "  <thead>\n",
       "    <tr style=\"text-align: right;\">\n",
       "      <th></th>\n",
       "      <th>Numer taborowy</th>\n",
       "      <th>Numer przystanku</th>\n",
       "      <th>Liczba pasaz. przed</th>\n",
       "      <th>Liczba wysiadających pasaz.</th>\n",
       "      <th>Liczba wsiadajacych pasaz.</th>\n",
       "      <th>Liczba pasaz. po odjezdzie</th>\n",
       "    </tr>\n",
       "  </thead>\n",
       "  <tbody>\n",
       "    <tr>\n",
       "      <th>count</th>\n",
       "      <td>177546.000000</td>\n",
       "      <td>177546.000000</td>\n",
       "      <td>177546.000000</td>\n",
       "      <td>177546.000000</td>\n",
       "      <td>177546.000000</td>\n",
       "      <td>177546.000000</td>\n",
       "    </tr>\n",
       "    <tr>\n",
       "      <th>mean</th>\n",
       "      <td>9513.375953</td>\n",
       "      <td>3.437903</td>\n",
       "      <td>12.060711</td>\n",
       "      <td>1.560435</td>\n",
       "      <td>1.570534</td>\n",
       "      <td>12.070810</td>\n",
       "    </tr>\n",
       "    <tr>\n",
       "      <th>std</th>\n",
       "      <td>265.044802</td>\n",
       "      <td>7.857952</td>\n",
       "      <td>12.341741</td>\n",
       "      <td>3.136487</td>\n",
       "      <td>3.192504</td>\n",
       "      <td>12.335713</td>\n",
       "    </tr>\n",
       "    <tr>\n",
       "      <th>min</th>\n",
       "      <td>9061.000000</td>\n",
       "      <td>1.000000</td>\n",
       "      <td>-3.000000</td>\n",
       "      <td>0.000000</td>\n",
       "      <td>0.000000</td>\n",
       "      <td>0.000000</td>\n",
       "    </tr>\n",
       "    <tr>\n",
       "      <th>25%</th>\n",
       "      <td>9319.000000</td>\n",
       "      <td>1.000000</td>\n",
       "      <td>4.000000</td>\n",
       "      <td>0.000000</td>\n",
       "      <td>0.000000</td>\n",
       "      <td>4.000000</td>\n",
       "    </tr>\n",
       "    <tr>\n",
       "      <th>50%</th>\n",
       "      <td>9452.000000</td>\n",
       "      <td>2.000000</td>\n",
       "      <td>9.000000</td>\n",
       "      <td>0.000000</td>\n",
       "      <td>0.000000</td>\n",
       "      <td>9.000000</td>\n",
       "    </tr>\n",
       "    <tr>\n",
       "      <th>75%</th>\n",
       "      <td>9806.000000</td>\n",
       "      <td>3.000000</td>\n",
       "      <td>16.000000</td>\n",
       "      <td>2.000000</td>\n",
       "      <td>2.000000</td>\n",
       "      <td>16.000000</td>\n",
       "    </tr>\n",
       "    <tr>\n",
       "      <th>max</th>\n",
       "      <td>9955.000000</td>\n",
       "      <td>88.000000</td>\n",
       "      <td>133.000000</td>\n",
       "      <td>124.000000</td>\n",
       "      <td>110.000000</td>\n",
       "      <td>133.000000</td>\n",
       "    </tr>\n",
       "  </tbody>\n",
       "</table>\n",
       "</div>"
      ],
      "text/plain": [
       "       Numer taborowy  Numer przystanku  Liczba pasaz. przed  \\\n",
       "count   177546.000000     177546.000000        177546.000000   \n",
       "mean      9513.375953          3.437903            12.060711   \n",
       "std        265.044802          7.857952            12.341741   \n",
       "min       9061.000000          1.000000            -3.000000   \n",
       "25%       9319.000000          1.000000             4.000000   \n",
       "50%       9452.000000          2.000000             9.000000   \n",
       "75%       9806.000000          3.000000            16.000000   \n",
       "max       9955.000000         88.000000           133.000000   \n",
       "\n",
       "       Liczba wysiadających pasaz.  Liczba wsiadajacych pasaz.  \\\n",
       "count                177546.000000               177546.000000   \n",
       "mean                      1.560435                    1.570534   \n",
       "std                       3.136487                    3.192504   \n",
       "min                       0.000000                    0.000000   \n",
       "25%                       0.000000                    0.000000   \n",
       "50%                       0.000000                    0.000000   \n",
       "75%                       2.000000                    2.000000   \n",
       "max                     124.000000                  110.000000   \n",
       "\n",
       "       Liczba pasaz. po odjezdzie  \n",
       "count               177546.000000  \n",
       "mean                    12.070810  \n",
       "std                     12.335713  \n",
       "min                      0.000000  \n",
       "25%                      4.000000  \n",
       "50%                      9.000000  \n",
       "75%                     16.000000  \n",
       "max                    133.000000  "
      ]
     },
     "execution_count": 78,
     "metadata": {},
     "output_type": "execute_result"
    }
   ],
   "source": [
    "df.describe()"
   ]
  },
  {
   "cell_type": "markdown",
   "id": "08c2bb31",
   "metadata": {},
   "source": [
    "# 4.1. Check data"
   ]
  },
  {
   "cell_type": "code",
   "execution_count": 79,
   "id": "a60a72d6",
   "metadata": {},
   "outputs": [
    {
     "name": "stdout",
     "output_type": "stream",
     "text": [
      "Amount of invalid data: 2\n"
     ]
    }
   ],
   "source": [
    "counter = 0\n",
    "counter += len(df.loc[df['Liczba pasaz. przed'] - df['Liczba wysiadających pasaz.'] + df['Liczba wsiadajacych pasaz.'] != df['Liczba pasaz. po odjezdzie']])\n",
    "counter += len(df[df['Liczba pasaz. przed'] < 0])\n",
    "print(f'Amount of invalid data: {counter}')"
   ]
  },
  {
   "cell_type": "markdown",
   "id": "432fdbe8",
   "metadata": {},
   "source": [
    "# 4.2. Remove errors"
   ]
  },
  {
   "cell_type": "code",
   "execution_count": 80,
   "id": "7ac17e60",
   "metadata": {},
   "outputs": [],
   "source": [
    "df.drop(df[df['Liczba pasaz. przed'] < 0].index, inplace=True) # remove invlid amout of passengers\n",
    "\n",
    "df.drop(df[df['Kurs'].str[:2] > '23'].index, inplace= True)\n",
    "\n",
    "is_NaN = df.isnull()\n",
    "row_has_NaN = is_NaN.any(axis=1)\n",
    "rows_with_NaN = df[row_has_NaN]\n",
    "\n",
    "df.drop(df[row_has_NaN].index, inplace=True)\n"
   ]
  },
  {
   "cell_type": "markdown",
   "id": "05d7ffb3",
   "metadata": {},
   "source": [
    "# 4.3. Parse data"
   ]
  },
  {
   "cell_type": "code",
   "execution_count": 81,
   "id": "d0a15a5f",
   "metadata": {},
   "outputs": [],
   "source": [
    "def make_date_one_type(x):\n",
    "    return pd.Timestamp(x)"
   ]
  },
  {
   "cell_type": "code",
   "execution_count": 82,
   "id": "673064c0",
   "metadata": {},
   "outputs": [],
   "source": [
    "df['Kurs'] = df['Kurs'].apply(lambda x: make_date_one_type(x))\n",
    "df['Rzeczywisty czas odjazdu'] = df['Rzeczywisty czas odjazdu'].apply(lambda x: make_date_one_type(x))\n",
    "df['Rozkładowy czas odjazdu'] = df['Rozkładowy czas odjazdu'].apply(lambda x: make_date_one_type(x))"
   ]
  },
  {
   "cell_type": "code",
   "execution_count": 83,
   "id": "885d6e48",
   "metadata": {},
   "outputs": [],
   "source": [
    "df['Godzina odjazdu'] = df['Rozkładowy czas odjazdu'].apply(lambda x: x.hour + x.minute/60 + x.second/3600)\n",
    "df['Godzina odjazdu przedział'] = df['Rozkładowy czas odjazdu'].apply(lambda x: x.hour * 4 + floor(x.minute/15))"
   ]
  },
  {
   "cell_type": "markdown",
   "id": "ab2292c3",
   "metadata": {},
   "source": [
    "# 4.4. New data"
   ]
  },
  {
   "cell_type": "code",
   "execution_count": 84,
   "id": "1d329c09",
   "metadata": {},
   "outputs": [],
   "source": [
    "trans_type = []\n",
    "for nr in df['Nr linii']:\n",
    "    if nr.isnumeric():\n",
    "        trans_type.append('autobus')\n",
    "    elif nr[0] == 'N':\n",
    "        trans_type.append('nocny')\n",
    "    elif nr[0] == 'Z':\n",
    "        trans_type.append('zastepczy')\n",
    "    else:\n",
    "        trans_type.append('inny')\n",
    "df['Typ'] = trans_type"
   ]
  },
  {
   "cell_type": "code",
   "execution_count": 85,
   "id": "9e9d8682",
   "metadata": {},
   "outputs": [
    {
     "data": {
      "text/html": [
       "<div>\n",
       "<style scoped>\n",
       "    .dataframe tbody tr th:only-of-type {\n",
       "        vertical-align: middle;\n",
       "    }\n",
       "\n",
       "    .dataframe tbody tr th {\n",
       "        vertical-align: top;\n",
       "    }\n",
       "\n",
       "    .dataframe thead th {\n",
       "        text-align: right;\n",
       "    }\n",
       "</style>\n",
       "<table border=\"1\" class=\"dataframe\">\n",
       "  <thead>\n",
       "    <tr style=\"text-align: right;\">\n",
       "      <th></th>\n",
       "      <th>Nr linii</th>\n",
       "      <th>Wariant linii</th>\n",
       "      <th>Kurs</th>\n",
       "      <th>Oznaczenie brygady</th>\n",
       "      <th>Numer taborowy</th>\n",
       "      <th>Nazwa przystanku</th>\n",
       "      <th>Numer przystanku</th>\n",
       "      <th>Rzeczywisty czas odjazdu</th>\n",
       "      <th>Rozkładowy czas odjazdu</th>\n",
       "      <th>Liczba pasaz. przed</th>\n",
       "      <th>Liczba wysiadających pasaz.</th>\n",
       "      <th>Liczba wsiadajacych pasaz.</th>\n",
       "      <th>Liczba pasaz. po odjezdzie</th>\n",
       "      <th>Godzina odjazdu</th>\n",
       "      <th>Godzina odjazdu przedział</th>\n",
       "      <th>Typ</th>\n",
       "    </tr>\n",
       "  </thead>\n",
       "  <tbody>\n",
       "    <tr>\n",
       "      <th>31101</th>\n",
       "      <td>142</td>\n",
       "      <td>TP-ALE</td>\n",
       "      <td>2022-01-03 17:12:00</td>\n",
       "      <td>2</td>\n",
       "      <td>9357</td>\n",
       "      <td>Zwoleńska</td>\n",
       "      <td>1</td>\n",
       "      <td>2022-01-03 17:36:00</td>\n",
       "      <td>2022-01-03 17:36:00</td>\n",
       "      <td>13</td>\n",
       "      <td>1</td>\n",
       "      <td>1</td>\n",
       "      <td>13</td>\n",
       "      <td>17.600000</td>\n",
       "      <td>70</td>\n",
       "      <td>autobus</td>\n",
       "    </tr>\n",
       "    <tr>\n",
       "      <th>39126</th>\n",
       "      <td>152</td>\n",
       "      <td>TX-TRC</td>\n",
       "      <td>2022-01-03 20:49:00</td>\n",
       "      <td>3</td>\n",
       "      <td>9695</td>\n",
       "      <td>Milenijna</td>\n",
       "      <td>2</td>\n",
       "      <td>2022-01-03 21:02:00</td>\n",
       "      <td>2022-01-03 21:02:19</td>\n",
       "      <td>5</td>\n",
       "      <td>0</td>\n",
       "      <td>0</td>\n",
       "      <td>5</td>\n",
       "      <td>21.038611</td>\n",
       "      <td>84</td>\n",
       "      <td>autobus</td>\n",
       "    </tr>\n",
       "    <tr>\n",
       "      <th>115214</th>\n",
       "      <td>220</td>\n",
       "      <td>TX-NBMP</td>\n",
       "      <td>2022-01-03 05:40:00</td>\n",
       "      <td>3</td>\n",
       "      <td>9510</td>\n",
       "      <td>Szobera</td>\n",
       "      <td>2</td>\n",
       "      <td>2022-01-03 05:55:00</td>\n",
       "      <td>2022-01-03 05:59:00</td>\n",
       "      <td>12</td>\n",
       "      <td>0</td>\n",
       "      <td>0</td>\n",
       "      <td>12</td>\n",
       "      <td>5.983333</td>\n",
       "      <td>23</td>\n",
       "      <td>autobus</td>\n",
       "    </tr>\n",
       "  </tbody>\n",
       "</table>\n",
       "</div>"
      ],
      "text/plain": [
       "       Nr linii Wariant linii                Kurs Oznaczenie brygady  \\\n",
       "31101       142        TP-ALE 2022-01-03 17:12:00                  2   \n",
       "39126       152        TX-TRC 2022-01-03 20:49:00                  3   \n",
       "115214      220       TX-NBMP 2022-01-03 05:40:00                  3   \n",
       "\n",
       "        Numer taborowy Nazwa przystanku  Numer przystanku  \\\n",
       "31101             9357        Zwoleńska                 1   \n",
       "39126             9695        Milenijna                 2   \n",
       "115214            9510          Szobera                 2   \n",
       "\n",
       "       Rzeczywisty czas odjazdu Rozkładowy czas odjazdu  Liczba pasaz. przed  \\\n",
       "31101       2022-01-03 17:36:00     2022-01-03 17:36:00                   13   \n",
       "39126       2022-01-03 21:02:00     2022-01-03 21:02:19                    5   \n",
       "115214      2022-01-03 05:55:00     2022-01-03 05:59:00                   12   \n",
       "\n",
       "        Liczba wysiadających pasaz.  Liczba wsiadajacych pasaz.  \\\n",
       "31101                             1                           1   \n",
       "39126                             0                           0   \n",
       "115214                            0                           0   \n",
       "\n",
       "        Liczba pasaz. po odjezdzie  Godzina odjazdu  \\\n",
       "31101                           13        17.600000   \n",
       "39126                            5        21.038611   \n",
       "115214                          12         5.983333   \n",
       "\n",
       "        Godzina odjazdu przedział      Typ  \n",
       "31101                          70  autobus  \n",
       "39126                          84  autobus  \n",
       "115214                         23  autobus  "
      ]
     },
     "execution_count": 85,
     "metadata": {},
     "output_type": "execute_result"
    }
   ],
   "source": [
    "df.sample(3)"
   ]
  },
  {
   "cell_type": "markdown",
   "id": "cef0c297",
   "metadata": {},
   "source": [
    "## 4.5 Clustering"
   ]
  },
  {
   "cell_type": "code",
   "execution_count": 86,
   "id": "ab7f3058",
   "metadata": {},
   "outputs": [],
   "source": [
    "def find_clusters(speeds, iterations, df, column):\n",
    "    k = len(speeds)\n",
    "    data = np.array(df[column]).reshape(1,-1).T\n",
    "    clusters = KMeans(\n",
    "        n_clusters = k,\n",
    "        max_iter = iterations,\n",
    "        random_state = RANDOM_SEED\n",
    "    ).fit(data)\n",
    "    \n",
    "    cc, *_ = clusters.cluster_centers_.reshape(1,k)\n",
    "    cc_ord = np.argsort(cc)\n",
    "    class_mapping = dict(zip(cc_ord, speeds))\n",
    "    \n",
    "    df['class'] = clusters.labels_\n",
    "    df['class'] = df['class'].map(class_mapping)\n",
    "    \n",
    "    return df\n",
    "    "
   ]
  },
  {
   "cell_type": "code",
   "execution_count": 112,
   "id": "6185c431",
   "metadata": {},
   "outputs": [],
   "source": [
    "# crowding = ['pusto','małe zatłoczenie', 'średnie zatłoczenie', 'duze zatłoczenie', 'olbrzymie zatłoczenie']\n",
    "crowding = [0, 1, 2, 3, 4]\n",
    "iterations = 10\n",
    "\n",
    "df = find_clusters(crowding, iterations, df, 'Liczba pasaz. przed')"
   ]
  },
  {
   "cell_type": "code",
   "execution_count": 120,
   "id": "4021b6ca",
   "metadata": {},
   "outputs": [
    {
     "data": {
      "text/plain": [
       "<Figure size 720x576 with 0 Axes>"
      ]
     },
     "metadata": {},
     "output_type": "display_data"
    },
    {
     "data": {
      "image/png": "[encoded data removed]",
      "text/plain": [
       "<Figure size 402.375x360 with 1 Axes>"
      ]
     },
     "metadata": {},
     "output_type": "display_data"
    }
   ],
   "source": [
    "plt.figure(figsize=(10, 8))\n",
    "ax = sns.displot(\n",
    "    df,\n",
    "    x='Liczba pasaz. przed',\n",
    "    hue='class',\n",
    "    kind='kde'\n",
    ")"
   ]
  },
  {
   "cell_type": "markdown",
   "id": "77534a71",
   "metadata": {},
   "source": [
    "## 1 autobus"
   ]
  },
  {
   "cell_type": "code",
   "execution_count": 175,
   "id": "6d0c170f",
   "metadata": {},
   "outputs": [
    {
     "data": {
      "text/plain": [
       "'102'"
      ]
     },
     "execution_count": 175,
     "metadata": {},
     "output_type": "execute_result"
    }
   ],
   "source": [
    "tmp  = df['Nr linii'].unique()[0]\n",
    "tmp"
   ]
  },
  {
   "cell_type": "code",
   "execution_count": 181,
   "id": "36016110",
   "metadata": {},
   "outputs": [
    {
     "data": {
      "text/plain": [
       "1845"
      ]
     },
     "execution_count": 181,
     "metadata": {},
     "output_type": "execute_result"
    }
   ],
   "source": [
    "df = df[df['Nr linii'] == tmp]\n",
    "N = len(df)\n",
    "N"
   ]
  },
  {
   "cell_type": "markdown",
   "id": "19640590",
   "metadata": {},
   "source": [
    "## 5. Classification"
   ]
  },
  {
   "cell_type": "code",
   "execution_count": 182,
   "id": "5085212c",
   "metadata": {},
   "outputs": [],
   "source": [
    "from sklearn.tree import DecisionTreeRegressor\n",
    "from sklearn.model_selection import train_test_split\n",
    "import datetime as dt\n",
    "from sklearn.model_selection import cross_val_score\n",
    "from sklearn.model_selection import cross_validate\n",
    "from sklearn.model_selection import LeaveOneOut\n",
    "from sklearn.model_selection import KFold\n",
    "from sklearn.model_selection import RepeatedKFold\n",
    "from mlxtend.evaluate import bootstrap_point632_score\n",
    "from mlxtend.evaluate import BootstrapOutOfBag\n",
    "from mlxtend.evaluate import bootstrap\n",
    "\n",
    "import seaborn as sns\n",
    "import matplotlib.pyplot as plt"
   ]
  },
  {
   "cell_type": "code",
   "execution_count": 183,
   "id": "42784a25",
   "metadata": {},
   "outputs": [
    {
     "data": {
      "text/plain": [
       "1845"
      ]
     },
     "execution_count": 183,
     "metadata": {},
     "output_type": "execute_result"
    }
   ],
   "source": [
    "df2 = df.sample(n = N, random_state = 100)\n",
    "len(df2)"
   ]
  },
  {
   "cell_type": "code",
   "execution_count": 184,
   "id": "de3aa6d3",
   "metadata": {},
   "outputs": [
    {
     "data": {
      "text/html": [
       "<div>\n",
       "<style scoped>\n",
       "    .dataframe tbody tr th:only-of-type {\n",
       "        vertical-align: middle;\n",
       "    }\n",
       "\n",
       "    .dataframe tbody tr th {\n",
       "        vertical-align: top;\n",
       "    }\n",
       "\n",
       "    .dataframe thead th {\n",
       "        text-align: right;\n",
       "    }\n",
       "</style>\n",
       "<table border=\"1\" class=\"dataframe\">\n",
       "  <thead>\n",
       "    <tr style=\"text-align: right;\">\n",
       "      <th></th>\n",
       "      <th>Nr linii</th>\n",
       "      <th>Numer taborowy</th>\n",
       "      <th>Godzina odjazdu</th>\n",
       "      <th>Godzina odjazdu przedział</th>\n",
       "      <th>class</th>\n",
       "    </tr>\n",
       "  </thead>\n",
       "  <tbody>\n",
       "    <tr>\n",
       "      <th>1372</th>\n",
       "      <td>102</td>\n",
       "      <td>9445</td>\n",
       "      <td>9.283333</td>\n",
       "      <td>37</td>\n",
       "      <td>2</td>\n",
       "    </tr>\n",
       "    <tr>\n",
       "      <th>1555</th>\n",
       "      <td>102</td>\n",
       "      <td>9445</td>\n",
       "      <td>14.983333</td>\n",
       "      <td>59</td>\n",
       "      <td>2</td>\n",
       "    </tr>\n",
       "    <tr>\n",
       "      <th>1315</th>\n",
       "      <td>102</td>\n",
       "      <td>9445</td>\n",
       "      <td>7.650000</td>\n",
       "      <td>30</td>\n",
       "      <td>0</td>\n",
       "    </tr>\n",
       "  </tbody>\n",
       "</table>\n",
       "</div>"
      ],
      "text/plain": [
       "     Nr linii  Numer taborowy  Godzina odjazdu  Godzina odjazdu przedział  \\\n",
       "1372      102            9445         9.283333                         37   \n",
       "1555      102            9445        14.983333                         59   \n",
       "1315      102            9445         7.650000                         30   \n",
       "\n",
       "      class  \n",
       "1372      2  \n",
       "1555      2  \n",
       "1315      0  "
      ]
     },
     "execution_count": 184,
     "metadata": {},
     "output_type": "execute_result"
    }
   ],
   "source": [
    "df2 = df2.loc[df['Typ']=='autobus']\n",
    "df2 = df2.drop(columns=['Wariant linii','Nazwa przystanku', 'Numer przystanku', 'Rzeczywisty czas odjazdu', 'Rozkładowy czas odjazdu', 'Kurs', 'Oznaczenie brygady','Typ'], inplace= False)\n",
    "df2 = df2.drop(columns=['Liczba pasaz. przed', 'Liczba wysiadających pasaz.', 'Liczba wsiadajacych pasaz.', 'Liczba pasaz. po odjezdzie'], inplace= False)\n",
    "df2.sample(3)"
   ]
  },
  {
   "cell_type": "code",
   "execution_count": 185,
   "id": "7ae42d9d",
   "metadata": {},
   "outputs": [
    {
     "name": "stdout",
     "output_type": "stream",
     "text": [
      "Index(['Nr linii', 'Numer taborowy', 'Godzina odjazdu',\n",
      "       'Godzina odjazdu przedział'],\n",
      "      dtype='object')\n"
     ]
    }
   ],
   "source": [
    "features = df2.columns[:-1]\n",
    "print(features)"
   ]
  },
  {
   "cell_type": "code",
   "execution_count": 186,
   "id": "cf4ce7a3",
   "metadata": {},
   "outputs": [
    {
     "data": {
      "text/html": [
       "<div>\n",
       "<style scoped>\n",
       "    .dataframe tbody tr th:only-of-type {\n",
       "        vertical-align: middle;\n",
       "    }\n",
       "\n",
       "    .dataframe tbody tr th {\n",
       "        vertical-align: top;\n",
       "    }\n",
       "\n",
       "    .dataframe thead th {\n",
       "        text-align: right;\n",
       "    }\n",
       "</style>\n",
       "<table border=\"1\" class=\"dataframe\">\n",
       "  <thead>\n",
       "    <tr style=\"text-align: right;\">\n",
       "      <th></th>\n",
       "      <th>Nr linii</th>\n",
       "      <th>Numer taborowy</th>\n",
       "      <th>Godzina odjazdu</th>\n",
       "      <th>Godzina odjazdu przedział</th>\n",
       "    </tr>\n",
       "  </thead>\n",
       "  <tbody>\n",
       "    <tr>\n",
       "      <th>398</th>\n",
       "      <td>102</td>\n",
       "      <td>9415</td>\n",
       "      <td>17.283333</td>\n",
       "      <td>69</td>\n",
       "    </tr>\n",
       "    <tr>\n",
       "      <th>1367</th>\n",
       "      <td>102</td>\n",
       "      <td>9445</td>\n",
       "      <td>9.166667</td>\n",
       "      <td>36</td>\n",
       "    </tr>\n",
       "    <tr>\n",
       "      <th>908</th>\n",
       "      <td>102</td>\n",
       "      <td>9450</td>\n",
       "      <td>13.600000</td>\n",
       "      <td>54</td>\n",
       "    </tr>\n",
       "  </tbody>\n",
       "</table>\n",
       "</div>"
      ],
      "text/plain": [
       "     Nr linii  Numer taborowy  Godzina odjazdu  Godzina odjazdu przedział\n",
       "398       102            9415        17.283333                         69\n",
       "1367      102            9445         9.166667                         36\n",
       "908       102            9450        13.600000                         54"
      ]
     },
     "execution_count": 186,
     "metadata": {},
     "output_type": "execute_result"
    }
   ],
   "source": [
    "X = df2.drop('class', axis=1, inplace= False)\n",
    "X.sample(3)"
   ]
  },
  {
   "cell_type": "code",
   "execution_count": 187,
   "id": "52a1d6e3",
   "metadata": {},
   "outputs": [
    {
     "data": {
      "text/plain": [
       "(1845, 4)"
      ]
     },
     "execution_count": 187,
     "metadata": {},
     "output_type": "execute_result"
    }
   ],
   "source": [
    "X.shape"
   ]
  },
  {
   "cell_type": "code",
   "execution_count": 188,
   "id": "0a93c8cc",
   "metadata": {},
   "outputs": [
    {
     "data": {
      "text/plain": [
       "85      1\n",
       "1267    0\n",
       "491     1\n",
       "Name: class, dtype: int64"
      ]
     },
     "execution_count": 188,
     "metadata": {},
     "output_type": "execute_result"
    }
   ],
   "source": [
    "y = df2[\"class\"]\n",
    "y.sample(3)"
   ]
  },
  {
   "cell_type": "code",
   "execution_count": 189,
   "id": "62ce837a",
   "metadata": {},
   "outputs": [],
   "source": [
    "X_train, X_test, y_train, y_test = train_test_split(X, y, test_size=0.1, random_state=42)"
   ]
  },
  {
   "cell_type": "markdown",
   "id": "5952a136",
   "metadata": {},
   "source": [
    "## DecisionTreeClassifier"
   ]
  },
  {
   "cell_type": "code",
   "execution_count": 190,
   "id": "708998fd",
   "metadata": {},
   "outputs": [],
   "source": [
    "from sklearn.tree import DecisionTreeClassifier\n",
    "from sklearn.metrics import accuracy_score"
   ]
  },
  {
   "cell_type": "code",
   "execution_count": 191,
   "id": "f07a48a3",
   "metadata": {},
   "outputs": [],
   "source": [
    "def create_tree(x, x_test, y, y_test, depth = 3):  \n",
    "    clf = DecisionTreeClassifier(max_depth = depth, random_state = 1)\n",
    "    clf = clf.fit(x, y)\n",
    "    err = accuracy_score(y_test, clf.predict(x_test))\n",
    "    print(\"Accuracy: \", err)\n",
    "    return err"
   ]
  },
  {
   "cell_type": "code",
   "execution_count": 192,
   "id": "af92cd3e",
   "metadata": {},
   "outputs": [
    {
     "name": "stdout",
     "output_type": "stream",
     "text": [
      "Accuracy:  0.5351351351351351\n"
     ]
    }
   ],
   "source": [
    "tr1 = create_tree(X_train, X_test, y_train, y_test, depth = 2)"
   ]
  },
  {
   "cell_type": "code",
   "execution_count": 193,
   "id": "1afd0d34",
   "metadata": {},
   "outputs": [],
   "source": [
    "model = DecisionTreeClassifier(max_depth = 1000, random_state = 1)"
   ]
  },
  {
   "cell_type": "code",
   "execution_count": 194,
   "id": "58a49da3",
   "metadata": {},
   "outputs": [],
   "source": [
    "#LeaveOneOut CrossValidation with negative mean absolute scores: the higher the scores, the lower mean absolute errors\n",
    "scores1 = cross_validate(model, X_train, y_train, cv = LeaveOneOut(), n_jobs = -1, scoring = 'neg_mean_absolute_error', return_estimator = True)\n",
    "err1 = accuracy_score(scores1['estimator'][scores1['test_score'].argmax()].predict(X_test),y_test)"
   ]
  },
  {
   "cell_type": "code",
   "execution_count": 195,
   "id": "f2fe6b59",
   "metadata": {},
   "outputs": [],
   "source": [
    "#Bootstrap Out of Bag\n",
    "scores2 = cross_validate(model, X_train, y_train, cv = BootstrapOutOfBag(n_splits=5, random_seed=456), n_jobs = -1, scoring = 'neg_mean_absolute_error', return_estimator = True)\n",
    "err2 = accuracy_score(scores2['estimator'][scores2['test_score'].argmax()].predict(X_test),y_test)"
   ]
  },
  {
   "cell_type": "code",
   "execution_count": 196,
   "id": "67f01e45",
   "metadata": {},
   "outputs": [],
   "source": [
    "#Repeated K-Fold\n",
    "scores3 = cross_validate(model, X_train, y_train, n_jobs = -1, cv = RepeatedKFold(n_splits = 10, n_repeats = 2), scoring = 'neg_mean_absolute_error', return_estimator = True)\n",
    "err3 = accuracy_score(scores3['estimator'][scores3['test_score'].argmax()].predict(X_test),y_test)"
   ]
  },
  {
   "cell_type": "code",
   "execution_count": 197,
   "id": "a6fb77c8",
   "metadata": {},
   "outputs": [],
   "source": [
    "#K-Fold\n",
    "scores4 = cross_validate(model, X_train, y_train, cv = KFold(10), n_jobs=-1, scoring = 'neg_mean_absolute_error',return_estimator = True)\n",
    "err4 = accuracy_score(scores4['estimator'][scores4['test_score'].argmax()].predict(X_test), y_test)"
   ]
  },
  {
   "cell_type": "code",
   "execution_count": 198,
   "id": "80f8aadd",
   "metadata": {},
   "outputs": [
    {
     "name": "stdout",
     "output_type": "stream",
     "text": [
      "------- Accuracy --------\n",
      "1. Accuracy LeaveOneOut 0.8648648648648649\n",
      "2. Accuracy BootstrapOutOfBag 0.8\n",
      "3. Accuracy RepeatedKFold 0.8540540540540541\n",
      "4. Accuracy KFold 0.8378378378378378\n"
     ]
    }
   ],
   "source": [
    "print(\"------- Accuracy --------\")\n",
    "print(f\"1. Accuracy LeaveOneOut {err1}\")\n",
    "print(f\"2. Accuracy BootstrapOutOfBag {err2}\")\n",
    "print(f\"3. Accuracy RepeatedKFold {err3}\")\n",
    "print(f\"4. Accuracy KFold {err4}\")"
   ]
  },
  {
   "cell_type": "markdown",
   "id": "e849e94a",
   "metadata": {},
   "source": [
    "## Regresja"
   ]
  },
  {
   "cell_type": "code",
   "execution_count": 199,
   "id": "2b387ff9",
   "metadata": {},
   "outputs": [
    {
     "data": {
      "text/plain": [
       "1845"
      ]
     },
     "execution_count": 199,
     "metadata": {},
     "output_type": "execute_result"
    }
   ],
   "source": [
    "df3 = df.sample(n = N, random_state = 100)\n",
    "len(df3)"
   ]
  },
  {
   "cell_type": "code",
   "execution_count": 200,
   "id": "ff0a96f0",
   "metadata": {},
   "outputs": [
    {
     "data": {
      "text/html": [
       "<div>\n",
       "<style scoped>\n",
       "    .dataframe tbody tr th:only-of-type {\n",
       "        vertical-align: middle;\n",
       "    }\n",
       "\n",
       "    .dataframe tbody tr th {\n",
       "        vertical-align: top;\n",
       "    }\n",
       "\n",
       "    .dataframe thead th {\n",
       "        text-align: right;\n",
       "    }\n",
       "</style>\n",
       "<table border=\"1\" class=\"dataframe\">\n",
       "  <thead>\n",
       "    <tr style=\"text-align: right;\">\n",
       "      <th></th>\n",
       "      <th>Nr linii</th>\n",
       "      <th>Numer taborowy</th>\n",
       "      <th>Liczba pasaz. przed</th>\n",
       "      <th>Godzina odjazdu</th>\n",
       "      <th>Godzina odjazdu przedział</th>\n",
       "    </tr>\n",
       "  </thead>\n",
       "  <tbody>\n",
       "    <tr>\n",
       "      <th>1082</th>\n",
       "      <td>102</td>\n",
       "      <td>9450</td>\n",
       "      <td>19</td>\n",
       "      <td>19.466667</td>\n",
       "      <td>77</td>\n",
       "    </tr>\n",
       "    <tr>\n",
       "      <th>1736</th>\n",
       "      <td>102</td>\n",
       "      <td>9445</td>\n",
       "      <td>6</td>\n",
       "      <td>20.233333</td>\n",
       "      <td>80</td>\n",
       "    </tr>\n",
       "    <tr>\n",
       "      <th>1285</th>\n",
       "      <td>102</td>\n",
       "      <td>9445</td>\n",
       "      <td>2</td>\n",
       "      <td>6.700000</td>\n",
       "      <td>26</td>\n",
       "    </tr>\n",
       "  </tbody>\n",
       "</table>\n",
       "</div>"
      ],
      "text/plain": [
       "     Nr linii  Numer taborowy  Liczba pasaz. przed  Godzina odjazdu  \\\n",
       "1082      102            9450                   19        19.466667   \n",
       "1736      102            9445                    6        20.233333   \n",
       "1285      102            9445                    2         6.700000   \n",
       "\n",
       "      Godzina odjazdu przedział  \n",
       "1082                         77  \n",
       "1736                         80  \n",
       "1285                         26  "
      ]
     },
     "execution_count": 200,
     "metadata": {},
     "output_type": "execute_result"
    }
   ],
   "source": [
    "df3 = df3.loc[df['Typ']=='autobus']\n",
    "df3 = df3.drop(columns=['Wariant linii','Nazwa przystanku', 'Numer przystanku', 'Rzeczywisty czas odjazdu', 'Rozkładowy czas odjazdu', 'Kurs', 'Oznaczenie brygady','Typ'], inplace= False)\n",
    "df3 = df3.drop(columns=['Liczba wysiadających pasaz.', 'Liczba wsiadajacych pasaz.', 'Liczba pasaz. po odjezdzie', 'class'], inplace= False)\n",
    "df3.sample(3)"
   ]
  },
  {
   "cell_type": "code",
   "execution_count": null,
   "id": "45c530b8",
   "metadata": {},
   "outputs": [],
   "source": []
  },
  {
   "cell_type": "code",
   "execution_count": 201,
   "id": "f104ff9e",
   "metadata": {},
   "outputs": [
    {
     "data": {
      "text/html": [
       "<div>\n",
       "<style scoped>\n",
       "    .dataframe tbody tr th:only-of-type {\n",
       "        vertical-align: middle;\n",
       "    }\n",
       "\n",
       "    .dataframe tbody tr th {\n",
       "        vertical-align: top;\n",
       "    }\n",
       "\n",
       "    .dataframe thead th {\n",
       "        text-align: right;\n",
       "    }\n",
       "</style>\n",
       "<table border=\"1\" class=\"dataframe\">\n",
       "  <thead>\n",
       "    <tr style=\"text-align: right;\">\n",
       "      <th></th>\n",
       "      <th>Nr linii</th>\n",
       "      <th>Numer taborowy</th>\n",
       "      <th>Godzina odjazdu</th>\n",
       "      <th>Godzina odjazdu przedział</th>\n",
       "    </tr>\n",
       "  </thead>\n",
       "  <tbody>\n",
       "    <tr>\n",
       "      <th>1001</th>\n",
       "      <td>102</td>\n",
       "      <td>9450</td>\n",
       "      <td>16.800000</td>\n",
       "      <td>67</td>\n",
       "    </tr>\n",
       "    <tr>\n",
       "      <th>1177</th>\n",
       "      <td>102</td>\n",
       "      <td>9450</td>\n",
       "      <td>22.450000</td>\n",
       "      <td>89</td>\n",
       "    </tr>\n",
       "    <tr>\n",
       "      <th>1320</th>\n",
       "      <td>102</td>\n",
       "      <td>9445</td>\n",
       "      <td>7.766667</td>\n",
       "      <td>31</td>\n",
       "    </tr>\n",
       "  </tbody>\n",
       "</table>\n",
       "</div>"
      ],
      "text/plain": [
       "     Nr linii  Numer taborowy  Godzina odjazdu  Godzina odjazdu przedział\n",
       "1001      102            9450        16.800000                         67\n",
       "1177      102            9450        22.450000                         89\n",
       "1320      102            9445         7.766667                         31"
      ]
     },
     "execution_count": 201,
     "metadata": {},
     "output_type": "execute_result"
    }
   ],
   "source": [
    "X = df3.drop('Liczba pasaz. przed', axis=1, inplace= False)\n",
    "X.sample(3)"
   ]
  },
  {
   "cell_type": "code",
   "execution_count": 202,
   "id": "442fcca9",
   "metadata": {},
   "outputs": [
    {
     "data": {
      "text/plain": [
       "361    6\n",
       "373    5\n",
       "628    1\n",
       "Name: Liczba pasaz. przed, dtype: int64"
      ]
     },
     "execution_count": 202,
     "metadata": {},
     "output_type": "execute_result"
    }
   ],
   "source": [
    "y = df3[\"Liczba pasaz. przed\"]\n",
    "y.sample(3)"
   ]
  },
  {
   "cell_type": "code",
   "execution_count": 203,
   "id": "d222f603",
   "metadata": {},
   "outputs": [],
   "source": [
    "X_train, X_test, y_train, y_test = train_test_split(X, y, test_size=0.25, random_state=42)"
   ]
  },
  {
   "cell_type": "code",
   "execution_count": 204,
   "id": "baa27b46",
   "metadata": {},
   "outputs": [],
   "source": [
    "model = DecisionTreeRegressor(max_depth = 1000, random_state = 1)"
   ]
  },
  {
   "cell_type": "code",
   "execution_count": 205,
   "id": "54dbc615",
   "metadata": {},
   "outputs": [],
   "source": [
    "#LeaveOneOut CrossValidation with negative mean absolute scores: the higher the scores, the lower mean absolute errors\n",
    "scores1 = cross_validate(model, X_train, y_train, cv = LeaveOneOut(), n_jobs = -1, scoring = 'neg_mean_absolute_error', return_estimator = True)\n",
    "err1 = abs(scores1['estimator'][scores1['test_score'].argmax()].predict(X_test) - y_test)"
   ]
  },
  {
   "cell_type": "code",
   "execution_count": 206,
   "id": "17cf5565",
   "metadata": {},
   "outputs": [],
   "source": [
    "#Bootstrap Out of Bag\n",
    "scores2 = cross_validate(model, X_train, y_train, cv = BootstrapOutOfBag(n_splits=5, random_seed=456), n_jobs = -1, scoring = 'neg_mean_absolute_error', return_estimator = True)\n",
    "err2 = abs(scores2['estimator'][scores2['test_score'].argmax()].predict(X_test) - y_test)"
   ]
  },
  {
   "cell_type": "code",
   "execution_count": 207,
   "id": "34254cd8",
   "metadata": {},
   "outputs": [],
   "source": [
    "#Repeated K-Fold\n",
    "scores3 = cross_validate(model, X_train, y_train, n_jobs = -1, cv = RepeatedKFold(n_splits = 10, n_repeats = 2), scoring = 'neg_mean_absolute_error', return_estimator = True)\n",
    "err3 = abs(scores3['estimator'][scores3['test_score'].argmax()].predict(X_test) - y_test)"
   ]
  },
  {
   "cell_type": "code",
   "execution_count": 208,
   "id": "c630b020",
   "metadata": {},
   "outputs": [],
   "source": [
    "#K-Fold\n",
    "scores4 = cross_validate(model, X_train, y_train, cv = KFold(10), n_jobs=-1, scoring = 'neg_mean_absolute_error',return_estimator = True)\n",
    "err4 = abs(scores4['estimator'][scores4['test_score'].argmax()].predict(X_test) - y_test)"
   ]
  },
  {
   "cell_type": "code",
   "execution_count": 209,
   "id": "4ad8e51d",
   "metadata": {},
   "outputs": [],
   "source": [
    "d_err = []\n",
    "d_err = pd.DataFrame({'Err':err1, 'Type': 'LOO'})\n",
    "d_err = d_err.append(pd.DataFrame({'Err':err2, 'Type': 'BootOOB'}),ignore_index=True)\n",
    "d_err = d_err.append(pd.DataFrame({'Err':err3, 'Type': 'Repeated KFold'}),ignore_index=True)\n",
    "d_err = d_err.append(pd.DataFrame({'Err':err4, 'Type': 'KFold'}),ignore_index=True)"
   ]
  },
  {
   "cell_type": "code",
   "execution_count": 210,
   "id": "c95fddae",
   "metadata": {},
   "outputs": [
    {
     "data": {
      "image/png": "[encoded data removed]",
      "text/plain": [
       "<Figure size 1080x720 with 1 Axes>"
      ]
     },
     "metadata": {},
     "output_type": "display_data"
    }
   ],
   "source": [
    "plt.figure(figsize = (15,10))\n",
    "g = sns.ecdfplot(d_err, x = \"Err\", hue = 'Type')\n",
    "#g.set(xlim = (0, 10))"
   ]
  },
  {
   "cell_type": "code",
   "execution_count": 211,
   "id": "a46aa837",
   "metadata": {},
   "outputs": [
    {
     "data": {
      "text/html": [
       "<div>\n",
       "<style scoped>\n",
       "    .dataframe tbody tr th:only-of-type {\n",
       "        vertical-align: middle;\n",
       "    }\n",
       "\n",
       "    .dataframe tbody tr th {\n",
       "        vertical-align: top;\n",
       "    }\n",
       "\n",
       "    .dataframe thead tr th {\n",
       "        text-align: left;\n",
       "    }\n",
       "\n",
       "    .dataframe thead tr:last-of-type th {\n",
       "        text-align: right;\n",
       "    }\n",
       "</style>\n",
       "<table border=\"1\" class=\"dataframe\">\n",
       "  <thead>\n",
       "    <tr>\n",
       "      <th></th>\n",
       "      <th colspan=\"8\" halign=\"left\">Err</th>\n",
       "    </tr>\n",
       "    <tr>\n",
       "      <th></th>\n",
       "      <th>count</th>\n",
       "      <th>mean</th>\n",
       "      <th>std</th>\n",
       "      <th>min</th>\n",
       "      <th>25%</th>\n",
       "      <th>50%</th>\n",
       "      <th>75%</th>\n",
       "      <th>max</th>\n",
       "    </tr>\n",
       "    <tr>\n",
       "      <th>Type</th>\n",
       "      <th></th>\n",
       "      <th></th>\n",
       "      <th></th>\n",
       "      <th></th>\n",
       "      <th></th>\n",
       "      <th></th>\n",
       "      <th></th>\n",
       "      <th></th>\n",
       "    </tr>\n",
       "  </thead>\n",
       "  <tbody>\n",
       "    <tr>\n",
       "      <th>BootOOB</th>\n",
       "      <td>462.0</td>\n",
       "      <td>2.52</td>\n",
       "      <td>3.18</td>\n",
       "      <td>0.0</td>\n",
       "      <td>0.0</td>\n",
       "      <td>1.0</td>\n",
       "      <td>4.0</td>\n",
       "      <td>20.0</td>\n",
       "    </tr>\n",
       "    <tr>\n",
       "      <th>KFold</th>\n",
       "      <td>462.0</td>\n",
       "      <td>2.20</td>\n",
       "      <td>3.29</td>\n",
       "      <td>0.0</td>\n",
       "      <td>0.0</td>\n",
       "      <td>1.0</td>\n",
       "      <td>3.0</td>\n",
       "      <td>28.0</td>\n",
       "    </tr>\n",
       "    <tr>\n",
       "      <th>LOO</th>\n",
       "      <td>462.0</td>\n",
       "      <td>2.18</td>\n",
       "      <td>3.27</td>\n",
       "      <td>0.0</td>\n",
       "      <td>0.0</td>\n",
       "      <td>1.0</td>\n",
       "      <td>3.0</td>\n",
       "      <td>28.0</td>\n",
       "    </tr>\n",
       "    <tr>\n",
       "      <th>Repeated KFold</th>\n",
       "      <td>462.0</td>\n",
       "      <td>2.34</td>\n",
       "      <td>3.48</td>\n",
       "      <td>0.0</td>\n",
       "      <td>0.0</td>\n",
       "      <td>1.0</td>\n",
       "      <td>3.0</td>\n",
       "      <td>28.0</td>\n",
       "    </tr>\n",
       "  </tbody>\n",
       "</table>\n",
       "</div>"
      ],
      "text/plain": [
       "                  Err                                      \n",
       "                count  mean   std  min  25%  50%  75%   max\n",
       "Type                                                       \n",
       "BootOOB         462.0  2.52  3.18  0.0  0.0  1.0  4.0  20.0\n",
       "KFold           462.0  2.20  3.29  0.0  0.0  1.0  3.0  28.0\n",
       "LOO             462.0  2.18  3.27  0.0  0.0  1.0  3.0  28.0\n",
       "Repeated KFold  462.0  2.34  3.48  0.0  0.0  1.0  3.0  28.0"
      ]
     },
     "execution_count": 211,
     "metadata": {},
     "output_type": "execute_result"
    }
   ],
   "source": [
    "stats = d_err.groupby('Type').describe().round(2)\n",
    "stats"
   ]
  },
  {
   "cell_type": "code",
   "execution_count": null,
   "id": "e83cea25",
   "metadata": {},
   "outputs": [],
   "source": []
  }
 ],
 "metadata": {
  "interpreter": {
   "hash": "082e9a3bcad0a290d0001e938aa60b99250c6c2ef33a923c00b70f9826caf4b7"
  },
  "kernelspec": {
   "display_name": "Python 3.8.7 64-bit ('3.8')",
   "name": "python3"
  },
  "language_info": {
   "codemirror_mode": {
    "name": "ipython",
    "version": 3
   },
   "file_extension": ".py",
   "mimetype": "text/x-python",
   "name": "python",
   "nbconvert_exporter": "python",
   "pygments_lexer": "ipython3",
   "version": "3.8.7"
  },
  "metadata": {
   "interpreter": {
    "hash": "082e9a3bcad0a290d0001e938aa60b99250c6c2ef33a923c00b70f9826caf4b7"
   }
  }
 },
 "nbformat": 4,
 "nbformat_minor": 5
}
