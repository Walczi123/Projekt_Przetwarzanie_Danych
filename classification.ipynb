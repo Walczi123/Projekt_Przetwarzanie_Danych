{
 "cells": [
  {
   "cell_type": "markdown",
   "id": "363366a1",
   "metadata": {},
   "source": [
    "# 1. Imports"
   ]
  },
  {
   "cell_type": "code",
   "execution_count": 1,
   "id": "50eb2181",
   "metadata": {},
   "outputs": [],
   "source": [
    "import locale\n",
    "\n",
    "import pandas as pd\n",
    "import numpy as np\n",
    "from sklearn.cluster import KMeans\n",
    "\n",
    "from matplotlib import pyplot as plt\n",
    "import seaborn as sns\n",
    "\n",
    "from datetime import datetime\n",
    "\n",
    "from math import floor\n",
    "from statistics import mean, stdev, median\n",
    "\n"
   ]
  },
  {
   "cell_type": "code",
   "execution_count": 16,
   "id": "1b8bca16",
   "metadata": {},
   "outputs": [],
   "source": [
    "from data_processing import get_clustered_data_with_bus_only, get_numeric_name, split_into_lines, get_train_and_test_by_lines"
   ]
  },
  {
   "cell_type": "code",
   "execution_count": 2,
   "id": "d95b40e0",
   "metadata": {},
   "outputs": [
    {
     "name": "stdout",
     "output_type": "stream",
     "text": [
      "Amount of invalid data: 2\n"
     ]
    }
   ],
   "source": [
    "df = get_clustered_data_with_bus_only('./data/SZP-2021-09-03.csv')"
   ]
  },
  {
   "cell_type": "code",
   "execution_count": 5,
   "id": "d5e76405",
   "metadata": {},
   "outputs": [],
   "source": [
    "df = get_numeric_name(df, \"Nazwa przystanku\", drop=True)"
   ]
  },
  {
   "cell_type": "code",
   "execution_count": 8,
   "id": "2efb3ff6",
   "metadata": {},
   "outputs": [],
   "source": [
    "d_lines = split_into_lines(df, lower_bound = 2000)\n",
    "len_d_lists=[]\n",
    "for v in d_lines.values():\n",
    "    len_d_lists.append(len(v))"
   ]
  },
  {
   "cell_type": "code",
   "execution_count": 9,
   "id": "08f84a88",
   "metadata": {},
   "outputs": [
    {
     "name": "stdout",
     "output_type": "stream",
     "text": [
      "Różnych linii jest : 34\n",
      "Z czego:\n",
      "Min 2063\n",
      "MAx 7014\n",
      "Mean 3533.470588235294\n",
      "Std 1047.2290199955573\n",
      "Median 3289.0\n"
     ]
    }
   ],
   "source": [
    "print(f'Różnych linii jest : {len(d_lines)}')\n",
    "print('Z czego:')\n",
    "print(f'Min {min(len_d_lists)}')\n",
    "print(f'MAx {max(len_d_lists)}')\n",
    "print(f'Mean {mean(len_d_lists)}')\n",
    "print(f'Std {stdev(len_d_lists)}')\n",
    "print(f'Median {median(len_d_lists)}')"
   ]
  },
  {
   "cell_type": "code",
   "execution_count": 24,
   "id": "edcd2faf",
   "metadata": {},
   "outputs": [],
   "source": [
    "import pandas as pd\n",
    "from sklearn.model_selection import train_test_split"
   ]
  },
  {
   "cell_type": "code",
   "execution_count": 45,
   "id": "abe85809",
   "metadata": {},
   "outputs": [],
   "source": [
    "def get_train_and_test_by_lines(df:pd.DataFrame, X_columns:list, y_columns:list, lines:list = None, lower_bound:int = 4000,  test_size=0.1, random_state=1):\n",
    "    d_lines = split_into_lines(df, lower_bound=lower_bound)\n",
    "    if lines is not None:\n",
    "        for k in d_lines.keys:\n",
    "            if not k in lines:\n",
    "                del d_lines[k]\n",
    "    X_trains = []\n",
    "    X_tests = []\n",
    "    y_trains = []\n",
    "    y_tests = []\n",
    "    for line in d_lines.values():\n",
    "        X = line[X_columns]\n",
    "        y = line[y_columns]\n",
    "        X_train, X_test, y_train, y_test = train_test_split(X, y, test_size=test_size, random_state=random_state)\n",
    "        X_trains.append(X_train)\n",
    "        X_tests.append(X_test)\n",
    "        y_trains.append(y_train)\n",
    "        y_tests.append(y_test)\n",
    "    \n",
    "    df_x_train = pd.concat(X_trains)\n",
    "    df_x_test = pd.concat(X_tests)\n",
    "    df_y_train = pd.concat(y_trains)\n",
    "    df_y_test = pd.concat(y_tests)\n",
    "\n",
    "    return df_x_train, df_x_test, df_y_train, df_y_test"
   ]
  },
  {
   "cell_type": "code",
   "execution_count": 46,
   "id": "fcf74d75",
   "metadata": {},
   "outputs": [],
   "source": [
    "X_train, X_test, y_train, y_test = get_train_and_test_by_lines(df, ['Nr linii', 'Numer taborowy', 'Godzina odjazdu',\n",
    "       'Godzina odjazdu przedział', 'Numeryczna Nazwa przystanku',\n",
    "       'Numeryczna Nazwa przystanku'], [\"class\"])"
   ]
  },
  {
   "cell_type": "code",
   "execution_count": 47,
   "id": "e20009c9",
   "metadata": {},
   "outputs": [
    {
     "data": {
      "text/html": [
       "<div>\n",
       "<style scoped>\n",
       "    .dataframe tbody tr th:only-of-type {\n",
       "        vertical-align: middle;\n",
       "    }\n",
       "\n",
       "    .dataframe tbody tr th {\n",
       "        vertical-align: top;\n",
       "    }\n",
       "\n",
       "    .dataframe thead th {\n",
       "        text-align: right;\n",
       "    }\n",
       "</style>\n",
       "<table border=\"1\" class=\"dataframe\">\n",
       "  <thead>\n",
       "    <tr style=\"text-align: right;\">\n",
       "      <th></th>\n",
       "      <th>Nr linii</th>\n",
       "      <th>Numer taborowy</th>\n",
       "      <th>Godzina odjazdu</th>\n",
       "      <th>Godzina odjazdu przedział</th>\n",
       "      <th>Numeryczna Nazwa przystanku</th>\n",
       "      <th>Numeryczna Nazwa przystanku</th>\n",
       "    </tr>\n",
       "  </thead>\n",
       "  <tbody>\n",
       "    <tr>\n",
       "      <th>15363</th>\n",
       "      <td>123</td>\n",
       "      <td>9438</td>\n",
       "      <td>15.350000</td>\n",
       "      <td>61</td>\n",
       "      <td>176</td>\n",
       "      <td>176</td>\n",
       "    </tr>\n",
       "    <tr>\n",
       "      <th>103767</th>\n",
       "      <td>211</td>\n",
       "      <td>9246</td>\n",
       "      <td>12.316667</td>\n",
       "      <td>49</td>\n",
       "      <td>636</td>\n",
       "      <td>636</td>\n",
       "    </tr>\n",
       "    <tr>\n",
       "      <th>61739</th>\n",
       "      <td>179</td>\n",
       "      <td>9326</td>\n",
       "      <td>20.633333</td>\n",
       "      <td>82</td>\n",
       "      <td>1000</td>\n",
       "      <td>1000</td>\n",
       "    </tr>\n",
       "  </tbody>\n",
       "</table>\n",
       "</div>"
      ],
      "text/plain": [
       "       Nr linii  Numer taborowy  Godzina odjazdu  Godzina odjazdu przedział  \\\n",
       "15363       123            9438        15.350000                         61   \n",
       "103767      211            9246        12.316667                         49   \n",
       "61739       179            9326        20.633333                         82   \n",
       "\n",
       "        Numeryczna Nazwa przystanku  Numeryczna Nazwa przystanku  \n",
       "15363                           176                          176  \n",
       "103767                          636                          636  \n",
       "61739                          1000                         1000  "
      ]
     },
     "execution_count": 47,
     "metadata": {},
     "output_type": "execute_result"
    }
   ],
   "source": [
    "X_train.sample(3)"
   ]
  },
  {
   "cell_type": "code",
   "execution_count": 48,
   "id": "32d0fc4f",
   "metadata": {},
   "outputs": [
    {
     "data": {
      "text/plain": [
       "35861"
      ]
     },
     "execution_count": 48,
     "metadata": {},
     "output_type": "execute_result"
    }
   ],
   "source": [
    "len(X_train)"
   ]
  },
  {
   "cell_type": "markdown",
   "id": "77534a71",
   "metadata": {},
   "source": [
    "## 1 autobus"
   ]
  },
  {
   "cell_type": "code",
   "execution_count": 175,
   "id": "6d0c170f",
   "metadata": {},
   "outputs": [
    {
     "data": {
      "text/plain": [
       "'102'"
      ]
     },
     "execution_count": 175,
     "metadata": {},
     "output_type": "execute_result"
    }
   ],
   "source": [
    "tmp  = df['Nr linii'].unique()[0]\n",
    "tmp"
   ]
  },
  {
   "cell_type": "code",
   "execution_count": 181,
   "id": "36016110",
   "metadata": {},
   "outputs": [
    {
     "data": {
      "text/plain": [
       "1845"
      ]
     },
     "execution_count": 181,
     "metadata": {},
     "output_type": "execute_result"
    }
   ],
   "source": [
    "df = df[df['Nr linii'] == tmp]\n",
    "N = len(df)\n",
    "N"
   ]
  },
  {
   "cell_type": "markdown",
   "id": "19640590",
   "metadata": {},
   "source": [
    "## 5. Classification"
   ]
  },
  {
   "cell_type": "code",
   "execution_count": 41,
   "id": "5085212c",
   "metadata": {},
   "outputs": [],
   "source": [
    "from sklearn.tree import DecisionTreeRegressor\n",
    "from sklearn.model_selection import train_test_split\n",
    "import datetime as dt\n",
    "from sklearn.model_selection import cross_val_score\n",
    "from sklearn.model_selection import cross_validate\n",
    "from sklearn.model_selection import LeaveOneOut\n",
    "from sklearn.model_selection import KFold\n",
    "from sklearn.model_selection import RepeatedKFold\n",
    "from mlxtend.evaluate import bootstrap_point632_score\n",
    "from mlxtend.evaluate import BootstrapOutOfBag\n",
    "from mlxtend.evaluate import bootstrap\n",
    "\n",
    "import seaborn as sns\n",
    "import matplotlib.pyplot as plt"
   ]
  },
  {
   "cell_type": "code",
   "execution_count": 259,
   "id": "42784a25",
   "metadata": {},
   "outputs": [
    {
     "data": {
      "text/plain": [
       "1845"
      ]
     },
     "execution_count": 259,
     "metadata": {},
     "output_type": "execute_result"
    }
   ],
   "source": [
    "df2 = df.sample(n = N, random_state = 100)\n",
    "len(df2)"
   ]
  },
  {
   "cell_type": "code",
   "execution_count": 14,
   "id": "de3aa6d3",
   "metadata": {},
   "outputs": [
    {
     "data": {
      "text/html": [
       "<div>\n",
       "<style scoped>\n",
       "    .dataframe tbody tr th:only-of-type {\n",
       "        vertical-align: middle;\n",
       "    }\n",
       "\n",
       "    .dataframe tbody tr th {\n",
       "        vertical-align: top;\n",
       "    }\n",
       "\n",
       "    .dataframe thead th {\n",
       "        text-align: right;\n",
       "    }\n",
       "</style>\n",
       "<table border=\"1\" class=\"dataframe\">\n",
       "  <thead>\n",
       "    <tr style=\"text-align: right;\">\n",
       "      <th></th>\n",
       "      <th>Nr linii</th>\n",
       "      <th>Numer taborowy</th>\n",
       "      <th>Godzina odjazdu</th>\n",
       "      <th>Godzina odjazdu przedział</th>\n",
       "      <th>class</th>\n",
       "      <th>Numeryczna nazwa przystanku</th>\n",
       "      <th>Numeryczna Nazwa przystanku</th>\n",
       "    </tr>\n",
       "  </thead>\n",
       "  <tbody>\n",
       "    <tr>\n",
       "      <th>69998</th>\n",
       "      <td>181</td>\n",
       "      <td>9548</td>\n",
       "      <td>15.716667</td>\n",
       "      <td>62</td>\n",
       "      <td>pusto</td>\n",
       "      <td>264</td>\n",
       "      <td>264</td>\n",
       "    </tr>\n",
       "    <tr>\n",
       "      <th>111109</th>\n",
       "      <td>212</td>\n",
       "      <td>9693</td>\n",
       "      <td>17.355278</td>\n",
       "      <td>69</td>\n",
       "      <td>małe zatłoczenie</td>\n",
       "      <td>31</td>\n",
       "      <td>31</td>\n",
       "    </tr>\n",
       "    <tr>\n",
       "      <th>97881</th>\n",
       "      <td>208</td>\n",
       "      <td>9221</td>\n",
       "      <td>10.066667</td>\n",
       "      <td>40</td>\n",
       "      <td>małe zatłoczenie</td>\n",
       "      <td>832</td>\n",
       "      <td>832</td>\n",
       "    </tr>\n",
       "  </tbody>\n",
       "</table>\n",
       "</div>"
      ],
      "text/plain": [
       "       Nr linii  Numer taborowy  Godzina odjazdu  Godzina odjazdu przedział  \\\n",
       "69998       181            9548        15.716667                         62   \n",
       "111109      212            9693        17.355278                         69   \n",
       "97881       208            9221        10.066667                         40   \n",
       "\n",
       "                   class  Numeryczna nazwa przystanku  \\\n",
       "69998              pusto                          264   \n",
       "111109  małe zatłoczenie                           31   \n",
       "97881   małe zatłoczenie                          832   \n",
       "\n",
       "        Numeryczna Nazwa przystanku  \n",
       "69998                           264  \n",
       "111109                           31  \n",
       "97881                           832  "
      ]
     },
     "execution_count": 14,
     "metadata": {},
     "output_type": "execute_result"
    }
   ],
   "source": [
    "df2 = df\n",
    "df2 = df2.drop(columns=['Wariant linii','Nazwa przystanku', 'Numer przystanku', 'Rzeczywisty czas odjazdu', 'Rozkładowy czas odjazdu', 'Kurs', 'Oznaczenie brygady'], inplace= False)\n",
    "df2 = df2.drop(columns=['Liczba pasaz. przed', 'Liczba wysiadających pasaz.', 'Liczba wsiadajacych pasaz.', 'Liczba pasaz. po odjezdzie'], inplace= False)\n",
    "df2.sample(3)"
   ]
  },
  {
   "cell_type": "code",
   "execution_count": 15,
   "id": "cf4ce7a3",
   "metadata": {},
   "outputs": [
    {
     "data": {
      "text/html": [
       "<div>\n",
       "<style scoped>\n",
       "    .dataframe tbody tr th:only-of-type {\n",
       "        vertical-align: middle;\n",
       "    }\n",
       "\n",
       "    .dataframe tbody tr th {\n",
       "        vertical-align: top;\n",
       "    }\n",
       "\n",
       "    .dataframe thead th {\n",
       "        text-align: right;\n",
       "    }\n",
       "</style>\n",
       "<table border=\"1\" class=\"dataframe\">\n",
       "  <thead>\n",
       "    <tr style=\"text-align: right;\">\n",
       "      <th></th>\n",
       "      <th>Nr linii</th>\n",
       "      <th>Numer taborowy</th>\n",
       "      <th>Godzina odjazdu</th>\n",
       "      <th>Godzina odjazdu przedział</th>\n",
       "      <th>Numeryczna nazwa przystanku</th>\n",
       "      <th>Numeryczna Nazwa przystanku</th>\n",
       "    </tr>\n",
       "  </thead>\n",
       "  <tbody>\n",
       "    <tr>\n",
       "      <th>81294</th>\n",
       "      <td>193</td>\n",
       "      <td>9924</td>\n",
       "      <td>21.033333</td>\n",
       "      <td>84</td>\n",
       "      <td>1232</td>\n",
       "      <td>1232</td>\n",
       "    </tr>\n",
       "    <tr>\n",
       "      <th>76681</th>\n",
       "      <td>186</td>\n",
       "      <td>9918</td>\n",
       "      <td>16.616667</td>\n",
       "      <td>66</td>\n",
       "      <td>377</td>\n",
       "      <td>377</td>\n",
       "    </tr>\n",
       "    <tr>\n",
       "      <th>21583</th>\n",
       "      <td>127</td>\n",
       "      <td>9830</td>\n",
       "      <td>8.783333</td>\n",
       "      <td>35</td>\n",
       "      <td>896</td>\n",
       "      <td>896</td>\n",
       "    </tr>\n",
       "  </tbody>\n",
       "</table>\n",
       "</div>"
      ],
      "text/plain": [
       "      Nr linii  Numer taborowy  Godzina odjazdu  Godzina odjazdu przedział  \\\n",
       "81294      193            9924        21.033333                         84   \n",
       "76681      186            9918        16.616667                         66   \n",
       "21583      127            9830         8.783333                         35   \n",
       "\n",
       "       Numeryczna nazwa przystanku  Numeryczna Nazwa przystanku  \n",
       "81294                         1232                         1232  \n",
       "76681                          377                          377  \n",
       "21583                          896                          896  "
      ]
     },
     "execution_count": 15,
     "metadata": {},
     "output_type": "execute_result"
    }
   ],
   "source": [
    "X = df2.drop('class', axis=1, inplace= False)\n",
    "X.sample(3)"
   ]
  },
  {
   "cell_type": "code",
   "execution_count": 16,
   "id": "add8b6d8",
   "metadata": {},
   "outputs": [
    {
     "name": "stdout",
     "output_type": "stream",
     "text": [
      "Index(['Nr linii', 'Numer taborowy', 'Godzina odjazdu',\n",
      "       'Godzina odjazdu przedział', 'Numeryczna nazwa przystanku',\n",
      "       'Numeryczna Nazwa przystanku'],\n",
      "      dtype='object')\n"
     ]
    }
   ],
   "source": [
    "features = X.columns[:]\n",
    "print(features)"
   ]
  },
  {
   "cell_type": "code",
   "execution_count": 17,
   "id": "52a1d6e3",
   "metadata": {},
   "outputs": [
    {
     "data": {
      "text/plain": [
       "(159727, 6)"
      ]
     },
     "execution_count": 17,
     "metadata": {},
     "output_type": "execute_result"
    }
   ],
   "source": [
    "X.shape"
   ]
  },
  {
   "cell_type": "code",
   "execution_count": 18,
   "id": "0a93c8cc",
   "metadata": {},
   "outputs": [
    {
     "data": {
      "text/plain": [
       "36586    małe zatłoczenie\n",
       "32448               pusto\n",
       "2511     małe zatłoczenie\n",
       "Name: class, dtype: object"
      ]
     },
     "execution_count": 18,
     "metadata": {},
     "output_type": "execute_result"
    }
   ],
   "source": [
    "y = df2[\"class\"]\n",
    "y.sample(3)"
   ]
  },
  {
   "cell_type": "code",
   "execution_count": 265,
   "id": "62ce837a",
   "metadata": {},
   "outputs": [],
   "source": [
    "X_train, X_test, y_train, y_test = train_test_split(X, y, test_size=0.1, random_state=42)"
   ]
  },
  {
   "cell_type": "markdown",
   "id": "5952a136",
   "metadata": {},
   "source": [
    "## DecisionTreeClassifier"
   ]
  },
  {
   "cell_type": "code",
   "execution_count": 28,
   "id": "708998fd",
   "metadata": {},
   "outputs": [],
   "source": [
    "from sklearn.tree import DecisionTreeClassifier\n",
    "from sklearn.metrics import accuracy_score"
   ]
  },
  {
   "cell_type": "code",
   "execution_count": 29,
   "id": "f07a48a3",
   "metadata": {},
   "outputs": [],
   "source": [
    "def create_tree(x, x_test, y, y_test, depth = 3):  \n",
    "    clf = DecisionTreeClassifier(max_depth = depth, random_state = 1)\n",
    "    clf = clf.fit(x, y)\n",
    "    err = accuracy_score(y_test, clf.predict(x_test))\n",
    "    print(\"Accuracy: \", err)\n",
    "    return err"
   ]
  },
  {
   "cell_type": "code",
   "execution_count": 38,
   "id": "af92cd3e",
   "metadata": {},
   "outputs": [
    {
     "name": "stdout",
     "output_type": "stream",
     "text": [
      "Accuracy:  0.39690850162054353\n"
     ]
    }
   ],
   "source": [
    "tr1 = create_tree(X_train, X_test, y_train, y_test, depth = 2)"
   ]
  },
  {
   "cell_type": "code",
   "execution_count": 42,
   "id": "1afd0d34",
   "metadata": {},
   "outputs": [],
   "source": [
    "model = DecisionTreeClassifier(max_depth = 1000, random_state = 1)"
   ]
  },
  {
   "cell_type": "code",
   "execution_count": 52,
   "id": "58a49da3",
   "metadata": {},
   "outputs": [
    {
     "ename": "KeyboardInterrupt",
     "evalue": "",
     "output_type": "error",
     "traceback": [
      "\u001b[1;31m---------------------------------------------------------------------------\u001b[0m",
      "\u001b[1;31mKeyboardInterrupt\u001b[0m                         Traceback (most recent call last)",
      "\u001b[1;32m~\\AppData\\Local\\Temp/ipykernel_28920/2768242738.py\u001b[0m in \u001b[0;36m<module>\u001b[1;34m\u001b[0m\n\u001b[0;32m      1\u001b[0m \u001b[1;31m#LeaveOneOut CrossValidation with negative mean absolute scores: the higher the scores, the lower mean absolute errors\u001b[0m\u001b[1;33m\u001b[0m\u001b[1;33m\u001b[0m\u001b[0m\n\u001b[1;32m----> 2\u001b[1;33m \u001b[0mscores1\u001b[0m \u001b[1;33m=\u001b[0m \u001b[0mcross_validate\u001b[0m\u001b[1;33m(\u001b[0m\u001b[0mmodel\u001b[0m\u001b[1;33m,\u001b[0m \u001b[0mX_train\u001b[0m\u001b[1;33m,\u001b[0m \u001b[0my_train\u001b[0m\u001b[1;33m,\u001b[0m \u001b[0mcv\u001b[0m \u001b[1;33m=\u001b[0m \u001b[0mLeaveOneOut\u001b[0m\u001b[1;33m(\u001b[0m\u001b[1;33m)\u001b[0m\u001b[1;33m,\u001b[0m \u001b[0mn_jobs\u001b[0m \u001b[1;33m=\u001b[0m \u001b[1;33m-\u001b[0m\u001b[1;36m1\u001b[0m\u001b[1;33m,\u001b[0m \u001b[0mscoring\u001b[0m \u001b[1;33m=\u001b[0m \u001b[1;34m'neg_mean_absolute_error'\u001b[0m\u001b[1;33m,\u001b[0m \u001b[0mreturn_estimator\u001b[0m \u001b[1;33m=\u001b[0m \u001b[1;32mTrue\u001b[0m\u001b[1;33m)\u001b[0m\u001b[1;33m\u001b[0m\u001b[1;33m\u001b[0m\u001b[0m\n\u001b[0m\u001b[0;32m      3\u001b[0m \u001b[0merr1\u001b[0m \u001b[1;33m=\u001b[0m \u001b[0maccuracy_score\u001b[0m\u001b[1;33m(\u001b[0m\u001b[0mscores1\u001b[0m\u001b[1;33m[\u001b[0m\u001b[1;34m'estimator'\u001b[0m\u001b[1;33m]\u001b[0m\u001b[1;33m[\u001b[0m\u001b[0mscores1\u001b[0m\u001b[1;33m[\u001b[0m\u001b[1;34m'test_score'\u001b[0m\u001b[1;33m]\u001b[0m\u001b[1;33m.\u001b[0m\u001b[0margmax\u001b[0m\u001b[1;33m(\u001b[0m\u001b[1;33m)\u001b[0m\u001b[1;33m]\u001b[0m\u001b[1;33m.\u001b[0m\u001b[0mpredict\u001b[0m\u001b[1;33m(\u001b[0m\u001b[0mX_test\u001b[0m\u001b[1;33m)\u001b[0m\u001b[1;33m,\u001b[0m\u001b[0my_test\u001b[0m\u001b[1;33m)\u001b[0m\u001b[1;33m\u001b[0m\u001b[1;33m\u001b[0m\u001b[0m\n",
      "\u001b[1;32m~\\AppData\\Local\\Programs\\Python\\Python39\\lib\\site-packages\\sklearn\\model_selection\\_validation.py\u001b[0m in \u001b[0;36mcross_validate\u001b[1;34m(estimator, X, y, groups, scoring, cv, n_jobs, verbose, fit_params, pre_dispatch, return_train_score, return_estimator, error_score)\u001b[0m\n\u001b[0;32m    265\u001b[0m     \u001b[1;31m# independent, and that it is pickle-able.\u001b[0m\u001b[1;33m\u001b[0m\u001b[1;33m\u001b[0m\u001b[0m\n\u001b[0;32m    266\u001b[0m     \u001b[0mparallel\u001b[0m \u001b[1;33m=\u001b[0m \u001b[0mParallel\u001b[0m\u001b[1;33m(\u001b[0m\u001b[0mn_jobs\u001b[0m\u001b[1;33m=\u001b[0m\u001b[0mn_jobs\u001b[0m\u001b[1;33m,\u001b[0m \u001b[0mverbose\u001b[0m\u001b[1;33m=\u001b[0m\u001b[0mverbose\u001b[0m\u001b[1;33m,\u001b[0m \u001b[0mpre_dispatch\u001b[0m\u001b[1;33m=\u001b[0m\u001b[0mpre_dispatch\u001b[0m\u001b[1;33m)\u001b[0m\u001b[1;33m\u001b[0m\u001b[1;33m\u001b[0m\u001b[0m\n\u001b[1;32m--> 267\u001b[1;33m     results = parallel(\n\u001b[0m\u001b[0;32m    268\u001b[0m         delayed(_fit_and_score)(\n\u001b[0;32m    269\u001b[0m             \u001b[0mclone\u001b[0m\u001b[1;33m(\u001b[0m\u001b[0mestimator\u001b[0m\u001b[1;33m)\u001b[0m\u001b[1;33m,\u001b[0m\u001b[1;33m\u001b[0m\u001b[1;33m\u001b[0m\u001b[0m\n",
      "\u001b[1;32m~\\AppData\\Local\\Programs\\Python\\Python39\\lib\\site-packages\\joblib\\parallel.py\u001b[0m in \u001b[0;36m__call__\u001b[1;34m(self, iterable)\u001b[0m\n\u001b[0;32m   1054\u001b[0m \u001b[1;33m\u001b[0m\u001b[0m\n\u001b[0;32m   1055\u001b[0m             \u001b[1;32mwith\u001b[0m \u001b[0mself\u001b[0m\u001b[1;33m.\u001b[0m\u001b[0m_backend\u001b[0m\u001b[1;33m.\u001b[0m\u001b[0mretrieval_context\u001b[0m\u001b[1;33m(\u001b[0m\u001b[1;33m)\u001b[0m\u001b[1;33m:\u001b[0m\u001b[1;33m\u001b[0m\u001b[1;33m\u001b[0m\u001b[0m\n\u001b[1;32m-> 1056\u001b[1;33m                 \u001b[0mself\u001b[0m\u001b[1;33m.\u001b[0m\u001b[0mretrieve\u001b[0m\u001b[1;33m(\u001b[0m\u001b[1;33m)\u001b[0m\u001b[1;33m\u001b[0m\u001b[1;33m\u001b[0m\u001b[0m\n\u001b[0m\u001b[0;32m   1057\u001b[0m             \u001b[1;31m# Make sure that we get a last message telling us we are done\u001b[0m\u001b[1;33m\u001b[0m\u001b[1;33m\u001b[0m\u001b[0m\n\u001b[0;32m   1058\u001b[0m             \u001b[0melapsed_time\u001b[0m \u001b[1;33m=\u001b[0m \u001b[0mtime\u001b[0m\u001b[1;33m.\u001b[0m\u001b[0mtime\u001b[0m\u001b[1;33m(\u001b[0m\u001b[1;33m)\u001b[0m \u001b[1;33m-\u001b[0m \u001b[0mself\u001b[0m\u001b[1;33m.\u001b[0m\u001b[0m_start_time\u001b[0m\u001b[1;33m\u001b[0m\u001b[1;33m\u001b[0m\u001b[0m\n",
      "\u001b[1;32m~\\AppData\\Local\\Programs\\Python\\Python39\\lib\\site-packages\\joblib\\parallel.py\u001b[0m in \u001b[0;36mretrieve\u001b[1;34m(self)\u001b[0m\n\u001b[0;32m    933\u001b[0m             \u001b[1;32mtry\u001b[0m\u001b[1;33m:\u001b[0m\u001b[1;33m\u001b[0m\u001b[1;33m\u001b[0m\u001b[0m\n\u001b[0;32m    934\u001b[0m                 \u001b[1;32mif\u001b[0m \u001b[0mgetattr\u001b[0m\u001b[1;33m(\u001b[0m\u001b[0mself\u001b[0m\u001b[1;33m.\u001b[0m\u001b[0m_backend\u001b[0m\u001b[1;33m,\u001b[0m \u001b[1;34m'supports_timeout'\u001b[0m\u001b[1;33m,\u001b[0m \u001b[1;32mFalse\u001b[0m\u001b[1;33m)\u001b[0m\u001b[1;33m:\u001b[0m\u001b[1;33m\u001b[0m\u001b[1;33m\u001b[0m\u001b[0m\n\u001b[1;32m--> 935\u001b[1;33m                     \u001b[0mself\u001b[0m\u001b[1;33m.\u001b[0m\u001b[0m_output\u001b[0m\u001b[1;33m.\u001b[0m\u001b[0mextend\u001b[0m\u001b[1;33m(\u001b[0m\u001b[0mjob\u001b[0m\u001b[1;33m.\u001b[0m\u001b[0mget\u001b[0m\u001b[1;33m(\u001b[0m\u001b[0mtimeout\u001b[0m\u001b[1;33m=\u001b[0m\u001b[0mself\u001b[0m\u001b[1;33m.\u001b[0m\u001b[0mtimeout\u001b[0m\u001b[1;33m)\u001b[0m\u001b[1;33m)\u001b[0m\u001b[1;33m\u001b[0m\u001b[1;33m\u001b[0m\u001b[0m\n\u001b[0m\u001b[0;32m    936\u001b[0m                 \u001b[1;32melse\u001b[0m\u001b[1;33m:\u001b[0m\u001b[1;33m\u001b[0m\u001b[1;33m\u001b[0m\u001b[0m\n\u001b[0;32m    937\u001b[0m                     \u001b[0mself\u001b[0m\u001b[1;33m.\u001b[0m\u001b[0m_output\u001b[0m\u001b[1;33m.\u001b[0m\u001b[0mextend\u001b[0m\u001b[1;33m(\u001b[0m\u001b[0mjob\u001b[0m\u001b[1;33m.\u001b[0m\u001b[0mget\u001b[0m\u001b[1;33m(\u001b[0m\u001b[1;33m)\u001b[0m\u001b[1;33m)\u001b[0m\u001b[1;33m\u001b[0m\u001b[1;33m\u001b[0m\u001b[0m\n",
      "\u001b[1;32m~\\AppData\\Local\\Programs\\Python\\Python39\\lib\\site-packages\\joblib\\_parallel_backends.py\u001b[0m in \u001b[0;36mwrap_future_result\u001b[1;34m(future, timeout)\u001b[0m\n\u001b[0;32m    540\u001b[0m         AsyncResults.get from multiprocessing.\"\"\"\n\u001b[0;32m    541\u001b[0m         \u001b[1;32mtry\u001b[0m\u001b[1;33m:\u001b[0m\u001b[1;33m\u001b[0m\u001b[1;33m\u001b[0m\u001b[0m\n\u001b[1;32m--> 542\u001b[1;33m             \u001b[1;32mreturn\u001b[0m \u001b[0mfuture\u001b[0m\u001b[1;33m.\u001b[0m\u001b[0mresult\u001b[0m\u001b[1;33m(\u001b[0m\u001b[0mtimeout\u001b[0m\u001b[1;33m=\u001b[0m\u001b[0mtimeout\u001b[0m\u001b[1;33m)\u001b[0m\u001b[1;33m\u001b[0m\u001b[1;33m\u001b[0m\u001b[0m\n\u001b[0m\u001b[0;32m    543\u001b[0m         \u001b[1;32mexcept\u001b[0m \u001b[0mCfTimeoutError\u001b[0m \u001b[1;32mas\u001b[0m \u001b[0me\u001b[0m\u001b[1;33m:\u001b[0m\u001b[1;33m\u001b[0m\u001b[1;33m\u001b[0m\u001b[0m\n\u001b[0;32m    544\u001b[0m             \u001b[1;32mraise\u001b[0m \u001b[0mTimeoutError\u001b[0m \u001b[1;32mfrom\u001b[0m \u001b[0me\u001b[0m\u001b[1;33m\u001b[0m\u001b[1;33m\u001b[0m\u001b[0m\n",
      "\u001b[1;32m~\\AppData\\Local\\Programs\\Python\\Python39\\lib\\concurrent\\futures\\_base.py\u001b[0m in \u001b[0;36mresult\u001b[1;34m(self, timeout)\u001b[0m\n\u001b[0;32m    438\u001b[0m                     \u001b[1;32mreturn\u001b[0m \u001b[0mself\u001b[0m\u001b[1;33m.\u001b[0m\u001b[0m__get_result\u001b[0m\u001b[1;33m(\u001b[0m\u001b[1;33m)\u001b[0m\u001b[1;33m\u001b[0m\u001b[1;33m\u001b[0m\u001b[0m\n\u001b[0;32m    439\u001b[0m \u001b[1;33m\u001b[0m\u001b[0m\n\u001b[1;32m--> 440\u001b[1;33m                 \u001b[0mself\u001b[0m\u001b[1;33m.\u001b[0m\u001b[0m_condition\u001b[0m\u001b[1;33m.\u001b[0m\u001b[0mwait\u001b[0m\u001b[1;33m(\u001b[0m\u001b[0mtimeout\u001b[0m\u001b[1;33m)\u001b[0m\u001b[1;33m\u001b[0m\u001b[1;33m\u001b[0m\u001b[0m\n\u001b[0m\u001b[0;32m    441\u001b[0m \u001b[1;33m\u001b[0m\u001b[0m\n\u001b[0;32m    442\u001b[0m                 \u001b[1;32mif\u001b[0m \u001b[0mself\u001b[0m\u001b[1;33m.\u001b[0m\u001b[0m_state\u001b[0m \u001b[1;32min\u001b[0m \u001b[1;33m[\u001b[0m\u001b[0mCANCELLED\u001b[0m\u001b[1;33m,\u001b[0m \u001b[0mCANCELLED_AND_NOTIFIED\u001b[0m\u001b[1;33m]\u001b[0m\u001b[1;33m:\u001b[0m\u001b[1;33m\u001b[0m\u001b[1;33m\u001b[0m\u001b[0m\n",
      "\u001b[1;32m~\\AppData\\Local\\Programs\\Python\\Python39\\lib\\threading.py\u001b[0m in \u001b[0;36mwait\u001b[1;34m(self, timeout)\u001b[0m\n\u001b[0;32m    310\u001b[0m         \u001b[1;32mtry\u001b[0m\u001b[1;33m:\u001b[0m    \u001b[1;31m# restore state no matter what (e.g., KeyboardInterrupt)\u001b[0m\u001b[1;33m\u001b[0m\u001b[1;33m\u001b[0m\u001b[0m\n\u001b[0;32m    311\u001b[0m             \u001b[1;32mif\u001b[0m \u001b[0mtimeout\u001b[0m \u001b[1;32mis\u001b[0m \u001b[1;32mNone\u001b[0m\u001b[1;33m:\u001b[0m\u001b[1;33m\u001b[0m\u001b[1;33m\u001b[0m\u001b[0m\n\u001b[1;32m--> 312\u001b[1;33m                 \u001b[0mwaiter\u001b[0m\u001b[1;33m.\u001b[0m\u001b[0macquire\u001b[0m\u001b[1;33m(\u001b[0m\u001b[1;33m)\u001b[0m\u001b[1;33m\u001b[0m\u001b[1;33m\u001b[0m\u001b[0m\n\u001b[0m\u001b[0;32m    313\u001b[0m                 \u001b[0mgotit\u001b[0m \u001b[1;33m=\u001b[0m \u001b[1;32mTrue\u001b[0m\u001b[1;33m\u001b[0m\u001b[1;33m\u001b[0m\u001b[0m\n\u001b[0;32m    314\u001b[0m             \u001b[1;32melse\u001b[0m\u001b[1;33m:\u001b[0m\u001b[1;33m\u001b[0m\u001b[1;33m\u001b[0m\u001b[0m\n",
      "\u001b[1;31mKeyboardInterrupt\u001b[0m: "
     ]
    }
   ],
   "source": [
    "#LeaveOneOut CrossValidation with negative mean absolute scores: the higher the scores, the lower mean absolute errors\n",
    "scores1 = cross_validate(model, X_train, y_train, cv = LeaveOneOut(), n_jobs = -1, scoring = 'neg_mean_absolute_error', return_estimator = True)\n",
    "err1 = accuracy_score(scores1['estimator'][scores1['test_score'].argmax()].predict(X_test),y_test)"
   ]
  },
  {
   "cell_type": "code",
   "execution_count": 49,
   "id": "f2fe6b59",
   "metadata": {},
   "outputs": [],
   "source": [
    "#Bootstrap Out of Bag\n",
    "scores2 = cross_validate(model, X_train, y_train, cv = BootstrapOutOfBag(n_splits=5, random_seed=456), n_jobs = -1, scoring = 'neg_mean_absolute_error', return_estimator = True)\n",
    "err2 = accuracy_score(scores2['estimator'][scores2['test_score'].argmax()].predict(X_test),y_test)"
   ]
  },
  {
   "cell_type": "code",
   "execution_count": 50,
   "id": "67f01e45",
   "metadata": {},
   "outputs": [],
   "source": [
    "#Repeated K-Fold\n",
    "scores3 = cross_validate(model, X_train, y_train, n_jobs = -1, cv = RepeatedKFold(n_splits = 10, n_repeats = 2), scoring = 'neg_mean_absolute_error', return_estimator = True)\n",
    "err3 = accuracy_score(scores3['estimator'][scores3['test_score'].argmax()].predict(X_test),y_test)"
   ]
  },
  {
   "cell_type": "code",
   "execution_count": 51,
   "id": "a6fb77c8",
   "metadata": {},
   "outputs": [],
   "source": [
    "#K-Fold\n",
    "scores4 = cross_validate(model, X_train, y_train, cv = KFold(10), n_jobs=-1, scoring = 'neg_mean_absolute_error',return_estimator = True)\n",
    "err4 = accuracy_score(scores4['estimator'][scores4['test_score'].argmax()].predict(X_test), y_test)"
   ]
  },
  {
   "cell_type": "code",
   "execution_count": 54,
   "id": "80f8aadd",
   "metadata": {},
   "outputs": [
    {
     "name": "stdout",
     "output_type": "stream",
     "text": [
      "------- Accuracy --------\n",
      "2. Accuracy BootstrapOutOfBag 0.6327400350965154\n",
      "3. Accuracy RepeatedKFold 0.6670844823263976\n",
      "4. Accuracy KFold 0.6322386563048383\n"
     ]
    }
   ],
   "source": [
    "print(\"------- Accuracy --------\")\n",
    "# print(f\"1. Accuracy LeaveOneOut {err1}\")\n",
    "print(f\"2. Accuracy BootstrapOutOfBag {err2}\")\n",
    "print(f\"3. Accuracy RepeatedKFold {err3}\")\n",
    "print(f\"4. Accuracy KFold {err4}\")"
   ]
  },
  {
   "cell_type": "markdown",
   "id": "e849e94a",
   "metadata": {},
   "source": [
    "## Regresja"
   ]
  },
  {
   "cell_type": "code",
   "execution_count": 275,
   "id": "2b387ff9",
   "metadata": {},
   "outputs": [
    {
     "data": {
      "text/plain": [
       "1845"
      ]
     },
     "execution_count": 275,
     "metadata": {},
     "output_type": "execute_result"
    }
   ],
   "source": [
    "df3 = df.sample(n = N, random_state = 100)\n",
    "len(df3)"
   ]
  },
  {
   "cell_type": "code",
   "execution_count": 276,
   "id": "ff0a96f0",
   "metadata": {},
   "outputs": [
    {
     "data": {
      "text/html": [
       "<div>\n",
       "<style scoped>\n",
       "    .dataframe tbody tr th:only-of-type {\n",
       "        vertical-align: middle;\n",
       "    }\n",
       "\n",
       "    .dataframe tbody tr th {\n",
       "        vertical-align: top;\n",
       "    }\n",
       "\n",
       "    .dataframe thead th {\n",
       "        text-align: right;\n",
       "    }\n",
       "</style>\n",
       "<table border=\"1\" class=\"dataframe\">\n",
       "  <thead>\n",
       "    <tr style=\"text-align: right;\">\n",
       "      <th></th>\n",
       "      <th>Nr linii</th>\n",
       "      <th>Numer taborowy</th>\n",
       "      <th>Liczba pasaz. przed</th>\n",
       "      <th>Godzina odjazdu</th>\n",
       "      <th>Godzina odjazdu przedział</th>\n",
       "      <th>Numeryczna nazwa przystanku</th>\n",
       "    </tr>\n",
       "  </thead>\n",
       "  <tbody>\n",
       "    <tr>\n",
       "      <th>148767</th>\n",
       "      <td>712</td>\n",
       "      <td>9447</td>\n",
       "      <td>7</td>\n",
       "      <td>18.700000</td>\n",
       "      <td>74</td>\n",
       "      <td>549</td>\n",
       "    </tr>\n",
       "    <tr>\n",
       "      <th>131812</th>\n",
       "      <td>326</td>\n",
       "      <td>9673</td>\n",
       "      <td>28</td>\n",
       "      <td>8.645000</td>\n",
       "      <td>34</td>\n",
       "      <td>171</td>\n",
       "    </tr>\n",
       "    <tr>\n",
       "      <th>63392</th>\n",
       "      <td>179</td>\n",
       "      <td>9345</td>\n",
       "      <td>19</td>\n",
       "      <td>14.516667</td>\n",
       "      <td>58</td>\n",
       "      <td>1221</td>\n",
       "    </tr>\n",
       "  </tbody>\n",
       "</table>\n",
       "</div>"
      ],
      "text/plain": [
       "       Nr linii  Numer taborowy  Liczba pasaz. przed  Godzina odjazdu  \\\n",
       "148767      712            9447                    7        18.700000   \n",
       "131812      326            9673                   28         8.645000   \n",
       "63392       179            9345                   19        14.516667   \n",
       "\n",
       "        Godzina odjazdu przedział  Numeryczna nazwa przystanku  \n",
       "148767                         74                          549  \n",
       "131812                         34                          171  \n",
       "63392                          58                         1221  "
      ]
     },
     "execution_count": 276,
     "metadata": {},
     "output_type": "execute_result"
    }
   ],
   "source": [
    "df3 = df3.loc[df['Typ']=='autobus']\n",
    "df3 = df3.drop(columns=['Wariant linii','Nazwa przystanku', 'Numer przystanku', 'Rzeczywisty czas odjazdu', 'Rozkładowy czas odjazdu', 'Kurs', 'Oznaczenie brygady','Typ'], inplace= False)\n",
    "df3 = df3.drop(columns=['Liczba wysiadających pasaz.', 'Liczba wsiadajacych pasaz.', 'Liczba pasaz. po odjezdzie', 'class'], inplace= False)\n",
    "df3.sample(3)"
   ]
  },
  {
   "cell_type": "code",
   "execution_count": null,
   "id": "45c530b8",
   "metadata": {},
   "outputs": [],
   "source": []
  },
  {
   "cell_type": "code",
   "execution_count": 277,
   "id": "f104ff9e",
   "metadata": {},
   "outputs": [
    {
     "data": {
      "text/html": [
       "<div>\n",
       "<style scoped>\n",
       "    .dataframe tbody tr th:only-of-type {\n",
       "        vertical-align: middle;\n",
       "    }\n",
       "\n",
       "    .dataframe tbody tr th {\n",
       "        vertical-align: top;\n",
       "    }\n",
       "\n",
       "    .dataframe thead th {\n",
       "        text-align: right;\n",
       "    }\n",
       "</style>\n",
       "<table border=\"1\" class=\"dataframe\">\n",
       "  <thead>\n",
       "    <tr style=\"text-align: right;\">\n",
       "      <th></th>\n",
       "      <th>Nr linii</th>\n",
       "      <th>Numer taborowy</th>\n",
       "      <th>Godzina odjazdu</th>\n",
       "      <th>Godzina odjazdu przedział</th>\n",
       "      <th>Numeryczna nazwa przystanku</th>\n",
       "    </tr>\n",
       "  </thead>\n",
       "  <tbody>\n",
       "    <tr>\n",
       "      <th>50880</th>\n",
       "      <td>159</td>\n",
       "      <td>9554</td>\n",
       "      <td>15.383333</td>\n",
       "      <td>61</td>\n",
       "      <td>13</td>\n",
       "    </tr>\n",
       "    <tr>\n",
       "      <th>43529</th>\n",
       "      <td>157</td>\n",
       "      <td>9440</td>\n",
       "      <td>10.500000</td>\n",
       "      <td>42</td>\n",
       "      <td>1130</td>\n",
       "    </tr>\n",
       "    <tr>\n",
       "      <th>20473</th>\n",
       "      <td>127</td>\n",
       "      <td>9834</td>\n",
       "      <td>15.433333</td>\n",
       "      <td>61</td>\n",
       "      <td>432</td>\n",
       "    </tr>\n",
       "  </tbody>\n",
       "</table>\n",
       "</div>"
      ],
      "text/plain": [
       "      Nr linii  Numer taborowy  Godzina odjazdu  Godzina odjazdu przedział  \\\n",
       "50880      159            9554        15.383333                         61   \n",
       "43529      157            9440        10.500000                         42   \n",
       "20473      127            9834        15.433333                         61   \n",
       "\n",
       "       Numeryczna nazwa przystanku  \n",
       "50880                           13  \n",
       "43529                         1130  \n",
       "20473                          432  "
      ]
     },
     "execution_count": 277,
     "metadata": {},
     "output_type": "execute_result"
    }
   ],
   "source": [
    "X = df3.drop('Liczba pasaz. przed', axis=1, inplace= False)\n",
    "X.sample(3)"
   ]
  },
  {
   "cell_type": "code",
   "execution_count": 278,
   "id": "442fcca9",
   "metadata": {},
   "outputs": [
    {
     "data": {
      "text/plain": [
       "99644     10\n",
       "7573      10\n",
       "138361    26\n",
       "Name: Liczba pasaz. przed, dtype: int64"
      ]
     },
     "execution_count": 278,
     "metadata": {},
     "output_type": "execute_result"
    }
   ],
   "source": [
    "y = df3[\"Liczba pasaz. przed\"]\n",
    "y.sample(3)"
   ]
  },
  {
   "cell_type": "code",
   "execution_count": 279,
   "id": "d222f603",
   "metadata": {},
   "outputs": [],
   "source": [
    "X_train, X_test, y_train, y_test = train_test_split(X, y, test_size=0.25, random_state=42)"
   ]
  },
  {
   "cell_type": "code",
   "execution_count": 280,
   "id": "baa27b46",
   "metadata": {},
   "outputs": [],
   "source": [
    "model = DecisionTreeRegressor(max_depth = 1000, random_state = 1)"
   ]
  },
  {
   "cell_type": "code",
   "execution_count": 281,
   "id": "54dbc615",
   "metadata": {},
   "outputs": [],
   "source": [
    "#LeaveOneOut CrossValidation with negative mean absolute scores: the higher the scores, the lower mean absolute errors\n",
    "scores1 = cross_validate(model, X_train, y_train, cv = LeaveOneOut(), n_jobs = -1, scoring = 'neg_mean_absolute_error', return_estimator = True)\n",
    "err1 = abs(scores1['estimator'][scores1['test_score'].argmax()].predict(X_test) - y_test)"
   ]
  },
  {
   "cell_type": "code",
   "execution_count": 282,
   "id": "17cf5565",
   "metadata": {},
   "outputs": [],
   "source": [
    "#Bootstrap Out of Bag\n",
    "scores2 = cross_validate(model, X_train, y_train, cv = BootstrapOutOfBag(n_splits=5, random_seed=456), n_jobs = -1, scoring = 'neg_mean_absolute_error', return_estimator = True)\n",
    "err2 = abs(scores2['estimator'][scores2['test_score'].argmax()].predict(X_test) - y_test)"
   ]
  },
  {
   "cell_type": "code",
   "execution_count": 283,
   "id": "34254cd8",
   "metadata": {},
   "outputs": [],
   "source": [
    "#Repeated K-Fold\n",
    "scores3 = cross_validate(model, X_train, y_train, n_jobs = -1, cv = RepeatedKFold(n_splits = 10, n_repeats = 2), scoring = 'neg_mean_absolute_error', return_estimator = True)\n",
    "err3 = abs(scores3['estimator'][scores3['test_score'].argmax()].predict(X_test) - y_test)"
   ]
  },
  {
   "cell_type": "code",
   "execution_count": 284,
   "id": "c630b020",
   "metadata": {},
   "outputs": [],
   "source": [
    "#K-Fold\n",
    "scores4 = cross_validate(model, X_train, y_train, cv = KFold(10), n_jobs=-1, scoring = 'neg_mean_absolute_error',return_estimator = True)\n",
    "err4 = abs(scores4['estimator'][scores4['test_score'].argmax()].predict(X_test) - y_test)"
   ]
  },
  {
   "cell_type": "code",
   "execution_count": 285,
   "id": "4ad8e51d",
   "metadata": {},
   "outputs": [],
   "source": [
    "d_err = []\n",
    "d_err = pd.DataFrame({'Err':err1, 'Type': 'LOO'})\n",
    "d_err = d_err.append(pd.DataFrame({'Err':err2, 'Type': 'BootOOB'}),ignore_index=True)\n",
    "d_err = d_err.append(pd.DataFrame({'Err':err3, 'Type': 'Repeated KFold'}),ignore_index=True)\n",
    "d_err = d_err.append(pd.DataFrame({'Err':err4, 'Type': 'KFold'}),ignore_index=True)"
   ]
  },
  {
   "cell_type": "code",
   "execution_count": 286,
   "id": "c95fddae",
   "metadata": {},
   "outputs": [
    {
     "data": {
      "image/png": "[encoded data removed]",
      "text/plain": [
       "<Figure size 1080x720 with 1 Axes>"
      ]
     },
     "metadata": {},
     "output_type": "display_data"
    }
   ],
   "source": [
    "plt.figure(figsize = (15,10))\n",
    "g = sns.ecdfplot(d_err, x = \"Err\", hue = 'Type')\n",
    "#g.set(xlim = (0, 10))"
   ]
  },
  {
   "cell_type": "code",
   "execution_count": 287,
   "id": "a46aa837",
   "metadata": {},
   "outputs": [
    {
     "data": {
      "text/html": [
       "<div>\n",
       "<style scoped>\n",
       "    .dataframe tbody tr th:only-of-type {\n",
       "        vertical-align: middle;\n",
       "    }\n",
       "\n",
       "    .dataframe tbody tr th {\n",
       "        vertical-align: top;\n",
       "    }\n",
       "\n",
       "    .dataframe thead tr th {\n",
       "        text-align: left;\n",
       "    }\n",
       "\n",
       "    .dataframe thead tr:last-of-type th {\n",
       "        text-align: right;\n",
       "    }\n",
       "</style>\n",
       "<table border=\"1\" class=\"dataframe\">\n",
       "  <thead>\n",
       "    <tr>\n",
       "      <th></th>\n",
       "      <th colspan=\"8\" halign=\"left\">Err</th>\n",
       "    </tr>\n",
       "    <tr>\n",
       "      <th></th>\n",
       "      <th>count</th>\n",
       "      <th>mean</th>\n",
       "      <th>std</th>\n",
       "      <th>min</th>\n",
       "      <th>25%</th>\n",
       "      <th>50%</th>\n",
       "      <th>75%</th>\n",
       "      <th>max</th>\n",
       "    </tr>\n",
       "    <tr>\n",
       "      <th>Type</th>\n",
       "      <th></th>\n",
       "      <th></th>\n",
       "      <th></th>\n",
       "      <th></th>\n",
       "      <th></th>\n",
       "      <th></th>\n",
       "      <th></th>\n",
       "      <th></th>\n",
       "    </tr>\n",
       "  </thead>\n",
       "  <tbody>\n",
       "    <tr>\n",
       "      <th>BootOOB</th>\n",
       "      <td>440.0</td>\n",
       "      <td>10.75</td>\n",
       "      <td>11.03</td>\n",
       "      <td>0.0</td>\n",
       "      <td>3.0</td>\n",
       "      <td>7.0</td>\n",
       "      <td>14.0</td>\n",
       "      <td>69.0</td>\n",
       "    </tr>\n",
       "    <tr>\n",
       "      <th>KFold</th>\n",
       "      <td>440.0</td>\n",
       "      <td>10.05</td>\n",
       "      <td>10.54</td>\n",
       "      <td>0.0</td>\n",
       "      <td>2.0</td>\n",
       "      <td>6.5</td>\n",
       "      <td>14.0</td>\n",
       "      <td>71.0</td>\n",
       "    </tr>\n",
       "    <tr>\n",
       "      <th>LOO</th>\n",
       "      <td>440.0</td>\n",
       "      <td>9.64</td>\n",
       "      <td>10.63</td>\n",
       "      <td>0.0</td>\n",
       "      <td>3.0</td>\n",
       "      <td>6.0</td>\n",
       "      <td>13.0</td>\n",
       "      <td>80.0</td>\n",
       "    </tr>\n",
       "    <tr>\n",
       "      <th>Repeated KFold</th>\n",
       "      <td>440.0</td>\n",
       "      <td>9.59</td>\n",
       "      <td>10.25</td>\n",
       "      <td>0.0</td>\n",
       "      <td>2.0</td>\n",
       "      <td>6.0</td>\n",
       "      <td>13.0</td>\n",
       "      <td>55.0</td>\n",
       "    </tr>\n",
       "  </tbody>\n",
       "</table>\n",
       "</div>"
      ],
      "text/plain": [
       "                  Err                                         \n",
       "                count   mean    std  min  25%  50%   75%   max\n",
       "Type                                                          \n",
       "BootOOB         440.0  10.75  11.03  0.0  3.0  7.0  14.0  69.0\n",
       "KFold           440.0  10.05  10.54  0.0  2.0  6.5  14.0  71.0\n",
       "LOO             440.0   9.64  10.63  0.0  3.0  6.0  13.0  80.0\n",
       "Repeated KFold  440.0   9.59  10.25  0.0  2.0  6.0  13.0  55.0"
      ]
     },
     "execution_count": 287,
     "metadata": {},
     "output_type": "execute_result"
    }
   ],
   "source": [
    "stats = d_err.groupby('Type').describe().round(2)\n",
    "stats"
   ]
  },
  {
   "cell_type": "code",
   "execution_count": null,
   "id": "e83cea25",
   "metadata": {},
   "outputs": [],
   "source": []
  }
 ],
 "metadata": {
  "interpreter": {
   "hash": "082e9a3bcad0a290d0001e938aa60b99250c6c2ef33a923c00b70f9826caf4b7"
  },
  "kernelspec": {
   "display_name": "Python 3.8.7 64-bit ('3.8')",
   "name": "python3"
  },
  "language_info": {
   "codemirror_mode": {
    "name": "ipython",
    "version": 3
   },
   "file_extension": ".py",
   "mimetype": "text/x-python",
   "name": "python",
   "nbconvert_exporter": "python",
   "pygments_lexer": "ipython3",
   "version": "3.9.7"
  },
  "metadata": {
   "interpreter": {
    "hash": "082e9a3bcad0a290d0001e938aa60b99250c6c2ef33a923c00b70f9826caf4b7"
   }
  }
 },
 "nbformat": 4,
 "nbformat_minor": 5
}
