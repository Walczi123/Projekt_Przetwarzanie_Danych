{
 "cells": [
  {
   "cell_type": "markdown",
   "id": "363366a1",
   "metadata": {},
   "source": [
    "# 1. Imports"
   ]
  },
  {
   "cell_type": "code",
   "execution_count": 1,
   "id": "50eb2181",
   "metadata": {},
   "outputs": [],
   "source": [
    "import locale\n",
    "\n",
    "import pandas as pd\n",
    "import numpy as np\n",
    "from sklearn.cluster import KMeans\n",
    "\n",
    "from matplotlib import pyplot as plt\n",
    "import seaborn as sns\n",
    "\n",
    "from datetime import datetime\n",
    "\n",
    "from math import floor\n",
    "\n"
   ]
  },
  {
   "cell_type": "markdown",
   "id": "d4244c35",
   "metadata": {},
   "source": [
    "# 2. Settings"
   ]
  },
  {
   "cell_type": "code",
   "execution_count": 2,
   "id": "370e2737",
   "metadata": {},
   "outputs": [],
   "source": [
    "locale.setlocale(locale.LC_TIME, 'en_US.UTF-8')\n",
    "plt.style.use('ggplot')\n",
    "RANDOM_SEED = 0"
   ]
  },
  {
   "cell_type": "markdown",
   "id": "79718354",
   "metadata": {},
   "source": [
    "# 3. Loading Data"
   ]
  },
  {
   "cell_type": "code",
   "execution_count": 3,
   "id": "cc7331bc",
   "metadata": {},
   "outputs": [],
   "source": [
    "def read_transport_data(filename):\n",
    "    types_mapping = {\n",
    "        'Numer / oznaczenie linii' : str,                                     \n",
    "        'Wariant linii' : str,                                              \n",
    "        'Kurs' : str,                                                        \n",
    "        'Oznaczenie brygady' : str,\n",
    "        'Czas rzeczywisty odjazdu wg. rozkładu' : str,                              \n",
    "        'Czas odjazdu z przystanku' : str,\n",
    "    }\n",
    "\n",
    "    df = pd.read_csv(filename, sep=';', dtype=types_mapping)\n",
    "    df = df.drop(columns='Data')\n",
    "    \n",
    "    names_mapping = {\n",
    "        'Numer / oznaczenie linii' : 'Nr linii',                                     \n",
    "        # 'Wariant linii'                                                    \n",
    "        # 'Kurs'                                                                \n",
    "        # 'Oznaczenie brygady'                                                  \n",
    "        # 'Numer taborowy'                                                     \n",
    "        # 'Nazwa przystanku'                                                    \n",
    "        # 'Numer przystanku'                                                   \n",
    "        'Czas rzeczywisty odjazdu wg. rozkładu' : 'Rzeczywisty czas odjazdu',                              \n",
    "        'Czas odjazdu z przystanku' : 'Rozkładowy czas odjazdu',                                      \n",
    "        'Liczba pasażerów w pojeździe przed przystankiem (dane skorygowane)' : 'Liczba pasaz. przed',  \n",
    "        'Liczba osób które wysiadły (dane skorygowane)' : 'Liczba wysiadających pasaz.',                       \n",
    "        'Liczba osób które wsiadły (dane skorygowane)' : 'Liczba wsiadajacych pasaz.',                     \n",
    "        'Liczba pasażerów w pojeździe po odjeździe (dane skorygowane)' : 'Liczba pasaz. po odjezdzie'\n",
    "    }\n",
    "    df.rename(columns=names_mapping, inplace=True)\n",
    "\n",
    "    \n",
    "\n",
    "    return df"
   ]
  },
  {
   "cell_type": "code",
   "execution_count": 4,
   "id": "0223bcf6",
   "metadata": {},
   "outputs": [],
   "source": [
    "df = read_transport_data('./data/SZP-2021-09-03.csv')"
   ]
  },
  {
   "cell_type": "markdown",
   "id": "7246902e",
   "metadata": {},
   "source": [
    "# 4. Inspecting Data"
   ]
  },
  {
   "cell_type": "code",
   "execution_count": 5,
   "id": "63847ac0",
   "metadata": {},
   "outputs": [
    {
     "name": "stdout",
     "output_type": "stream",
     "text": [
      "<class 'pandas.core.frame.DataFrame'>\n",
      "RangeIndex: 177546 entries, 0 to 177545\n",
      "Data columns (total 13 columns):\n",
      " #   Column                       Non-Null Count   Dtype \n",
      "---  ------                       --------------   ----- \n",
      " 0   Nr linii                     177546 non-null  object\n",
      " 1   Wariant linii                177546 non-null  object\n",
      " 2   Kurs                         177546 non-null  object\n",
      " 3   Oznaczenie brygady           177546 non-null  object\n",
      " 4   Numer taborowy               177546 non-null  int64 \n",
      " 5   Nazwa przystanku             177546 non-null  object\n",
      " 6   Numer przystanku             177546 non-null  int64 \n",
      " 7   Rzeczywisty czas odjazdu     172273 non-null  object\n",
      " 8   Rozkładowy czas odjazdu      177546 non-null  object\n",
      " 9   Liczba pasaz. przed          177546 non-null  int64 \n",
      " 10  Liczba wysiadających pasaz.  177546 non-null  int64 \n",
      " 11  Liczba wsiadajacych pasaz.   177546 non-null  int64 \n",
      " 12  Liczba pasaz. po odjezdzie   177546 non-null  int64 \n",
      "dtypes: int64(6), object(7)\n",
      "memory usage: 17.6+ MB\n"
     ]
    }
   ],
   "source": [
    "df.info()"
   ]
  },
  {
   "cell_type": "code",
   "execution_count": 6,
   "id": "68c69d5f",
   "metadata": {},
   "outputs": [
    {
     "data": {
      "text/html": [
       "<div>\n",
       "<style scoped>\n",
       "    .dataframe tbody tr th:only-of-type {\n",
       "        vertical-align: middle;\n",
       "    }\n",
       "\n",
       "    .dataframe tbody tr th {\n",
       "        vertical-align: top;\n",
       "    }\n",
       "\n",
       "    .dataframe thead th {\n",
       "        text-align: right;\n",
       "    }\n",
       "</style>\n",
       "<table border=\"1\" class=\"dataframe\">\n",
       "  <thead>\n",
       "    <tr style=\"text-align: right;\">\n",
       "      <th></th>\n",
       "      <th>Nr linii</th>\n",
       "      <th>Wariant linii</th>\n",
       "      <th>Kurs</th>\n",
       "      <th>Oznaczenie brygady</th>\n",
       "      <th>Numer taborowy</th>\n",
       "      <th>Nazwa przystanku</th>\n",
       "      <th>Numer przystanku</th>\n",
       "      <th>Rzeczywisty czas odjazdu</th>\n",
       "      <th>Rozkładowy czas odjazdu</th>\n",
       "      <th>Liczba pasaz. przed</th>\n",
       "      <th>Liczba wysiadających pasaz.</th>\n",
       "      <th>Liczba wsiadajacych pasaz.</th>\n",
       "      <th>Liczba pasaz. po odjezdzie</th>\n",
       "    </tr>\n",
       "  </thead>\n",
       "  <tbody>\n",
       "    <tr>\n",
       "      <th>58613</th>\n",
       "      <td>176</td>\n",
       "      <td>TP-BUD</td>\n",
       "      <td>20:59</td>\n",
       "      <td>3</td>\n",
       "      <td>9403</td>\n",
       "      <td>Brzezińska</td>\n",
       "      <td>1</td>\n",
       "      <td>21:01:00</td>\n",
       "      <td>21:02</td>\n",
       "      <td>2</td>\n",
       "      <td>0</td>\n",
       "      <td>0</td>\n",
       "      <td>2</td>\n",
       "    </tr>\n",
       "    <tr>\n",
       "      <th>167058</th>\n",
       "      <td>N03</td>\n",
       "      <td>TP-NOW</td>\n",
       "      <td>23:49</td>\n",
       "      <td>357</td>\n",
       "      <td>9344</td>\n",
       "      <td>Żerań FSO</td>\n",
       "      <td>2</td>\n",
       "      <td>00:45:00</td>\n",
       "      <td>00:49</td>\n",
       "      <td>25</td>\n",
       "      <td>0</td>\n",
       "      <td>0</td>\n",
       "      <td>25</td>\n",
       "    </tr>\n",
       "    <tr>\n",
       "      <th>175490</th>\n",
       "      <td>Z23</td>\n",
       "      <td>TP-OKO</td>\n",
       "      <td>13:45</td>\n",
       "      <td>6</td>\n",
       "      <td>9852</td>\n",
       "      <td>Młynów</td>\n",
       "      <td>1</td>\n",
       "      <td>14:02:00</td>\n",
       "      <td>14:02</td>\n",
       "      <td>27</td>\n",
       "      <td>8</td>\n",
       "      <td>4</td>\n",
       "      <td>23</td>\n",
       "    </tr>\n",
       "    <tr>\n",
       "      <th>15039</th>\n",
       "      <td>123</td>\n",
       "      <td>TP-DWK</td>\n",
       "      <td>05:47</td>\n",
       "      <td>4</td>\n",
       "      <td>9438</td>\n",
       "      <td>Wiatraczna</td>\n",
       "      <td>22</td>\n",
       "      <td>05:57:00</td>\n",
       "      <td>05:57</td>\n",
       "      <td>6</td>\n",
       "      <td>0</td>\n",
       "      <td>0</td>\n",
       "      <td>6</td>\n",
       "    </tr>\n",
       "    <tr>\n",
       "      <th>173481</th>\n",
       "      <td>Z23</td>\n",
       "      <td>TP-NBM</td>\n",
       "      <td>20:30</td>\n",
       "      <td>2</td>\n",
       "      <td>9846</td>\n",
       "      <td>Dalibora</td>\n",
       "      <td>2</td>\n",
       "      <td>20:39:00</td>\n",
       "      <td>20:41</td>\n",
       "      <td>12</td>\n",
       "      <td>0</td>\n",
       "      <td>0</td>\n",
       "      <td>12</td>\n",
       "    </tr>\n",
       "  </tbody>\n",
       "</table>\n",
       "</div>"
      ],
      "text/plain": [
       "       Nr linii Wariant linii   Kurs Oznaczenie brygady  Numer taborowy  \\\n",
       "58613       176        TP-BUD  20:59                  3            9403   \n",
       "167058      N03        TP-NOW  23:49                357            9344   \n",
       "175490      Z23        TP-OKO  13:45                  6            9852   \n",
       "15039       123        TP-DWK  05:47                  4            9438   \n",
       "173481      Z23        TP-NBM  20:30                  2            9846   \n",
       "\n",
       "       Nazwa przystanku  Numer przystanku Rzeczywisty czas odjazdu  \\\n",
       "58613        Brzezińska                 1                 21:01:00   \n",
       "167058        Żerań FSO                 2                 00:45:00   \n",
       "175490           Młynów                 1                 14:02:00   \n",
       "15039        Wiatraczna                22                 05:57:00   \n",
       "173481         Dalibora                 2                 20:39:00   \n",
       "\n",
       "       Rozkładowy czas odjazdu  Liczba pasaz. przed  \\\n",
       "58613                    21:02                    2   \n",
       "167058                   00:49                   25   \n",
       "175490                   14:02                   27   \n",
       "15039                    05:57                    6   \n",
       "173481                   20:41                   12   \n",
       "\n",
       "        Liczba wysiadających pasaz.  Liczba wsiadajacych pasaz.  \\\n",
       "58613                             0                           0   \n",
       "167058                            0                           0   \n",
       "175490                            8                           4   \n",
       "15039                             0                           0   \n",
       "173481                            0                           0   \n",
       "\n",
       "        Liczba pasaz. po odjezdzie  \n",
       "58613                            2  \n",
       "167058                          25  \n",
       "175490                          23  \n",
       "15039                            6  \n",
       "173481                          12  "
      ]
     },
     "execution_count": 6,
     "metadata": {},
     "output_type": "execute_result"
    }
   ],
   "source": [
    "df.sample(5)"
   ]
  },
  {
   "cell_type": "code",
   "execution_count": 7,
   "id": "e1e1ef85",
   "metadata": {},
   "outputs": [
    {
     "data": {
      "text/html": [
       "<div>\n",
       "<style scoped>\n",
       "    .dataframe tbody tr th:only-of-type {\n",
       "        vertical-align: middle;\n",
       "    }\n",
       "\n",
       "    .dataframe tbody tr th {\n",
       "        vertical-align: top;\n",
       "    }\n",
       "\n",
       "    .dataframe thead th {\n",
       "        text-align: right;\n",
       "    }\n",
       "</style>\n",
       "<table border=\"1\" class=\"dataframe\">\n",
       "  <thead>\n",
       "    <tr style=\"text-align: right;\">\n",
       "      <th></th>\n",
       "      <th>Numer taborowy</th>\n",
       "      <th>Numer przystanku</th>\n",
       "      <th>Liczba pasaz. przed</th>\n",
       "      <th>Liczba wysiadających pasaz.</th>\n",
       "      <th>Liczba wsiadajacych pasaz.</th>\n",
       "      <th>Liczba pasaz. po odjezdzie</th>\n",
       "    </tr>\n",
       "  </thead>\n",
       "  <tbody>\n",
       "    <tr>\n",
       "      <th>count</th>\n",
       "      <td>177546.000000</td>\n",
       "      <td>177546.000000</td>\n",
       "      <td>177546.000000</td>\n",
       "      <td>177546.000000</td>\n",
       "      <td>177546.000000</td>\n",
       "      <td>177546.000000</td>\n",
       "    </tr>\n",
       "    <tr>\n",
       "      <th>mean</th>\n",
       "      <td>9513.375953</td>\n",
       "      <td>3.437903</td>\n",
       "      <td>12.060711</td>\n",
       "      <td>1.560435</td>\n",
       "      <td>1.570534</td>\n",
       "      <td>12.070810</td>\n",
       "    </tr>\n",
       "    <tr>\n",
       "      <th>std</th>\n",
       "      <td>265.044802</td>\n",
       "      <td>7.857952</td>\n",
       "      <td>12.341741</td>\n",
       "      <td>3.136487</td>\n",
       "      <td>3.192504</td>\n",
       "      <td>12.335713</td>\n",
       "    </tr>\n",
       "    <tr>\n",
       "      <th>min</th>\n",
       "      <td>9061.000000</td>\n",
       "      <td>1.000000</td>\n",
       "      <td>-3.000000</td>\n",
       "      <td>0.000000</td>\n",
       "      <td>0.000000</td>\n",
       "      <td>0.000000</td>\n",
       "    </tr>\n",
       "    <tr>\n",
       "      <th>25%</th>\n",
       "      <td>9319.000000</td>\n",
       "      <td>1.000000</td>\n",
       "      <td>4.000000</td>\n",
       "      <td>0.000000</td>\n",
       "      <td>0.000000</td>\n",
       "      <td>4.000000</td>\n",
       "    </tr>\n",
       "    <tr>\n",
       "      <th>50%</th>\n",
       "      <td>9452.000000</td>\n",
       "      <td>2.000000</td>\n",
       "      <td>9.000000</td>\n",
       "      <td>0.000000</td>\n",
       "      <td>0.000000</td>\n",
       "      <td>9.000000</td>\n",
       "    </tr>\n",
       "    <tr>\n",
       "      <th>75%</th>\n",
       "      <td>9806.000000</td>\n",
       "      <td>3.000000</td>\n",
       "      <td>16.000000</td>\n",
       "      <td>2.000000</td>\n",
       "      <td>2.000000</td>\n",
       "      <td>16.000000</td>\n",
       "    </tr>\n",
       "    <tr>\n",
       "      <th>max</th>\n",
       "      <td>9955.000000</td>\n",
       "      <td>88.000000</td>\n",
       "      <td>133.000000</td>\n",
       "      <td>124.000000</td>\n",
       "      <td>110.000000</td>\n",
       "      <td>133.000000</td>\n",
       "    </tr>\n",
       "  </tbody>\n",
       "</table>\n",
       "</div>"
      ],
      "text/plain": [
       "       Numer taborowy  Numer przystanku  Liczba pasaz. przed  \\\n",
       "count   177546.000000     177546.000000        177546.000000   \n",
       "mean      9513.375953          3.437903            12.060711   \n",
       "std        265.044802          7.857952            12.341741   \n",
       "min       9061.000000          1.000000            -3.000000   \n",
       "25%       9319.000000          1.000000             4.000000   \n",
       "50%       9452.000000          2.000000             9.000000   \n",
       "75%       9806.000000          3.000000            16.000000   \n",
       "max       9955.000000         88.000000           133.000000   \n",
       "\n",
       "       Liczba wysiadających pasaz.  Liczba wsiadajacych pasaz.  \\\n",
       "count                177546.000000               177546.000000   \n",
       "mean                      1.560435                    1.570534   \n",
       "std                       3.136487                    3.192504   \n",
       "min                       0.000000                    0.000000   \n",
       "25%                       0.000000                    0.000000   \n",
       "50%                       0.000000                    0.000000   \n",
       "75%                       2.000000                    2.000000   \n",
       "max                     124.000000                  110.000000   \n",
       "\n",
       "       Liczba pasaz. po odjezdzie  \n",
       "count               177546.000000  \n",
       "mean                    12.070810  \n",
       "std                     12.335713  \n",
       "min                      0.000000  \n",
       "25%                      4.000000  \n",
       "50%                      9.000000  \n",
       "75%                     16.000000  \n",
       "max                    133.000000  "
      ]
     },
     "execution_count": 7,
     "metadata": {},
     "output_type": "execute_result"
    }
   ],
   "source": [
    "df.describe()"
   ]
  },
  {
   "cell_type": "markdown",
   "id": "08c2bb31",
   "metadata": {},
   "source": [
    "# 4.1. Check data"
   ]
  },
  {
   "cell_type": "code",
   "execution_count": 8,
   "id": "a60a72d6",
   "metadata": {},
   "outputs": [
    {
     "name": "stdout",
     "output_type": "stream",
     "text": [
      "Amount of invalid data: 2\n"
     ]
    }
   ],
   "source": [
    "counter = 0\n",
    "counter += len(df.loc[df['Liczba pasaz. przed'] - df['Liczba wysiadających pasaz.'] + df['Liczba wsiadajacych pasaz.'] != df['Liczba pasaz. po odjezdzie']])\n",
    "counter += len(df[df['Liczba pasaz. przed'] < 0])\n",
    "print(f'Amount of invalid data: {counter}')"
   ]
  },
  {
   "cell_type": "markdown",
   "id": "432fdbe8",
   "metadata": {},
   "source": [
    "# 4.2. Remove errors"
   ]
  },
  {
   "cell_type": "code",
   "execution_count": 9,
   "id": "7ac17e60",
   "metadata": {},
   "outputs": [],
   "source": [
    "df.drop(df[df['Liczba pasaz. przed'] < 0].index, inplace=True) # remove invlid amout of passengers\n",
    "\n",
    "df.drop(df[df['Kurs'].str[:2] > '23'].index, inplace= True)\n",
    "\n",
    "is_NaN = df.isnull()\n",
    "row_has_NaN = is_NaN.any(axis=1)\n",
    "rows_with_NaN = df[row_has_NaN]\n",
    "\n",
    "df.drop(df[row_has_NaN].index, inplace=True)\n"
   ]
  },
  {
   "cell_type": "markdown",
   "id": "05d7ffb3",
   "metadata": {},
   "source": [
    "# 4.3. Parse data"
   ]
  },
  {
   "cell_type": "code",
   "execution_count": 10,
   "id": "d0a15a5f",
   "metadata": {},
   "outputs": [],
   "source": [
    "def make_date_one_type(x):\n",
    "    return pd.Timestamp(x)"
   ]
  },
  {
   "cell_type": "code",
   "execution_count": 11,
   "id": "673064c0",
   "metadata": {},
   "outputs": [],
   "source": [
    "df['Kurs'] = df['Kurs'].apply(lambda x: make_date_one_type(x))\n",
    "df['Rzeczywisty czas odjazdu'] = df['Rzeczywisty czas odjazdu'].apply(lambda x: make_date_one_type(x))\n",
    "df['Rozkładowy czas odjazdu'] = df['Rozkładowy czas odjazdu'].apply(lambda x: make_date_one_type(x))"
   ]
  },
  {
   "cell_type": "code",
   "execution_count": 12,
   "id": "885d6e48",
   "metadata": {},
   "outputs": [],
   "source": [
    "df['Godzina odjazdu'] = df['Rozkładowy czas odjazdu'].apply(lambda x: x.hour + x.minute/60 + x.second/3600)\n",
    "df['Godzina odjazdu przedział'] = df['Rozkładowy czas odjazdu'].apply(lambda x: x.hour * 4 + floor(x.minute/15))"
   ]
  },
  {
   "cell_type": "markdown",
   "id": "ab2292c3",
   "metadata": {},
   "source": [
    "# 4.4. New data"
   ]
  },
  {
   "cell_type": "code",
   "execution_count": 13,
   "id": "1d329c09",
   "metadata": {},
   "outputs": [],
   "source": [
    "trans_type = []\n",
    "for nr in df['Nr linii']:\n",
    "    if nr.isnumeric():\n",
    "        trans_type.append('autobus')\n",
    "    elif nr[0] == 'N':\n",
    "        trans_type.append('nocny')\n",
    "    elif nr[0] == 'Z':\n",
    "        trans_type.append('zastepczy')\n",
    "    else:\n",
    "        trans_type.append('inny')\n",
    "df['Typ'] = trans_type"
   ]
  },
  {
   "cell_type": "code",
   "execution_count": 14,
   "id": "9e9d8682",
   "metadata": {},
   "outputs": [
    {
     "data": {
      "text/html": [
       "<div>\n",
       "<style scoped>\n",
       "    .dataframe tbody tr th:only-of-type {\n",
       "        vertical-align: middle;\n",
       "    }\n",
       "\n",
       "    .dataframe tbody tr th {\n",
       "        vertical-align: top;\n",
       "    }\n",
       "\n",
       "    .dataframe thead th {\n",
       "        text-align: right;\n",
       "    }\n",
       "</style>\n",
       "<table border=\"1\" class=\"dataframe\">\n",
       "  <thead>\n",
       "    <tr style=\"text-align: right;\">\n",
       "      <th></th>\n",
       "      <th>Nr linii</th>\n",
       "      <th>Wariant linii</th>\n",
       "      <th>Kurs</th>\n",
       "      <th>Oznaczenie brygady</th>\n",
       "      <th>Numer taborowy</th>\n",
       "      <th>Nazwa przystanku</th>\n",
       "      <th>Numer przystanku</th>\n",
       "      <th>Rzeczywisty czas odjazdu</th>\n",
       "      <th>Rozkładowy czas odjazdu</th>\n",
       "      <th>Liczba pasaz. przed</th>\n",
       "      <th>Liczba wysiadających pasaz.</th>\n",
       "      <th>Liczba wsiadajacych pasaz.</th>\n",
       "      <th>Liczba pasaz. po odjezdzie</th>\n",
       "      <th>Godzina odjazdu</th>\n",
       "      <th>Godzina odjazdu przedział</th>\n",
       "      <th>Typ</th>\n",
       "    </tr>\n",
       "  </thead>\n",
       "  <tbody>\n",
       "    <tr>\n",
       "      <th>3804</th>\n",
       "      <td>103</td>\n",
       "      <td>TO-DWT</td>\n",
       "      <td>2021-12-27 16:54:00</td>\n",
       "      <td>4</td>\n",
       "      <td>9453</td>\n",
       "      <td>Metro Młynów</td>\n",
       "      <td>1</td>\n",
       "      <td>2021-12-27 17:24:00</td>\n",
       "      <td>2021-12-27 17:25:00</td>\n",
       "      <td>10</td>\n",
       "      <td>5</td>\n",
       "      <td>1</td>\n",
       "      <td>6</td>\n",
       "      <td>17.416667</td>\n",
       "      <td>69</td>\n",
       "      <td>autobus</td>\n",
       "    </tr>\n",
       "    <tr>\n",
       "      <th>141810</th>\n",
       "      <td>525</td>\n",
       "      <td>TP-MIE</td>\n",
       "      <td>2021-12-27 07:11:00</td>\n",
       "      <td>6</td>\n",
       "      <td>9823</td>\n",
       "      <td>Międzynarodowa</td>\n",
       "      <td>2</td>\n",
       "      <td>2021-12-27 07:27:00</td>\n",
       "      <td>2021-12-27 07:27:00</td>\n",
       "      <td>50</td>\n",
       "      <td>2</td>\n",
       "      <td>5</td>\n",
       "      <td>53</td>\n",
       "      <td>7.450000</td>\n",
       "      <td>29</td>\n",
       "      <td>autobus</td>\n",
       "    </tr>\n",
       "    <tr>\n",
       "      <th>58056</th>\n",
       "      <td>176</td>\n",
       "      <td>TP-CHS</td>\n",
       "      <td>2021-12-27 22:41:00</td>\n",
       "      <td>2</td>\n",
       "      <td>9412</td>\n",
       "      <td>Marywilska-Las</td>\n",
       "      <td>2</td>\n",
       "      <td>2021-12-27 22:53:00</td>\n",
       "      <td>2021-12-27 22:52:00</td>\n",
       "      <td>9</td>\n",
       "      <td>0</td>\n",
       "      <td>0</td>\n",
       "      <td>9</td>\n",
       "      <td>22.866667</td>\n",
       "      <td>91</td>\n",
       "      <td>autobus</td>\n",
       "    </tr>\n",
       "  </tbody>\n",
       "</table>\n",
       "</div>"
      ],
      "text/plain": [
       "       Nr linii Wariant linii                Kurs Oznaczenie brygady  \\\n",
       "3804        103        TO-DWT 2021-12-27 16:54:00                  4   \n",
       "141810      525        TP-MIE 2021-12-27 07:11:00                  6   \n",
       "58056       176        TP-CHS 2021-12-27 22:41:00                  2   \n",
       "\n",
       "        Numer taborowy Nazwa przystanku  Numer przystanku  \\\n",
       "3804              9453     Metro Młynów                 1   \n",
       "141810            9823   Międzynarodowa                 2   \n",
       "58056             9412   Marywilska-Las                 2   \n",
       "\n",
       "       Rzeczywisty czas odjazdu Rozkładowy czas odjazdu  Liczba pasaz. przed  \\\n",
       "3804        2021-12-27 17:24:00     2021-12-27 17:25:00                   10   \n",
       "141810      2021-12-27 07:27:00     2021-12-27 07:27:00                   50   \n",
       "58056       2021-12-27 22:53:00     2021-12-27 22:52:00                    9   \n",
       "\n",
       "        Liczba wysiadających pasaz.  Liczba wsiadajacych pasaz.  \\\n",
       "3804                              5                           1   \n",
       "141810                            2                           5   \n",
       "58056                             0                           0   \n",
       "\n",
       "        Liczba pasaz. po odjezdzie  Godzina odjazdu  \\\n",
       "3804                             6        17.416667   \n",
       "141810                          53         7.450000   \n",
       "58056                            9        22.866667   \n",
       "\n",
       "        Godzina odjazdu przedział      Typ  \n",
       "3804                           69  autobus  \n",
       "141810                         29  autobus  \n",
       "58056                          91  autobus  "
      ]
     },
     "execution_count": 14,
     "metadata": {},
     "output_type": "execute_result"
    }
   ],
   "source": [
    "df.sample(3)"
   ]
  },
  {
   "cell_type": "markdown",
   "id": "cef0c297",
   "metadata": {},
   "source": [
    "## 4.5 Clustering"
   ]
  },
  {
   "cell_type": "code",
   "execution_count": 15,
   "id": "ab7f3058",
   "metadata": {},
   "outputs": [],
   "source": [
    "def find_clusters(speeds, iterations, df, column):\n",
    "    k = len(speeds)\n",
    "    data = np.array(df[column]).reshape(1,-1).T\n",
    "    clusters = KMeans(\n",
    "        n_clusters = k,\n",
    "        max_iter = iterations,\n",
    "        random_state = RANDOM_SEED\n",
    "    ).fit(data)\n",
    "    \n",
    "    cc, *_ = clusters.cluster_centers_.reshape(1,k)\n",
    "    cc_ord = np.argsort(cc)\n",
    "    class_mapping = dict(zip(cc_ord, speeds))\n",
    "    \n",
    "    df['class'] = clusters.labels_\n",
    "    df['class'] = df['class'].map(class_mapping)\n",
    "    \n",
    "    return df\n",
    "    "
   ]
  },
  {
   "cell_type": "code",
   "execution_count": 47,
   "id": "6185c431",
   "metadata": {},
   "outputs": [],
   "source": [
    "# crowding = ['pusto','małe zatłoczenie', 'średnie zatłoczenie', 'duze zatłoczenie', 'olbrzymie zatłoczenie']\n",
    "crowding = [0, 1, 2, 3, 4]\n",
    "iterations = 10\n",
    "\n",
    "df = find_clusters(crowding, iterations, df, 'Liczba pasaz. po odjezdzie')"
   ]
  },
  {
   "cell_type": "code",
   "execution_count": 48,
   "id": "4021b6ca",
   "metadata": {},
   "outputs": [
    {
     "data": {
      "text/plain": [
       "<Figure size 720x576 with 0 Axes>"
      ]
     },
     "metadata": {},
     "output_type": "display_data"
    },
    {
     "data": {
      "image/png": "[encoded data removed]",
      "text/plain": [
       "<Figure size 402.375x360 with 1 Axes>"
      ]
     },
     "metadata": {},
     "output_type": "display_data"
    }
   ],
   "source": [
    "plt.figure(figsize=(10, 8))\n",
    "ax = sns.displot(\n",
    "    df,\n",
    "    x='Liczba pasaz. po odjezdzie',\n",
    "    hue='class',\n",
    "    kind='kde'\n",
    ")"
   ]
  },
  {
   "cell_type": "markdown",
   "id": "19640590",
   "metadata": {},
   "source": [
    "## 5. Classification"
   ]
  },
  {
   "cell_type": "code",
   "execution_count": 49,
   "id": "5085212c",
   "metadata": {},
   "outputs": [],
   "source": [
    "from sklearn.tree import DecisionTreeRegressor\n",
    "from sklearn.model_selection import train_test_split\n",
    "import datetime as dt\n",
    "from sklearn.model_selection import cross_val_score\n",
    "from sklearn.model_selection import cross_validate\n",
    "from sklearn.model_selection import LeaveOneOut\n",
    "from sklearn.model_selection import KFold\n",
    "from sklearn.model_selection import RepeatedKFold\n",
    "from mlxtend.evaluate import bootstrap_point632_score\n",
    "from mlxtend.evaluate import BootstrapOutOfBag\n",
    "from mlxtend.evaluate import bootstrap\n",
    "\n",
    "import seaborn as sns\n",
    "import matplotlib.pyplot as plt"
   ]
  },
  {
   "cell_type": "code",
   "execution_count": 50,
   "id": "42784a25",
   "metadata": {},
   "outputs": [
    {
     "data": {
      "text/plain": [
       "1000"
      ]
     },
     "execution_count": 50,
     "metadata": {},
     "output_type": "execute_result"
    }
   ],
   "source": [
    "df2 = df[:1000]\n",
    "len(df2)"
   ]
  },
  {
   "cell_type": "code",
   "execution_count": 51,
   "id": "de3aa6d3",
   "metadata": {},
   "outputs": [
    {
     "data": {
      "text/html": [
       "<div>\n",
       "<style scoped>\n",
       "    .dataframe tbody tr th:only-of-type {\n",
       "        vertical-align: middle;\n",
       "    }\n",
       "\n",
       "    .dataframe tbody tr th {\n",
       "        vertical-align: top;\n",
       "    }\n",
       "\n",
       "    .dataframe thead th {\n",
       "        text-align: right;\n",
       "    }\n",
       "</style>\n",
       "<table border=\"1\" class=\"dataframe\">\n",
       "  <thead>\n",
       "    <tr style=\"text-align: right;\">\n",
       "      <th></th>\n",
       "      <th>Nr linii</th>\n",
       "      <th>Numer taborowy</th>\n",
       "      <th>Liczba pasaz. przed</th>\n",
       "      <th>Liczba wysiadających pasaz.</th>\n",
       "      <th>Liczba wsiadajacych pasaz.</th>\n",
       "      <th>Liczba pasaz. po odjezdzie</th>\n",
       "      <th>Godzina odjazdu</th>\n",
       "      <th>Godzina odjazdu przedział</th>\n",
       "      <th>class</th>\n",
       "    </tr>\n",
       "  </thead>\n",
       "  <tbody>\n",
       "    <tr>\n",
       "      <th>857</th>\n",
       "      <td>102</td>\n",
       "      <td>9450</td>\n",
       "      <td>10</td>\n",
       "      <td>2</td>\n",
       "      <td>6</td>\n",
       "      <td>14</td>\n",
       "      <td>12.116667</td>\n",
       "      <td>48</td>\n",
       "      <td>1</td>\n",
       "    </tr>\n",
       "    <tr>\n",
       "      <th>159</th>\n",
       "      <td>102</td>\n",
       "      <td>9415</td>\n",
       "      <td>6</td>\n",
       "      <td>0</td>\n",
       "      <td>0</td>\n",
       "      <td>6</td>\n",
       "      <td>9.766667</td>\n",
       "      <td>39</td>\n",
       "      <td>0</td>\n",
       "    </tr>\n",
       "    <tr>\n",
       "      <th>438</th>\n",
       "      <td>102</td>\n",
       "      <td>9415</td>\n",
       "      <td>5</td>\n",
       "      <td>0</td>\n",
       "      <td>1</td>\n",
       "      <td>6</td>\n",
       "      <td>18.483333</td>\n",
       "      <td>73</td>\n",
       "      <td>0</td>\n",
       "    </tr>\n",
       "  </tbody>\n",
       "</table>\n",
       "</div>"
      ],
      "text/plain": [
       "    Nr linii  Numer taborowy  Liczba pasaz. przed  \\\n",
       "857      102            9450                   10   \n",
       "159      102            9415                    6   \n",
       "438      102            9415                    5   \n",
       "\n",
       "     Liczba wysiadających pasaz.  Liczba wsiadajacych pasaz.  \\\n",
       "857                            2                           6   \n",
       "159                            0                           0   \n",
       "438                            0                           1   \n",
       "\n",
       "     Liczba pasaz. po odjezdzie  Godzina odjazdu  Godzina odjazdu przedział  \\\n",
       "857                          14        12.116667                         48   \n",
       "159                           6         9.766667                         39   \n",
       "438                           6        18.483333                         73   \n",
       "\n",
       "     class  \n",
       "857      1  \n",
       "159      0  \n",
       "438      0  "
      ]
     },
     "execution_count": 51,
     "metadata": {},
     "output_type": "execute_result"
    }
   ],
   "source": [
    "df2 = df2.loc[df['Typ']=='autobus']\n",
    "df2 = df2.drop(columns=['Wariant linii','Nazwa przystanku', 'Numer przystanku', 'Rzeczywisty czas odjazdu', 'Rozkładowy czas odjazdu', 'Kurs', 'Oznaczenie brygady','Typ'], inplace= False)\n",
    "df2.sample(3)"
   ]
  },
  {
   "cell_type": "code",
   "execution_count": 52,
   "id": "7ae42d9d",
   "metadata": {},
   "outputs": [
    {
     "name": "stdout",
     "output_type": "stream",
     "text": [
      "Index(['Nr linii', 'Numer taborowy', 'Liczba pasaz. przed',\n",
      "       'Liczba wysiadających pasaz.', 'Liczba wsiadajacych pasaz.',\n",
      "       'Liczba pasaz. po odjezdzie', 'Godzina odjazdu',\n",
      "       'Godzina odjazdu przedział'],\n",
      "      dtype='object')\n"
     ]
    }
   ],
   "source": [
    "features = df2.columns[:-1]\n",
    "print(features)"
   ]
  },
  {
   "cell_type": "code",
   "execution_count": 53,
   "id": "cf4ce7a3",
   "metadata": {},
   "outputs": [
    {
     "data": {
      "text/html": [
       "<div>\n",
       "<style scoped>\n",
       "    .dataframe tbody tr th:only-of-type {\n",
       "        vertical-align: middle;\n",
       "    }\n",
       "\n",
       "    .dataframe tbody tr th {\n",
       "        vertical-align: top;\n",
       "    }\n",
       "\n",
       "    .dataframe thead th {\n",
       "        text-align: right;\n",
       "    }\n",
       "</style>\n",
       "<table border=\"1\" class=\"dataframe\">\n",
       "  <thead>\n",
       "    <tr style=\"text-align: right;\">\n",
       "      <th></th>\n",
       "      <th>Nr linii</th>\n",
       "      <th>Numer taborowy</th>\n",
       "      <th>Liczba pasaz. przed</th>\n",
       "      <th>Liczba wysiadających pasaz.</th>\n",
       "      <th>Liczba wsiadajacych pasaz.</th>\n",
       "      <th>Liczba pasaz. po odjezdzie</th>\n",
       "      <th>Godzina odjazdu</th>\n",
       "      <th>Godzina odjazdu przedział</th>\n",
       "    </tr>\n",
       "  </thead>\n",
       "  <tbody>\n",
       "    <tr>\n",
       "      <th>802</th>\n",
       "      <td>102</td>\n",
       "      <td>9450</td>\n",
       "      <td>12</td>\n",
       "      <td>3</td>\n",
       "      <td>2</td>\n",
       "      <td>11</td>\n",
       "      <td>10.416667</td>\n",
       "      <td>41</td>\n",
       "    </tr>\n",
       "    <tr>\n",
       "      <th>30</th>\n",
       "      <td>102</td>\n",
       "      <td>9415</td>\n",
       "      <td>2</td>\n",
       "      <td>1</td>\n",
       "      <td>0</td>\n",
       "      <td>1</td>\n",
       "      <td>5.966667</td>\n",
       "      <td>23</td>\n",
       "    </tr>\n",
       "    <tr>\n",
       "      <th>933</th>\n",
       "      <td>102</td>\n",
       "      <td>9450</td>\n",
       "      <td>21</td>\n",
       "      <td>11</td>\n",
       "      <td>0</td>\n",
       "      <td>10</td>\n",
       "      <td>14.533333</td>\n",
       "      <td>58</td>\n",
       "    </tr>\n",
       "  </tbody>\n",
       "</table>\n",
       "</div>"
      ],
      "text/plain": [
       "    Nr linii  Numer taborowy  Liczba pasaz. przed  \\\n",
       "802      102            9450                   12   \n",
       "30       102            9415                    2   \n",
       "933      102            9450                   21   \n",
       "\n",
       "     Liczba wysiadających pasaz.  Liczba wsiadajacych pasaz.  \\\n",
       "802                            3                           2   \n",
       "30                             1                           0   \n",
       "933                           11                           0   \n",
       "\n",
       "     Liczba pasaz. po odjezdzie  Godzina odjazdu  Godzina odjazdu przedział  \n",
       "802                          11        10.416667                         41  \n",
       "30                            1         5.966667                         23  \n",
       "933                          10        14.533333                         58  "
      ]
     },
     "execution_count": 53,
     "metadata": {},
     "output_type": "execute_result"
    }
   ],
   "source": [
    "X = df2.drop('class', axis=1, inplace= False)\n",
    "X.sample(3)"
   ]
  },
  {
   "cell_type": "code",
   "execution_count": 54,
   "id": "52a1d6e3",
   "metadata": {},
   "outputs": [
    {
     "data": {
      "text/plain": [
       "(1000, 8)"
      ]
     },
     "execution_count": 54,
     "metadata": {},
     "output_type": "execute_result"
    }
   ],
   "source": [
    "X.shape"
   ]
  },
  {
   "cell_type": "code",
   "execution_count": 55,
   "id": "0a93c8cc",
   "metadata": {},
   "outputs": [
    {
     "data": {
      "text/plain": [
       "420    0\n",
       "479    0\n",
       "226    0\n",
       "Name: class, dtype: int64"
      ]
     },
     "execution_count": 55,
     "metadata": {},
     "output_type": "execute_result"
    }
   ],
   "source": [
    "y = df2[\"class\"]\n",
    "y.sample(3)"
   ]
  },
  {
   "cell_type": "code",
   "execution_count": 56,
   "id": "62ce837a",
   "metadata": {},
   "outputs": [],
   "source": [
    "X_train, X_test, y_train, y_test = train_test_split(X, y, test_size=0.25, random_state=42)"
   ]
  },
  {
   "cell_type": "markdown",
   "id": "5952a136",
   "metadata": {},
   "source": [
    "## DecisionTreeClassifier"
   ]
  },
  {
   "cell_type": "code",
   "execution_count": 57,
   "id": "708998fd",
   "metadata": {},
   "outputs": [],
   "source": [
    "from sklearn.tree import DecisionTreeClassifier\n",
    "from sklearn.metrics import accuracy_score"
   ]
  },
  {
   "cell_type": "code",
   "execution_count": 58,
   "id": "f07a48a3",
   "metadata": {},
   "outputs": [],
   "source": [
    "def create_tree(x, x_test, y, y_test, depth = 3):  \n",
    "    clf = DecisionTreeClassifier(max_depth = depth, random_state = 1)\n",
    "    clf = clf.fit(x, y)\n",
    "    err = accuracy_score(y_test, clf.predict(x_test))\n",
    "    print(\"Accuracy: \", err)\n",
    "    return err"
   ]
  },
  {
   "cell_type": "code",
   "execution_count": 59,
   "id": "af92cd3e",
   "metadata": {},
   "outputs": [
    {
     "name": "stdout",
     "output_type": "stream",
     "text": [
      "Accuracy:  0.996\n"
     ]
    }
   ],
   "source": [
    "tr1 = create_tree(X_train, X_test, y_train, y_test, depth = 2)"
   ]
  },
  {
   "cell_type": "code",
   "execution_count": 60,
   "id": "1afd0d34",
   "metadata": {},
   "outputs": [],
   "source": [
    "model = DecisionTreeClassifier(max_depth = 3, random_state = 1)"
   ]
  },
  {
   "cell_type": "code",
   "execution_count": 61,
   "id": "58a49da3",
   "metadata": {},
   "outputs": [],
   "source": [
    "#LeaveOneOut CrossValidation with negative mean absolute scores: the higher the scores, the lower mean absolute errors\n",
    "scores1 = cross_validate(model, X_train, y_train, cv = LeaveOneOut(), n_jobs = -1, scoring = 'neg_mean_absolute_error', return_estimator = True)\n",
    "err1 = accuracy_score(scores1['estimator'][scores1['test_score'].argmax()].predict(X_test),y_test)"
   ]
  },
  {
   "cell_type": "code",
   "execution_count": 62,
   "id": "f2fe6b59",
   "metadata": {},
   "outputs": [],
   "source": [
    "#Bootstrap Out of Bag\n",
    "scores2 = cross_validate(model, X_train, y_train, cv = BootstrapOutOfBag(n_splits=5, random_seed=456), n_jobs = -1, scoring = 'neg_mean_absolute_error', return_estimator = True)\n",
    "err2 = accuracy_score(scores2['estimator'][scores2['test_score'].argmax()].predict(X_test),y_test)"
   ]
  },
  {
   "cell_type": "code",
   "execution_count": 64,
   "id": "67f01e45",
   "metadata": {},
   "outputs": [],
   "source": [
    "#Repeated K-Fold\n",
    "scores3 = cross_validate(model, X_train, y_train, n_jobs = -1, cv = RepeatedKFold(n_splits = 10, n_repeats = 2), scoring = 'neg_mean_absolute_error', return_estimator = True)\n",
    "err3 = accuracy_score(scores3['estimator'][scores3['test_score'].argmax()].predict(X_test),y_test)"
   ]
  },
  {
   "cell_type": "code",
   "execution_count": 65,
   "id": "a6fb77c8",
   "metadata": {},
   "outputs": [],
   "source": [
    "#K-Fold\n",
    "scores4 = cross_validate(model, X_train, y_train, cv = KFold(10), n_jobs=-1, scoring = 'neg_mean_absolute_error',return_estimator = True)\n",
    "err4 = accuracy_score(scores4['estimator'][scores4['test_score'].argmax()].predict(X_test), y_test)"
   ]
  },
  {
   "cell_type": "code",
   "execution_count": 68,
   "id": "80f8aadd",
   "metadata": {},
   "outputs": [
    {
     "name": "stdout",
     "output_type": "stream",
     "text": [
      "------- Accuracy --------\n",
      "1. Accuracy LeaveOneOut 1.0\n",
      "2. Accuracy BootstrapOutOfBag 1.0\n",
      "3. Accuracy RepeatedKFold 1.0\n",
      "4. Accuracy KFold 1.0\n"
     ]
    }
   ],
   "source": [
    "print(\"------- Accuracy --------\")\n",
    "print(f\"1. Accuracy LeaveOneOut {err1}\")\n",
    "print(f\"2. Accuracy BootstrapOutOfBag {err2}\")\n",
    "print(f\"3. Accuracy RepeatedKFold {err3}\")\n",
    "print(f\"4. Accuracy KFold {err4}\")"
   ]
  },
  {
   "cell_type": "code",
   "execution_count": null,
   "id": "d96c81ac",
   "metadata": {},
   "outputs": [],
   "source": []
  }
 ],
 "metadata": {
  "interpreter": {
   "hash": "082e9a3bcad0a290d0001e938aa60b99250c6c2ef33a923c00b70f9826caf4b7"
  },
  "kernelspec": {
   "display_name": "Python 3.8.7 64-bit ('3.8')",
   "name": "python3"
  },
  "language_info": {
   "codemirror_mode": {
    "name": "ipython",
    "version": 3
   },
   "file_extension": ".py",
   "mimetype": "text/x-python",
   "name": "python",
   "nbconvert_exporter": "python",
   "pygments_lexer": "ipython3",
   "version": "3.8.7"
  },
  "metadata": {
   "interpreter": {
    "hash": "082e9a3bcad0a290d0001e938aa60b99250c6c2ef33a923c00b70f9826caf4b7"
   }
  }
 },
 "nbformat": 4,
 "nbformat_minor": 5
}
